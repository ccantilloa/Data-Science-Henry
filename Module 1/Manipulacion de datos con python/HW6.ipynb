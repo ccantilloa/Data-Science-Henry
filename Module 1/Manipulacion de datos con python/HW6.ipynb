{
 "cells": [
  {
   "cell_type": "code",
   "execution_count": 67,
   "id": "45bcbf8a",
   "metadata": {},
   "outputs": [],
   "source": [
    "import pandas as pd\n",
    "import numpy as np"
   ]
  },
  {
   "cell_type": "code",
   "execution_count": 14,
   "id": "5bbc034e",
   "metadata": {},
   "outputs": [],
   "source": [
    "# ruta al archivo csv\n",
    "archivo_temperaturas='temperaturas_globales.csv'\n",
    "archivo_precipitaciones='precipitaciones_globales.csv'"
   ]
  },
  {
   "cell_type": "code",
   "execution_count": 19,
   "id": "c7d27ec8",
   "metadata": {},
   "outputs": [],
   "source": [
    "df_temperaturas = pd.read_csv(archivo_temperaturas, parse_dates=['Fecha'])\n",
    "df_precipitaciones=pd.read_csv(archivo_precipitaciones,parse_dates=['Fecha'])"
   ]
  },
  {
   "cell_type": "code",
   "execution_count": 20,
   "id": "ff3cd500",
   "metadata": {},
   "outputs": [
    {
     "data": {
      "text/plain": [
       "dtype('<M8[ns]')"
      ]
     },
     "execution_count": 20,
     "metadata": {},
     "output_type": "execute_result"
    }
   ],
   "source": [
    "df_temperaturas['Fecha'].dtype"
   ]
  },
  {
   "cell_type": "code",
   "execution_count": null,
   "id": "d24621c6",
   "metadata": {},
   "outputs": [
    {
     "name": "stdout",
     "output_type": "stream",
     "text": [
      "<class 'pandas.core.frame.DataFrame'>\n",
      "RangeIndex: 24 entries, 0 to 23\n",
      "Data columns (total 6 columns):\n",
      " #   Column      Non-Null Count  Dtype         \n",
      "---  ------      --------------  -----         \n",
      " 0   Fecha       24 non-null     datetime64[ns]\n",
      " 1   Nueva York  24 non-null     int64         \n",
      " 2   París       24 non-null     int64         \n",
      " 3   Berlín      24 non-null     int64         \n",
      " 4   Londres     24 non-null     int64         \n",
      " 5   Madrid      24 non-null     int64         \n",
      "dtypes: datetime64[ns](1), int64(5)\n",
      "memory usage: 1.3 KB\n"
     ]
    }
   ],
   "source": [
    "df_temperaturas"
   ]
  },
  {
   "cell_type": "code",
   "execution_count": 24,
   "id": "6655f3d2",
   "metadata": {},
   "outputs": [],
   "source": [
    "df_precipitaciones_ny = pd.read_csv(archivo_precipitaciones, usecols=['Fecha', 'Nueva York'], parse_dates=['Fecha'])"
   ]
  },
  {
   "cell_type": "code",
   "execution_count": 26,
   "id": "72d006e5",
   "metadata": {},
   "outputs": [
    {
     "data": {
      "application/vnd.microsoft.datawrangler.viewer.v0+json": {
       "columns": [
        {
         "name": "index",
         "rawType": "int64",
         "type": "integer"
        },
        {
         "name": "Fecha",
         "rawType": "datetime64[ns]",
         "type": "datetime"
        },
        {
         "name": "Nueva York",
         "rawType": "int64",
         "type": "integer"
        }
       ],
       "ref": "ff65d4d4-dd15-4513-8b2a-fba53f36b6ae",
       "rows": [
        [
         "0",
         "2022-01-31 00:00:00",
         "63"
        ],
        [
         "1",
         "2022-02-28 00:00:00",
         "78"
        ],
        [
         "2",
         "2022-03-31 00:00:00",
         "35"
        ],
        [
         "3",
         "2022-04-30 00:00:00",
         "33"
        ],
        [
         "4",
         "2022-05-31 00:00:00",
         "80"
        ]
       ],
       "shape": {
        "columns": 2,
        "rows": 5
       }
      },
      "text/html": [
       "<div>\n",
       "<style scoped>\n",
       "    .dataframe tbody tr th:only-of-type {\n",
       "        vertical-align: middle;\n",
       "    }\n",
       "\n",
       "    .dataframe tbody tr th {\n",
       "        vertical-align: top;\n",
       "    }\n",
       "\n",
       "    .dataframe thead th {\n",
       "        text-align: right;\n",
       "    }\n",
       "</style>\n",
       "<table border=\"1\" class=\"dataframe\">\n",
       "  <thead>\n",
       "    <tr style=\"text-align: right;\">\n",
       "      <th></th>\n",
       "      <th>Fecha</th>\n",
       "      <th>Nueva York</th>\n",
       "    </tr>\n",
       "  </thead>\n",
       "  <tbody>\n",
       "    <tr>\n",
       "      <th>0</th>\n",
       "      <td>2022-01-31</td>\n",
       "      <td>63</td>\n",
       "    </tr>\n",
       "    <tr>\n",
       "      <th>1</th>\n",
       "      <td>2022-02-28</td>\n",
       "      <td>78</td>\n",
       "    </tr>\n",
       "    <tr>\n",
       "      <th>2</th>\n",
       "      <td>2022-03-31</td>\n",
       "      <td>35</td>\n",
       "    </tr>\n",
       "    <tr>\n",
       "      <th>3</th>\n",
       "      <td>2022-04-30</td>\n",
       "      <td>33</td>\n",
       "    </tr>\n",
       "    <tr>\n",
       "      <th>4</th>\n",
       "      <td>2022-05-31</td>\n",
       "      <td>80</td>\n",
       "    </tr>\n",
       "  </tbody>\n",
       "</table>\n",
       "</div>"
      ],
      "text/plain": [
       "       Fecha  Nueva York\n",
       "0 2022-01-31          63\n",
       "1 2022-02-28          78\n",
       "2 2022-03-31          35\n",
       "3 2022-04-30          33\n",
       "4 2022-05-31          80"
      ]
     },
     "execution_count": 26,
     "metadata": {},
     "output_type": "execute_result"
    }
   ],
   "source": [
    "df_precipitaciones_ny.head()"
   ]
  },
  {
   "cell_type": "code",
   "execution_count": 27,
   "id": "5bc623a1",
   "metadata": {},
   "outputs": [
    {
     "data": {
      "text/plain": [
       "144"
      ]
     },
     "execution_count": 27,
     "metadata": {},
     "output_type": "execute_result"
    }
   ],
   "source": [
    "df_precipitaciones.size"
   ]
  },
  {
   "cell_type": "code",
   "execution_count": 28,
   "id": "d112538c",
   "metadata": {},
   "outputs": [],
   "source": [
    "\n",
    "size = 1000000\n",
    "\n",
    "df_chunk = pd.read_csv('precipitaciones_globales.csv', chunksize=size)"
   ]
  },
  {
   "cell_type": "code",
   "execution_count": 29,
   "id": "4ddba021",
   "metadata": {},
   "outputs": [
    {
     "name": "stdout",
     "output_type": "stream",
     "text": [
      "        Fecha  Nueva York  París  Berlín  Londres  Madrid\n",
      "0  2022-01-31          63     78      33       99      82\n",
      "1  2022-02-28          78     34      76       57      86\n",
      "2  2022-03-31          35     23      74       52      58\n",
      "3  2022-04-30          33     75      90       88      65\n",
      "4  2022-05-31          80     81      85       49      49\n"
     ]
    }
   ],
   "source": [
    "for chunk in df_chunk: \n",
    "\n",
    "   print(chunk.head()) # Imprime las primeras 5 filas del primer fragmento\n",
    "\n",
    "   break"
   ]
  },
  {
   "cell_type": "markdown",
   "id": "56b37af8",
   "metadata": {},
   "source": [
    "## Conectando a base de datos con sqlalquemy"
   ]
  },
  {
   "cell_type": "markdown",
   "id": "83e181cc",
   "metadata": {},
   "source": [
    "El proceso generalmente implica crear un motor de base de datos y luego usar pd.read_sql() o pd.read_sql_query()."
   ]
  },
  {
   "cell_type": "code",
   "execution_count": 30,
   "id": "ca9c298d",
   "metadata": {},
   "outputs": [],
   "source": [
    "# from sqlalchemy import create_engine\n",
    "# engine = create_engine('sqlite:///mi_base_de_datos.db')\n",
    "# pd.read_sql('SELECT * FROM mi_tabla', con=engine)"
   ]
  },
  {
   "cell_type": "markdown",
   "id": "b076cbaf",
   "metadata": {},
   "source": [
    "### Guardar el dataframe en un archivo. Ej en un csv"
   ]
  },
  {
   "cell_type": "code",
   "execution_count": 33,
   "id": "70ab3e60",
   "metadata": {},
   "outputs": [],
   "source": [
    "# Sintaxis básica para guardar en formato CSV:\n",
    "\n",
    "# df.to_csv('file.csv', index=False)\n",
    "\n",
    "#Adicionalmente se puede especificat el separador, codificacion (para archivos en otros idiomas) o especificar una ruta para guardarlo "
   ]
  },
  {
   "cell_type": "markdown",
   "id": "cf5615f9",
   "metadata": {},
   "source": [
    "### Notas adicionales\n",
    "Para archivos muy grandes, considera leer y procesar los datos en fragmentos o utilizar dtypes más eficientes."
   ]
  },
  {
   "cell_type": "code",
   "execution_count": 35,
   "id": "bc23da15",
   "metadata": {},
   "outputs": [
    {
     "data": {
      "text/plain": [
       "(24, 6)"
      ]
     },
     "execution_count": 35,
     "metadata": {},
     "output_type": "execute_result"
    }
   ],
   "source": [
    "df_temperaturas.shape"
   ]
  },
  {
   "cell_type": "markdown",
   "id": "8cf108e7",
   "metadata": {},
   "source": [
    "### **Expresiones utiles para rellenar o eliminar filas:**"
   ]
  },
  {
   "cell_type": "markdown",
   "id": "3c93394e",
   "metadata": {},
   "source": [
    " Borrar filas con valores nulos:\n",
    "Es recomendable en un dataset muy grande (millones de registros) donde un 1 % de pérdida no afecte la representatividad.\n",
    "\n",
    "\n",
    " reemplazar valores nulos con una medida representativa (media, mediana, moda):\n",
    "Se recomienda en datasets pequeños o cuando esos registros son críticos \n",
    "\n",
    "Valores duplicados:\n",
    "Si no los quitas, podrías contar la misma entidad dos veces y sesgar tu análisis."
   ]
  },
  {
   "cell_type": "code",
   "execution_count": null,
   "id": "2e75e2d2",
   "metadata": {},
   "outputs": [],
   "source": [
    "# .dropna()  # Elimina filas con valores nulos\n",
    "# .dropna(subset=[…])  # Elimina filas con valores nulos en columnas específicas\n",
    "# .fillna(value)  # Rellena valores nulos con un valor específico\n",
    "# .replace(to_replace, value)  # Reemplaza valores específicos\n",
    "# .fillna(method='ffill')  # Rellena valores nulos con el valor anterior (forward fill)\n",
    "# .fillna(method='bfill')  # Rellena valores nulos con el valor siguiente (backward fill)\n",
    "# .duplicated(subset=[...])  # Identifica filas duplicadas basadas en columnas específicas\n",
    "#.drop_duplicates(subset=[...],keep='first')  # Elimina filas duplicadas, manteniendo la primera ocurrencia"
   ]
  },
  {
   "cell_type": "markdown",
   "id": "57627a03",
   "metadata": {},
   "source": [
    "#### Estrategias de imputacion"
   ]
  },
  {
   "cell_type": "markdown",
   "id": "d036c1f1",
   "metadata": {},
   "source": [
    "Cuando un campo está vacío, debemos decidir cómo rellenarlo para no introducir sesgos ni perder información relevante. A continuación, tres métodos muy usados:\n",
    "\n",
    "1. **Media**: Es conveniente usarla solo si la distribución de tus datos es relativamente simétrica, sin valores extremos que desvíen la media.\n",
    "    - Cuando no usar media para imputar valores:\n",
    "\n",
    "        Ahora, si estás trabajando con ingresos mensuales de personas en una encuesta social y la mayoría gana entre $500 000 y $1 000 000, pero hay algunas personas con ingresos extremadamente altos, de más de $10 000 000; si faltan 15 valores y los completas con la media (~$1 500 000), estarías:\n",
    "\n",
    "        Introduciendo un valor que no representa al grupo típico.\n",
    "\n",
    "        Aumentando artificialmente la dispersión.\n",
    "\n",
    "        Posiblemente alterando resultados de modelos predictivos o promedios de referencia.\n",
    "\n",
    "        En este caso, la media está sesgada por los valores extremos y sería más apropiado usar la mediana, ya que representa mejor el centro de una distribución asimétrica.\n",
    "\n",
    "2. **Mediana**: util cuando los datos tienen una distribución sesgada o con valores atípicos, ya que la mediana no se ve afectada por extremos como sí ocurre con la media.\n",
    "\n",
    "3. **Moda**: Util cuando se trabaja con variables categoricas o variables numericas con pocos valores distintos (ej. numero de hijos o nivel educativo codificado)\n",
    "\n",
    "\n"
   ]
  },
  {
   "cell_type": "markdown",
   "id": "9e83ffb2",
   "metadata": {},
   "source": [
    "|Estrategia| Mejor Para| Cuando evitarla|\n",
    "|---|---|---|\n",
    "|Media|Variables numéricas simétricas y sin outliers |Si hay valores extremos|\n",
    "|Moda|Variables numéricas sesgadas o con outliers|Si necesitas mantener la media original|\n",
    "|Moda|Variables categóricas o discretas|Si hay múltiples modas o muchas categorías|"
   ]
  },
  {
   "cell_type": "markdown",
   "id": "5b4a2811",
   "metadata": {},
   "source": [
    "#### Normalizacion de datos"
   ]
  },
  {
   "cell_type": "markdown",
   "id": "4cd0d2d4",
   "metadata": {},
   "source": [
    "Normalizar es ajustar la escala de las variables para que estén en rangos comparables o tengan distribuciones estándar, evitando que las magnitudes de unos atributos “dominen” sobre otros en el modelado.\n",
    "- Ejemplo: Escalado Min–Max\n",
    "\n",
    "Este método se encarga de reescalar los valores al rango [0, 1] según:\n",
    "\n",
    "X'=(X-Xmin)/Xmax-Xmin\n",
    "\n",
    "X es el valor original.\n",
    "\n",
    "Xmin y Xmax son el valor mínimo y máximo de la variable.\n",
    "\n",
    "X' es el valor normalizado (reescala X al rango [0, 1]).\n",
    "\n",
    "¿Cuándo usarlo?\n",
    "\n",
    "Al preparar gráficos o dashboards donde dos variables con unidades distintas (por ejemplo, temperatura en °C y precipitación en mm) deben mostrarse juntas en el mismo eje.\n",
    "\n",
    "En análisis de correlación visual, para evitar que una variable con rango amplio “aplane” la escala de la otra."
   ]
  },
  {
   "cell_type": "markdown",
   "id": "7c0d142a",
   "metadata": {},
   "source": [
    "#### **Exactitud**\n",
    "Mide qué tan cercanos están los valores a la realidad o a la fuente original\n",
    "\n",
    "Detection:\n",
    "- Chequeo puntual: toma una muestra aleatoria de filas y compara los valores con la base de datos transaccional, un PDF de facturas o un sistema de origen.\n",
    "- Validaciones automatizadas: por ejemplo, si tu columna monto_venta supera cierto umbral histórico, marca esos registros para revisión manual.\n",
    "\n",
    "#### **Integridad**\n",
    "Mide el porcentaje de datos presentes frente a los que se esperaría tener.\n",
    "\n",
    "Umbral util:\n",
    "- 10-30% datos faltantes: Hay que justificar la estrategia (borrar vs. imputar) y documentarla.\n",
    "- mas del 30 % datos faltantes: Reevaluar si la columna es fiable o si conviene buscar otra fuente.\n",
    "\n",
    "#### **Consistencia**\n",
    "Mide la ausencia de contradicciones internas o violaciones a reglas de negocio. Por ejemplo:\n",
    "- Rango de fechas inválido: fin < inicio.\n",
    "- Valores fuera de dominio: puntajes > 100 % o negativos.\n",
    "- Violación de unicidad: IDs duplicados donde deben ser únicos."
   ]
  },
  {
   "cell_type": "code",
   "execution_count": 57,
   "id": "af2bf68c",
   "metadata": {},
   "outputs": [],
   "source": [
    "meses_calurosos_madrid = df_temperaturas[(df_temperaturas['Madrid'] > 25)]"
   ]
  },
  {
   "cell_type": "markdown",
   "id": "a9ae73d3",
   "metadata": {},
   "source": [
    "### Mascaras en Numpy"
   ]
  },
  {
   "cell_type": "markdown",
   "id": "6a679009",
   "metadata": {},
   "source": [
    "Las máscaras en Numpy no solo se limitan a filtrar datos mediante condiciones; también se pueden emplear para aplicaciones más específicas, incluyendo manipulaciones estructurales de matrices y la creación de arrays especializados. \n",
    "\n",
    "Funciones utiles:\n",
    "- np.triu: devuelve la parte triangular superior de un array. Util para trabajar con matrices en operaciones algebraicas, especialmente en la manipulación de matrices simétricas o en la solución de sistemas de ecuaciones lineales.\n",
    "- np.ones_like: crea un nuevo array con la misma forma y tipo que un array dado, llenándolo todo con unos. útil para crear máscaras iniciales o arrays de pesos cuando trabajamos con operaciones que involucran matrices o arrays de dimensiones específicas."
   ]
  },
  {
   "cell_type": "markdown",
   "id": "b9b7c75d",
   "metadata": {},
   "source": [
    "#### np.where en pandas"
   ]
  },
  {
   "cell_type": "markdown",
   "id": "d4d6b060",
   "metadata": {},
   "source": [
    "np.where(condición, valor_si_True, valor_si_False) devuelve un array (o Serie) donde, para cada elemento, evalúa la condición y elige uno de los dos valores especificados. Cuando lo integramos en Pandas, aprovechamos la velocidad de NumPy para aplicar reglas en toda una columna al mismo tiempo.\n",
    "\n",
    "Es muy util, ya que incluye la eficiencia de numpy en pandas. Se puede aplicar el metodo np.where... a un dataframe ya que pandas esta construido en numpy y hereda muchos de sus atributos.\n",
    "Es especialmente util para especificar exactamente el resultado que queremos si una condicion se cumple o no se cumple, por lo que permite personalizacion"
   ]
  },
  {
   "cell_type": "markdown",
   "id": "884f324e",
   "metadata": {},
   "source": [
    "### Tecnicas Avanzadas"
   ]
  },
  {
   "cell_type": "markdown",
   "id": "4137b51e",
   "metadata": {},
   "source": [
    ".apply(func) aplica una función a cada elemento de una Serie, lo que permite una gran flexibilidad en la manipulación de datos. La funcion puede ser una funcion lambda, lo que permite una gran facilidad en la syntaxis"
   ]
  },
  {
   "cell_type": "code",
   "execution_count": 63,
   "id": "b0caf70d",
   "metadata": {},
   "outputs": [],
   "source": [
    "df_temperaturas['Clasificación_Madrid'] = df_temperaturas['Madrid'].apply(lambda x: 'Caluroso' if x > 25 else 'Fresco')\n",
    "\n"
   ]
  },
  {
   "cell_type": "markdown",
   "id": "afa22d69",
   "metadata": {},
   "source": [
    "Otras funciones avanzadas incluyen agregación, fusión y transformaciones de datos. permiten realizar análisis más sofisticados y obtener insights más profundos\n"
   ]
  },
  {
   "cell_type": "markdown",
   "id": "88e41338",
   "metadata": {},
   "source": [
    "1. Agrupacion: .groupby() es fundamental para realizar cálculos estadísticos sobre subconjuntos de datos, permitiendo comparar grupos o realizar operaciones específicas por categoría. Metodos luego de agruparlos incluyen: *.sum(), .mean(), .median(), .count(), .max(), .min(), .transform(), .filter()* \n"
   ]
  },
  {
   "cell_type": "code",
   "execution_count": 94,
   "id": "0c390aaf",
   "metadata": {},
   "outputs": [
    {
     "name": "stderr",
     "output_type": "stream",
     "text": [
      "C:\\Users\\Carlos\\AppData\\Local\\Temp\\ipykernel_15432\\2791340733.py:4: FutureWarning: The default of observed=False is deprecated and will be changed to True in a future version of pandas. Pass observed=False to retain current behavior or observed=True to adopt the future default and silence this warning.\n",
      "  dias_por_rango_temperatura = df_temperaturas.groupby('Rango_Temperatura')\n"
     ]
    },
    {
     "data": {
      "application/vnd.microsoft.datawrangler.viewer.v0+json": {
       "columns": [
        {
         "name": "Rango_Temperatura",
         "rawType": "category",
         "type": "unknown"
        },
        {
         "name": "Madrid",
         "rawType": "int64",
         "type": "integer"
        },
        {
         "name": "Nueva York",
         "rawType": "int64",
         "type": "integer"
        }
       ],
       "ref": "608a2bd2-b6c0-4413-bcda-c94970b596ad",
       "rows": [
        [
         "Baja",
         "6",
         "28"
        ],
        [
         "Moderada",
         "20",
         "28"
        ],
        [
         "Alta",
         "30",
         "33"
        ],
        [
         "Muy Alta",
         "33",
         "32"
        ]
       ],
       "shape": {
        "columns": 2,
        "rows": 4
       }
      },
      "text/html": [
       "<div>\n",
       "<style scoped>\n",
       "    .dataframe tbody tr th:only-of-type {\n",
       "        vertical-align: middle;\n",
       "    }\n",
       "\n",
       "    .dataframe tbody tr th {\n",
       "        vertical-align: top;\n",
       "    }\n",
       "\n",
       "    .dataframe thead th {\n",
       "        text-align: right;\n",
       "    }\n",
       "</style>\n",
       "<table border=\"1\" class=\"dataframe\">\n",
       "  <thead>\n",
       "    <tr style=\"text-align: right;\">\n",
       "      <th></th>\n",
       "      <th>Madrid</th>\n",
       "      <th>Nueva York</th>\n",
       "    </tr>\n",
       "    <tr>\n",
       "      <th>Rango_Temperatura</th>\n",
       "      <th></th>\n",
       "      <th></th>\n",
       "    </tr>\n",
       "  </thead>\n",
       "  <tbody>\n",
       "    <tr>\n",
       "      <th>Baja</th>\n",
       "      <td>6</td>\n",
       "      <td>28</td>\n",
       "    </tr>\n",
       "    <tr>\n",
       "      <th>Moderada</th>\n",
       "      <td>20</td>\n",
       "      <td>28</td>\n",
       "    </tr>\n",
       "    <tr>\n",
       "      <th>Alta</th>\n",
       "      <td>30</td>\n",
       "      <td>33</td>\n",
       "    </tr>\n",
       "    <tr>\n",
       "      <th>Muy Alta</th>\n",
       "      <td>33</td>\n",
       "      <td>32</td>\n",
       "    </tr>\n",
       "  </tbody>\n",
       "</table>\n",
       "</div>"
      ],
      "text/plain": [
       "                   Madrid  Nueva York\n",
       "Rango_Temperatura                    \n",
       "Baja                    6          28\n",
       "Moderada               20          28\n",
       "Alta                   30          33\n",
       "Muy Alta               33          32"
      ]
     },
     "execution_count": 94,
     "metadata": {},
     "output_type": "execute_result"
    }
   ],
   "source": [
    "# Categorizando las temperaturas\n",
    "df_temperaturas['Rango_Temperatura'] = pd.cut(df_temperaturas['Madrid'], bins=[-10, 10, 20, 30, 40], labels=[\"Baja\", \"Moderada\", \"Alta\", \"Muy Alta\"])\n",
    "# Contando días por rango de temperatura\n",
    "dias_por_rango_temperatura = df_temperaturas.groupby('Rango_Temperatura')\n",
    "dias_por_rango_temperatura[['Madrid','Nueva York']].max()"
   ]
  },
  {
   "cell_type": "markdown",
   "id": "1a50e1f2",
   "metadata": {},
   "source": [
    "2. funcion pd.melt() se utiliza para \"despivotar\" o transformar un DataFrame de un formato ancho a un formato largo, haciendo que cada variable se extienda a través de las columnas."
   ]
  },
  {
   "cell_type": "code",
   "execution_count": 97,
   "id": "c5207d17",
   "metadata": {},
   "outputs": [],
   "source": [
    "# pd.melt(frame, id_vars=None, value_vars=None, var_name=None, value_name='value', col_level=None, ignore_index=True)\n",
    "\n",
    "df_temperaturas_nuevoformato = df_temperaturas.melt(id_vars=['Fecha','Clasificación_Madrid','Rango_Temperatura'], var_name='Ciudad', value_name='Temperatura')\n",
    "\n"
   ]
  },
  {
   "cell_type": "code",
   "execution_count": 103,
   "id": "daba17ca",
   "metadata": {},
   "outputs": [
    {
     "data": {
      "application/vnd.microsoft.datawrangler.viewer.v0+json": {
       "columns": [
        {
         "name": "index",
         "rawType": "int64",
         "type": "integer"
        },
        {
         "name": "Fecha",
         "rawType": "datetime64[ns]",
         "type": "datetime"
        },
        {
         "name": "Clasificación_Madrid",
         "rawType": "object",
         "type": "string"
        },
        {
         "name": "Rango_Temperatura",
         "rawType": "category",
         "type": "unknown"
        },
        {
         "name": "Ciudad",
         "rawType": "object",
         "type": "string"
        },
        {
         "name": "Temperatura",
         "rawType": "int64",
         "type": "integer"
        },
        {
         "name": "Temperatura_Centrada",
         "rawType": "float64",
         "type": "float"
        }
       ],
       "ref": "1f58c222-39a7-4450-baba-4ca2c00228bf",
       "rows": [
        [
         "0",
         "2022-01-31 00:00:00",
         "Fresco",
         "Alta",
         "Nueva York",
         "2",
         "-14.583333333333332"
        ],
        [
         "1",
         "2022-02-28 00:00:00",
         "Fresco",
         "Alta",
         "Nueva York",
         "26",
         "9.416666666666668"
        ],
        [
         "2",
         "2022-03-31 00:00:00",
         "Fresco",
         "Baja",
         "Nueva York",
         "20",
         "3.416666666666668"
        ],
        [
         "3",
         "2022-04-30 00:00:00",
         "Caluroso",
         "Muy Alta",
         "Nueva York",
         "32",
         "15.416666666666668"
        ],
        [
         "4",
         "2022-05-31 00:00:00",
         "Caluroso",
         "Alta",
         "Nueva York",
         "18",
         "1.4166666666666679"
        ]
       ],
       "shape": {
        "columns": 6,
        "rows": 5
       }
      },
      "text/html": [
       "<div>\n",
       "<style scoped>\n",
       "    .dataframe tbody tr th:only-of-type {\n",
       "        vertical-align: middle;\n",
       "    }\n",
       "\n",
       "    .dataframe tbody tr th {\n",
       "        vertical-align: top;\n",
       "    }\n",
       "\n",
       "    .dataframe thead th {\n",
       "        text-align: right;\n",
       "    }\n",
       "</style>\n",
       "<table border=\"1\" class=\"dataframe\">\n",
       "  <thead>\n",
       "    <tr style=\"text-align: right;\">\n",
       "      <th></th>\n",
       "      <th>Fecha</th>\n",
       "      <th>Clasificación_Madrid</th>\n",
       "      <th>Rango_Temperatura</th>\n",
       "      <th>Ciudad</th>\n",
       "      <th>Temperatura</th>\n",
       "      <th>Temperatura_Centrada</th>\n",
       "    </tr>\n",
       "  </thead>\n",
       "  <tbody>\n",
       "    <tr>\n",
       "      <th>0</th>\n",
       "      <td>2022-01-31</td>\n",
       "      <td>Fresco</td>\n",
       "      <td>Alta</td>\n",
       "      <td>Nueva York</td>\n",
       "      <td>2</td>\n",
       "      <td>-14.583333</td>\n",
       "    </tr>\n",
       "    <tr>\n",
       "      <th>1</th>\n",
       "      <td>2022-02-28</td>\n",
       "      <td>Fresco</td>\n",
       "      <td>Alta</td>\n",
       "      <td>Nueva York</td>\n",
       "      <td>26</td>\n",
       "      <td>9.416667</td>\n",
       "    </tr>\n",
       "    <tr>\n",
       "      <th>2</th>\n",
       "      <td>2022-03-31</td>\n",
       "      <td>Fresco</td>\n",
       "      <td>Baja</td>\n",
       "      <td>Nueva York</td>\n",
       "      <td>20</td>\n",
       "      <td>3.416667</td>\n",
       "    </tr>\n",
       "    <tr>\n",
       "      <th>3</th>\n",
       "      <td>2022-04-30</td>\n",
       "      <td>Caluroso</td>\n",
       "      <td>Muy Alta</td>\n",
       "      <td>Nueva York</td>\n",
       "      <td>32</td>\n",
       "      <td>15.416667</td>\n",
       "    </tr>\n",
       "    <tr>\n",
       "      <th>4</th>\n",
       "      <td>2022-05-31</td>\n",
       "      <td>Caluroso</td>\n",
       "      <td>Alta</td>\n",
       "      <td>Nueva York</td>\n",
       "      <td>18</td>\n",
       "      <td>1.416667</td>\n",
       "    </tr>\n",
       "  </tbody>\n",
       "</table>\n",
       "</div>"
      ],
      "text/plain": [
       "       Fecha Clasificación_Madrid Rango_Temperatura      Ciudad  Temperatura  \\\n",
       "0 2022-01-31               Fresco              Alta  Nueva York            2   \n",
       "1 2022-02-28               Fresco              Alta  Nueva York           26   \n",
       "2 2022-03-31               Fresco              Baja  Nueva York           20   \n",
       "3 2022-04-30             Caluroso          Muy Alta  Nueva York           32   \n",
       "4 2022-05-31             Caluroso              Alta  Nueva York           18   \n",
       "\n",
       "   Temperatura_Centrada  \n",
       "0            -14.583333  \n",
       "1              9.416667  \n",
       "2              3.416667  \n",
       "3             15.416667  \n",
       "4              1.416667  "
      ]
     },
     "execution_count": 103,
     "metadata": {},
     "output_type": "execute_result"
    }
   ],
   "source": [
    "# Transformaciones con .groupby()\n",
    "\n",
    "# Calculamos la temperatura media por ciudad\n",
    "\n",
    "media_por_ciudad = df_temperaturas_nuevoformato.groupby('Ciudad')['Temperatura'].transform('mean')\n",
    "\n",
    "\n",
    "# Restamos esta media de cada registro de temperatura para centrar los datos\n",
    "\n",
    "df_temperaturas_nuevoformato['Temperatura_Centrada'] = df_temperaturas_nuevoformato['Temperatura'] - media_por_ciudad\n",
    "\n",
    "\n",
    "# Mostramos las primeras filas para verificar los resultados\n",
    "\n",
    "df_temperaturas_nuevoformato.head()\n"
   ]
  },
  {
   "cell_type": "code",
   "execution_count": 104,
   "id": "cd7e49eb",
   "metadata": {},
   "outputs": [
    {
     "name": "stdout",
     "output_type": "stream",
     "text": [
      "Ciudades con alta variabilidad de temperatura:\n",
      "['Nueva York' 'París' 'Berlín' 'Londres' 'Madrid']\n"
     ]
    }
   ],
   "source": [
    "# USO DE FILTER: Definimos un umbral para la desviación estándar de la temperatura\n",
    "\n",
    "umbral_variabilidad = 5\n",
    "\n",
    "\n",
    "# Filtramos ciudades con una variabilidad de temperatura superior al umbral\n",
    "\n",
    "ciudades_con_alta_variabilidad = df_temperaturas_nuevoformato.groupby('Ciudad').filter(lambda x: x['Temperatura'].std() > umbral_variabilidad)\n",
    "\n",
    "\n",
    "print(\"Ciudades con alta variabilidad de temperatura:\")\n",
    "\n",
    "print(ciudades_con_alta_variabilidad['Ciudad'].unique())"
   ]
  },
  {
   "cell_type": "markdown",
   "id": "1b8f0842",
   "metadata": {},
   "source": [
    "3. Pivot tables"
   ]
  },
  {
   "cell_type": "markdown",
   "id": "a6c86c34",
   "metadata": {},
   "source": [
    "Son una herramienta excelente para resumir, analizar, explorar y presentar tus datos. Pandas facilita la creación de tablas pivote a partir de DataFrames, permitiéndote ver la relación entre dos dimensiones de datos de manera compacta. Son especialmente útiles para análisis de datos exploratorios y reportes."
   ]
  },
  {
   "cell_type": "code",
   "execution_count": 105,
   "id": "2e14f9ed",
   "metadata": {},
   "outputs": [],
   "source": [
    "#  Crear una tabla pivote\n",
    "# pivot = df.pivot_table(values='valor', index='fila', columns='columna', aggfunc='mean')"
   ]
  },
  {
   "cell_type": "code",
   "execution_count": 106,
   "id": "ec39343d",
   "metadata": {},
   "outputs": [
    {
     "name": "stdout",
     "output_type": "stream",
     "text": [
      "Tabla Pivote de Temperaturas Máximas Anuales por Ciudad:\n",
      "Ciudad  Berlín  Londres  Madrid  Nueva York  París\n",
      "Año                                               \n",
      "2022        33       31      33          32     31\n",
      "2023        34       34      30          33     33\n"
     ]
    }
   ],
   "source": [
    "# Primero, asegurémonos de que el DataFrame tiene una columna 'Año' extraída de 'Fecha'\n",
    "\n",
    "df_temperaturas_nuevoformato['Año'] = df_temperaturas_nuevoformato['Fecha'].dt.year\n",
    "\n",
    "\n",
    "\n",
    "# Crear la tabla pivote\n",
    "\n",
    "tabla_pivote_maximas = df_temperaturas_nuevoformato.pivot_table(values='Temperatura', index='Año', columns='Ciudad', aggfunc='max')\n",
    "\n",
    "\n",
    "print(\"Tabla Pivote de Temperaturas Máximas Anuales por Ciudad:\")\n",
    "\n",
    "print(tabla_pivote_maximas)"
   ]
  },
  {
   "cell_type": "code",
   "execution_count": 107,
   "id": "0a08921e",
   "metadata": {},
   "outputs": [
    {
     "name": "stdout",
     "output_type": "stream",
     "text": [
      "Tabla Pivote de Temperaturas Medias y Máximas Mensuales en Nueva York:\n",
      "     max  mean\n",
      "Mes           \n",
      "1     25  13.5\n",
      "2     26  10.5\n",
      "3     20  15.0\n",
      "4     32  25.5\n",
      "5     19  18.5\n",
      "6     11   9.5\n",
      "7      8   7.0\n",
      "8     24  13.5\n",
      "9     28  15.5\n",
      "10    28  24.5\n",
      "11    33  26.5\n",
      "12    32  19.5\n"
     ]
    }
   ],
   "source": [
    "# Otro ejemplo: Si estamos interesados en comparar no solo las temperaturas máximas sino también las medias en un formato mensual para una ciudad específica, como Nueva York,\n",
    "\n",
    "# Primero, asegurémonos de que el DataFrame tiene una columna 'Mes' extraída de 'Fecha'\n",
    "\n",
    "df_temperaturas_nuevoformato['Mes'] = df_temperaturas_nuevoformato['Fecha'].dt.month\n",
    "\n",
    "# Crear la tabla pivote para Nueva York con temperaturas medias y máximas\n",
    "\n",
    "tabla_pivote_nuevayork = df_temperaturas_nuevoformato[df_temperaturas_nuevoformato['Ciudad'] == 'Nueva York'].pivot_table(values='Temperatura',index='Mes', aggfunc={'Temperatura': ['mean', 'max']})\n",
    "\n",
    "\n",
    "print(\"Tabla Pivote de Temperaturas Medias y Máximas Mensuales en Nueva York:\")\n",
    "\n",
    "print(tabla_pivote_nuevayork)"
   ]
  },
  {
   "cell_type": "markdown",
   "id": "3c86677f",
   "metadata": {},
   "source": [
    "#### Fusion y concatenacion de datos"
   ]
  },
  {
   "cell_type": "markdown",
   "id": "d89bc38b",
   "metadata": {},
   "source": [
    "Permite analizar fuentes que necesitan ser unidos para un análisis más completo. pd.merge() y pd.concat() son las mas usadas"
   ]
  },
  {
   "cell_type": "markdown",
   "id": "fff8eb9b",
   "metadata": {},
   "source": [
    "1. pd.merge()"
   ]
  },
  {
   "cell_type": "code",
   "execution_count": 108,
   "id": "ca82c19a",
   "metadata": {},
   "outputs": [],
   "source": [
    "## Fusionar DataFrames en una clave común\n",
    "# df_fusionado = pd.merge(df1, df2, on='clave_comun')"
   ]
  },
  {
   "cell_type": "code",
   "execution_count": 110,
   "id": "f5420c20",
   "metadata": {},
   "outputs": [],
   "source": [
    "#Ejemplo de fusion de datos:\n",
    "\n",
    "# Asegurando que los datos estén en el formato correcto\n",
    "\n",
    "df_temperaturas['Fecha'] = pd.to_datetime(df_temperaturas['Fecha'])\n",
    "\n",
    "df_precipitaciones['Fecha'] = pd.to_datetime(df_precipitaciones['Fecha'])\n",
    "# Una vez que ambos están en formato datetime, procedemos con el merge\n",
    "# Combinar df_temperaturas y df_precipitaciones\n",
    "\n",
    "df_combinado = pd.merge(df_temperaturas, df_precipitaciones, on='Fecha', suffixes=('_temp', '_prec'))"
   ]
  },
  {
   "cell_type": "markdown",
   "id": "9e32e191",
   "metadata": {},
   "source": [
    "2. pd.concat() concatena DataFrames o Series a lo largo de un eje particular. Es útil para combinar datos que tienen el mismo esquema. Purpose: Stack DataFrames vertically (rows) or horizontally (columns). Works more like “gluing” DataFrames together, not joining by key."
   ]
  },
  {
   "cell_type": "markdown",
   "id": "1368666f",
   "metadata": {},
   "source": [
    "#### Filtrado con isin()"
   ]
  },
  {
   "cell_type": "markdown",
   "id": "08ca7b1e",
   "metadata": {},
   "source": [
    "permite seleccionar filas de un DataFrame o Series donde un valor o conjunto de valores específicos, aparecen en una columna (o índice en el caso de Series). Es particularmente útil cuando quieres filtrar tu DataFrame para incluir sólo ciertos registros."
   ]
  },
  {
   "cell_type": "code",
   "execution_count": 111,
   "id": "2cf4c213",
   "metadata": {},
   "outputs": [],
   "source": [
    "#Ejemplo:\n",
    "# A partir de nuestro df, creamos un nuevo df que contenga los registros de Londres y Nueva York.\n",
    "\n",
    "temperaturas_isin = df_temperaturas_nuevoformato[df_temperaturas_nuevoformato['Ciudad'].isin(['Londres', 'Nueva York'])]"
   ]
  },
  {
   "cell_type": "markdown",
   "id": "3548b04b",
   "metadata": {},
   "source": [
    "### Funciones Lambda"
   ]
  },
  {
   "cell_type": "markdown",
   "id": "1d55170c",
   "metadata": {},
   "source": [
    "Son funciones anónimas definidas en una sola línea. En Pandas, las funciones lambda son útiles para aplicar operaciones rápidas o personalizadas a los datos, especialmente dentro de métodos como .apply(), .transform(), y otros que aceptan funciones como argumentos."
   ]
  },
  {
   "cell_type": "markdown",
   "id": "5906f085",
   "metadata": {},
   "source": [
    "**Transformaciones vs. agregaciones**\n",
    "\n",
    "Mientras que las operaciones de agregación con .groupby() reducen la dimensión de los datos al producir un valor escalar por grupo, las transformaciones mantienen la misma longitud que el DataFrame o Serie original, permitiéndote realizar operaciones complejas a nivel de grupo sin perder la estructura de tus datos"
   ]
  },
  {
   "cell_type": "markdown",
   "id": "c584e784",
   "metadata": {},
   "source": [
    "#### Funciones universales de numpy"
   ]
  },
  {
   "cell_type": "markdown",
   "id": "0d2154cd",
   "metadata": {},
   "source": [
    "Las ufuncs, son funciones de Numpy que operan en arrays de Numpy elemento por elemento, facilitando la realización de operaciones matemáticas y lógicas de manera eficiente y con sintaxis simplificado. Son \"universales\" en el sentido de que pueden manejar argumentos de arrays de diferentes tamaños y dimensiones (broadcasting) con una única llamada a la función, mejorando significativamente la legibilidad y la eficiencia del código.\n",
    "\n",
    "**Operaciones de ejemplo**:\n",
    "- Operaciones aritméticas básicas (suma, resta, multiplicación y similares)\n",
    "- Funciones matemáticas (seno, coseno, exponencial, logaritmo, etcétera)\n",
    "- Operaciones de comparación y lógicas\n",
    "- Funciones estadísticas (media, mediana, varianza, entre otras)\n",
    "\n",
    "**Importancia de las ufuncs**\n",
    "\n",
    "Las ufuncs son fundamentales en el ecosistema de Numpy debido a su eficiencia y flexibilidad. Permiten realizar operaciones complejas sobre arrays de manera intuitiva y con menos código que si se utilizaran bucles for, mejorando tanto la legibilidad como el rendimiento del código. "
   ]
  },
  {
   "cell_type": "code",
   "execution_count": null,
   "id": "7c972f55",
   "metadata": {},
   "outputs": [],
   "source": []
  },
  {
   "cell_type": "markdown",
   "id": "2e465795",
   "metadata": {},
   "source": []
  },
  {
   "cell_type": "code",
   "execution_count": null,
   "id": "2b708535",
   "metadata": {},
   "outputs": [],
   "source": []
  }
 ],
 "metadata": {
  "kernelspec": {
   "display_name": "base",
   "language": "python",
   "name": "python3"
  },
  "language_info": {
   "codemirror_mode": {
    "name": "ipython",
    "version": 3
   },
   "file_extension": ".py",
   "mimetype": "text/x-python",
   "name": "python",
   "nbconvert_exporter": "python",
   "pygments_lexer": "ipython3",
   "version": "3.12.7"
  }
 },
 "nbformat": 4,
 "nbformat_minor": 5
}
