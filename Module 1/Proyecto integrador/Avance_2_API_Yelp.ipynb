{
 "cells": [
  {
   "cell_type": "markdown",
   "id": "c5c04f47",
   "metadata": {},
   "source": [
    "# Conectarse a la API de Yelp"
   ]
  },
  {
   "cell_type": "markdown",
   "id": "26fe468d",
   "metadata": {},
   "source": [
    "El objetivo es obtener información de negocios locales de una ciudad (elegida de la base de datos del avance anterior)"
   ]
  },
  {
   "cell_type": "markdown",
   "id": "3f8f0a17",
   "metadata": {},
   "source": [
    "## Extraccion"
   ]
  },
  {
   "cell_type": "markdown",
   "id": "beb9b369",
   "metadata": {},
   "source": [
    "Extraer datos como nombre del negocio, categoría, calificación, número de reseñas, calificación, etc."
   ]
  },
  {
   "cell_type": "markdown",
   "id": "3eea4e42",
   "metadata": {},
   "source": [
    "## Integracion"
   ]
  },
  {
   "cell_type": "markdown",
   "id": "b959e488",
   "metadata": {},
   "source": [
    "Integrar esta información al análisis que se está realizando de la base de datos de clientes."
   ]
  },
  {
   "cell_type": "markdown",
   "id": "3086c2fa",
   "metadata": {},
   "source": []
  }
 ],
 "metadata": {
  "language_info": {
   "name": "python"
  }
 },
 "nbformat": 4,
 "nbformat_minor": 5
}
