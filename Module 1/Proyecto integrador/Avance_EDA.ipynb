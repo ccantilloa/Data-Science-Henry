{
 "cells": [
  {
   "cell_type": "markdown",
   "id": "9d72377f",
   "metadata": {},
   "source": [
    "# Avance 1 proyecto integrador: EDA"
   ]
  },
  {
   "cell_type": "markdown",
   "id": "5001c514",
   "metadata": {},
   "source": [
    "Se inicia el pipeline analitico de los datos con la base de datos proporcionada por la empresa. Se realizara un analisis previo de la calidad, estructura e integridad de los datos como se vera a continuacion"
   ]
  },
  {
   "cell_type": "markdown",
   "id": "e285a799",
   "metadata": {},
   "source": [
    "## Carga de datos desde la base de datos del cliente"
   ]
  },
  {
   "cell_type": "code",
   "execution_count": 10,
   "id": "10958d9e",
   "metadata": {},
   "outputs": [],
   "source": [
    "#Importar librerias a utilizar \n",
    "\n",
    "import pandas as pd \n",
    "import numpy as np"
   ]
  },
  {
   "cell_type": "markdown",
   "id": "0c0205db",
   "metadata": {},
   "source": [
    "Leer la base de datos de clientes en USA:"
   ]
  },
  {
   "cell_type": "code",
   "execution_count": 11,
   "id": "cfe17796",
   "metadata": {},
   "outputs": [],
   "source": [
    "df_restaurants_USA = pd.read_csv('base_datos_restaurantes_USA_v2.csv')"
   ]
  },
  {
   "cell_type": "markdown",
   "id": "c652eb07",
   "metadata": {},
   "source": [
    "## Limpieza de los datos"
   ]
  },
  {
   "cell_type": "markdown",
   "id": "d3d04ef8",
   "metadata": {},
   "source": [
    "### Identificando valores nulos, duplicados y errores"
   ]
  },
  {
   "cell_type": "code",
   "execution_count": 12,
   "id": "549bdab9",
   "metadata": {},
   "outputs": [
    {
     "name": "stdout",
     "output_type": "stream",
     "text": [
      "<class 'pandas.core.frame.DataFrame'>\n",
      "RangeIndex: 30000 entries, 0 to 29999\n",
      "Data columns (total 17 columns):\n",
      " #   Column                     Non-Null Count  Dtype  \n",
      "---  ------                     --------------  -----  \n",
      " 0   id_persona                 30000 non-null  int64  \n",
      " 1   nombre                     30000 non-null  object \n",
      " 2   apellido                   30000 non-null  object \n",
      " 3   edad                       29899 non-null  float64\n",
      " 4   genero                     30000 non-null  object \n",
      " 5   ciudad_residencia          30000 non-null  object \n",
      " 6   estrato_socioeconomico     30000 non-null  object \n",
      " 7   frecuencia_visita          30000 non-null  int64  \n",
      " 8   promedio_gasto_comida      29855 non-null  float64\n",
      " 9   ocio                       30000 non-null  object \n",
      " 10  consume_licor              30000 non-null  object \n",
      " 11  preferencias_alimenticias  28597 non-null  object \n",
      " 12  membresia_premium          30000 non-null  object \n",
      " 13  telefono_contacto          14834 non-null  object \n",
      " 14  correo_electronico         14928 non-null  object \n",
      " 15  tipo_de_pago_mas_usado     30000 non-null  object \n",
      " 16  ingresos_mensuales         30000 non-null  int64  \n",
      "dtypes: float64(2), int64(3), object(12)\n",
      "memory usage: 3.9+ MB\n"
     ]
    }
   ],
   "source": [
    "df_restaurants_USA.info()"
   ]
  },
  {
   "cell_type": "markdown",
   "id": "1f780f4d",
   "metadata": {},
   "source": [
    "Como podemos observar, edad promedio_gasto_comida, preferencias_alimenticias, telefono_contacto y correo_electronico tienen valores vacios. Veamos cuantos de ellos son vacios:"
   ]
  },
  {
   "cell_type": "code",
   "execution_count": 13,
   "id": "92bd6593",
   "metadata": {},
   "outputs": [
    {
     "name": "stdout",
     "output_type": "stream",
     "text": [
      "id_persona                    0.000000\n",
      "nombre                        0.000000\n",
      "apellido                      0.000000\n",
      "edad                          0.336667\n",
      "genero                        0.000000\n",
      "ciudad_residencia             0.000000\n",
      "estrato_socioeconomico        0.000000\n",
      "frecuencia_visita             0.000000\n",
      "promedio_gasto_comida         0.483333\n",
      "ocio                          0.000000\n",
      "consume_licor                 0.000000\n",
      "preferencias_alimenticias     4.676667\n",
      "membresia_premium             0.000000\n",
      "telefono_contacto            50.553333\n",
      "correo_electronico           50.240000\n",
      "tipo_de_pago_mas_usado        0.000000\n",
      "ingresos_mensuales            0.000000\n",
      "dtype: float64\n"
     ]
    }
   ],
   "source": [
    "porcentaje_vacios = df_restaurants_USA.isna().mean() * 100\n",
    "print(porcentaje_vacios)"
   ]
  },
  {
   "cell_type": "markdown",
   "id": "bfc3095f",
   "metadata": {},
   "source": [
    "Se decide eliminar las columnas: telefono_contacto y correo_electronico. Primero porque tienen mas del 50% de campos vacios y segundo porque no son realmente relevantes para este analisis, sino que servirian mas adelante en una campaña de mercadeo para enviar informacion a los clientes basado en los insights que generemos de este proyecto."
   ]
  },
  {
   "cell_type": "code",
   "execution_count": 14,
   "id": "2e7e83c4",
   "metadata": {},
   "outputs": [],
   "source": [
    "df_restaurants_USA.drop(columns=['telefono_contacto', 'correo_electronico'], inplace=True)"
   ]
  },
  {
   "cell_type": "markdown",
   "id": "24bd94a4",
   "metadata": {},
   "source": [
    "Con respecto a edad, promedio_gastos_comida y preferencias_alimenticias, la mejor opcion es inputar los datos faltantes ya que solo un pequeño porcentaje aparece vacio (menos del 5%). \n",
    "\n",
    "Ahora bien, para saber con que valor representativo se reemplazara cada uno, se analiza primero los datos estadisticos de estas tres columnas:"
   ]
  },
  {
   "cell_type": "markdown",
   "id": "5c2c1002",
   "metadata": {},
   "source": [
    "#### Tratamiento de edad"
   ]
  },
  {
   "cell_type": "code",
   "execution_count": 73,
   "id": "dfcf4d0e",
   "metadata": {},
   "outputs": [],
   "source": [
    "# Primero convertimos la edad a enteros:\n",
    "df_restaurants_USA['edad'] = df_restaurants_USA['edad'].astype('Int64')"
   ]
  },
  {
   "cell_type": "code",
   "execution_count": 74,
   "id": "6b55ed78",
   "metadata": {},
   "outputs": [
    {
     "name": "stdout",
     "output_type": "stream",
     "text": [
      "count      29692.0\n",
      "mean     48.916173\n",
      "std      18.160132\n",
      "min           18.0\n",
      "25%           33.0\n",
      "50%           49.0\n",
      "75%           65.0\n",
      "max           80.0\n",
      "Name: edad, dtype: Float64\n"
     ]
    }
   ],
   "source": [
    "# Luego analizamos los datos estadisticos de la columna edad\n",
    "print(df_restaurants_USA['edad'].describe())"
   ]
  },
  {
   "cell_type": "markdown",
   "id": "32369830",
   "metadata": {},
   "source": [
    "Vemos a primera vista que el valor maximo: 300 y minimo -5 estan erroneos. Vamos a comprobar la distribucion con un histograma:"
   ]
  },
  {
   "cell_type": "code",
   "execution_count": 75,
   "id": "5f79782c",
   "metadata": {},
   "outputs": [
    {
     "data": {
      "text/plain": [
       "<Axes: >"
      ]
     },
     "execution_count": 75,
     "metadata": {},
     "output_type": "execute_result"
    },
    {
     "data": {
      "image/png": "[encoded data removed]",
      "text/plain": [
       "<Figure size 640x480 with 1 Axes>"
      ]
     },
     "metadata": {},
     "output_type": "display_data"
    }
   ],
   "source": [
    "df_restaurants_USA['edad'].hist(bins=100)"
   ]
  },
  {
   "cell_type": "markdown",
   "id": "619b4681",
   "metadata": {},
   "source": [
    "Como se puede observar, es obvio que valores negativos y valores alrededor de 300 son ilogicos (Outliers) probablemente errores en la digitacion, por lo que vamos a volverlos NaN (En vez de eliminar toda la fila y perder datos importantes de otras columnas) y a inputarlos mas adelante con un valor representativo:"
   ]
  },
  {
   "cell_type": "code",
   "execution_count": 76,
   "id": "77e1507c",
   "metadata": {},
   "outputs": [],
   "source": [
    "df_restaurants_USA['edad']=df_restaurants_USA['edad'].where((df_restaurants_USA['edad']>5) & (df_restaurants_USA['edad']<110), np.nan)"
   ]
  },
  {
   "cell_type": "code",
   "execution_count": 77,
   "id": "5b4abe5f",
   "metadata": {},
   "outputs": [
    {
     "name": "stdout",
     "output_type": "stream",
     "text": [
      "count      29692.0\n",
      "mean     48.916173\n",
      "std      18.160132\n",
      "min           18.0\n",
      "25%           33.0\n",
      "50%           49.0\n",
      "75%           65.0\n",
      "max           80.0\n",
      "Name: edad, dtype: Float64\n",
      "Coeficiente de variacion:  37.12500543438086\n"
     ]
    }
   ],
   "source": [
    "# Analizamos nuevamente los datos estadisticos de la columna edad\n",
    "print(df_restaurants_USA['edad'].describe())\n",
    "\n",
    "# Obtenemos el coeficiente  de variacion de la columna edad\n",
    "print(\"Coeficiente de variacion: \",df_restaurants_USA['edad'].std()*100/df_restaurants_USA['edad'].mean())"
   ]
  },
  {
   "cell_type": "markdown",
   "id": "ebfc89d6",
   "metadata": {},
   "source": [
    "Esto nos indica que la media no es un buen candidato a utilizar para reemplazar los valores faltantes, ya que el coeficiente de variabilidad es muy alto y hace que los datos esten muy dispersos haciendo que la media no sea un valor representativo. Por ende, se toma la media como valor representativo de los datos y se inputara en los valores NaN"
   ]
  },
  {
   "cell_type": "code",
   "execution_count": 78,
   "id": "1fb4d00b",
   "metadata": {},
   "outputs": [],
   "source": [
    "df_restaurants_USA['edad']=df_restaurants_USA['edad'].fillna(int(df_restaurants_USA['edad'].median()))"
   ]
  },
  {
   "cell_type": "markdown",
   "id": "1b9d1d86",
   "metadata": {},
   "source": [
    "#### Tratamiento de promedio gastos de comida"
   ]
  },
  {
   "cell_type": "markdown",
   "id": "f5a810b9",
   "metadata": {},
   "source": [
    "Se realiza el mismo procedimiento con la columna promedio gastos de comida:"
   ]
  },
  {
   "cell_type": "code",
   "execution_count": 82,
   "id": "27f255f8",
   "metadata": {},
   "outputs": [
    {
     "data": {
      "application/vnd.microsoft.datawrangler.viewer.v0+json": {
       "columns": [
        {
         "name": "index",
         "rawType": "object",
         "type": "string"
        },
        {
         "name": "promedio_gasto_comida",
         "rawType": "float64",
         "type": "float"
        }
       ],
       "ref": "a7662091-3504-4933-8011-10989edc7c40",
       "rows": [
        [
         "count",
         "29855.0"
        ],
        [
         "mean",
         "32.60345168313515"
        ],
        [
         "std",
         "26.402600946984847"
        ],
        [
         "min",
         "0.0"
        ],
        [
         "25%",
         "13.29"
        ],
        [
         "50%",
         "25.51"
        ],
        [
         "75%",
         "44.4"
        ],
        [
         "max",
         "149.97"
        ]
       ],
       "shape": {
        "columns": 1,
        "rows": 8
       }
      },
      "text/plain": [
       "count    29855.000000\n",
       "mean        32.603452\n",
       "std         26.402601\n",
       "min          0.000000\n",
       "25%         13.290000\n",
       "50%         25.510000\n",
       "75%         44.400000\n",
       "max        149.970000\n",
       "Name: promedio_gasto_comida, dtype: float64"
      ]
     },
     "execution_count": 82,
     "metadata": {},
     "output_type": "execute_result"
    }
   ],
   "source": [
    "df_restaurants_USA['promedio_gasto_comida'].describe()"
   ]
  },
  {
   "cell_type": "code",
   "execution_count": 92,
   "id": "87891e6c",
   "metadata": {},
   "outputs": [
    {
     "data": {
      "text/plain": [
       "<Axes: >"
      ]
     },
     "execution_count": 92,
     "metadata": {},
     "output_type": "execute_result"
    },
    {
     "data": {
      "image/png": "[encoded data removed]",
      "text/plain": [
       "<Figure size 640x480 with 1 Axes>"
      ]
     },
     "metadata": {},
     "output_type": "display_data"
    }
   ],
   "source": [
    "# Hacemos tambien un histograma de la columna promedio_gasto_comida, para ver el tipo de distribucion que tiene\n",
    "df_restaurants_USA['promedio_gasto_comida'].hist(bins=100)"
   ]
  },
  {
   "cell_type": "code",
   "execution_count": 84,
   "id": "363cd6d1",
   "metadata": {},
   "outputs": [],
   "source": [
    "# De nuevo, se debe filtrar solo los valores logicos: en este caso, valores positivos de gasto, por lo que se va a volver naN los valores negativos y 0 (que no tienen sentido en este contexto)\n",
    "df_restaurants_USA['promedio_gasto_comida']=df_restaurants_USA['promedio_gasto_comida'].where(df_restaurants_USA['promedio_gasto_comida']>0, np.nan)"
   ]
  },
  {
   "cell_type": "code",
   "execution_count": 86,
   "id": "4195a97d",
   "metadata": {},
   "outputs": [
    {
     "name": "stdout",
     "output_type": "stream",
     "text": [
      "Coeficiente de variacion:  75.80579999085506\n"
     ]
    }
   ],
   "source": [
    "# Se revisa de nuevo los datos estadisticos de la columna promedio_gasto_comida:\n",
    "df_restaurants_USA['promedio_gasto_comida'].describe()\n",
    "\n",
    "# Obtenemos el coeficiente  de variacion de la columna promedio_gasto_comida\n",
    "print(\"Coeficiente de variacion: \",df_restaurants_USA['promedio_gasto_comida'].std()*100/df_restaurants_USA['promedio_gasto_comida'].mean())"
   ]
  },
  {
   "cell_type": "markdown",
   "id": "a02414f1",
   "metadata": {},
   "source": [
    "De nuevo, se va a utilizar la mediana para la imputacion de valores NaN, debido a que el coeficiente de variacion resulta muy alto (Datos muy dispersos) por lo que la media no es una medida representativa."
   ]
  },
  {
   "cell_type": "code",
   "execution_count": 87,
   "id": "79d285b0",
   "metadata": {},
   "outputs": [],
   "source": [
    "df_restaurants_USA['promedio_gasto_comida']=df_restaurants_USA['promedio_gasto_comida'].fillna(df_restaurants_USA['promedio_gasto_comida'].median())"
   ]
  },
  {
   "cell_type": "markdown",
   "id": "adb4e507",
   "metadata": {},
   "source": [
    "#### Tratamiento de preferencias alimenticias"
   ]
  },
  {
   "cell_type": "markdown",
   "id": "1a807f29",
   "metadata": {},
   "source": [
    "Primero se verificara que no hayan errores en el ingreso de las variables categoricas:"
   ]
  },
  {
   "cell_type": "code",
   "execution_count": 97,
   "id": "b28d539d",
   "metadata": {},
   "outputs": [
    {
     "data": {
      "text/plain": [
       "array(['Vegetariano', 'Mariscos', 'Carnes', 'Vegano', 'Pescado', 'Otro'],\n",
       "      dtype=object)"
      ]
     },
     "execution_count": 97,
     "metadata": {},
     "output_type": "execute_result"
    }
   ],
   "source": [
    "df_restaurants_USA['preferencias_alimenticias'].unique()"
   ]
  },
  {
   "cell_type": "markdown",
   "id": "1020a025",
   "metadata": {},
   "source": [
    "Al comprobar que no tenemos valores irregulares (Algun nombre mal escrito), procedemos con el siguiente paso:"
   ]
  },
  {
   "cell_type": "markdown",
   "id": "7497a12c",
   "metadata": {},
   "source": [
    "Al ser una variable categorica, lo ideal en este caso es reemplazar los faltantes con la moda de la siguiente manera:"
   ]
  },
  {
   "cell_type": "code",
   "execution_count": 91,
   "id": "e978b5e9",
   "metadata": {},
   "outputs": [],
   "source": [
    "df_restaurants_USA['preferencias_alimenticias']=df_restaurants_USA['preferencias_alimenticias'].fillna(df_restaurants_USA['preferencias_alimenticias'].mode()[0])"
   ]
  },
  {
   "cell_type": "markdown",
   "id": "b68c9af5",
   "metadata": {},
   "source": [
    "### Resultados"
   ]
  },
  {
   "cell_type": "markdown",
   "id": "f0982486",
   "metadata": {},
   "source": [
    "De esta manera, se logra tener un dataframe limpio con valores faltantes tratados"
   ]
  },
  {
   "cell_type": "code",
   "execution_count": 98,
   "id": "ab464a85",
   "metadata": {},
   "outputs": [
    {
     "name": "stdout",
     "output_type": "stream",
     "text": [
      "<class 'pandas.core.frame.DataFrame'>\n",
      "RangeIndex: 30000 entries, 0 to 29999\n",
      "Data columns (total 15 columns):\n",
      " #   Column                     Non-Null Count  Dtype  \n",
      "---  ------                     --------------  -----  \n",
      " 0   id_persona                 30000 non-null  int64  \n",
      " 1   nombre                     30000 non-null  object \n",
      " 2   apellido                   30000 non-null  object \n",
      " 3   edad                       30000 non-null  Int64  \n",
      " 4   genero                     30000 non-null  object \n",
      " 5   ciudad_residencia          30000 non-null  object \n",
      " 6   estrato_socioeconomico     30000 non-null  object \n",
      " 7   frecuencia_visita          30000 non-null  int64  \n",
      " 8   promedio_gasto_comida      30000 non-null  float64\n",
      " 9   ocio                       30000 non-null  object \n",
      " 10  consume_licor              30000 non-null  object \n",
      " 11  preferencias_alimenticias  30000 non-null  object \n",
      " 12  membresia_premium          30000 non-null  object \n",
      " 13  tipo_de_pago_mas_usado     30000 non-null  object \n",
      " 14  ingresos_mensuales         30000 non-null  int64  \n",
      "dtypes: Int64(1), float64(1), int64(3), object(10)\n",
      "memory usage: 3.5+ MB\n"
     ]
    }
   ],
   "source": [
    "df_restaurants_USA.info()"
   ]
  },
  {
   "cell_type": "markdown",
   "id": "82977db6",
   "metadata": {},
   "source": []
  }
 ],
 "metadata": {
  "kernelspec": {
   "display_name": "base",
   "language": "python",
   "name": "python3"
  },
  "language_info": {
   "codemirror_mode": {
    "name": "ipython",
    "version": 3
   },
   "file_extension": ".py",
   "mimetype": "text/x-python",
   "name": "python",
   "nbconvert_exporter": "python",
   "pygments_lexer": "ipython3",
   "version": "3.12.7"
  }
 },
 "nbformat": 4,
 "nbformat_minor": 5
}
