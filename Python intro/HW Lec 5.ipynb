{
 "cells": [
  {
   "cell_type": "code",
   "execution_count": 1,
   "id": "8c5cf218",
   "metadata": {},
   "outputs": [],
   "source": [
    "from abc import ABC, abstractmethod"
   ]
  },
  {
   "cell_type": "markdown",
   "id": "93851e33",
   "metadata": {},
   "source": [
    "### Creando las clases necesarias"
   ]
  },
  {
   "cell_type": "code",
   "execution_count": 15,
   "id": "a53e7889",
   "metadata": {},
   "outputs": [],
   "source": [
    "class Mensaje(ABC):\n",
    "    @abstractmethod\n",
    "    def enviar(self,mensaje):\n",
    "        pass\n",
    "\n",
    "class SMS(Mensaje):\n",
    "    def enviar(self,mensaje):\n",
    "        print(\"enviando SMS: \",mensaje)\n",
    "    pass\n",
    "\n",
    "class Email(Mensaje):\n",
    "    def enviar(self,mensaje):\n",
    "        print(\"enviando correo electronico: \",mensaje)\n",
    "    pass\n",
    "\n",
    "class App_notification(Mensaje):\n",
    "    def enviar(self,mensaje):\n",
    "        print(\"enviando notificacion por la App:\",mensaje)\n",
    "    pass\n",
    "\n",
    "class Usuario:\n",
    "    def __init__(self,message_type):\n",
    "        self.message_type=message_type\n",
    "    def enviar_mensaje(self,mensaje):\n",
    "        self.message_type.enviar(mensaje)\n"
   ]
  },
  {
   "cell_type": "markdown",
   "id": "897ce4af",
   "metadata": {},
   "source": [
    "### Instanciando los tipos de mensaje"
   ]
  },
  {
   "cell_type": "code",
   "execution_count": 16,
   "id": "e1929653",
   "metadata": {},
   "outputs": [],
   "source": [
    "sms=SMS()\n",
    "email=Email()\n",
    "app_not=App_notification()"
   ]
  },
  {
   "cell_type": "markdown",
   "id": "3345e925",
   "metadata": {},
   "source": [
    "### Instanciando los usuarios "
   ]
  },
  {
   "cell_type": "code",
   "execution_count": 17,
   "id": "c64187e8",
   "metadata": {},
   "outputs": [],
   "source": [
    "usuario_sms=Usuario(sms)\n",
    "usuario_email=Usuario(email)\n",
    "usuario_app=Usuario(app_not)"
   ]
  },
  {
   "cell_type": "markdown",
   "id": "1ad0fd41",
   "metadata": {},
   "source": [
    "### Invocando el metodo enviar de la clase mensaje en cada instancia de clase usuario"
   ]
  },
  {
   "cell_type": "code",
   "execution_count": 18,
   "id": "0d886ec4",
   "metadata": {},
   "outputs": [
    {
     "name": "stdout",
     "output_type": "stream",
     "text": [
      "enviando SMS:  Mensaje de texto...de para...\n",
      "enviando correo electronico:  Email subject, cuerpo....\n",
      "enviando notificacion por la App: Notificacion app virtual....\n"
     ]
    }
   ],
   "source": [
    "usuario_sms.enviar_mensaje('Mensaje de texto...de para...')\n",
    "usuario_email.enviar_mensaje('Email subject, cuerpo....')\n",
    "usuario_app.enviar_mensaje('Notificacion app virtual....')\n"
   ]
  },
  {
   "cell_type": "code",
   "execution_count": null,
   "id": "80efa7bf",
   "metadata": {},
   "outputs": [],
   "source": []
  }
 ],
 "metadata": {
  "kernelspec": {
   "display_name": "base",
   "language": "python",
   "name": "python3"
  },
  "language_info": {
   "codemirror_mode": {
    "name": "ipython",
    "version": 3
   },
   "file_extension": ".py",
   "mimetype": "text/x-python",
   "name": "python",
   "nbconvert_exporter": "python",
   "pygments_lexer": "ipython3",
   "version": "3.12.7"
  }
 },
 "nbformat": 4,
 "nbformat_minor": 5
}
