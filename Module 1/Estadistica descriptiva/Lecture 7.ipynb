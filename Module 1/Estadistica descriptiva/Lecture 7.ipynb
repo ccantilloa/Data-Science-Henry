{
 "cells": [
  {
   "cell_type": "markdown",
   "id": "bd2748d2",
   "metadata": {},
   "source": [
    "### Coeficiente de variacion (Medida relativa de dispersion)"
   ]
  },
  {
   "cell_type": "markdown",
   "id": "328b26ab",
   "metadata": {},
   "source": [
    "No podemos conocer la dispersión de un conjunto de datos hasta que conocemos su desviación estándar, su media y cómo se compara la desviación estándar con la media.\n",
    "\n",
    "Lo que necesitamos es una medida relativa que nos proporcione una estimación de la magnitud de la desviación respecto a la magnitud de la media. El coeficiente de variación es una de estas medidas relativas de dispersión.\n",
    "\n",
    "Relaciona la desviación estándar y la media, expresando la desviación estándar como porcentaje de la media. La unidad de medida, entonces, es “porcentaje”, en lugar de las unidades de los datos originales.\n",
    "\n",
    "- CV < 10% → Baja variabilidad (datos bastante homogéneos).\n",
    "\n",
    "- 10% ≤ CV ≤ 30% → Variabilidad moderada.\n",
    "\n",
    "- CV > 30% → Alta variabilidad (los datos son muy dispersos)."
   ]
  },
  {
   "cell_type": "code",
   "execution_count": 1,
   "id": "888d9bd5",
   "metadata": {},
   "outputs": [],
   "source": [
    "# Coeficiente de variacion = desviacion estandar / media * 100"
   ]
  },
  {
   "cell_type": "markdown",
   "id": "5d4b252d",
   "metadata": {},
   "source": [
    "La desviación estándar mide la cantidad de variación o dispersión de un conjunto de valores. La varianza es el cuadrado de la DS y ambas proporcionan insights sobre la consistencia de los datos."
   ]
  },
  {
   "cell_type": "markdown",
   "id": "8b31fd91",
   "metadata": {},
   "source": [
    "**np.std(array, axis=None)**: calcula la desviación estándar, proporcionando una medida de la dispersión de los datos respecto a su media.\n",
    "\n",
    "**np.var(array, axis=None)**: calcula la varianza de los elementos, cuantificando su dispersión cuadrática respecto a la medi"
   ]
  },
  {
   "cell_type": "markdown",
   "id": "981bb2d5",
   "metadata": {},
   "source": [
    "Pandas hereda la simplicidad de NumPy para calcular varianza y desviación estándar directamente sobre Series o columnas de un DataFrame, manteniendo la misma semántica y sin necesidad de convertir a arrays.\n",
    "**.var(ddof=0)** calcula la varianza poblacional (mismo resultado que np.var)\n",
    "\n",
    "**.std(ddof=0)** calcula la desviación estándar poblacional (equivalente a np.std)."
   ]
  },
  {
   "cell_type": "markdown",
   "id": "4231222d",
   "metadata": {},
   "source": [
    "### Distribucion de frecuencias"
   ]
  },
  {
   "cell_type": "markdown",
   "id": "1d7ec371",
   "metadata": {},
   "source": [
    "Tipos de frecuencia:\n",
    "\n",
    "1. Frecuencia absoluta: Cuenta cuántas veces aparece cada categoría o cada clase en tu conjunto de datos. Esta será tu frecuencia absoluta. \n",
    "\n",
    "2. Frecuencia relativa: Calcula la frecuencia relativa, que es la proporción de cada categoría sobre el total de observaciones. Se obtiene dividiendo la frecuencia absoluta de cada categoría entre el número total de observaciones.\n",
    "\n",
    "3. Frecuencia acumulada: Si es relevante para tu análisis, puedes sumar las frecuencias absolutas de todas las categorías hasta cada punto para obtener la frecuencia acumulada."
   ]
  },
  {
   "cell_type": "markdown",
   "id": "f939b23e",
   "metadata": {},
   "source": [
    "Pasos:\n",
    "1. Definir las categorias\n",
    "2. Contar la frecuencia\n",
    "3. Crear una tabla que sea facil de leer con las frecuencias de interes\n",
    "4. Verificar que las frecuencias rel. sumen 100% y que el total de frecuencias=total observaciones\n",
    "5. Interpretar la tabla"
   ]
  },
  {
   "cell_type": "markdown",
   "id": "581300f2",
   "metadata": {},
   "source": [
    "### Histograma"
   ]
  },
  {
   "cell_type": "markdown",
   "id": "ce269aff",
   "metadata": {},
   "source": [
    "El Histograma es un gráfico de la distribución de frecuencias, que se construye con rectángulos de superficie proporcional al producto de la amplitud por la frecuencia absoluta (o relativa) de cada uno de los intervalos de clase.\n",
    "\n"
   ]
  },
  {
   "cell_type": "markdown",
   "id": "2ba1dc58",
   "metadata": {},
   "source": [
    "Está formado por una serie de rectángulos, la variable de interés se representa en el eje horizontal, el número o porcentaje de observaciones se representa en el eje vertical. La base está sobre el eje horizontal y el centro en el punto medio. Los extremos de cada rectángulo coinciden con los verdaderos límites. La longitud es el tamaño de cada intervalo de clase y la superficie es proporcional a la frecuencia. La superficie total del histograma representa el 100% de los datos.\n",
    "\n",
    "**La curva de densidad (KDE) suaviza la información del histograma, dibujando una línea continua que facilita comparar varias series o ver la “suavidad” de la distribución**"
   ]
  },
  {
   "cell_type": "markdown",
   "id": "8ffc2749",
   "metadata": {},
   "source": [
    "### Asimetria (Skewness)"
   ]
  },
  {
   "cell_type": "markdown",
   "id": "5eb2a912",
   "metadata": {},
   "source": [
    "**.skew()** Mide el grado de inclinación de la distribución respecto a su media:\n",
    "\n",
    "- Asimetría > 0: cola hacia la derecha; hay valores excepcionalmente altos.\n",
    "\n",
    "- Asimetría < 0: cola hacia la izquierda; hay valores excepcionalmente bajos."
   ]
  },
  {
   "cell_type": "markdown",
   "id": "a8bf6e7d",
   "metadata": {},
   "source": [
    "### Curtosis (Kurtosis)\n",
    "\n"
   ]
  },
  {
   "cell_type": "markdown",
   "id": "f340addb",
   "metadata": {},
   "source": [
    "**.kurt()** Mide la concentración de los datos en torno a la media. Esto quantifica la “puntiagudez” de la distribución comparada con una normal\n",
    "- Curtosis > 3: colas pesadas y pico pronunciado; hay más valores extremos de lo esperado.\n",
    "- Curtosis < 3: distribución más plana; menos valores extremos.\n"
   ]
  },
  {
   "cell_type": "markdown",
   "id": "4926ac9a",
   "metadata": {},
   "source": [
    "Con estas herramientas sabrás no solo dónde se agrupan tus datos, sino también cómo se dispersan y si presentan comportamientos extremos o asimétricos."
   ]
  },
  {
   "cell_type": "markdown",
   "id": "d280d08e",
   "metadata": {},
   "source": [
    "## Cuartiles, percentiles y detección de outliers"
   ]
  },
  {
   "cell_type": "markdown",
   "id": "726714bc",
   "metadata": {},
   "source": [
    "permiten segmentar los datos y entender cómo se distribuyen. Facilita tareas como detectar valores atípicos, analizar la variabilidad y tomar decisiones basadas en rangos específicos dentro de los datos."
   ]
  },
  {
   "cell_type": "markdown",
   "id": "555e0fe1",
   "metadata": {},
   "source": [
    "### Percentil"
   ]
  },
  {
   "cell_type": "markdown",
   "id": "7855f679",
   "metadata": {},
   "source": [
    "Indican el valor bajo el cual cae un cierto porcentaje de observaciones en un grupo. Son útiles para entender la distribución de los datos. \n",
    "\n",
    "- En numpy:\n",
    "**np.percentile(array, q, axis=None)**: calcula el q-ésimo percentil de los datos, donde q está en el rango de 0 a 100. Es útil para entender la dispersión y la forma de la distribución de los datos\n",
    "- En pandas:\n",
    "**df['col'].quantile([0.25, 0.75])**"
   ]
  },
  {
   "cell_type": "markdown",
   "id": "74fd86c1",
   "metadata": {},
   "source": [
    "#### Rango intercuartilico"
   ]
  },
  {
   "cell_type": "markdown",
   "id": "3915a174",
   "metadata": {},
   "source": [
    "El IQR (InterQuartile Range) es la diferencia entre el tercer cuartil (Q3) y el primer cuartil (Q1).\n",
    "\n",
    "- Cubre la mitad central de los datos (desde el 25 % hasta el 75 %).\n",
    "- Es resistente a valores extremos (outliers), ya que ignora el 25 % superior y el 25 % inferior de los datos.\n",
    "- Un IQR grande implica mucha variabilidad en la “zona media” de la distribución."
   ]
  },
  {
   "cell_type": "markdown",
   "id": "1664f41e",
   "metadata": {},
   "source": [
    "### Identificación de outliers mediante criterios IQR y boxplots"
   ]
  },
  {
   "cell_type": "markdown",
   "id": "ba5c9bce",
   "metadata": {},
   "source": [
    "Los outliers son aquellos valores que se sitúan a una distancia inusualmente grande del resto de las observaciones en un conjunto de datos, y aunque a menudo se asocian con errores de medición o entrada, también pueden reflejar fenómenos reales y relevantes (Fallas en sensores, casos exepcionales que valga la pena investigar)\n",
    "\n",
    "Además, en contextos donde confluyen subpoblaciones distintas, lo que para un grupo es un dato atípico podría ser el valor típico de otro (por ejemplo, entrenamientos en ambientes diferentes). Por todo ello, los outliers no deben eliminarse de forma automática: antes de descartarlos, conviene explorarlos, documentar su posible origen y decidir si corregirlos, marcarlos como casos especiales o mantenerlos tal cual, ya que su presencia aporta información valiosa sobre la calidad de los datos, las variaciones naturales y los posibles errores en la captura de la información."
   ]
  },
  {
   "cell_type": "markdown",
   "id": "e6a44976",
   "metadata": {},
   "source": [
    "#### Visualizacion con IQR"
   ]
  },
  {
   "cell_type": "markdown",
   "id": "74a81eb1",
   "metadata": {},
   "source": [
    "Al extender el IQR 1.5 veces hacia arriba y hacia abajo, definimos límites naturales que separan la “zona central” de las posibles anomalías. Cualquier punto que quede fuera de esos límites se considera un candidato a outlier, cuya detección y análisis pueden revelar errores de medición, entradas duplicadas o fenómenos excepcionales dignos de atención.\n",
    "Criterio clásico: 1.5 × IQR\n",
    "- Límite inferior = Q1 − 1.5 × IQR\n",
    "- Límite superior = Q3 + 1.5 × IQR\n",
    "\n",
    "**No borres automáticamente estos registros**, Verifica su origen (¿fue un error?) y decide según el objetivo de tu análisis si imputar, transformar o mantenerlos para estudiar esos casos extremos.\n",
    "\n"
   ]
  },
  {
   "cell_type": "markdown",
   "id": "890486e1",
   "metadata": {},
   "source": [
    "#### Visualizacion con boxplot"
   ]
  },
  {
   "cell_type": "markdown",
   "id": "3a3c06c7",
   "metadata": {},
   "source": [
    "Sintetiza toda la información anterior en un solo gráfico:\n",
    "- Caja: Desde Q1 a Q3\n",
    "- Linea interna: mediana\n",
    "- Bigotes: Extremos que no se clasifican como outliers\n",
    "- Puntos fuera de los bigotes: outliers\n",
    "\n",
    "Ofrece visualmente la distribucion central (mediana y cuartiles), la dispercion (IQR) y la presencia de valores atipicos"
   ]
  },
  {
   "cell_type": "markdown",
   "id": "3afac35a",
   "metadata": {},
   "source": [
    "## Relaciones entre variables"
   ]
  },
  {
   "cell_type": "markdown",
   "id": "715dbb12",
   "metadata": {},
   "source": [
    "Para descubrir cómo se relacionan tus atributos y encontrar patrones conjuntos, utilizamos principalmente la correlación y las tablas de contingencia"
   ]
  },
  {
   "cell_type": "markdown",
   "id": "43ca0335",
   "metadata": {},
   "source": [
    "### Correlacion Pearson-Spearman"
   ]
  },
  {
   "cell_type": "markdown",
   "id": "9a040b83",
   "metadata": {},
   "source": [
    "**df.corr(method='...')** Por defecto aplica Pearson\n",
    "La correlación cuantifica la relación entre dos variables, es decir, cómo cambian juntas. un coeficiente cercano a +1 indica que ambas suben o bajan simultáneamente de manera casi perfecta, mientras que un valor cercano a –1 sugiere que una sube cuando la otra baja\n",
    "\n",
    "- Pearson: Mide relacion lineal. Ideal con datos continuos y normalmente distribuidos\n",
    "- Spearman: Se basa en rangos y no en valores absolutos, por lo que capta relaciones monótonas incluso si no son lineales o si hay valores extremos (outliers) que distorsionan el cálculo de Pearson. Util si los datos tienen escalas diferentes, distribuciones sesgadas o correlacion de tipo diferente a lineal (Exponencial...)\n",
    "\n",
    "**Interpretacion**\n",
    "Valores cercanos a 0 indican poca correlacion, cercanos a 1 indican mucha"
   ]
  },
  {
   "cell_type": "markdown",
   "id": "ee209961",
   "metadata": {},
   "source": [
    "### Mapas de correlacion y mapas de calor"
   ]
  },
  {
   "cell_type": "markdown",
   "id": "61e93946",
   "metadata": {},
   "source": [
    "Para interpretar rápidamente múltiples correlaciones a la vez, Pandas permite aplicar un gradiente de color sobre la matriz: cada celda se colorea según el valor del coeficiente, de manera que los tonos más intensos destacan relaciones muy fuertes (positivas o negativas) y los colores neutros señalan correlaciones cercanas a cero.\n",
    "\n",
    "Esta representación visual convierte una tabla de números en un mapa de calor sencillo de leer, donde basta un vistazo para detectar pares de variables altamente vinculados o independientes.\n",
    "\n",
    "Se puede ajustar la paleta de colores (**cmamp='coolwarm'**) por ejemplo para enfatizar mas los extremos\n",
    "\n",
    "**pearson.style.background_gradient(cmap='coolwarm')**\n"
   ]
  },
  {
   "cell_type": "markdown",
   "id": "690ac0b9",
   "metadata": {},
   "source": [
    "### Tablas de contingencia"
   ]
  },
  {
   "cell_type": "markdown",
   "id": "954d0a52",
   "metadata": {},
   "source": [
    "Las tablas de contingencia (**pd.crosstab**) condensan en una cuadrícula la frecuencia con que ocurren combinaciones de dos variables categóricas, ayudándote a visualizar cómo se distribuyen los casos conjuntos\n",
    "\n",
    "Facilita identificar patrones, desbalances entre grupos o relaciones inesperadas sin tener que filtrar o agrupar manualmente los datos"
   ]
  },
  {
   "cell_type": "code",
   "execution_count": null,
   "id": "5f3ed4a0",
   "metadata": {},
   "outputs": [],
   "source": []
  }
 ],
 "metadata": {
  "kernelspec": {
   "display_name": "base",
   "language": "python",
   "name": "python3"
  },
  "language_info": {
   "codemirror_mode": {
    "name": "ipython",
    "version": 3
   },
   "file_extension": ".py",
   "mimetype": "text/x-python",
   "name": "python",
   "nbconvert_exporter": "python",
   "pygments_lexer": "ipython3",
   "version": "3.12.7"
  }
 },
 "nbformat": 4,
 "nbformat_minor": 5
}
