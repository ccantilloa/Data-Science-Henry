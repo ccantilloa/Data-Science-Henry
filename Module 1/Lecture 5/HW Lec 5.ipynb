{
 "cells": [
  {
   "cell_type": "code",
   "execution_count": 1,
   "id": "8c5cf218",
   "metadata": {},
   "outputs": [],
   "source": [
    "from abc import ABC, abstractmethod"
   ]
  },
  {
   "cell_type": "markdown",
   "id": "93851e33",
   "metadata": {},
   "source": [
    "### Creando las clases necesarias"
   ]
  },
  {
   "cell_type": "code",
   "execution_count": 57,
   "id": "a53e7889",
   "metadata": {},
   "outputs": [],
   "source": [
    "class Mensaje(ABC):\n",
    "    def __init__(self):\n",
    "        self.count=0\n",
    "    @abstractmethod    \n",
    "    def enviar(self,mensaje):\n",
    "        pass\n",
    "\n",
    "class SMS(Mensaje):\n",
    "    def enviar(self,mensaje):\n",
    "        self.count=self.count+1\n",
    "        print(\"enviando SMS: \",mensaje)\n",
    "    pass\n",
    "\n",
    "class Email(Mensaje):\n",
    "    def enviar(self,mensaje):\n",
    "        self.count=self.count+1\n",
    "        print(\"enviando correo electronico: \",mensaje)\n",
    "    pass\n",
    "\n",
    "class App_notification(Mensaje):\n",
    "    def enviar(self,mensaje):\n",
    "        self.count=self.count+1\n",
    "        print(\"enviando notificacion por la App:\",mensaje)\n",
    "    pass\n",
    "\n",
    "class Usuario:\n",
    "    def __init__(self,message_type):\n",
    "        self.message_type=message_type\n",
    "    def enviar_mensaje(self,mensaje):\n",
    "        self.message_type.enviar(mensaje)\n"
   ]
  },
  {
   "cell_type": "markdown",
   "id": "897ce4af",
   "metadata": {},
   "source": [
    "### Instanciando los tipos de mensaje"
   ]
  },
  {
   "cell_type": "code",
   "execution_count": 58,
   "id": "e1929653",
   "metadata": {},
   "outputs": [],
   "source": [
    "sms=SMS()\n",
    "email=Email()\n",
    "app_not=App_notification()"
   ]
  },
  {
   "cell_type": "markdown",
   "id": "3345e925",
   "metadata": {},
   "source": [
    "### Instanciando los usuarios "
   ]
  },
  {
   "cell_type": "code",
   "execution_count": 59,
   "id": "c64187e8",
   "metadata": {},
   "outputs": [],
   "source": [
    "usuario_sms=Usuario(sms)\n",
    "usuario_email=Usuario(email)\n",
    "usuario_app=Usuario(app_not)"
   ]
  },
  {
   "cell_type": "markdown",
   "id": "1ad0fd41",
   "metadata": {},
   "source": [
    "### Invocando el metodo enviar de la clase mensaje en cada instancia de clase usuario"
   ]
  },
  {
   "cell_type": "code",
   "execution_count": 63,
   "id": "a0fc644e",
   "metadata": {},
   "outputs": [
    {
     "name": "stdout",
     "output_type": "stream",
     "text": [
      "enviando SMS:  Mensaje de texto 1\n",
      "enviando correo electronico:  Email subject 1 cuerpo....\n",
      "enviando notificacion por la App: Notificacion app virtual 1....\n",
      "Mensajes de texto enviados: 28\n",
      "Emails enviados: 28\n",
      "Notificaciones enviadas: 28\n",
      "enviando SMS:  Mensaje de texto 2\n",
      "enviando correo electronico:  Email subject 2 cuerpo....\n",
      "enviando notificacion por la App: Notificacion app virtual 2....\n",
      "Mensajes de texto enviados: 29\n",
      "Emails enviados: 29\n",
      "Notificaciones enviadas: 29\n",
      "enviando SMS:  Mensaje de texto 3\n",
      "enviando correo electronico:  Email subject 3 cuerpo....\n",
      "enviando notificacion por la App: Notificacion app virtual 3....\n",
      "Mensajes de texto enviados: 30\n",
      "Emails enviados: 30\n",
      "Notificaciones enviadas: 30\n",
      "enviando SMS:  Mensaje de texto 4\n",
      "enviando correo electronico:  Email subject 4 cuerpo....\n",
      "enviando notificacion por la App: Notificacion app virtual 4....\n",
      "Mensajes de texto enviados: 31\n",
      "Emails enviados: 31\n",
      "Notificaciones enviadas: 31\n",
      "enviando SMS:  Mensaje de texto 5\n",
      "enviando correo electronico:  Email subject 5 cuerpo....\n",
      "enviando notificacion por la App: Notificacion app virtual 5....\n",
      "Mensajes de texto enviados: 32\n",
      "Emails enviados: 32\n",
      "Notificaciones enviadas: 32\n",
      "enviando SMS:  Mensaje de texto 6\n",
      "enviando correo electronico:  Email subject 6 cuerpo....\n",
      "enviando notificacion por la App: Notificacion app virtual 6....\n",
      "Mensajes de texto enviados: 33\n",
      "Emails enviados: 33\n",
      "Notificaciones enviadas: 33\n",
      "enviando SMS:  Mensaje de texto 7\n",
      "enviando correo electronico:  Email subject 7 cuerpo....\n",
      "enviando notificacion por la App: Notificacion app virtual 7....\n",
      "Mensajes de texto enviados: 34\n",
      "Emails enviados: 34\n",
      "Notificaciones enviadas: 34\n",
      "enviando SMS:  Mensaje de texto 8\n",
      "enviando correo electronico:  Email subject 8 cuerpo....\n",
      "enviando notificacion por la App: Notificacion app virtual 8....\n",
      "Mensajes de texto enviados: 35\n",
      "Emails enviados: 35\n",
      "Notificaciones enviadas: 35\n",
      "enviando SMS:  Mensaje de texto 9\n",
      "enviando correo electronico:  Email subject 9 cuerpo....\n",
      "enviando notificacion por la App: Notificacion app virtual 9....\n",
      "Mensajes de texto enviados: 36\n",
      "Emails enviados: 36\n",
      "Notificaciones enviadas: 36\n"
     ]
    }
   ],
   "source": [
    "for i in range(1,10):\n",
    "    usuario_sms.enviar_mensaje(f'Mensaje de texto {i}')\n",
    "    usuario_email.enviar_mensaje(f'Email subject {i} cuerpo....')\n",
    "    usuario_app.enviar_mensaje(f'Notificacion app virtual {i}....')\n",
    "    print('Mensajes de texto enviados:',sms.count)\n",
    "    print('Emails enviados:',email.count)\n",
    "    print('Notificaciones enviadas:',app_not.count)"
   ]
  },
  {
   "cell_type": "code",
   "execution_count": null,
   "id": "7fe77a85",
   "metadata": {},
   "outputs": [],
   "source": []
  }
 ],
 "metadata": {
  "kernelspec": {
   "display_name": "base",
   "language": "python",
   "name": "python3"
  },
  "language_info": {
   "codemirror_mode": {
    "name": "ipython",
    "version": 3
   },
   "file_extension": ".py",
   "mimetype": "text/x-python",
   "name": "python",
   "nbconvert_exporter": "python",
   "pygments_lexer": "ipython3",
   "version": "3.12.7"
  }
 },
 "nbformat": 4,
 "nbformat_minor": 5
}
