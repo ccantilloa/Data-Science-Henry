{
 "cells": [
  {
   "cell_type": "code",
   "execution_count": 11,
   "id": "49a868ce",
   "metadata": {},
   "outputs": [],
   "source": [
    "import requests\n",
    "import pandas as pd"
   ]
  },
  {
   "cell_type": "code",
   "execution_count": 4,
   "id": "c63fa5ee",
   "metadata": {},
   "outputs": [
    {
     "data": {
      "text/plain": [
       "requests.models.Response"
      ]
     },
     "execution_count": 4,
     "metadata": {},
     "output_type": "execute_result"
    }
   ],
   "source": [
    "url = \"http://api.worldbank.org/v2/country?format=json\"\n",
    "\n",
    "response = requests.get(url)\n",
    "type(response)"
   ]
  },
  {
   "cell_type": "code",
   "execution_count": 5,
   "id": "3b2f63f0",
   "metadata": {},
   "outputs": [
    {
     "data": {
      "text/plain": [
       "list"
      ]
     },
     "execution_count": 5,
     "metadata": {},
     "output_type": "execute_result"
    }
   ],
   "source": [
    "json_data = response.json()\n",
    "type(json_data)"
   ]
  },
  {
   "cell_type": "code",
   "execution_count": 7,
   "id": "1bd89dd8",
   "metadata": {},
   "outputs": [],
   "source": [
    "url = \"https://api.coingecko.com/api/v3/coins/bitcoin\"\n",
    "\n",
    "headers = {\"accept\": \"application/json\"}\n",
    "\n",
    "response = requests.get(url, headers=headers)\n",
    "\n",
    "json_data = response.json()"
   ]
  },
  {
   "cell_type": "code",
   "execution_count": 9,
   "id": "791c76ef",
   "metadata": {},
   "outputs": [
    {
     "data": {
      "text/plain": [
       "dict"
      ]
     },
     "execution_count": 9,
     "metadata": {},
     "output_type": "execute_result"
    }
   ],
   "source": [
    "type(json_data)"
   ]
  },
  {
   "cell_type": "code",
   "execution_count": 12,
   "id": "202c618b",
   "metadata": {},
   "outputs": [
    {
     "data": {
      "application/vnd.microsoft.datawrangler.viewer.v0+json": {
       "columns": [
        {
         "name": "index",
         "rawType": "int64",
         "type": "integer"
        },
        {
         "name": "id",
         "rawType": "object",
         "type": "string"
        },
        {
         "name": "symbol",
         "rawType": "object",
         "type": "string"
        },
        {
         "name": "name",
         "rawType": "object",
         "type": "string"
        },
        {
         "name": "web_slug",
         "rawType": "object",
         "type": "string"
        },
        {
         "name": "asset_platform_id",
         "rawType": "object",
         "type": "unknown"
        },
        {
         "name": "block_time_in_minutes",
         "rawType": "int64",
         "type": "integer"
        },
        {
         "name": "hashing_algorithm",
         "rawType": "object",
         "type": "string"
        },
        {
         "name": "categories",
         "rawType": "object",
         "type": "unknown"
        },
        {
         "name": "preview_listing",
         "rawType": "bool",
         "type": "boolean"
        },
        {
         "name": "public_notice",
         "rawType": "object",
         "type": "unknown"
        },
        {
         "name": "additional_notices",
         "rawType": "object",
         "type": "unknown"
        },
        {
         "name": "country_origin",
         "rawType": "object",
         "type": "string"
        },
        {
         "name": "genesis_date",
         "rawType": "object",
         "type": "string"
        },
        {
         "name": "sentiment_votes_up_percentage",
         "rawType": "float64",
         "type": "float"
        },
        {
         "name": "sentiment_votes_down_percentage",
         "rawType": "float64",
         "type": "float"
        },
        {
         "name": "watchlist_portfolio_users",
         "rawType": "int64",
         "type": "integer"
        },
        {
         "name": "market_cap_rank",
         "rawType": "int64",
         "type": "integer"
        },
        {
         "name": "status_updates",
         "rawType": "object",
         "type": "unknown"
        },
        {
         "name": "last_updated",
         "rawType": "object",
         "type": "string"
        },
        {
         "name": "tickers",
         "rawType": "object",
         "type": "unknown"
        },
        {
         "name": "platforms.",
         "rawType": "object",
         "type": "string"
        },
        {
         "name": "detail_platforms..decimal_place",
         "rawType": "object",
         "type": "unknown"
        },
        {
         "name": "detail_platforms..contract_address",
         "rawType": "object",
         "type": "string"
        },
        {
         "name": "localization.en",
         "rawType": "object",
         "type": "string"
        },
        {
         "name": "localization.zh",
         "rawType": "object",
         "type": "string"
        },
        {
         "name": "localization.zh-tw",
         "rawType": "object",
         "type": "string"
        },
        {
         "name": "localization.de",
         "rawType": "object",
         "type": "string"
        },
        {
         "name": "localization.fr",
         "rawType": "object",
         "type": "string"
        },
        {
         "name": "localization.es",
         "rawType": "object",
         "type": "string"
        },
        {
         "name": "localization.ja",
         "rawType": "object",
         "type": "string"
        },
        {
         "name": "localization.id",
         "rawType": "object",
         "type": "string"
        },
        {
         "name": "localization.ru",
         "rawType": "object",
         "type": "string"
        },
        {
         "name": "localization.ko",
         "rawType": "object",
         "type": "string"
        },
        {
         "name": "localization.ar",
         "rawType": "object",
         "type": "string"
        },
        {
         "name": "localization.th",
         "rawType": "object",
         "type": "string"
        },
        {
         "name": "localization.vi",
         "rawType": "object",
         "type": "string"
        },
        {
         "name": "localization.it",
         "rawType": "object",
         "type": "string"
        },
        {
         "name": "localization.pl",
         "rawType": "object",
         "type": "string"
        },
        {
         "name": "localization.tr",
         "rawType": "object",
         "type": "string"
        },
        {
         "name": "localization.hu",
         "rawType": "object",
         "type": "string"
        },
        {
         "name": "localization.nl",
         "rawType": "object",
         "type": "string"
        },
        {
         "name": "localization.ro",
         "rawType": "object",
         "type": "string"
        },
        {
         "name": "localization.sv",
         "rawType": "object",
         "type": "string"
        },
        {
         "name": "localization.cs",
         "rawType": "object",
         "type": "string"
        },
        {
         "name": "localization.da",
         "rawType": "object",
         "type": "string"
        },
        {
         "name": "localization.el",
         "rawType": "object",
         "type": "string"
        },
        {
         "name": "localization.hi",
         "rawType": "object",
         "type": "string"
        },
        {
         "name": "localization.no",
         "rawType": "object",
         "type": "string"
        },
        {
         "name": "localization.sk",
         "rawType": "object",
         "type": "string"
        },
        {
         "name": "localization.uk",
         "rawType": "object",
         "type": "string"
        },
        {
         "name": "localization.he",
         "rawType": "object",
         "type": "string"
        },
        {
         "name": "localization.fi",
         "rawType": "object",
         "type": "string"
        },
        {
         "name": "localization.bg",
         "rawType": "object",
         "type": "string"
        },
        {
         "name": "localization.hr",
         "rawType": "object",
         "type": "string"
        },
        {
         "name": "localization.lt",
         "rawType": "object",
         "type": "string"
        },
        {
         "name": "localization.sl",
         "rawType": "object",
         "type": "string"
        },
        {
         "name": "localization.pt",
         "rawType": "object",
         "type": "string"
        },
        {
         "name": "description.en",
         "rawType": "object",
         "type": "string"
        },
        {
         "name": "description.zh",
         "rawType": "object",
         "type": "string"
        },
        {
         "name": "description.zh-tw",
         "rawType": "object",
         "type": "string"
        },
        {
         "name": "description.de",
         "rawType": "object",
         "type": "string"
        },
        {
         "name": "description.fr",
         "rawType": "object",
         "type": "string"
        },
        {
         "name": "description.es",
         "rawType": "object",
         "type": "string"
        },
        {
         "name": "description.ja",
         "rawType": "object",
         "type": "string"
        },
        {
         "name": "description.id",
         "rawType": "object",
         "type": "string"
        },
        {
         "name": "description.ru",
         "rawType": "object",
         "type": "string"
        },
        {
         "name": "description.ko",
         "rawType": "object",
         "type": "string"
        },
        {
         "name": "description.ar",
         "rawType": "object",
         "type": "string"
        },
        {
         "name": "description.th",
         "rawType": "object",
         "type": "string"
        },
        {
         "name": "description.vi",
         "rawType": "object",
         "type": "string"
        },
        {
         "name": "description.it",
         "rawType": "object",
         "type": "string"
        },
        {
         "name": "description.pl",
         "rawType": "object",
         "type": "string"
        },
        {
         "name": "description.tr",
         "rawType": "object",
         "type": "string"
        },
        {
         "name": "description.hu",
         "rawType": "object",
         "type": "string"
        },
        {
         "name": "description.nl",
         "rawType": "object",
         "type": "string"
        },
        {
         "name": "description.ro",
         "rawType": "object",
         "type": "string"
        },
        {
         "name": "description.sv",
         "rawType": "object",
         "type": "string"
        },
        {
         "name": "description.cs",
         "rawType": "object",
         "type": "string"
        },
        {
         "name": "description.da",
         "rawType": "object",
         "type": "string"
        },
        {
         "name": "description.el",
         "rawType": "object",
         "type": "string"
        },
        {
         "name": "description.hi",
         "rawType": "object",
         "type": "string"
        },
        {
         "name": "description.no",
         "rawType": "object",
         "type": "string"
        },
        {
         "name": "description.sk",
         "rawType": "object",
         "type": "string"
        },
        {
         "name": "description.uk",
         "rawType": "object",
         "type": "string"
        },
        {
         "name": "description.he",
         "rawType": "object",
         "type": "string"
        },
        {
         "name": "description.fi",
         "rawType": "object",
         "type": "string"
        },
        {
         "name": "description.bg",
         "rawType": "object",
         "type": "string"
        },
        {
         "name": "description.hr",
         "rawType": "object",
         "type": "string"
        },
        {
         "name": "description.lt",
         "rawType": "object",
         "type": "string"
        },
        {
         "name": "description.sl",
         "rawType": "object",
         "type": "string"
        },
        {
         "name": "description.pt",
         "rawType": "object",
         "type": "string"
        },
        {
         "name": "links.homepage",
         "rawType": "object",
         "type": "unknown"
        },
        {
         "name": "links.whitepaper",
         "rawType": "object",
         "type": "string"
        },
        {
         "name": "links.blockchain_site",
         "rawType": "object",
         "type": "unknown"
        },
        {
         "name": "links.official_forum_url",
         "rawType": "object",
         "type": "unknown"
        },
        {
         "name": "links.chat_url",
         "rawType": "object",
         "type": "unknown"
        },
        {
         "name": "links.announcement_url",
         "rawType": "object",
         "type": "unknown"
        },
        {
         "name": "links.snapshot_url",
         "rawType": "object",
         "type": "unknown"
        },
        {
         "name": "links.twitter_screen_name",
         "rawType": "object",
         "type": "string"
        },
        {
         "name": "links.facebook_username",
         "rawType": "object",
         "type": "string"
        },
        {
         "name": "links.bitcointalk_thread_identifier",
         "rawType": "object",
         "type": "unknown"
        },
        {
         "name": "links.telegram_channel_identifier",
         "rawType": "object",
         "type": "string"
        },
        {
         "name": "links.subreddit_url",
         "rawType": "object",
         "type": "string"
        },
        {
         "name": "links.repos_url.github",
         "rawType": "object",
         "type": "unknown"
        },
        {
         "name": "links.repos_url.bitbucket",
         "rawType": "object",
         "type": "unknown"
        },
        {
         "name": "image.thumb",
         "rawType": "object",
         "type": "string"
        },
        {
         "name": "image.small",
         "rawType": "object",
         "type": "string"
        },
        {
         "name": "image.large",
         "rawType": "object",
         "type": "string"
        },
        {
         "name": "market_data.current_price.aed",
         "rawType": "int64",
         "type": "integer"
        },
        {
         "name": "market_data.current_price.ars",
         "rawType": "int64",
         "type": "integer"
        },
        {
         "name": "market_data.current_price.aud",
         "rawType": "int64",
         "type": "integer"
        },
        {
         "name": "market_data.current_price.bch",
         "rawType": "float64",
         "type": "float"
        },
        {
         "name": "market_data.current_price.bdt",
         "rawType": "int64",
         "type": "integer"
        },
        {
         "name": "market_data.current_price.bhd",
         "rawType": "int64",
         "type": "integer"
        },
        {
         "name": "market_data.current_price.bmd",
         "rawType": "int64",
         "type": "integer"
        },
        {
         "name": "market_data.current_price.bnb",
         "rawType": "float64",
         "type": "float"
        },
        {
         "name": "market_data.current_price.brl",
         "rawType": "int64",
         "type": "integer"
        },
        {
         "name": "market_data.current_price.btc",
         "rawType": "float64",
         "type": "float"
        },
        {
         "name": "market_data.current_price.cad",
         "rawType": "int64",
         "type": "integer"
        },
        {
         "name": "market_data.current_price.chf",
         "rawType": "int64",
         "type": "integer"
        },
        {
         "name": "market_data.current_price.clp",
         "rawType": "int64",
         "type": "integer"
        },
        {
         "name": "market_data.current_price.cny",
         "rawType": "int64",
         "type": "integer"
        },
        {
         "name": "market_data.current_price.czk",
         "rawType": "int64",
         "type": "integer"
        },
        {
         "name": "market_data.current_price.dkk",
         "rawType": "int64",
         "type": "integer"
        },
        {
         "name": "market_data.current_price.dot",
         "rawType": "int64",
         "type": "integer"
        },
        {
         "name": "market_data.current_price.eos",
         "rawType": "int64",
         "type": "integer"
        },
        {
         "name": "market_data.current_price.eth",
         "rawType": "float64",
         "type": "float"
        },
        {
         "name": "market_data.current_price.eur",
         "rawType": "int64",
         "type": "integer"
        },
        {
         "name": "market_data.current_price.gbp",
         "rawType": "int64",
         "type": "integer"
        },
        {
         "name": "market_data.current_price.gel",
         "rawType": "int64",
         "type": "integer"
        },
        {
         "name": "market_data.current_price.hkd",
         "rawType": "int64",
         "type": "integer"
        },
        {
         "name": "market_data.current_price.huf",
         "rawType": "int64",
         "type": "integer"
        },
        {
         "name": "market_data.current_price.idr",
         "rawType": "int64",
         "type": "integer"
        },
        {
         "name": "market_data.current_price.ils",
         "rawType": "int64",
         "type": "integer"
        },
        {
         "name": "market_data.current_price.inr",
         "rawType": "int64",
         "type": "integer"
        },
        {
         "name": "market_data.current_price.jpy",
         "rawType": "int64",
         "type": "integer"
        },
        {
         "name": "market_data.current_price.krw",
         "rawType": "int64",
         "type": "integer"
        },
        {
         "name": "market_data.current_price.kwd",
         "rawType": "int64",
         "type": "integer"
        },
        {
         "name": "market_data.current_price.lkr",
         "rawType": "int64",
         "type": "integer"
        },
        {
         "name": "market_data.current_price.ltc",
         "rawType": "float64",
         "type": "float"
        },
        {
         "name": "market_data.current_price.mmk",
         "rawType": "int64",
         "type": "integer"
        },
        {
         "name": "market_data.current_price.mxn",
         "rawType": "int64",
         "type": "integer"
        },
        {
         "name": "market_data.current_price.myr",
         "rawType": "int64",
         "type": "integer"
        },
        {
         "name": "market_data.current_price.ngn",
         "rawType": "int64",
         "type": "integer"
        },
        {
         "name": "market_data.current_price.nok",
         "rawType": "int64",
         "type": "integer"
        },
        {
         "name": "market_data.current_price.nzd",
         "rawType": "int64",
         "type": "integer"
        },
        {
         "name": "market_data.current_price.php",
         "rawType": "int64",
         "type": "integer"
        },
        {
         "name": "market_data.current_price.pkr",
         "rawType": "int64",
         "type": "integer"
        },
        {
         "name": "market_data.current_price.pln",
         "rawType": "int64",
         "type": "integer"
        },
        {
         "name": "market_data.current_price.rub",
         "rawType": "int64",
         "type": "integer"
        },
        {
         "name": "market_data.current_price.sar",
         "rawType": "int64",
         "type": "integer"
        },
        {
         "name": "market_data.current_price.sek",
         "rawType": "int64",
         "type": "integer"
        },
        {
         "name": "market_data.current_price.sgd",
         "rawType": "int64",
         "type": "integer"
        },
        {
         "name": "market_data.current_price.sol",
         "rawType": "float64",
         "type": "float"
        },
        {
         "name": "market_data.current_price.thb",
         "rawType": "int64",
         "type": "integer"
        },
        {
         "name": "market_data.current_price.try",
         "rawType": "int64",
         "type": "integer"
        },
        {
         "name": "market_data.current_price.twd",
         "rawType": "int64",
         "type": "integer"
        },
        {
         "name": "market_data.current_price.uah",
         "rawType": "int64",
         "type": "integer"
        },
        {
         "name": "market_data.current_price.usd",
         "rawType": "int64",
         "type": "integer"
        },
        {
         "name": "market_data.current_price.vef",
         "rawType": "float64",
         "type": "float"
        },
        {
         "name": "market_data.current_price.vnd",
         "rawType": "int64",
         "type": "integer"
        },
        {
         "name": "market_data.current_price.xag",
         "rawType": "float64",
         "type": "float"
        },
        {
         "name": "market_data.current_price.xau",
         "rawType": "float64",
         "type": "float"
        },
        {
         "name": "market_data.current_price.xdr",
         "rawType": "int64",
         "type": "integer"
        },
        {
         "name": "market_data.current_price.xlm",
         "rawType": "int64",
         "type": "integer"
        },
        {
         "name": "market_data.current_price.xrp",
         "rawType": "int64",
         "type": "integer"
        },
        {
         "name": "market_data.current_price.yfi",
         "rawType": "float64",
         "type": "float"
        },
        {
         "name": "market_data.current_price.zar",
         "rawType": "int64",
         "type": "integer"
        },
        {
         "name": "market_data.current_price.bits",
         "rawType": "int64",
         "type": "integer"
        },
        {
         "name": "market_data.current_price.link",
         "rawType": "int64",
         "type": "integer"
        },
        {
         "name": "market_data.current_price.sats",
         "rawType": "int64",
         "type": "integer"
        },
        {
         "name": "market_data.total_value_locked",
         "rawType": "object",
         "type": "unknown"
        },
        {
         "name": "market_data.mcap_to_tvl_ratio",
         "rawType": "object",
         "type": "unknown"
        },
        {
         "name": "market_data.fdv_to_tvl_ratio",
         "rawType": "object",
         "type": "unknown"
        },
        {
         "name": "market_data.roi",
         "rawType": "object",
         "type": "unknown"
        },
        {
         "name": "market_data.ath.aed",
         "rawType": "int64",
         "type": "integer"
        },
        {
         "name": "market_data.ath.ars",
         "rawType": "int64",
         "type": "integer"
        },
        {
         "name": "market_data.ath.aud",
         "rawType": "int64",
         "type": "integer"
        },
        {
         "name": "market_data.ath.bch",
         "rawType": "float64",
         "type": "float"
        },
        {
         "name": "market_data.ath.bdt",
         "rawType": "int64",
         "type": "integer"
        },
        {
         "name": "market_data.ath.bhd",
         "rawType": "int64",
         "type": "integer"
        },
        {
         "name": "market_data.ath.bmd",
         "rawType": "int64",
         "type": "integer"
        },
        {
         "name": "market_data.ath.bnb",
         "rawType": "int64",
         "type": "integer"
        },
        {
         "name": "market_data.ath.brl",
         "rawType": "int64",
         "type": "integer"
        },
        {
         "name": "market_data.ath.btc",
         "rawType": "float64",
         "type": "float"
        },
        {
         "name": "market_data.ath.cad",
         "rawType": "int64",
         "type": "integer"
        },
        {
         "name": "market_data.ath.chf",
         "rawType": "int64",
         "type": "integer"
        },
        {
         "name": "market_data.ath.clp",
         "rawType": "int64",
         "type": "integer"
        },
        {
         "name": "market_data.ath.cny",
         "rawType": "int64",
         "type": "integer"
        },
        {
         "name": "market_data.ath.czk",
         "rawType": "int64",
         "type": "integer"
        },
        {
         "name": "market_data.ath.dkk",
         "rawType": "int64",
         "type": "integer"
        },
        {
         "name": "market_data.ath.dot",
         "rawType": "int64",
         "type": "integer"
        },
        {
         "name": "market_data.ath.eos",
         "rawType": "int64",
         "type": "integer"
        },
        {
         "name": "market_data.ath.eth",
         "rawType": "float64",
         "type": "float"
        },
        {
         "name": "market_data.ath.eur",
         "rawType": "int64",
         "type": "integer"
        },
        {
         "name": "market_data.ath.gbp",
         "rawType": "int64",
         "type": "integer"
        },
        {
         "name": "market_data.ath.gel",
         "rawType": "int64",
         "type": "integer"
        },
        {
         "name": "market_data.ath.hkd",
         "rawType": "int64",
         "type": "integer"
        },
        {
         "name": "market_data.ath.huf",
         "rawType": "int64",
         "type": "integer"
        },
        {
         "name": "market_data.ath.idr",
         "rawType": "int64",
         "type": "integer"
        },
        {
         "name": "market_data.ath.ils",
         "rawType": "int64",
         "type": "integer"
        },
        {
         "name": "market_data.ath.inr",
         "rawType": "int64",
         "type": "integer"
        },
        {
         "name": "market_data.ath.jpy",
         "rawType": "int64",
         "type": "integer"
        },
        {
         "name": "market_data.ath.krw",
         "rawType": "int64",
         "type": "integer"
        },
        {
         "name": "market_data.ath.kwd",
         "rawType": "int64",
         "type": "integer"
        },
        {
         "name": "market_data.ath.lkr",
         "rawType": "int64",
         "type": "integer"
        },
        {
         "name": "market_data.ath.ltc",
         "rawType": "int64",
         "type": "integer"
        },
        {
         "name": "market_data.ath.mmk",
         "rawType": "int64",
         "type": "integer"
        },
        {
         "name": "market_data.ath.mxn",
         "rawType": "int64",
         "type": "integer"
        },
        {
         "name": "market_data.ath.myr",
         "rawType": "int64",
         "type": "integer"
        },
        {
         "name": "market_data.ath.ngn",
         "rawType": "int64",
         "type": "integer"
        },
        {
         "name": "market_data.ath.nok",
         "rawType": "int64",
         "type": "integer"
        },
        {
         "name": "market_data.ath.nzd",
         "rawType": "int64",
         "type": "integer"
        },
        {
         "name": "market_data.ath.php",
         "rawType": "int64",
         "type": "integer"
        },
        {
         "name": "market_data.ath.pkr",
         "rawType": "int64",
         "type": "integer"
        },
        {
         "name": "market_data.ath.pln",
         "rawType": "int64",
         "type": "integer"
        },
        {
         "name": "market_data.ath.rub",
         "rawType": "int64",
         "type": "integer"
        },
        {
         "name": "market_data.ath.sar",
         "rawType": "int64",
         "type": "integer"
        },
        {
         "name": "market_data.ath.sek",
         "rawType": "int64",
         "type": "integer"
        },
        {
         "name": "market_data.ath.sgd",
         "rawType": "int64",
         "type": "integer"
        },
        {
         "name": "market_data.ath.sol",
         "rawType": "float64",
         "type": "float"
        },
        {
         "name": "market_data.ath.thb",
         "rawType": "int64",
         "type": "integer"
        },
        {
         "name": "market_data.ath.try",
         "rawType": "int64",
         "type": "integer"
        },
        {
         "name": "market_data.ath.twd",
         "rawType": "int64",
         "type": "integer"
        },
        {
         "name": "market_data.ath.uah",
         "rawType": "int64",
         "type": "integer"
        },
        {
         "name": "market_data.ath.usd",
         "rawType": "int64",
         "type": "integer"
        },
        {
         "name": "market_data.ath.vef",
         "rawType": "int64",
         "type": "integer"
        },
        {
         "name": "market_data.ath.vnd",
         "rawType": "int64",
         "type": "integer"
        },
        {
         "name": "market_data.ath.xag",
         "rawType": "float64",
         "type": "float"
        },
        {
         "name": "market_data.ath.xau",
         "rawType": "float64",
         "type": "float"
        },
        {
         "name": "market_data.ath.xdr",
         "rawType": "int64",
         "type": "integer"
        },
        {
         "name": "market_data.ath.xlm",
         "rawType": "int64",
         "type": "integer"
        },
        {
         "name": "market_data.ath.xrp",
         "rawType": "int64",
         "type": "integer"
        },
        {
         "name": "market_data.ath.yfi",
         "rawType": "float64",
         "type": "float"
        },
        {
         "name": "market_data.ath.zar",
         "rawType": "int64",
         "type": "integer"
        },
        {
         "name": "market_data.ath.bits",
         "rawType": "int64",
         "type": "integer"
        },
        {
         "name": "market_data.ath.link",
         "rawType": "int64",
         "type": "integer"
        },
        {
         "name": "market_data.ath.sats",
         "rawType": "int64",
         "type": "integer"
        },
        {
         "name": "market_data.ath_change_percentage.aed",
         "rawType": "float64",
         "type": "float"
        },
        {
         "name": "market_data.ath_change_percentage.ars",
         "rawType": "float64",
         "type": "float"
        },
        {
         "name": "market_data.ath_change_percentage.aud",
         "rawType": "float64",
         "type": "float"
        },
        {
         "name": "market_data.ath_change_percentage.bch",
         "rawType": "float64",
         "type": "float"
        },
        {
         "name": "market_data.ath_change_percentage.bdt",
         "rawType": "float64",
         "type": "float"
        },
        {
         "name": "market_data.ath_change_percentage.bhd",
         "rawType": "float64",
         "type": "float"
        },
        {
         "name": "market_data.ath_change_percentage.bmd",
         "rawType": "float64",
         "type": "float"
        },
        {
         "name": "market_data.ath_change_percentage.bnb",
         "rawType": "float64",
         "type": "float"
        },
        {
         "name": "market_data.ath_change_percentage.brl",
         "rawType": "float64",
         "type": "float"
        },
        {
         "name": "market_data.ath_change_percentage.btc",
         "rawType": "float64",
         "type": "float"
        },
        {
         "name": "market_data.ath_change_percentage.cad",
         "rawType": "float64",
         "type": "float"
        },
        {
         "name": "market_data.ath_change_percentage.chf",
         "rawType": "float64",
         "type": "float"
        },
        {
         "name": "market_data.ath_change_percentage.clp",
         "rawType": "float64",
         "type": "float"
        },
        {
         "name": "market_data.ath_change_percentage.cny",
         "rawType": "float64",
         "type": "float"
        },
        {
         "name": "market_data.ath_change_percentage.czk",
         "rawType": "float64",
         "type": "float"
        },
        {
         "name": "market_data.ath_change_percentage.dkk",
         "rawType": "float64",
         "type": "float"
        },
        {
         "name": "market_data.ath_change_percentage.dot",
         "rawType": "float64",
         "type": "float"
        },
        {
         "name": "market_data.ath_change_percentage.eos",
         "rawType": "float64",
         "type": "float"
        },
        {
         "name": "market_data.ath_change_percentage.eth",
         "rawType": "float64",
         "type": "float"
        },
        {
         "name": "market_data.ath_change_percentage.eur",
         "rawType": "float64",
         "type": "float"
        },
        {
         "name": "market_data.ath_change_percentage.gbp",
         "rawType": "float64",
         "type": "float"
        },
        {
         "name": "market_data.ath_change_percentage.gel",
         "rawType": "float64",
         "type": "float"
        },
        {
         "name": "market_data.ath_change_percentage.hkd",
         "rawType": "float64",
         "type": "float"
        },
        {
         "name": "market_data.ath_change_percentage.huf",
         "rawType": "float64",
         "type": "float"
        },
        {
         "name": "market_data.ath_change_percentage.idr",
         "rawType": "float64",
         "type": "float"
        },
        {
         "name": "market_data.ath_change_percentage.ils",
         "rawType": "float64",
         "type": "float"
        },
        {
         "name": "market_data.ath_change_percentage.inr",
         "rawType": "float64",
         "type": "float"
        },
        {
         "name": "market_data.ath_change_percentage.jpy",
         "rawType": "float64",
         "type": "float"
        },
        {
         "name": "market_data.ath_change_percentage.krw",
         "rawType": "float64",
         "type": "float"
        },
        {
         "name": "market_data.ath_change_percentage.kwd",
         "rawType": "float64",
         "type": "float"
        },
        {
         "name": "market_data.ath_change_percentage.lkr",
         "rawType": "float64",
         "type": "float"
        },
        {
         "name": "market_data.ath_change_percentage.ltc",
         "rawType": "float64",
         "type": "float"
        },
        {
         "name": "market_data.ath_change_percentage.mmk",
         "rawType": "float64",
         "type": "float"
        },
        {
         "name": "market_data.ath_change_percentage.mxn",
         "rawType": "float64",
         "type": "float"
        },
        {
         "name": "market_data.ath_change_percentage.myr",
         "rawType": "float64",
         "type": "float"
        },
        {
         "name": "market_data.ath_change_percentage.ngn",
         "rawType": "float64",
         "type": "float"
        },
        {
         "name": "market_data.ath_change_percentage.nok",
         "rawType": "float64",
         "type": "float"
        },
        {
         "name": "market_data.ath_change_percentage.nzd",
         "rawType": "float64",
         "type": "float"
        },
        {
         "name": "market_data.ath_change_percentage.php",
         "rawType": "float64",
         "type": "float"
        },
        {
         "name": "market_data.ath_change_percentage.pkr",
         "rawType": "float64",
         "type": "float"
        },
        {
         "name": "market_data.ath_change_percentage.pln",
         "rawType": "float64",
         "type": "float"
        },
        {
         "name": "market_data.ath_change_percentage.rub",
         "rawType": "float64",
         "type": "float"
        },
        {
         "name": "market_data.ath_change_percentage.sar",
         "rawType": "float64",
         "type": "float"
        },
        {
         "name": "market_data.ath_change_percentage.sek",
         "rawType": "float64",
         "type": "float"
        },
        {
         "name": "market_data.ath_change_percentage.sgd",
         "rawType": "float64",
         "type": "float"
        },
        {
         "name": "market_data.ath_change_percentage.sol",
         "rawType": "float64",
         "type": "float"
        },
        {
         "name": "market_data.ath_change_percentage.thb",
         "rawType": "float64",
         "type": "float"
        },
        {
         "name": "market_data.ath_change_percentage.try",
         "rawType": "float64",
         "type": "float"
        },
        {
         "name": "market_data.ath_change_percentage.twd",
         "rawType": "float64",
         "type": "float"
        },
        {
         "name": "market_data.ath_change_percentage.uah",
         "rawType": "float64",
         "type": "float"
        },
        {
         "name": "market_data.ath_change_percentage.usd",
         "rawType": "float64",
         "type": "float"
        },
        {
         "name": "market_data.ath_change_percentage.vef",
         "rawType": "float64",
         "type": "float"
        },
        {
         "name": "market_data.ath_change_percentage.vnd",
         "rawType": "float64",
         "type": "float"
        },
        {
         "name": "market_data.ath_change_percentage.xag",
         "rawType": "float64",
         "type": "float"
        },
        {
         "name": "market_data.ath_change_percentage.xau",
         "rawType": "float64",
         "type": "float"
        },
        {
         "name": "market_data.ath_change_percentage.xdr",
         "rawType": "float64",
         "type": "float"
        },
        {
         "name": "market_data.ath_change_percentage.xlm",
         "rawType": "float64",
         "type": "float"
        },
        {
         "name": "market_data.ath_change_percentage.xrp",
         "rawType": "float64",
         "type": "float"
        },
        {
         "name": "market_data.ath_change_percentage.yfi",
         "rawType": "float64",
         "type": "float"
        },
        {
         "name": "market_data.ath_change_percentage.zar",
         "rawType": "float64",
         "type": "float"
        },
        {
         "name": "market_data.ath_change_percentage.bits",
         "rawType": "float64",
         "type": "float"
        },
        {
         "name": "market_data.ath_change_percentage.link",
         "rawType": "float64",
         "type": "float"
        },
        {
         "name": "market_data.ath_change_percentage.sats",
         "rawType": "float64",
         "type": "float"
        },
        {
         "name": "market_data.ath_date.aed",
         "rawType": "object",
         "type": "string"
        },
        {
         "name": "market_data.ath_date.ars",
         "rawType": "object",
         "type": "string"
        },
        {
         "name": "market_data.ath_date.aud",
         "rawType": "object",
         "type": "string"
        },
        {
         "name": "market_data.ath_date.bch",
         "rawType": "object",
         "type": "string"
        },
        {
         "name": "market_data.ath_date.bdt",
         "rawType": "object",
         "type": "string"
        },
        {
         "name": "market_data.ath_date.bhd",
         "rawType": "object",
         "type": "string"
        },
        {
         "name": "market_data.ath_date.bmd",
         "rawType": "object",
         "type": "string"
        },
        {
         "name": "market_data.ath_date.bnb",
         "rawType": "object",
         "type": "string"
        },
        {
         "name": "market_data.ath_date.brl",
         "rawType": "object",
         "type": "string"
        },
        {
         "name": "market_data.ath_date.btc",
         "rawType": "object",
         "type": "string"
        },
        {
         "name": "market_data.ath_date.cad",
         "rawType": "object",
         "type": "string"
        },
        {
         "name": "market_data.ath_date.chf",
         "rawType": "object",
         "type": "string"
        },
        {
         "name": "market_data.ath_date.clp",
         "rawType": "object",
         "type": "string"
        },
        {
         "name": "market_data.ath_date.cny",
         "rawType": "object",
         "type": "string"
        },
        {
         "name": "market_data.ath_date.czk",
         "rawType": "object",
         "type": "string"
        },
        {
         "name": "market_data.ath_date.dkk",
         "rawType": "object",
         "type": "string"
        },
        {
         "name": "market_data.ath_date.dot",
         "rawType": "object",
         "type": "string"
        },
        {
         "name": "market_data.ath_date.eos",
         "rawType": "object",
         "type": "string"
        },
        {
         "name": "market_data.ath_date.eth",
         "rawType": "object",
         "type": "string"
        },
        {
         "name": "market_data.ath_date.eur",
         "rawType": "object",
         "type": "string"
        },
        {
         "name": "market_data.ath_date.gbp",
         "rawType": "object",
         "type": "string"
        },
        {
         "name": "market_data.ath_date.gel",
         "rawType": "object",
         "type": "string"
        },
        {
         "name": "market_data.ath_date.hkd",
         "rawType": "object",
         "type": "string"
        },
        {
         "name": "market_data.ath_date.huf",
         "rawType": "object",
         "type": "string"
        },
        {
         "name": "market_data.ath_date.idr",
         "rawType": "object",
         "type": "string"
        },
        {
         "name": "market_data.ath_date.ils",
         "rawType": "object",
         "type": "string"
        },
        {
         "name": "market_data.ath_date.inr",
         "rawType": "object",
         "type": "string"
        },
        {
         "name": "market_data.ath_date.jpy",
         "rawType": "object",
         "type": "string"
        },
        {
         "name": "market_data.ath_date.krw",
         "rawType": "object",
         "type": "string"
        },
        {
         "name": "market_data.ath_date.kwd",
         "rawType": "object",
         "type": "string"
        },
        {
         "name": "market_data.ath_date.lkr",
         "rawType": "object",
         "type": "string"
        },
        {
         "name": "market_data.ath_date.ltc",
         "rawType": "object",
         "type": "string"
        },
        {
         "name": "market_data.ath_date.mmk",
         "rawType": "object",
         "type": "string"
        },
        {
         "name": "market_data.ath_date.mxn",
         "rawType": "object",
         "type": "string"
        },
        {
         "name": "market_data.ath_date.myr",
         "rawType": "object",
         "type": "string"
        },
        {
         "name": "market_data.ath_date.ngn",
         "rawType": "object",
         "type": "string"
        },
        {
         "name": "market_data.ath_date.nok",
         "rawType": "object",
         "type": "string"
        },
        {
         "name": "market_data.ath_date.nzd",
         "rawType": "object",
         "type": "string"
        },
        {
         "name": "market_data.ath_date.php",
         "rawType": "object",
         "type": "string"
        },
        {
         "name": "market_data.ath_date.pkr",
         "rawType": "object",
         "type": "string"
        },
        {
         "name": "market_data.ath_date.pln",
         "rawType": "object",
         "type": "string"
        },
        {
         "name": "market_data.ath_date.rub",
         "rawType": "object",
         "type": "string"
        },
        {
         "name": "market_data.ath_date.sar",
         "rawType": "object",
         "type": "string"
        },
        {
         "name": "market_data.ath_date.sek",
         "rawType": "object",
         "type": "string"
        },
        {
         "name": "market_data.ath_date.sgd",
         "rawType": "object",
         "type": "string"
        },
        {
         "name": "market_data.ath_date.sol",
         "rawType": "object",
         "type": "string"
        },
        {
         "name": "market_data.ath_date.thb",
         "rawType": "object",
         "type": "string"
        },
        {
         "name": "market_data.ath_date.try",
         "rawType": "object",
         "type": "string"
        },
        {
         "name": "market_data.ath_date.twd",
         "rawType": "object",
         "type": "string"
        },
        {
         "name": "market_data.ath_date.uah",
         "rawType": "object",
         "type": "string"
        },
        {
         "name": "market_data.ath_date.usd",
         "rawType": "object",
         "type": "string"
        },
        {
         "name": "market_data.ath_date.vef",
         "rawType": "object",
         "type": "string"
        },
        {
         "name": "market_data.ath_date.vnd",
         "rawType": "object",
         "type": "string"
        },
        {
         "name": "market_data.ath_date.xag",
         "rawType": "object",
         "type": "string"
        },
        {
         "name": "market_data.ath_date.xau",
         "rawType": "object",
         "type": "string"
        },
        {
         "name": "market_data.ath_date.xdr",
         "rawType": "object",
         "type": "string"
        },
        {
         "name": "market_data.ath_date.xlm",
         "rawType": "object",
         "type": "string"
        },
        {
         "name": "market_data.ath_date.xrp",
         "rawType": "object",
         "type": "string"
        },
        {
         "name": "market_data.ath_date.yfi",
         "rawType": "object",
         "type": "string"
        },
        {
         "name": "market_data.ath_date.zar",
         "rawType": "object",
         "type": "string"
        },
        {
         "name": "market_data.ath_date.bits",
         "rawType": "object",
         "type": "string"
        },
        {
         "name": "market_data.ath_date.link",
         "rawType": "object",
         "type": "string"
        },
        {
         "name": "market_data.ath_date.sats",
         "rawType": "object",
         "type": "string"
        },
        {
         "name": "market_data.atl.aed",
         "rawType": "float64",
         "type": "float"
        },
        {
         "name": "market_data.atl.ars",
         "rawType": "float64",
         "type": "float"
        },
        {
         "name": "market_data.atl.aud",
         "rawType": "float64",
         "type": "float"
        },
        {
         "name": "market_data.atl.bch",
         "rawType": "float64",
         "type": "float"
        },
        {
         "name": "market_data.atl.bdt",
         "rawType": "float64",
         "type": "float"
        },
        {
         "name": "market_data.atl.bhd",
         "rawType": "float64",
         "type": "float"
        },
        {
         "name": "market_data.atl.bmd",
         "rawType": "float64",
         "type": "float"
        },
        {
         "name": "market_data.atl.bnb",
         "rawType": "float64",
         "type": "float"
        },
        {
         "name": "market_data.atl.brl",
         "rawType": "float64",
         "type": "float"
        },
        {
         "name": "market_data.atl.btc",
         "rawType": "float64",
         "type": "float"
        },
        {
         "name": "market_data.atl.cad",
         "rawType": "float64",
         "type": "float"
        },
        {
         "name": "market_data.atl.chf",
         "rawType": "float64",
         "type": "float"
        },
        {
         "name": "market_data.atl.clp",
         "rawType": "int64",
         "type": "integer"
        },
        {
         "name": "market_data.atl.cny",
         "rawType": "float64",
         "type": "float"
        },
        {
         "name": "market_data.atl.czk",
         "rawType": "float64",
         "type": "float"
        },
        {
         "name": "market_data.atl.dkk",
         "rawType": "float64",
         "type": "float"
        },
        {
         "name": "market_data.atl.dot",
         "rawType": "float64",
         "type": "float"
        },
        {
         "name": "market_data.atl.eos",
         "rawType": "float64",
         "type": "float"
        },
        {
         "name": "market_data.atl.eth",
         "rawType": "float64",
         "type": "float"
        },
        {
         "name": "market_data.atl.eur",
         "rawType": "float64",
         "type": "float"
        },
        {
         "name": "market_data.atl.gbp",
         "rawType": "float64",
         "type": "float"
        },
        {
         "name": "market_data.atl.gel",
         "rawType": "int64",
         "type": "integer"
        },
        {
         "name": "market_data.atl.hkd",
         "rawType": "float64",
         "type": "float"
        },
        {
         "name": "market_data.atl.huf",
         "rawType": "int64",
         "type": "integer"
        },
        {
         "name": "market_data.atl.idr",
         "rawType": "int64",
         "type": "integer"
        },
        {
         "name": "market_data.atl.ils",
         "rawType": "float64",
         "type": "float"
        },
        {
         "name": "market_data.atl.inr",
         "rawType": "float64",
         "type": "float"
        },
        {
         "name": "market_data.atl.jpy",
         "rawType": "float64",
         "type": "float"
        },
        {
         "name": "market_data.atl.krw",
         "rawType": "int64",
         "type": "integer"
        },
        {
         "name": "market_data.atl.kwd",
         "rawType": "float64",
         "type": "float"
        },
        {
         "name": "market_data.atl.lkr",
         "rawType": "int64",
         "type": "integer"
        },
        {
         "name": "market_data.atl.ltc",
         "rawType": "float64",
         "type": "float"
        },
        {
         "name": "market_data.atl.mmk",
         "rawType": "int64",
         "type": "integer"
        },
        {
         "name": "market_data.atl.mxn",
         "rawType": "float64",
         "type": "float"
        },
        {
         "name": "market_data.atl.myr",
         "rawType": "float64",
         "type": "float"
        },
        {
         "name": "market_data.atl.ngn",
         "rawType": "float64",
         "type": "float"
        },
        {
         "name": "market_data.atl.nok",
         "rawType": "float64",
         "type": "float"
        },
        {
         "name": "market_data.atl.nzd",
         "rawType": "float64",
         "type": "float"
        },
        {
         "name": "market_data.atl.php",
         "rawType": "float64",
         "type": "float"
        },
        {
         "name": "market_data.atl.pkr",
         "rawType": "float64",
         "type": "float"
        },
        {
         "name": "market_data.atl.pln",
         "rawType": "float64",
         "type": "float"
        },
        {
         "name": "market_data.atl.rub",
         "rawType": "float64",
         "type": "float"
        },
        {
         "name": "market_data.atl.sar",
         "rawType": "float64",
         "type": "float"
        },
        {
         "name": "market_data.atl.sek",
         "rawType": "float64",
         "type": "float"
        },
        {
         "name": "market_data.atl.sgd",
         "rawType": "float64",
         "type": "float"
        },
        {
         "name": "market_data.atl.sol",
         "rawType": "float64",
         "type": "float"
        },
        {
         "name": "market_data.atl.thb",
         "rawType": "float64",
         "type": "float"
        },
        {
         "name": "market_data.atl.try",
         "rawType": "float64",
         "type": "float"
        },
        {
         "name": "market_data.atl.twd",
         "rawType": "float64",
         "type": "float"
        },
        {
         "name": "market_data.atl.uah",
         "rawType": "float64",
         "type": "float"
        },
        {
         "name": "market_data.atl.usd",
         "rawType": "float64",
         "type": "float"
        },
        {
         "name": "market_data.atl.vef",
         "rawType": "float64",
         "type": "float"
        },
        {
         "name": "market_data.atl.vnd",
         "rawType": "int64",
         "type": "integer"
        },
        {
         "name": "market_data.atl.xag",
         "rawType": "float64",
         "type": "float"
        },
        {
         "name": "market_data.atl.xau",
         "rawType": "float64",
         "type": "float"
        },
        {
         "name": "market_data.atl.xdr",
         "rawType": "float64",
         "type": "float"
        },
        {
         "name": "market_data.atl.xlm",
         "rawType": "int64",
         "type": "integer"
        },
        {
         "name": "market_data.atl.xrp",
         "rawType": "int64",
         "type": "integer"
        },
        {
         "name": "market_data.atl.yfi",
         "rawType": "float64",
         "type": "float"
        },
        {
         "name": "market_data.atl.zar",
         "rawType": "float64",
         "type": "float"
        },
        {
         "name": "market_data.atl.bits",
         "rawType": "int64",
         "type": "integer"
        },
        {
         "name": "market_data.atl.link",
         "rawType": "float64",
         "type": "float"
        },
        {
         "name": "market_data.atl.sats",
         "rawType": "int64",
         "type": "integer"
        },
        {
         "name": "market_data.atl_change_percentage.aed",
         "rawType": "float64",
         "type": "float"
        },
        {
         "name": "market_data.atl_change_percentage.ars",
         "rawType": "float64",
         "type": "float"
        },
        {
         "name": "market_data.atl_change_percentage.aud",
         "rawType": "float64",
         "type": "float"
        },
        {
         "name": "market_data.atl_change_percentage.bch",
         "rawType": "float64",
         "type": "float"
        },
        {
         "name": "market_data.atl_change_percentage.bdt",
         "rawType": "float64",
         "type": "float"
        },
        {
         "name": "market_data.atl_change_percentage.bhd",
         "rawType": "float64",
         "type": "float"
        },
        {
         "name": "market_data.atl_change_percentage.bmd",
         "rawType": "float64",
         "type": "float"
        },
        {
         "name": "market_data.atl_change_percentage.bnb",
         "rawType": "float64",
         "type": "float"
        },
        {
         "name": "market_data.atl_change_percentage.brl",
         "rawType": "float64",
         "type": "float"
        },
        {
         "name": "market_data.atl_change_percentage.btc",
         "rawType": "float64",
         "type": "float"
        },
        {
         "name": "market_data.atl_change_percentage.cad",
         "rawType": "float64",
         "type": "float"
        },
        {
         "name": "market_data.atl_change_percentage.chf",
         "rawType": "float64",
         "type": "float"
        },
        {
         "name": "market_data.atl_change_percentage.clp",
         "rawType": "float64",
         "type": "float"
        },
        {
         "name": "market_data.atl_change_percentage.cny",
         "rawType": "float64",
         "type": "float"
        },
        {
         "name": "market_data.atl_change_percentage.czk",
         "rawType": "float64",
         "type": "float"
        },
        {
         "name": "market_data.atl_change_percentage.dkk",
         "rawType": "float64",
         "type": "float"
        },
        {
         "name": "market_data.atl_change_percentage.dot",
         "rawType": "float64",
         "type": "float"
        },
        {
         "name": "market_data.atl_change_percentage.eos",
         "rawType": "float64",
         "type": "float"
        },
        {
         "name": "market_data.atl_change_percentage.eth",
         "rawType": "float64",
         "type": "float"
        },
        {
         "name": "market_data.atl_change_percentage.eur",
         "rawType": "float64",
         "type": "float"
        },
        {
         "name": "market_data.atl_change_percentage.gbp",
         "rawType": "float64",
         "type": "float"
        },
        {
         "name": "market_data.atl_change_percentage.gel",
         "rawType": "float64",
         "type": "float"
        },
        {
         "name": "market_data.atl_change_percentage.hkd",
         "rawType": "float64",
         "type": "float"
        },
        {
         "name": "market_data.atl_change_percentage.huf",
         "rawType": "float64",
         "type": "float"
        },
        {
         "name": "market_data.atl_change_percentage.idr",
         "rawType": "float64",
         "type": "float"
        },
        {
         "name": "market_data.atl_change_percentage.ils",
         "rawType": "float64",
         "type": "float"
        },
        {
         "name": "market_data.atl_change_percentage.inr",
         "rawType": "float64",
         "type": "float"
        },
        {
         "name": "market_data.atl_change_percentage.jpy",
         "rawType": "float64",
         "type": "float"
        },
        {
         "name": "market_data.atl_change_percentage.krw",
         "rawType": "float64",
         "type": "float"
        },
        {
         "name": "market_data.atl_change_percentage.kwd",
         "rawType": "float64",
         "type": "float"
        },
        {
         "name": "market_data.atl_change_percentage.lkr",
         "rawType": "float64",
         "type": "float"
        },
        {
         "name": "market_data.atl_change_percentage.ltc",
         "rawType": "float64",
         "type": "float"
        },
        {
         "name": "market_data.atl_change_percentage.mmk",
         "rawType": "float64",
         "type": "float"
        },
        {
         "name": "market_data.atl_change_percentage.mxn",
         "rawType": "float64",
         "type": "float"
        },
        {
         "name": "market_data.atl_change_percentage.myr",
         "rawType": "float64",
         "type": "float"
        },
        {
         "name": "market_data.atl_change_percentage.ngn",
         "rawType": "float64",
         "type": "float"
        },
        {
         "name": "market_data.atl_change_percentage.nok",
         "rawType": "float64",
         "type": "float"
        },
        {
         "name": "market_data.atl_change_percentage.nzd",
         "rawType": "float64",
         "type": "float"
        },
        {
         "name": "market_data.atl_change_percentage.php",
         "rawType": "float64",
         "type": "float"
        },
        {
         "name": "market_data.atl_change_percentage.pkr",
         "rawType": "float64",
         "type": "float"
        },
        {
         "name": "market_data.atl_change_percentage.pln",
         "rawType": "float64",
         "type": "float"
        },
        {
         "name": "market_data.atl_change_percentage.rub",
         "rawType": "float64",
         "type": "float"
        },
        {
         "name": "market_data.atl_change_percentage.sar",
         "rawType": "float64",
         "type": "float"
        },
        {
         "name": "market_data.atl_change_percentage.sek",
         "rawType": "float64",
         "type": "float"
        },
        {
         "name": "market_data.atl_change_percentage.sgd",
         "rawType": "float64",
         "type": "float"
        },
        {
         "name": "market_data.atl_change_percentage.sol",
         "rawType": "float64",
         "type": "float"
        },
        {
         "name": "market_data.atl_change_percentage.thb",
         "rawType": "float64",
         "type": "float"
        },
        {
         "name": "market_data.atl_change_percentage.try",
         "rawType": "float64",
         "type": "float"
        },
        {
         "name": "market_data.atl_change_percentage.twd",
         "rawType": "float64",
         "type": "float"
        },
        {
         "name": "market_data.atl_change_percentage.uah",
         "rawType": "float64",
         "type": "float"
        },
        {
         "name": "market_data.atl_change_percentage.usd",
         "rawType": "float64",
         "type": "float"
        },
        {
         "name": "market_data.atl_change_percentage.vef",
         "rawType": "float64",
         "type": "float"
        },
        {
         "name": "market_data.atl_change_percentage.vnd",
         "rawType": "float64",
         "type": "float"
        },
        {
         "name": "market_data.atl_change_percentage.xag",
         "rawType": "float64",
         "type": "float"
        },
        {
         "name": "market_data.atl_change_percentage.xau",
         "rawType": "float64",
         "type": "float"
        },
        {
         "name": "market_data.atl_change_percentage.xdr",
         "rawType": "float64",
         "type": "float"
        },
        {
         "name": "market_data.atl_change_percentage.xlm",
         "rawType": "float64",
         "type": "float"
        },
        {
         "name": "market_data.atl_change_percentage.xrp",
         "rawType": "float64",
         "type": "float"
        },
        {
         "name": "market_data.atl_change_percentage.yfi",
         "rawType": "float64",
         "type": "float"
        },
        {
         "name": "market_data.atl_change_percentage.zar",
         "rawType": "float64",
         "type": "float"
        },
        {
         "name": "market_data.atl_change_percentage.bits",
         "rawType": "float64",
         "type": "float"
        },
        {
         "name": "market_data.atl_change_percentage.link",
         "rawType": "float64",
         "type": "float"
        },
        {
         "name": "market_data.atl_change_percentage.sats",
         "rawType": "float64",
         "type": "float"
        },
        {
         "name": "market_data.atl_date.aed",
         "rawType": "object",
         "type": "string"
        },
        {
         "name": "market_data.atl_date.ars",
         "rawType": "object",
         "type": "string"
        },
        {
         "name": "market_data.atl_date.aud",
         "rawType": "object",
         "type": "string"
        },
        {
         "name": "market_data.atl_date.bch",
         "rawType": "object",
         "type": "string"
        },
        {
         "name": "market_data.atl_date.bdt",
         "rawType": "object",
         "type": "string"
        },
        {
         "name": "market_data.atl_date.bhd",
         "rawType": "object",
         "type": "string"
        },
        {
         "name": "market_data.atl_date.bmd",
         "rawType": "object",
         "type": "string"
        },
        {
         "name": "market_data.atl_date.bnb",
         "rawType": "object",
         "type": "string"
        },
        {
         "name": "market_data.atl_date.brl",
         "rawType": "object",
         "type": "string"
        },
        {
         "name": "market_data.atl_date.btc",
         "rawType": "object",
         "type": "string"
        },
        {
         "name": "market_data.atl_date.cad",
         "rawType": "object",
         "type": "string"
        },
        {
         "name": "market_data.atl_date.chf",
         "rawType": "object",
         "type": "string"
        },
        {
         "name": "market_data.atl_date.clp",
         "rawType": "object",
         "type": "string"
        },
        {
         "name": "market_data.atl_date.cny",
         "rawType": "object",
         "type": "string"
        },
        {
         "name": "market_data.atl_date.czk",
         "rawType": "object",
         "type": "string"
        },
        {
         "name": "market_data.atl_date.dkk",
         "rawType": "object",
         "type": "string"
        },
        {
         "name": "market_data.atl_date.dot",
         "rawType": "object",
         "type": "string"
        },
        {
         "name": "market_data.atl_date.eos",
         "rawType": "object",
         "type": "string"
        },
        {
         "name": "market_data.atl_date.eth",
         "rawType": "object",
         "type": "string"
        },
        {
         "name": "market_data.atl_date.eur",
         "rawType": "object",
         "type": "string"
        },
        {
         "name": "market_data.atl_date.gbp",
         "rawType": "object",
         "type": "string"
        },
        {
         "name": "market_data.atl_date.gel",
         "rawType": "object",
         "type": "string"
        },
        {
         "name": "market_data.atl_date.hkd",
         "rawType": "object",
         "type": "string"
        },
        {
         "name": "market_data.atl_date.huf",
         "rawType": "object",
         "type": "string"
        },
        {
         "name": "market_data.atl_date.idr",
         "rawType": "object",
         "type": "string"
        },
        {
         "name": "market_data.atl_date.ils",
         "rawType": "object",
         "type": "string"
        },
        {
         "name": "market_data.atl_date.inr",
         "rawType": "object",
         "type": "string"
        },
        {
         "name": "market_data.atl_date.jpy",
         "rawType": "object",
         "type": "string"
        },
        {
         "name": "market_data.atl_date.krw",
         "rawType": "object",
         "type": "string"
        },
        {
         "name": "market_data.atl_date.kwd",
         "rawType": "object",
         "type": "string"
        },
        {
         "name": "market_data.atl_date.lkr",
         "rawType": "object",
         "type": "string"
        },
        {
         "name": "market_data.atl_date.ltc",
         "rawType": "object",
         "type": "string"
        },
        {
         "name": "market_data.atl_date.mmk",
         "rawType": "object",
         "type": "string"
        },
        {
         "name": "market_data.atl_date.mxn",
         "rawType": "object",
         "type": "string"
        },
        {
         "name": "market_data.atl_date.myr",
         "rawType": "object",
         "type": "string"
        },
        {
         "name": "market_data.atl_date.ngn",
         "rawType": "object",
         "type": "string"
        },
        {
         "name": "market_data.atl_date.nok",
         "rawType": "object",
         "type": "string"
        },
        {
         "name": "market_data.atl_date.nzd",
         "rawType": "object",
         "type": "string"
        },
        {
         "name": "market_data.atl_date.php",
         "rawType": "object",
         "type": "string"
        },
        {
         "name": "market_data.atl_date.pkr",
         "rawType": "object",
         "type": "string"
        },
        {
         "name": "market_data.atl_date.pln",
         "rawType": "object",
         "type": "string"
        },
        {
         "name": "market_data.atl_date.rub",
         "rawType": "object",
         "type": "string"
        },
        {
         "name": "market_data.atl_date.sar",
         "rawType": "object",
         "type": "string"
        },
        {
         "name": "market_data.atl_date.sek",
         "rawType": "object",
         "type": "string"
        },
        {
         "name": "market_data.atl_date.sgd",
         "rawType": "object",
         "type": "string"
        },
        {
         "name": "market_data.atl_date.sol",
         "rawType": "object",
         "type": "string"
        },
        {
         "name": "market_data.atl_date.thb",
         "rawType": "object",
         "type": "string"
        },
        {
         "name": "market_data.atl_date.try",
         "rawType": "object",
         "type": "string"
        },
        {
         "name": "market_data.atl_date.twd",
         "rawType": "object",
         "type": "string"
        },
        {
         "name": "market_data.atl_date.uah",
         "rawType": "object",
         "type": "string"
        },
        {
         "name": "market_data.atl_date.usd",
         "rawType": "object",
         "type": "string"
        },
        {
         "name": "market_data.atl_date.vef",
         "rawType": "object",
         "type": "string"
        },
        {
         "name": "market_data.atl_date.vnd",
         "rawType": "object",
         "type": "string"
        },
        {
         "name": "market_data.atl_date.xag",
         "rawType": "object",
         "type": "string"
        },
        {
         "name": "market_data.atl_date.xau",
         "rawType": "object",
         "type": "string"
        },
        {
         "name": "market_data.atl_date.xdr",
         "rawType": "object",
         "type": "string"
        },
        {
         "name": "market_data.atl_date.xlm",
         "rawType": "object",
         "type": "string"
        },
        {
         "name": "market_data.atl_date.xrp",
         "rawType": "object",
         "type": "string"
        },
        {
         "name": "market_data.atl_date.yfi",
         "rawType": "object",
         "type": "string"
        },
        {
         "name": "market_data.atl_date.zar",
         "rawType": "object",
         "type": "string"
        },
        {
         "name": "market_data.atl_date.bits",
         "rawType": "object",
         "type": "string"
        },
        {
         "name": "market_data.atl_date.link",
         "rawType": "object",
         "type": "string"
        },
        {
         "name": "market_data.atl_date.sats",
         "rawType": "object",
         "type": "string"
        },
        {
         "name": "market_data.market_cap.aed",
         "rawType": "int64",
         "type": "integer"
        },
        {
         "name": "market_data.market_cap.ars",
         "rawType": "int64",
         "type": "integer"
        },
        {
         "name": "market_data.market_cap.aud",
         "rawType": "int64",
         "type": "integer"
        },
        {
         "name": "market_data.market_cap.bch",
         "rawType": "int64",
         "type": "integer"
        },
        {
         "name": "market_data.market_cap.bdt",
         "rawType": "int64",
         "type": "integer"
        },
        {
         "name": "market_data.market_cap.bhd",
         "rawType": "int64",
         "type": "integer"
        },
        {
         "name": "market_data.market_cap.bmd",
         "rawType": "int64",
         "type": "integer"
        },
        {
         "name": "market_data.market_cap.bnb",
         "rawType": "int64",
         "type": "integer"
        },
        {
         "name": "market_data.market_cap.brl",
         "rawType": "int64",
         "type": "integer"
        },
        {
         "name": "market_data.market_cap.btc",
         "rawType": "int64",
         "type": "integer"
        },
        {
         "name": "market_data.market_cap.cad",
         "rawType": "int64",
         "type": "integer"
        },
        {
         "name": "market_data.market_cap.chf",
         "rawType": "int64",
         "type": "integer"
        },
        {
         "name": "market_data.market_cap.clp",
         "rawType": "int64",
         "type": "integer"
        },
        {
         "name": "market_data.market_cap.cny",
         "rawType": "int64",
         "type": "integer"
        },
        {
         "name": "market_data.market_cap.czk",
         "rawType": "int64",
         "type": "integer"
        },
        {
         "name": "market_data.market_cap.dkk",
         "rawType": "int64",
         "type": "integer"
        },
        {
         "name": "market_data.market_cap.dot",
         "rawType": "int64",
         "type": "integer"
        },
        {
         "name": "market_data.market_cap.eos",
         "rawType": "int64",
         "type": "integer"
        },
        {
         "name": "market_data.market_cap.eth",
         "rawType": "int64",
         "type": "integer"
        },
        {
         "name": "market_data.market_cap.eur",
         "rawType": "int64",
         "type": "integer"
        },
        {
         "name": "market_data.market_cap.gbp",
         "rawType": "int64",
         "type": "integer"
        },
        {
         "name": "market_data.market_cap.gel",
         "rawType": "int64",
         "type": "integer"
        },
        {
         "name": "market_data.market_cap.hkd",
         "rawType": "int64",
         "type": "integer"
        },
        {
         "name": "market_data.market_cap.huf",
         "rawType": "int64",
         "type": "integer"
        },
        {
         "name": "market_data.market_cap.idr",
         "rawType": "int64",
         "type": "integer"
        },
        {
         "name": "market_data.market_cap.ils",
         "rawType": "int64",
         "type": "integer"
        },
        {
         "name": "market_data.market_cap.inr",
         "rawType": "int64",
         "type": "integer"
        },
        {
         "name": "market_data.market_cap.jpy",
         "rawType": "int64",
         "type": "integer"
        },
        {
         "name": "market_data.market_cap.krw",
         "rawType": "int64",
         "type": "integer"
        },
        {
         "name": "market_data.market_cap.kwd",
         "rawType": "int64",
         "type": "integer"
        },
        {
         "name": "market_data.market_cap.lkr",
         "rawType": "int64",
         "type": "integer"
        },
        {
         "name": "market_data.market_cap.ltc",
         "rawType": "int64",
         "type": "integer"
        },
        {
         "name": "market_data.market_cap.mmk",
         "rawType": "int64",
         "type": "integer"
        },
        {
         "name": "market_data.market_cap.mxn",
         "rawType": "int64",
         "type": "integer"
        },
        {
         "name": "market_data.market_cap.myr",
         "rawType": "int64",
         "type": "integer"
        },
        {
         "name": "market_data.market_cap.ngn",
         "rawType": "int64",
         "type": "integer"
        },
        {
         "name": "market_data.market_cap.nok",
         "rawType": "int64",
         "type": "integer"
        },
        {
         "name": "market_data.market_cap.nzd",
         "rawType": "int64",
         "type": "integer"
        },
        {
         "name": "market_data.market_cap.php",
         "rawType": "int64",
         "type": "integer"
        },
        {
         "name": "market_data.market_cap.pkr",
         "rawType": "int64",
         "type": "integer"
        },
        {
         "name": "market_data.market_cap.pln",
         "rawType": "int64",
         "type": "integer"
        },
        {
         "name": "market_data.market_cap.rub",
         "rawType": "int64",
         "type": "integer"
        },
        {
         "name": "market_data.market_cap.sar",
         "rawType": "int64",
         "type": "integer"
        },
        {
         "name": "market_data.market_cap.sek",
         "rawType": "int64",
         "type": "integer"
        },
        {
         "name": "market_data.market_cap.sgd",
         "rawType": "int64",
         "type": "integer"
        },
        {
         "name": "market_data.market_cap.sol",
         "rawType": "int64",
         "type": "integer"
        },
        {
         "name": "market_data.market_cap.thb",
         "rawType": "int64",
         "type": "integer"
        },
        {
         "name": "market_data.market_cap.try",
         "rawType": "int64",
         "type": "integer"
        },
        {
         "name": "market_data.market_cap.twd",
         "rawType": "int64",
         "type": "integer"
        },
        {
         "name": "market_data.market_cap.uah",
         "rawType": "int64",
         "type": "integer"
        },
        {
         "name": "market_data.market_cap.usd",
         "rawType": "int64",
         "type": "integer"
        },
        {
         "name": "market_data.market_cap.vef",
         "rawType": "int64",
         "type": "integer"
        },
        {
         "name": "market_data.market_cap.vnd",
         "rawType": "int64",
         "type": "integer"
        },
        {
         "name": "market_data.market_cap.xag",
         "rawType": "int64",
         "type": "integer"
        },
        {
         "name": "market_data.market_cap.xau",
         "rawType": "int64",
         "type": "integer"
        },
        {
         "name": "market_data.market_cap.xdr",
         "rawType": "int64",
         "type": "integer"
        },
        {
         "name": "market_data.market_cap.xlm",
         "rawType": "int64",
         "type": "integer"
        },
        {
         "name": "market_data.market_cap.xrp",
         "rawType": "int64",
         "type": "integer"
        },
        {
         "name": "market_data.market_cap.yfi",
         "rawType": "int64",
         "type": "integer"
        },
        {
         "name": "market_data.market_cap.zar",
         "rawType": "int64",
         "type": "integer"
        },
        {
         "name": "market_data.market_cap.bits",
         "rawType": "int64",
         "type": "integer"
        },
        {
         "name": "market_data.market_cap.link",
         "rawType": "int64",
         "type": "integer"
        },
        {
         "name": "market_data.market_cap.sats",
         "rawType": "int64",
         "type": "integer"
        },
        {
         "name": "market_data.market_cap_rank",
         "rawType": "int64",
         "type": "integer"
        },
        {
         "name": "market_data.fully_diluted_valuation.aed",
         "rawType": "int64",
         "type": "integer"
        },
        {
         "name": "market_data.fully_diluted_valuation.ars",
         "rawType": "int64",
         "type": "integer"
        },
        {
         "name": "market_data.fully_diluted_valuation.aud",
         "rawType": "int64",
         "type": "integer"
        },
        {
         "name": "market_data.fully_diluted_valuation.bch",
         "rawType": "int64",
         "type": "integer"
        },
        {
         "name": "market_data.fully_diluted_valuation.bdt",
         "rawType": "int64",
         "type": "integer"
        },
        {
         "name": "market_data.fully_diluted_valuation.bhd",
         "rawType": "int64",
         "type": "integer"
        },
        {
         "name": "market_data.fully_diluted_valuation.bmd",
         "rawType": "int64",
         "type": "integer"
        },
        {
         "name": "market_data.fully_diluted_valuation.bnb",
         "rawType": "int64",
         "type": "integer"
        },
        {
         "name": "market_data.fully_diluted_valuation.brl",
         "rawType": "int64",
         "type": "integer"
        },
        {
         "name": "market_data.fully_diluted_valuation.btc",
         "rawType": "int64",
         "type": "integer"
        },
        {
         "name": "market_data.fully_diluted_valuation.cad",
         "rawType": "int64",
         "type": "integer"
        },
        {
         "name": "market_data.fully_diluted_valuation.chf",
         "rawType": "int64",
         "type": "integer"
        },
        {
         "name": "market_data.fully_diluted_valuation.clp",
         "rawType": "int64",
         "type": "integer"
        },
        {
         "name": "market_data.fully_diluted_valuation.cny",
         "rawType": "int64",
         "type": "integer"
        },
        {
         "name": "market_data.fully_diluted_valuation.czk",
         "rawType": "int64",
         "type": "integer"
        },
        {
         "name": "market_data.fully_diluted_valuation.dkk",
         "rawType": "int64",
         "type": "integer"
        },
        {
         "name": "market_data.fully_diluted_valuation.dot",
         "rawType": "int64",
         "type": "integer"
        },
        {
         "name": "market_data.fully_diluted_valuation.eos",
         "rawType": "int64",
         "type": "integer"
        },
        {
         "name": "market_data.fully_diluted_valuation.eth",
         "rawType": "int64",
         "type": "integer"
        },
        {
         "name": "market_data.fully_diluted_valuation.eur",
         "rawType": "int64",
         "type": "integer"
        },
        {
         "name": "market_data.fully_diluted_valuation.gbp",
         "rawType": "int64",
         "type": "integer"
        },
        {
         "name": "market_data.fully_diluted_valuation.gel",
         "rawType": "int64",
         "type": "integer"
        },
        {
         "name": "market_data.fully_diluted_valuation.hkd",
         "rawType": "int64",
         "type": "integer"
        },
        {
         "name": "market_data.fully_diluted_valuation.huf",
         "rawType": "int64",
         "type": "integer"
        },
        {
         "name": "market_data.fully_diluted_valuation.idr",
         "rawType": "int64",
         "type": "integer"
        },
        {
         "name": "market_data.fully_diluted_valuation.ils",
         "rawType": "int64",
         "type": "integer"
        },
        {
         "name": "market_data.fully_diluted_valuation.inr",
         "rawType": "int64",
         "type": "integer"
        },
        {
         "name": "market_data.fully_diluted_valuation.jpy",
         "rawType": "int64",
         "type": "integer"
        },
        {
         "name": "market_data.fully_diluted_valuation.krw",
         "rawType": "int64",
         "type": "integer"
        },
        {
         "name": "market_data.fully_diluted_valuation.kwd",
         "rawType": "int64",
         "type": "integer"
        },
        {
         "name": "market_data.fully_diluted_valuation.lkr",
         "rawType": "int64",
         "type": "integer"
        },
        {
         "name": "market_data.fully_diluted_valuation.ltc",
         "rawType": "int64",
         "type": "integer"
        },
        {
         "name": "market_data.fully_diluted_valuation.mmk",
         "rawType": "int64",
         "type": "integer"
        },
        {
         "name": "market_data.fully_diluted_valuation.mxn",
         "rawType": "int64",
         "type": "integer"
        },
        {
         "name": "market_data.fully_diluted_valuation.myr",
         "rawType": "int64",
         "type": "integer"
        },
        {
         "name": "market_data.fully_diluted_valuation.ngn",
         "rawType": "int64",
         "type": "integer"
        },
        {
         "name": "market_data.fully_diluted_valuation.nok",
         "rawType": "int64",
         "type": "integer"
        },
        {
         "name": "market_data.fully_diluted_valuation.nzd",
         "rawType": "int64",
         "type": "integer"
        },
        {
         "name": "market_data.fully_diluted_valuation.php",
         "rawType": "int64",
         "type": "integer"
        },
        {
         "name": "market_data.fully_diluted_valuation.pkr",
         "rawType": "int64",
         "type": "integer"
        },
        {
         "name": "market_data.fully_diluted_valuation.pln",
         "rawType": "int64",
         "type": "integer"
        },
        {
         "name": "market_data.fully_diluted_valuation.rub",
         "rawType": "int64",
         "type": "integer"
        },
        {
         "name": "market_data.fully_diluted_valuation.sar",
         "rawType": "int64",
         "type": "integer"
        },
        {
         "name": "market_data.fully_diluted_valuation.sek",
         "rawType": "int64",
         "type": "integer"
        },
        {
         "name": "market_data.fully_diluted_valuation.sgd",
         "rawType": "int64",
         "type": "integer"
        },
        {
         "name": "market_data.fully_diluted_valuation.sol",
         "rawType": "int64",
         "type": "integer"
        },
        {
         "name": "market_data.fully_diluted_valuation.thb",
         "rawType": "int64",
         "type": "integer"
        },
        {
         "name": "market_data.fully_diluted_valuation.try",
         "rawType": "int64",
         "type": "integer"
        },
        {
         "name": "market_data.fully_diluted_valuation.twd",
         "rawType": "int64",
         "type": "integer"
        },
        {
         "name": "market_data.fully_diluted_valuation.uah",
         "rawType": "int64",
         "type": "integer"
        },
        {
         "name": "market_data.fully_diluted_valuation.usd",
         "rawType": "int64",
         "type": "integer"
        },
        {
         "name": "market_data.fully_diluted_valuation.vef",
         "rawType": "int64",
         "type": "integer"
        },
        {
         "name": "market_data.fully_diluted_valuation.vnd",
         "rawType": "int64",
         "type": "integer"
        },
        {
         "name": "market_data.fully_diluted_valuation.xag",
         "rawType": "int64",
         "type": "integer"
        },
        {
         "name": "market_data.fully_diluted_valuation.xau",
         "rawType": "int64",
         "type": "integer"
        },
        {
         "name": "market_data.fully_diluted_valuation.xdr",
         "rawType": "int64",
         "type": "integer"
        },
        {
         "name": "market_data.fully_diluted_valuation.xlm",
         "rawType": "int64",
         "type": "integer"
        },
        {
         "name": "market_data.fully_diluted_valuation.xrp",
         "rawType": "int64",
         "type": "integer"
        },
        {
         "name": "market_data.fully_diluted_valuation.yfi",
         "rawType": "int64",
         "type": "integer"
        },
        {
         "name": "market_data.fully_diluted_valuation.zar",
         "rawType": "int64",
         "type": "integer"
        },
        {
         "name": "market_data.fully_diluted_valuation.bits",
         "rawType": "int64",
         "type": "integer"
        },
        {
         "name": "market_data.fully_diluted_valuation.link",
         "rawType": "int64",
         "type": "integer"
        },
        {
         "name": "market_data.fully_diluted_valuation.sats",
         "rawType": "int64",
         "type": "integer"
        },
        {
         "name": "market_data.market_cap_fdv_ratio",
         "rawType": "float64",
         "type": "float"
        },
        {
         "name": "market_data.total_volume.aed",
         "rawType": "int64",
         "type": "integer"
        },
        {
         "name": "market_data.total_volume.ars",
         "rawType": "int64",
         "type": "integer"
        },
        {
         "name": "market_data.total_volume.aud",
         "rawType": "int64",
         "type": "integer"
        },
        {
         "name": "market_data.total_volume.bch",
         "rawType": "int64",
         "type": "integer"
        },
        {
         "name": "market_data.total_volume.bdt",
         "rawType": "int64",
         "type": "integer"
        },
        {
         "name": "market_data.total_volume.bhd",
         "rawType": "int64",
         "type": "integer"
        },
        {
         "name": "market_data.total_volume.bmd",
         "rawType": "int64",
         "type": "integer"
        },
        {
         "name": "market_data.total_volume.bnb",
         "rawType": "int64",
         "type": "integer"
        },
        {
         "name": "market_data.total_volume.brl",
         "rawType": "int64",
         "type": "integer"
        },
        {
         "name": "market_data.total_volume.btc",
         "rawType": "int64",
         "type": "integer"
        },
        {
         "name": "market_data.total_volume.cad",
         "rawType": "int64",
         "type": "integer"
        },
        {
         "name": "market_data.total_volume.chf",
         "rawType": "int64",
         "type": "integer"
        },
        {
         "name": "market_data.total_volume.clp",
         "rawType": "int64",
         "type": "integer"
        },
        {
         "name": "market_data.total_volume.cny",
         "rawType": "int64",
         "type": "integer"
        },
        {
         "name": "market_data.total_volume.czk",
         "rawType": "int64",
         "type": "integer"
        },
        {
         "name": "market_data.total_volume.dkk",
         "rawType": "int64",
         "type": "integer"
        },
        {
         "name": "market_data.total_volume.dot",
         "rawType": "int64",
         "type": "integer"
        },
        {
         "name": "market_data.total_volume.eos",
         "rawType": "int64",
         "type": "integer"
        },
        {
         "name": "market_data.total_volume.eth",
         "rawType": "int64",
         "type": "integer"
        },
        {
         "name": "market_data.total_volume.eur",
         "rawType": "int64",
         "type": "integer"
        },
        {
         "name": "market_data.total_volume.gbp",
         "rawType": "int64",
         "type": "integer"
        },
        {
         "name": "market_data.total_volume.gel",
         "rawType": "int64",
         "type": "integer"
        },
        {
         "name": "market_data.total_volume.hkd",
         "rawType": "int64",
         "type": "integer"
        },
        {
         "name": "market_data.total_volume.huf",
         "rawType": "int64",
         "type": "integer"
        },
        {
         "name": "market_data.total_volume.idr",
         "rawType": "int64",
         "type": "integer"
        },
        {
         "name": "market_data.total_volume.ils",
         "rawType": "int64",
         "type": "integer"
        },
        {
         "name": "market_data.total_volume.inr",
         "rawType": "int64",
         "type": "integer"
        },
        {
         "name": "market_data.total_volume.jpy",
         "rawType": "int64",
         "type": "integer"
        },
        {
         "name": "market_data.total_volume.krw",
         "rawType": "int64",
         "type": "integer"
        },
        {
         "name": "market_data.total_volume.kwd",
         "rawType": "int64",
         "type": "integer"
        },
        {
         "name": "market_data.total_volume.lkr",
         "rawType": "int64",
         "type": "integer"
        },
        {
         "name": "market_data.total_volume.ltc",
         "rawType": "int64",
         "type": "integer"
        },
        {
         "name": "market_data.total_volume.mmk",
         "rawType": "int64",
         "type": "integer"
        },
        {
         "name": "market_data.total_volume.mxn",
         "rawType": "int64",
         "type": "integer"
        },
        {
         "name": "market_data.total_volume.myr",
         "rawType": "int64",
         "type": "integer"
        },
        {
         "name": "market_data.total_volume.ngn",
         "rawType": "int64",
         "type": "integer"
        },
        {
         "name": "market_data.total_volume.nok",
         "rawType": "int64",
         "type": "integer"
        },
        {
         "name": "market_data.total_volume.nzd",
         "rawType": "int64",
         "type": "integer"
        },
        {
         "name": "market_data.total_volume.php",
         "rawType": "int64",
         "type": "integer"
        },
        {
         "name": "market_data.total_volume.pkr",
         "rawType": "int64",
         "type": "integer"
        },
        {
         "name": "market_data.total_volume.pln",
         "rawType": "int64",
         "type": "integer"
        },
        {
         "name": "market_data.total_volume.rub",
         "rawType": "int64",
         "type": "integer"
        },
        {
         "name": "market_data.total_volume.sar",
         "rawType": "int64",
         "type": "integer"
        },
        {
         "name": "market_data.total_volume.sek",
         "rawType": "int64",
         "type": "integer"
        },
        {
         "name": "market_data.total_volume.sgd",
         "rawType": "int64",
         "type": "integer"
        },
        {
         "name": "market_data.total_volume.sol",
         "rawType": "int64",
         "type": "integer"
        },
        {
         "name": "market_data.total_volume.thb",
         "rawType": "int64",
         "type": "integer"
        },
        {
         "name": "market_data.total_volume.try",
         "rawType": "int64",
         "type": "integer"
        },
        {
         "name": "market_data.total_volume.twd",
         "rawType": "int64",
         "type": "integer"
        },
        {
         "name": "market_data.total_volume.uah",
         "rawType": "int64",
         "type": "integer"
        },
        {
         "name": "market_data.total_volume.usd",
         "rawType": "int64",
         "type": "integer"
        },
        {
         "name": "market_data.total_volume.vef",
         "rawType": "int64",
         "type": "integer"
        },
        {
         "name": "market_data.total_volume.vnd",
         "rawType": "int64",
         "type": "integer"
        },
        {
         "name": "market_data.total_volume.xag",
         "rawType": "int64",
         "type": "integer"
        },
        {
         "name": "market_data.total_volume.xau",
         "rawType": "int64",
         "type": "integer"
        },
        {
         "name": "market_data.total_volume.xdr",
         "rawType": "int64",
         "type": "integer"
        },
        {
         "name": "market_data.total_volume.xlm",
         "rawType": "int64",
         "type": "integer"
        },
        {
         "name": "market_data.total_volume.xrp",
         "rawType": "int64",
         "type": "integer"
        },
        {
         "name": "market_data.total_volume.yfi",
         "rawType": "int64",
         "type": "integer"
        },
        {
         "name": "market_data.total_volume.zar",
         "rawType": "int64",
         "type": "integer"
        },
        {
         "name": "market_data.total_volume.bits",
         "rawType": "int64",
         "type": "integer"
        },
        {
         "name": "market_data.total_volume.link",
         "rawType": "int64",
         "type": "integer"
        },
        {
         "name": "market_data.total_volume.sats",
         "rawType": "int64",
         "type": "integer"
        },
        {
         "name": "market_data.high_24h.aed",
         "rawType": "int64",
         "type": "integer"
        },
        {
         "name": "market_data.high_24h.ars",
         "rawType": "int64",
         "type": "integer"
        },
        {
         "name": "market_data.high_24h.aud",
         "rawType": "int64",
         "type": "integer"
        },
        {
         "name": "market_data.high_24h.bch",
         "rawType": "float64",
         "type": "float"
        },
        {
         "name": "market_data.high_24h.bdt",
         "rawType": "int64",
         "type": "integer"
        },
        {
         "name": "market_data.high_24h.bhd",
         "rawType": "int64",
         "type": "integer"
        },
        {
         "name": "market_data.high_24h.bmd",
         "rawType": "int64",
         "type": "integer"
        },
        {
         "name": "market_data.high_24h.bnb",
         "rawType": "float64",
         "type": "float"
        },
        {
         "name": "market_data.high_24h.brl",
         "rawType": "int64",
         "type": "integer"
        },
        {
         "name": "market_data.high_24h.btc",
         "rawType": "float64",
         "type": "float"
        },
        {
         "name": "market_data.high_24h.cad",
         "rawType": "int64",
         "type": "integer"
        },
        {
         "name": "market_data.high_24h.chf",
         "rawType": "int64",
         "type": "integer"
        },
        {
         "name": "market_data.high_24h.clp",
         "rawType": "int64",
         "type": "integer"
        },
        {
         "name": "market_data.high_24h.cny",
         "rawType": "int64",
         "type": "integer"
        },
        {
         "name": "market_data.high_24h.czk",
         "rawType": "int64",
         "type": "integer"
        },
        {
         "name": "market_data.high_24h.dkk",
         "rawType": "int64",
         "type": "integer"
        },
        {
         "name": "market_data.high_24h.dot",
         "rawType": "int64",
         "type": "integer"
        },
        {
         "name": "market_data.high_24h.eos",
         "rawType": "int64",
         "type": "integer"
        },
        {
         "name": "market_data.high_24h.eth",
         "rawType": "float64",
         "type": "float"
        },
        {
         "name": "market_data.high_24h.eur",
         "rawType": "int64",
         "type": "integer"
        },
        {
         "name": "market_data.high_24h.gbp",
         "rawType": "int64",
         "type": "integer"
        },
        {
         "name": "market_data.high_24h.gel",
         "rawType": "int64",
         "type": "integer"
        },
        {
         "name": "market_data.high_24h.hkd",
         "rawType": "int64",
         "type": "integer"
        },
        {
         "name": "market_data.high_24h.huf",
         "rawType": "int64",
         "type": "integer"
        },
        {
         "name": "market_data.high_24h.idr",
         "rawType": "int64",
         "type": "integer"
        },
        {
         "name": "market_data.high_24h.ils",
         "rawType": "int64",
         "type": "integer"
        },
        {
         "name": "market_data.high_24h.inr",
         "rawType": "int64",
         "type": "integer"
        },
        {
         "name": "market_data.high_24h.jpy",
         "rawType": "int64",
         "type": "integer"
        },
        {
         "name": "market_data.high_24h.krw",
         "rawType": "int64",
         "type": "integer"
        },
        {
         "name": "market_data.high_24h.kwd",
         "rawType": "int64",
         "type": "integer"
        },
        {
         "name": "market_data.high_24h.lkr",
         "rawType": "int64",
         "type": "integer"
        },
        {
         "name": "market_data.high_24h.ltc",
         "rawType": "int64",
         "type": "integer"
        },
        {
         "name": "market_data.high_24h.mmk",
         "rawType": "int64",
         "type": "integer"
        },
        {
         "name": "market_data.high_24h.mxn",
         "rawType": "int64",
         "type": "integer"
        },
        {
         "name": "market_data.high_24h.myr",
         "rawType": "int64",
         "type": "integer"
        },
        {
         "name": "market_data.high_24h.ngn",
         "rawType": "int64",
         "type": "integer"
        },
        {
         "name": "market_data.high_24h.nok",
         "rawType": "int64",
         "type": "integer"
        },
        {
         "name": "market_data.high_24h.nzd",
         "rawType": "int64",
         "type": "integer"
        },
        {
         "name": "market_data.high_24h.php",
         "rawType": "int64",
         "type": "integer"
        },
        {
         "name": "market_data.high_24h.pkr",
         "rawType": "int64",
         "type": "integer"
        },
        {
         "name": "market_data.high_24h.pln",
         "rawType": "int64",
         "type": "integer"
        },
        {
         "name": "market_data.high_24h.rub",
         "rawType": "int64",
         "type": "integer"
        },
        {
         "name": "market_data.high_24h.sar",
         "rawType": "int64",
         "type": "integer"
        },
        {
         "name": "market_data.high_24h.sek",
         "rawType": "int64",
         "type": "integer"
        },
        {
         "name": "market_data.high_24h.sgd",
         "rawType": "int64",
         "type": "integer"
        },
        {
         "name": "market_data.high_24h.sol",
         "rawType": "float64",
         "type": "float"
        },
        {
         "name": "market_data.high_24h.thb",
         "rawType": "int64",
         "type": "integer"
        },
        {
         "name": "market_data.high_24h.try",
         "rawType": "int64",
         "type": "integer"
        },
        {
         "name": "market_data.high_24h.twd",
         "rawType": "int64",
         "type": "integer"
        },
        {
         "name": "market_data.high_24h.uah",
         "rawType": "int64",
         "type": "integer"
        },
        {
         "name": "market_data.high_24h.usd",
         "rawType": "int64",
         "type": "integer"
        },
        {
         "name": "market_data.high_24h.vef",
         "rawType": "float64",
         "type": "float"
        },
        {
         "name": "market_data.high_24h.vnd",
         "rawType": "int64",
         "type": "integer"
        },
        {
         "name": "market_data.high_24h.xag",
         "rawType": "float64",
         "type": "float"
        },
        {
         "name": "market_data.high_24h.xau",
         "rawType": "float64",
         "type": "float"
        },
        {
         "name": "market_data.high_24h.xdr",
         "rawType": "int64",
         "type": "integer"
        },
        {
         "name": "market_data.high_24h.xlm",
         "rawType": "int64",
         "type": "integer"
        },
        {
         "name": "market_data.high_24h.xrp",
         "rawType": "int64",
         "type": "integer"
        },
        {
         "name": "market_data.high_24h.yfi",
         "rawType": "float64",
         "type": "float"
        },
        {
         "name": "market_data.high_24h.zar",
         "rawType": "int64",
         "type": "integer"
        },
        {
         "name": "market_data.high_24h.bits",
         "rawType": "int64",
         "type": "integer"
        },
        {
         "name": "market_data.high_24h.link",
         "rawType": "int64",
         "type": "integer"
        },
        {
         "name": "market_data.high_24h.sats",
         "rawType": "int64",
         "type": "integer"
        },
        {
         "name": "market_data.low_24h.aed",
         "rawType": "int64",
         "type": "integer"
        },
        {
         "name": "market_data.low_24h.ars",
         "rawType": "int64",
         "type": "integer"
        },
        {
         "name": "market_data.low_24h.aud",
         "rawType": "int64",
         "type": "integer"
        },
        {
         "name": "market_data.low_24h.bch",
         "rawType": "float64",
         "type": "float"
        },
        {
         "name": "market_data.low_24h.bdt",
         "rawType": "int64",
         "type": "integer"
        },
        {
         "name": "market_data.low_24h.bhd",
         "rawType": "int64",
         "type": "integer"
        },
        {
         "name": "market_data.low_24h.bmd",
         "rawType": "int64",
         "type": "integer"
        },
        {
         "name": "market_data.low_24h.bnb",
         "rawType": "float64",
         "type": "float"
        },
        {
         "name": "market_data.low_24h.brl",
         "rawType": "int64",
         "type": "integer"
        },
        {
         "name": "market_data.low_24h.btc",
         "rawType": "float64",
         "type": "float"
        },
        {
         "name": "market_data.low_24h.cad",
         "rawType": "int64",
         "type": "integer"
        },
        {
         "name": "market_data.low_24h.chf",
         "rawType": "int64",
         "type": "integer"
        },
        {
         "name": "market_data.low_24h.clp",
         "rawType": "int64",
         "type": "integer"
        },
        {
         "name": "market_data.low_24h.cny",
         "rawType": "int64",
         "type": "integer"
        },
        {
         "name": "market_data.low_24h.czk",
         "rawType": "int64",
         "type": "integer"
        },
        {
         "name": "market_data.low_24h.dkk",
         "rawType": "int64",
         "type": "integer"
        },
        {
         "name": "market_data.low_24h.dot",
         "rawType": "int64",
         "type": "integer"
        },
        {
         "name": "market_data.low_24h.eos",
         "rawType": "int64",
         "type": "integer"
        },
        {
         "name": "market_data.low_24h.eth",
         "rawType": "float64",
         "type": "float"
        },
        {
         "name": "market_data.low_24h.eur",
         "rawType": "int64",
         "type": "integer"
        },
        {
         "name": "market_data.low_24h.gbp",
         "rawType": "int64",
         "type": "integer"
        },
        {
         "name": "market_data.low_24h.gel",
         "rawType": "int64",
         "type": "integer"
        },
        {
         "name": "market_data.low_24h.hkd",
         "rawType": "int64",
         "type": "integer"
        },
        {
         "name": "market_data.low_24h.huf",
         "rawType": "int64",
         "type": "integer"
        },
        {
         "name": "market_data.low_24h.idr",
         "rawType": "int64",
         "type": "integer"
        },
        {
         "name": "market_data.low_24h.ils",
         "rawType": "int64",
         "type": "integer"
        },
        {
         "name": "market_data.low_24h.inr",
         "rawType": "int64",
         "type": "integer"
        },
        {
         "name": "market_data.low_24h.jpy",
         "rawType": "int64",
         "type": "integer"
        },
        {
         "name": "market_data.low_24h.krw",
         "rawType": "int64",
         "type": "integer"
        },
        {
         "name": "market_data.low_24h.kwd",
         "rawType": "int64",
         "type": "integer"
        },
        {
         "name": "market_data.low_24h.lkr",
         "rawType": "int64",
         "type": "integer"
        },
        {
         "name": "market_data.low_24h.ltc",
         "rawType": "float64",
         "type": "float"
        },
        {
         "name": "market_data.low_24h.mmk",
         "rawType": "int64",
         "type": "integer"
        },
        {
         "name": "market_data.low_24h.mxn",
         "rawType": "int64",
         "type": "integer"
        },
        {
         "name": "market_data.low_24h.myr",
         "rawType": "int64",
         "type": "integer"
        },
        {
         "name": "market_data.low_24h.ngn",
         "rawType": "int64",
         "type": "integer"
        },
        {
         "name": "market_data.low_24h.nok",
         "rawType": "int64",
         "type": "integer"
        },
        {
         "name": "market_data.low_24h.nzd",
         "rawType": "int64",
         "type": "integer"
        },
        {
         "name": "market_data.low_24h.php",
         "rawType": "int64",
         "type": "integer"
        },
        {
         "name": "market_data.low_24h.pkr",
         "rawType": "int64",
         "type": "integer"
        },
        {
         "name": "market_data.low_24h.pln",
         "rawType": "int64",
         "type": "integer"
        },
        {
         "name": "market_data.low_24h.rub",
         "rawType": "int64",
         "type": "integer"
        },
        {
         "name": "market_data.low_24h.sar",
         "rawType": "int64",
         "type": "integer"
        },
        {
         "name": "market_data.low_24h.sek",
         "rawType": "int64",
         "type": "integer"
        },
        {
         "name": "market_data.low_24h.sgd",
         "rawType": "int64",
         "type": "integer"
        },
        {
         "name": "market_data.low_24h.sol",
         "rawType": "float64",
         "type": "float"
        },
        {
         "name": "market_data.low_24h.thb",
         "rawType": "int64",
         "type": "integer"
        },
        {
         "name": "market_data.low_24h.try",
         "rawType": "int64",
         "type": "integer"
        },
        {
         "name": "market_data.low_24h.twd",
         "rawType": "int64",
         "type": "integer"
        },
        {
         "name": "market_data.low_24h.uah",
         "rawType": "int64",
         "type": "integer"
        },
        {
         "name": "market_data.low_24h.usd",
         "rawType": "int64",
         "type": "integer"
        },
        {
         "name": "market_data.low_24h.vef",
         "rawType": "float64",
         "type": "float"
        },
        {
         "name": "market_data.low_24h.vnd",
         "rawType": "int64",
         "type": "integer"
        },
        {
         "name": "market_data.low_24h.xag",
         "rawType": "float64",
         "type": "float"
        },
        {
         "name": "market_data.low_24h.xau",
         "rawType": "float64",
         "type": "float"
        },
        {
         "name": "market_data.low_24h.xdr",
         "rawType": "int64",
         "type": "integer"
        },
        {
         "name": "market_data.low_24h.xlm",
         "rawType": "int64",
         "type": "integer"
        },
        {
         "name": "market_data.low_24h.xrp",
         "rawType": "int64",
         "type": "integer"
        },
        {
         "name": "market_data.low_24h.yfi",
         "rawType": "float64",
         "type": "float"
        },
        {
         "name": "market_data.low_24h.zar",
         "rawType": "int64",
         "type": "integer"
        },
        {
         "name": "market_data.low_24h.bits",
         "rawType": "int64",
         "type": "integer"
        },
        {
         "name": "market_data.low_24h.link",
         "rawType": "int64",
         "type": "integer"
        },
        {
         "name": "market_data.low_24h.sats",
         "rawType": "int64",
         "type": "integer"
        },
        {
         "name": "market_data.price_change_24h",
         "rawType": "float64",
         "type": "float"
        },
        {
         "name": "market_data.price_change_percentage_24h",
         "rawType": "float64",
         "type": "float"
        },
        {
         "name": "market_data.price_change_percentage_7d",
         "rawType": "float64",
         "type": "float"
        },
        {
         "name": "market_data.price_change_percentage_14d",
         "rawType": "float64",
         "type": "float"
        },
        {
         "name": "market_data.price_change_percentage_30d",
         "rawType": "float64",
         "type": "float"
        },
        {
         "name": "market_data.price_change_percentage_60d",
         "rawType": "float64",
         "type": "float"
        },
        {
         "name": "market_data.price_change_percentage_200d",
         "rawType": "float64",
         "type": "float"
        },
        {
         "name": "market_data.price_change_percentage_1y",
         "rawType": "float64",
         "type": "float"
        },
        {
         "name": "market_data.market_cap_change_24h",
         "rawType": "int64",
         "type": "integer"
        },
        {
         "name": "market_data.market_cap_change_percentage_24h",
         "rawType": "float64",
         "type": "float"
        },
        {
         "name": "market_data.price_change_24h_in_currency.aed",
         "rawType": "float64",
         "type": "float"
        },
        {
         "name": "market_data.price_change_24h_in_currency.ars",
         "rawType": "int64",
         "type": "integer"
        },
        {
         "name": "market_data.price_change_24h_in_currency.aud",
         "rawType": "float64",
         "type": "float"
        },
        {
         "name": "market_data.price_change_24h_in_currency.bch",
         "rawType": "float64",
         "type": "float"
        },
        {
         "name": "market_data.price_change_24h_in_currency.bdt",
         "rawType": "int64",
         "type": "integer"
        },
        {
         "name": "market_data.price_change_24h_in_currency.bhd",
         "rawType": "float64",
         "type": "float"
        },
        {
         "name": "market_data.price_change_24h_in_currency.bmd",
         "rawType": "float64",
         "type": "float"
        },
        {
         "name": "market_data.price_change_24h_in_currency.bnb",
         "rawType": "float64",
         "type": "float"
        },
        {
         "name": "market_data.price_change_24h_in_currency.brl",
         "rawType": "float64",
         "type": "float"
        },
        {
         "name": "market_data.price_change_24h_in_currency.btc",
         "rawType": "float64",
         "type": "float"
        },
        {
         "name": "market_data.price_change_24h_in_currency.cad",
         "rawType": "float64",
         "type": "float"
        },
        {
         "name": "market_data.price_change_24h_in_currency.chf",
         "rawType": "float64",
         "type": "float"
        },
        {
         "name": "market_data.price_change_24h_in_currency.clp",
         "rawType": "int64",
         "type": "integer"
        },
        {
         "name": "market_data.price_change_24h_in_currency.cny",
         "rawType": "float64",
         "type": "float"
        },
        {
         "name": "market_data.price_change_24h_in_currency.czk",
         "rawType": "int64",
         "type": "integer"
        },
        {
         "name": "market_data.price_change_24h_in_currency.dkk",
         "rawType": "float64",
         "type": "float"
        },
        {
         "name": "market_data.price_change_24h_in_currency.dot",
         "rawType": "float64",
         "type": "float"
        },
        {
         "name": "market_data.price_change_24h_in_currency.eos",
         "rawType": "float64",
         "type": "float"
        },
        {
         "name": "market_data.price_change_24h_in_currency.eth",
         "rawType": "float64",
         "type": "float"
        },
        {
         "name": "market_data.price_change_24h_in_currency.eur",
         "rawType": "float64",
         "type": "float"
        },
        {
         "name": "market_data.price_change_24h_in_currency.gbp",
         "rawType": "float64",
         "type": "float"
        },
        {
         "name": "market_data.price_change_24h_in_currency.gel",
         "rawType": "float64",
         "type": "float"
        },
        {
         "name": "market_data.price_change_24h_in_currency.hkd",
         "rawType": "float64",
         "type": "float"
        },
        {
         "name": "market_data.price_change_24h_in_currency.huf",
         "rawType": "int64",
         "type": "integer"
        },
        {
         "name": "market_data.price_change_24h_in_currency.idr",
         "rawType": "int64",
         "type": "integer"
        },
        {
         "name": "market_data.price_change_24h_in_currency.ils",
         "rawType": "float64",
         "type": "float"
        },
        {
         "name": "market_data.price_change_24h_in_currency.inr",
         "rawType": "int64",
         "type": "integer"
        },
        {
         "name": "market_data.price_change_24h_in_currency.jpy",
         "rawType": "int64",
         "type": "integer"
        },
        {
         "name": "market_data.price_change_24h_in_currency.krw",
         "rawType": "int64",
         "type": "integer"
        },
        {
         "name": "market_data.price_change_24h_in_currency.kwd",
         "rawType": "float64",
         "type": "float"
        },
        {
         "name": "market_data.price_change_24h_in_currency.lkr",
         "rawType": "int64",
         "type": "integer"
        },
        {
         "name": "market_data.price_change_24h_in_currency.ltc",
         "rawType": "float64",
         "type": "float"
        },
        {
         "name": "market_data.price_change_24h_in_currency.mmk",
         "rawType": "int64",
         "type": "integer"
        },
        {
         "name": "market_data.price_change_24h_in_currency.mxn",
         "rawType": "float64",
         "type": "float"
        },
        {
         "name": "market_data.price_change_24h_in_currency.myr",
         "rawType": "float64",
         "type": "float"
        },
        {
         "name": "market_data.price_change_24h_in_currency.ngn",
         "rawType": "int64",
         "type": "integer"
        },
        {
         "name": "market_data.price_change_24h_in_currency.nok",
         "rawType": "float64",
         "type": "float"
        },
        {
         "name": "market_data.price_change_24h_in_currency.nzd",
         "rawType": "float64",
         "type": "float"
        },
        {
         "name": "market_data.price_change_24h_in_currency.php",
         "rawType": "float64",
         "type": "float"
        },
        {
         "name": "market_data.price_change_24h_in_currency.pkr",
         "rawType": "int64",
         "type": "integer"
        },
        {
         "name": "market_data.price_change_24h_in_currency.pln",
         "rawType": "float64",
         "type": "float"
        },
        {
         "name": "market_data.price_change_24h_in_currency.rub",
         "rawType": "int64",
         "type": "integer"
        },
        {
         "name": "market_data.price_change_24h_in_currency.sar",
         "rawType": "float64",
         "type": "float"
        },
        {
         "name": "market_data.price_change_24h_in_currency.sek",
         "rawType": "float64",
         "type": "float"
        },
        {
         "name": "market_data.price_change_24h_in_currency.sgd",
         "rawType": "float64",
         "type": "float"
        },
        {
         "name": "market_data.price_change_24h_in_currency.sol",
         "rawType": "float64",
         "type": "float"
        },
        {
         "name": "market_data.price_change_24h_in_currency.thb",
         "rawType": "int64",
         "type": "integer"
        },
        {
         "name": "market_data.price_change_24h_in_currency.try",
         "rawType": "int64",
         "type": "integer"
        },
        {
         "name": "market_data.price_change_24h_in_currency.twd",
         "rawType": "int64",
         "type": "integer"
        },
        {
         "name": "market_data.price_change_24h_in_currency.uah",
         "rawType": "int64",
         "type": "integer"
        },
        {
         "name": "market_data.price_change_24h_in_currency.usd",
         "rawType": "float64",
         "type": "float"
        },
        {
         "name": "market_data.price_change_24h_in_currency.vef",
         "rawType": "float64",
         "type": "float"
        },
        {
         "name": "market_data.price_change_24h_in_currency.vnd",
         "rawType": "int64",
         "type": "integer"
        },
        {
         "name": "market_data.price_change_24h_in_currency.xag",
         "rawType": "float64",
         "type": "float"
        },
        {
         "name": "market_data.price_change_24h_in_currency.xau",
         "rawType": "float64",
         "type": "float"
        },
        {
         "name": "market_data.price_change_24h_in_currency.xdr",
         "rawType": "float64",
         "type": "float"
        },
        {
         "name": "market_data.price_change_24h_in_currency.xlm",
         "rawType": "float64",
         "type": "float"
        },
        {
         "name": "market_data.price_change_24h_in_currency.xrp",
         "rawType": "float64",
         "type": "float"
        },
        {
         "name": "market_data.price_change_24h_in_currency.yfi",
         "rawType": "float64",
         "type": "float"
        },
        {
         "name": "market_data.price_change_24h_in_currency.zar",
         "rawType": "float64",
         "type": "float"
        },
        {
         "name": "market_data.price_change_24h_in_currency.bits",
         "rawType": "float64",
         "type": "float"
        },
        {
         "name": "market_data.price_change_24h_in_currency.link",
         "rawType": "float64",
         "type": "float"
        },
        {
         "name": "market_data.price_change_24h_in_currency.sats",
         "rawType": "float64",
         "type": "float"
        },
        {
         "name": "market_data.price_change_percentage_1h_in_currency.aed",
         "rawType": "float64",
         "type": "float"
        },
        {
         "name": "market_data.price_change_percentage_1h_in_currency.ars",
         "rawType": "float64",
         "type": "float"
        },
        {
         "name": "market_data.price_change_percentage_1h_in_currency.aud",
         "rawType": "float64",
         "type": "float"
        },
        {
         "name": "market_data.price_change_percentage_1h_in_currency.bch",
         "rawType": "float64",
         "type": "float"
        },
        {
         "name": "market_data.price_change_percentage_1h_in_currency.bdt",
         "rawType": "float64",
         "type": "float"
        },
        {
         "name": "market_data.price_change_percentage_1h_in_currency.bhd",
         "rawType": "float64",
         "type": "float"
        },
        {
         "name": "market_data.price_change_percentage_1h_in_currency.bmd",
         "rawType": "float64",
         "type": "float"
        },
        {
         "name": "market_data.price_change_percentage_1h_in_currency.bnb",
         "rawType": "float64",
         "type": "float"
        },
        {
         "name": "market_data.price_change_percentage_1h_in_currency.brl",
         "rawType": "float64",
         "type": "float"
        },
        {
         "name": "market_data.price_change_percentage_1h_in_currency.btc",
         "rawType": "float64",
         "type": "float"
        },
        {
         "name": "market_data.price_change_percentage_1h_in_currency.cad",
         "rawType": "float64",
         "type": "float"
        },
        {
         "name": "market_data.price_change_percentage_1h_in_currency.chf",
         "rawType": "float64",
         "type": "float"
        },
        {
         "name": "market_data.price_change_percentage_1h_in_currency.clp",
         "rawType": "float64",
         "type": "float"
        },
        {
         "name": "market_data.price_change_percentage_1h_in_currency.cny",
         "rawType": "float64",
         "type": "float"
        },
        {
         "name": "market_data.price_change_percentage_1h_in_currency.czk",
         "rawType": "float64",
         "type": "float"
        },
        {
         "name": "market_data.price_change_percentage_1h_in_currency.dkk",
         "rawType": "float64",
         "type": "float"
        },
        {
         "name": "market_data.price_change_percentage_1h_in_currency.dot",
         "rawType": "float64",
         "type": "float"
        },
        {
         "name": "market_data.price_change_percentage_1h_in_currency.eos",
         "rawType": "float64",
         "type": "float"
        },
        {
         "name": "market_data.price_change_percentage_1h_in_currency.eth",
         "rawType": "float64",
         "type": "float"
        },
        {
         "name": "market_data.price_change_percentage_1h_in_currency.eur",
         "rawType": "float64",
         "type": "float"
        },
        {
         "name": "market_data.price_change_percentage_1h_in_currency.gbp",
         "rawType": "float64",
         "type": "float"
        },
        {
         "name": "market_data.price_change_percentage_1h_in_currency.gel",
         "rawType": "float64",
         "type": "float"
        },
        {
         "name": "market_data.price_change_percentage_1h_in_currency.hkd",
         "rawType": "float64",
         "type": "float"
        },
        {
         "name": "market_data.price_change_percentage_1h_in_currency.huf",
         "rawType": "float64",
         "type": "float"
        },
        {
         "name": "market_data.price_change_percentage_1h_in_currency.idr",
         "rawType": "float64",
         "type": "float"
        },
        {
         "name": "market_data.price_change_percentage_1h_in_currency.ils",
         "rawType": "float64",
         "type": "float"
        },
        {
         "name": "market_data.price_change_percentage_1h_in_currency.inr",
         "rawType": "float64",
         "type": "float"
        },
        {
         "name": "market_data.price_change_percentage_1h_in_currency.jpy",
         "rawType": "float64",
         "type": "float"
        },
        {
         "name": "market_data.price_change_percentage_1h_in_currency.krw",
         "rawType": "float64",
         "type": "float"
        },
        {
         "name": "market_data.price_change_percentage_1h_in_currency.kwd",
         "rawType": "float64",
         "type": "float"
        },
        {
         "name": "market_data.price_change_percentage_1h_in_currency.lkr",
         "rawType": "float64",
         "type": "float"
        },
        {
         "name": "market_data.price_change_percentage_1h_in_currency.ltc",
         "rawType": "float64",
         "type": "float"
        },
        {
         "name": "market_data.price_change_percentage_1h_in_currency.mmk",
         "rawType": "float64",
         "type": "float"
        },
        {
         "name": "market_data.price_change_percentage_1h_in_currency.mxn",
         "rawType": "float64",
         "type": "float"
        },
        {
         "name": "market_data.price_change_percentage_1h_in_currency.myr",
         "rawType": "float64",
         "type": "float"
        },
        {
         "name": "market_data.price_change_percentage_1h_in_currency.ngn",
         "rawType": "float64",
         "type": "float"
        },
        {
         "name": "market_data.price_change_percentage_1h_in_currency.nok",
         "rawType": "float64",
         "type": "float"
        },
        {
         "name": "market_data.price_change_percentage_1h_in_currency.nzd",
         "rawType": "float64",
         "type": "float"
        },
        {
         "name": "market_data.price_change_percentage_1h_in_currency.php",
         "rawType": "float64",
         "type": "float"
        },
        {
         "name": "market_data.price_change_percentage_1h_in_currency.pkr",
         "rawType": "float64",
         "type": "float"
        },
        {
         "name": "market_data.price_change_percentage_1h_in_currency.pln",
         "rawType": "float64",
         "type": "float"
        },
        {
         "name": "market_data.price_change_percentage_1h_in_currency.rub",
         "rawType": "float64",
         "type": "float"
        },
        {
         "name": "market_data.price_change_percentage_1h_in_currency.sar",
         "rawType": "float64",
         "type": "float"
        },
        {
         "name": "market_data.price_change_percentage_1h_in_currency.sek",
         "rawType": "float64",
         "type": "float"
        },
        {
         "name": "market_data.price_change_percentage_1h_in_currency.sgd",
         "rawType": "float64",
         "type": "float"
        },
        {
         "name": "market_data.price_change_percentage_1h_in_currency.sol",
         "rawType": "float64",
         "type": "float"
        },
        {
         "name": "market_data.price_change_percentage_1h_in_currency.thb",
         "rawType": "float64",
         "type": "float"
        },
        {
         "name": "market_data.price_change_percentage_1h_in_currency.try",
         "rawType": "float64",
         "type": "float"
        },
        {
         "name": "market_data.price_change_percentage_1h_in_currency.twd",
         "rawType": "float64",
         "type": "float"
        },
        {
         "name": "market_data.price_change_percentage_1h_in_currency.uah",
         "rawType": "float64",
         "type": "float"
        },
        {
         "name": "market_data.price_change_percentage_1h_in_currency.usd",
         "rawType": "float64",
         "type": "float"
        },
        {
         "name": "market_data.price_change_percentage_1h_in_currency.vef",
         "rawType": "float64",
         "type": "float"
        },
        {
         "name": "market_data.price_change_percentage_1h_in_currency.vnd",
         "rawType": "float64",
         "type": "float"
        },
        {
         "name": "market_data.price_change_percentage_1h_in_currency.xag",
         "rawType": "float64",
         "type": "float"
        },
        {
         "name": "market_data.price_change_percentage_1h_in_currency.xau",
         "rawType": "float64",
         "type": "float"
        },
        {
         "name": "market_data.price_change_percentage_1h_in_currency.xdr",
         "rawType": "float64",
         "type": "float"
        },
        {
         "name": "market_data.price_change_percentage_1h_in_currency.xlm",
         "rawType": "float64",
         "type": "float"
        },
        {
         "name": "market_data.price_change_percentage_1h_in_currency.xrp",
         "rawType": "float64",
         "type": "float"
        },
        {
         "name": "market_data.price_change_percentage_1h_in_currency.yfi",
         "rawType": "float64",
         "type": "float"
        },
        {
         "name": "market_data.price_change_percentage_1h_in_currency.zar",
         "rawType": "float64",
         "type": "float"
        },
        {
         "name": "market_data.price_change_percentage_1h_in_currency.bits",
         "rawType": "float64",
         "type": "float"
        },
        {
         "name": "market_data.price_change_percentage_1h_in_currency.link",
         "rawType": "float64",
         "type": "float"
        },
        {
         "name": "market_data.price_change_percentage_1h_in_currency.sats",
         "rawType": "float64",
         "type": "float"
        },
        {
         "name": "market_data.price_change_percentage_24h_in_currency.aed",
         "rawType": "float64",
         "type": "float"
        },
        {
         "name": "market_data.price_change_percentage_24h_in_currency.ars",
         "rawType": "float64",
         "type": "float"
        },
        {
         "name": "market_data.price_change_percentage_24h_in_currency.aud",
         "rawType": "float64",
         "type": "float"
        },
        {
         "name": "market_data.price_change_percentage_24h_in_currency.bch",
         "rawType": "float64",
         "type": "float"
        },
        {
         "name": "market_data.price_change_percentage_24h_in_currency.bdt",
         "rawType": "float64",
         "type": "float"
        },
        {
         "name": "market_data.price_change_percentage_24h_in_currency.bhd",
         "rawType": "float64",
         "type": "float"
        },
        {
         "name": "market_data.price_change_percentage_24h_in_currency.bmd",
         "rawType": "float64",
         "type": "float"
        },
        {
         "name": "market_data.price_change_percentage_24h_in_currency.bnb",
         "rawType": "float64",
         "type": "float"
        },
        {
         "name": "market_data.price_change_percentage_24h_in_currency.brl",
         "rawType": "float64",
         "type": "float"
        },
        {
         "name": "market_data.price_change_percentage_24h_in_currency.btc",
         "rawType": "float64",
         "type": "float"
        },
        {
         "name": "market_data.price_change_percentage_24h_in_currency.cad",
         "rawType": "float64",
         "type": "float"
        },
        {
         "name": "market_data.price_change_percentage_24h_in_currency.chf",
         "rawType": "float64",
         "type": "float"
        },
        {
         "name": "market_data.price_change_percentage_24h_in_currency.clp",
         "rawType": "float64",
         "type": "float"
        },
        {
         "name": "market_data.price_change_percentage_24h_in_currency.cny",
         "rawType": "float64",
         "type": "float"
        },
        {
         "name": "market_data.price_change_percentage_24h_in_currency.czk",
         "rawType": "float64",
         "type": "float"
        },
        {
         "name": "market_data.price_change_percentage_24h_in_currency.dkk",
         "rawType": "float64",
         "type": "float"
        },
        {
         "name": "market_data.price_change_percentage_24h_in_currency.dot",
         "rawType": "float64",
         "type": "float"
        },
        {
         "name": "market_data.price_change_percentage_24h_in_currency.eos",
         "rawType": "float64",
         "type": "float"
        },
        {
         "name": "market_data.price_change_percentage_24h_in_currency.eth",
         "rawType": "float64",
         "type": "float"
        },
        {
         "name": "market_data.price_change_percentage_24h_in_currency.eur",
         "rawType": "float64",
         "type": "float"
        },
        {
         "name": "market_data.price_change_percentage_24h_in_currency.gbp",
         "rawType": "float64",
         "type": "float"
        },
        {
         "name": "market_data.price_change_percentage_24h_in_currency.gel",
         "rawType": "float64",
         "type": "float"
        },
        {
         "name": "market_data.price_change_percentage_24h_in_currency.hkd",
         "rawType": "float64",
         "type": "float"
        },
        {
         "name": "market_data.price_change_percentage_24h_in_currency.huf",
         "rawType": "float64",
         "type": "float"
        },
        {
         "name": "market_data.price_change_percentage_24h_in_currency.idr",
         "rawType": "float64",
         "type": "float"
        },
        {
         "name": "market_data.price_change_percentage_24h_in_currency.ils",
         "rawType": "float64",
         "type": "float"
        },
        {
         "name": "market_data.price_change_percentage_24h_in_currency.inr",
         "rawType": "float64",
         "type": "float"
        },
        {
         "name": "market_data.price_change_percentage_24h_in_currency.jpy",
         "rawType": "float64",
         "type": "float"
        },
        {
         "name": "market_data.price_change_percentage_24h_in_currency.krw",
         "rawType": "float64",
         "type": "float"
        },
        {
         "name": "market_data.price_change_percentage_24h_in_currency.kwd",
         "rawType": "float64",
         "type": "float"
        },
        {
         "name": "market_data.price_change_percentage_24h_in_currency.lkr",
         "rawType": "float64",
         "type": "float"
        },
        {
         "name": "market_data.price_change_percentage_24h_in_currency.ltc",
         "rawType": "float64",
         "type": "float"
        },
        {
         "name": "market_data.price_change_percentage_24h_in_currency.mmk",
         "rawType": "float64",
         "type": "float"
        },
        {
         "name": "market_data.price_change_percentage_24h_in_currency.mxn",
         "rawType": "float64",
         "type": "float"
        },
        {
         "name": "market_data.price_change_percentage_24h_in_currency.myr",
         "rawType": "float64",
         "type": "float"
        },
        {
         "name": "market_data.price_change_percentage_24h_in_currency.ngn",
         "rawType": "float64",
         "type": "float"
        },
        {
         "name": "market_data.price_change_percentage_24h_in_currency.nok",
         "rawType": "float64",
         "type": "float"
        },
        {
         "name": "market_data.price_change_percentage_24h_in_currency.nzd",
         "rawType": "float64",
         "type": "float"
        },
        {
         "name": "market_data.price_change_percentage_24h_in_currency.php",
         "rawType": "float64",
         "type": "float"
        },
        {
         "name": "market_data.price_change_percentage_24h_in_currency.pkr",
         "rawType": "float64",
         "type": "float"
        },
        {
         "name": "market_data.price_change_percentage_24h_in_currency.pln",
         "rawType": "float64",
         "type": "float"
        },
        {
         "name": "market_data.price_change_percentage_24h_in_currency.rub",
         "rawType": "float64",
         "type": "float"
        },
        {
         "name": "market_data.price_change_percentage_24h_in_currency.sar",
         "rawType": "float64",
         "type": "float"
        },
        {
         "name": "market_data.price_change_percentage_24h_in_currency.sek",
         "rawType": "float64",
         "type": "float"
        },
        {
         "name": "market_data.price_change_percentage_24h_in_currency.sgd",
         "rawType": "float64",
         "type": "float"
        },
        {
         "name": "market_data.price_change_percentage_24h_in_currency.sol",
         "rawType": "float64",
         "type": "float"
        },
        {
         "name": "market_data.price_change_percentage_24h_in_currency.thb",
         "rawType": "float64",
         "type": "float"
        },
        {
         "name": "market_data.price_change_percentage_24h_in_currency.try",
         "rawType": "float64",
         "type": "float"
        },
        {
         "name": "market_data.price_change_percentage_24h_in_currency.twd",
         "rawType": "float64",
         "type": "float"
        },
        {
         "name": "market_data.price_change_percentage_24h_in_currency.uah",
         "rawType": "float64",
         "type": "float"
        },
        {
         "name": "market_data.price_change_percentage_24h_in_currency.usd",
         "rawType": "float64",
         "type": "float"
        },
        {
         "name": "market_data.price_change_percentage_24h_in_currency.vef",
         "rawType": "float64",
         "type": "float"
        },
        {
         "name": "market_data.price_change_percentage_24h_in_currency.vnd",
         "rawType": "float64",
         "type": "float"
        },
        {
         "name": "market_data.price_change_percentage_24h_in_currency.xag",
         "rawType": "float64",
         "type": "float"
        },
        {
         "name": "market_data.price_change_percentage_24h_in_currency.xau",
         "rawType": "float64",
         "type": "float"
        },
        {
         "name": "market_data.price_change_percentage_24h_in_currency.xdr",
         "rawType": "float64",
         "type": "float"
        },
        {
         "name": "market_data.price_change_percentage_24h_in_currency.xlm",
         "rawType": "float64",
         "type": "float"
        },
        {
         "name": "market_data.price_change_percentage_24h_in_currency.xrp",
         "rawType": "float64",
         "type": "float"
        },
        {
         "name": "market_data.price_change_percentage_24h_in_currency.yfi",
         "rawType": "float64",
         "type": "float"
        },
        {
         "name": "market_data.price_change_percentage_24h_in_currency.zar",
         "rawType": "float64",
         "type": "float"
        },
        {
         "name": "market_data.price_change_percentage_24h_in_currency.bits",
         "rawType": "float64",
         "type": "float"
        },
        {
         "name": "market_data.price_change_percentage_24h_in_currency.link",
         "rawType": "float64",
         "type": "float"
        },
        {
         "name": "market_data.price_change_percentage_24h_in_currency.sats",
         "rawType": "float64",
         "type": "float"
        },
        {
         "name": "market_data.price_change_percentage_7d_in_currency.aed",
         "rawType": "float64",
         "type": "float"
        },
        {
         "name": "market_data.price_change_percentage_7d_in_currency.ars",
         "rawType": "float64",
         "type": "float"
        },
        {
         "name": "market_data.price_change_percentage_7d_in_currency.aud",
         "rawType": "float64",
         "type": "float"
        },
        {
         "name": "market_data.price_change_percentage_7d_in_currency.bch",
         "rawType": "float64",
         "type": "float"
        },
        {
         "name": "market_data.price_change_percentage_7d_in_currency.bdt",
         "rawType": "float64",
         "type": "float"
        },
        {
         "name": "market_data.price_change_percentage_7d_in_currency.bhd",
         "rawType": "float64",
         "type": "float"
        },
        {
         "name": "market_data.price_change_percentage_7d_in_currency.bmd",
         "rawType": "float64",
         "type": "float"
        },
        {
         "name": "market_data.price_change_percentage_7d_in_currency.bnb",
         "rawType": "float64",
         "type": "float"
        },
        {
         "name": "market_data.price_change_percentage_7d_in_currency.brl",
         "rawType": "float64",
         "type": "float"
        },
        {
         "name": "market_data.price_change_percentage_7d_in_currency.btc",
         "rawType": "float64",
         "type": "float"
        },
        {
         "name": "market_data.price_change_percentage_7d_in_currency.cad",
         "rawType": "float64",
         "type": "float"
        },
        {
         "name": "market_data.price_change_percentage_7d_in_currency.chf",
         "rawType": "float64",
         "type": "float"
        },
        {
         "name": "market_data.price_change_percentage_7d_in_currency.clp",
         "rawType": "float64",
         "type": "float"
        },
        {
         "name": "market_data.price_change_percentage_7d_in_currency.cny",
         "rawType": "float64",
         "type": "float"
        },
        {
         "name": "market_data.price_change_percentage_7d_in_currency.czk",
         "rawType": "float64",
         "type": "float"
        },
        {
         "name": "market_data.price_change_percentage_7d_in_currency.dkk",
         "rawType": "float64",
         "type": "float"
        },
        {
         "name": "market_data.price_change_percentage_7d_in_currency.dot",
         "rawType": "float64",
         "type": "float"
        },
        {
         "name": "market_data.price_change_percentage_7d_in_currency.eos",
         "rawType": "float64",
         "type": "float"
        },
        {
         "name": "market_data.price_change_percentage_7d_in_currency.eth",
         "rawType": "float64",
         "type": "float"
        },
        {
         "name": "market_data.price_change_percentage_7d_in_currency.eur",
         "rawType": "float64",
         "type": "float"
        },
        {
         "name": "market_data.price_change_percentage_7d_in_currency.gbp",
         "rawType": "float64",
         "type": "float"
        },
        {
         "name": "market_data.price_change_percentage_7d_in_currency.gel",
         "rawType": "float64",
         "type": "float"
        },
        {
         "name": "market_data.price_change_percentage_7d_in_currency.hkd",
         "rawType": "float64",
         "type": "float"
        },
        {
         "name": "market_data.price_change_percentage_7d_in_currency.huf",
         "rawType": "float64",
         "type": "float"
        },
        {
         "name": "market_data.price_change_percentage_7d_in_currency.idr",
         "rawType": "float64",
         "type": "float"
        },
        {
         "name": "market_data.price_change_percentage_7d_in_currency.ils",
         "rawType": "float64",
         "type": "float"
        },
        {
         "name": "market_data.price_change_percentage_7d_in_currency.inr",
         "rawType": "float64",
         "type": "float"
        },
        {
         "name": "market_data.price_change_percentage_7d_in_currency.jpy",
         "rawType": "float64",
         "type": "float"
        },
        {
         "name": "market_data.price_change_percentage_7d_in_currency.krw",
         "rawType": "float64",
         "type": "float"
        },
        {
         "name": "market_data.price_change_percentage_7d_in_currency.kwd",
         "rawType": "float64",
         "type": "float"
        },
        {
         "name": "market_data.price_change_percentage_7d_in_currency.lkr",
         "rawType": "float64",
         "type": "float"
        },
        {
         "name": "market_data.price_change_percentage_7d_in_currency.ltc",
         "rawType": "float64",
         "type": "float"
        },
        {
         "name": "market_data.price_change_percentage_7d_in_currency.mmk",
         "rawType": "float64",
         "type": "float"
        },
        {
         "name": "market_data.price_change_percentage_7d_in_currency.mxn",
         "rawType": "float64",
         "type": "float"
        },
        {
         "name": "market_data.price_change_percentage_7d_in_currency.myr",
         "rawType": "float64",
         "type": "float"
        },
        {
         "name": "market_data.price_change_percentage_7d_in_currency.ngn",
         "rawType": "float64",
         "type": "float"
        },
        {
         "name": "market_data.price_change_percentage_7d_in_currency.nok",
         "rawType": "float64",
         "type": "float"
        },
        {
         "name": "market_data.price_change_percentage_7d_in_currency.nzd",
         "rawType": "float64",
         "type": "float"
        },
        {
         "name": "market_data.price_change_percentage_7d_in_currency.php",
         "rawType": "float64",
         "type": "float"
        },
        {
         "name": "market_data.price_change_percentage_7d_in_currency.pkr",
         "rawType": "float64",
         "type": "float"
        },
        {
         "name": "market_data.price_change_percentage_7d_in_currency.pln",
         "rawType": "float64",
         "type": "float"
        },
        {
         "name": "market_data.price_change_percentage_7d_in_currency.rub",
         "rawType": "float64",
         "type": "float"
        },
        {
         "name": "market_data.price_change_percentage_7d_in_currency.sar",
         "rawType": "float64",
         "type": "float"
        },
        {
         "name": "market_data.price_change_percentage_7d_in_currency.sek",
         "rawType": "float64",
         "type": "float"
        },
        {
         "name": "market_data.price_change_percentage_7d_in_currency.sgd",
         "rawType": "float64",
         "type": "float"
        },
        {
         "name": "market_data.price_change_percentage_7d_in_currency.sol",
         "rawType": "float64",
         "type": "float"
        },
        {
         "name": "market_data.price_change_percentage_7d_in_currency.thb",
         "rawType": "float64",
         "type": "float"
        },
        {
         "name": "market_data.price_change_percentage_7d_in_currency.try",
         "rawType": "float64",
         "type": "float"
        },
        {
         "name": "market_data.price_change_percentage_7d_in_currency.twd",
         "rawType": "float64",
         "type": "float"
        },
        {
         "name": "market_data.price_change_percentage_7d_in_currency.uah",
         "rawType": "float64",
         "type": "float"
        },
        {
         "name": "market_data.price_change_percentage_7d_in_currency.usd",
         "rawType": "float64",
         "type": "float"
        },
        {
         "name": "market_data.price_change_percentage_7d_in_currency.vef",
         "rawType": "float64",
         "type": "float"
        },
        {
         "name": "market_data.price_change_percentage_7d_in_currency.vnd",
         "rawType": "float64",
         "type": "float"
        },
        {
         "name": "market_data.price_change_percentage_7d_in_currency.xag",
         "rawType": "float64",
         "type": "float"
        },
        {
         "name": "market_data.price_change_percentage_7d_in_currency.xau",
         "rawType": "float64",
         "type": "float"
        },
        {
         "name": "market_data.price_change_percentage_7d_in_currency.xdr",
         "rawType": "float64",
         "type": "float"
        },
        {
         "name": "market_data.price_change_percentage_7d_in_currency.xlm",
         "rawType": "float64",
         "type": "float"
        },
        {
         "name": "market_data.price_change_percentage_7d_in_currency.xrp",
         "rawType": "float64",
         "type": "float"
        },
        {
         "name": "market_data.price_change_percentage_7d_in_currency.yfi",
         "rawType": "float64",
         "type": "float"
        },
        {
         "name": "market_data.price_change_percentage_7d_in_currency.zar",
         "rawType": "float64",
         "type": "float"
        },
        {
         "name": "market_data.price_change_percentage_7d_in_currency.bits",
         "rawType": "float64",
         "type": "float"
        },
        {
         "name": "market_data.price_change_percentage_7d_in_currency.link",
         "rawType": "float64",
         "type": "float"
        },
        {
         "name": "market_data.price_change_percentage_7d_in_currency.sats",
         "rawType": "float64",
         "type": "float"
        },
        {
         "name": "market_data.price_change_percentage_14d_in_currency.aed",
         "rawType": "float64",
         "type": "float"
        },
        {
         "name": "market_data.price_change_percentage_14d_in_currency.ars",
         "rawType": "float64",
         "type": "float"
        },
        {
         "name": "market_data.price_change_percentage_14d_in_currency.aud",
         "rawType": "float64",
         "type": "float"
        },
        {
         "name": "market_data.price_change_percentage_14d_in_currency.bch",
         "rawType": "float64",
         "type": "float"
        },
        {
         "name": "market_data.price_change_percentage_14d_in_currency.bdt",
         "rawType": "float64",
         "type": "float"
        },
        {
         "name": "market_data.price_change_percentage_14d_in_currency.bhd",
         "rawType": "float64",
         "type": "float"
        },
        {
         "name": "market_data.price_change_percentage_14d_in_currency.bmd",
         "rawType": "float64",
         "type": "float"
        },
        {
         "name": "market_data.price_change_percentage_14d_in_currency.bnb",
         "rawType": "float64",
         "type": "float"
        },
        {
         "name": "market_data.price_change_percentage_14d_in_currency.brl",
         "rawType": "float64",
         "type": "float"
        },
        {
         "name": "market_data.price_change_percentage_14d_in_currency.btc",
         "rawType": "float64",
         "type": "float"
        },
        {
         "name": "market_data.price_change_percentage_14d_in_currency.cad",
         "rawType": "float64",
         "type": "float"
        },
        {
         "name": "market_data.price_change_percentage_14d_in_currency.chf",
         "rawType": "float64",
         "type": "float"
        },
        {
         "name": "market_data.price_change_percentage_14d_in_currency.clp",
         "rawType": "float64",
         "type": "float"
        },
        {
         "name": "market_data.price_change_percentage_14d_in_currency.cny",
         "rawType": "float64",
         "type": "float"
        },
        {
         "name": "market_data.price_change_percentage_14d_in_currency.czk",
         "rawType": "float64",
         "type": "float"
        },
        {
         "name": "market_data.price_change_percentage_14d_in_currency.dkk",
         "rawType": "float64",
         "type": "float"
        },
        {
         "name": "market_data.price_change_percentage_14d_in_currency.dot",
         "rawType": "float64",
         "type": "float"
        },
        {
         "name": "market_data.price_change_percentage_14d_in_currency.eos",
         "rawType": "float64",
         "type": "float"
        },
        {
         "name": "market_data.price_change_percentage_14d_in_currency.eth",
         "rawType": "float64",
         "type": "float"
        },
        {
         "name": "market_data.price_change_percentage_14d_in_currency.eur",
         "rawType": "float64",
         "type": "float"
        },
        {
         "name": "market_data.price_change_percentage_14d_in_currency.gbp",
         "rawType": "float64",
         "type": "float"
        },
        {
         "name": "market_data.price_change_percentage_14d_in_currency.gel",
         "rawType": "float64",
         "type": "float"
        },
        {
         "name": "market_data.price_change_percentage_14d_in_currency.hkd",
         "rawType": "float64",
         "type": "float"
        },
        {
         "name": "market_data.price_change_percentage_14d_in_currency.huf",
         "rawType": "float64",
         "type": "float"
        },
        {
         "name": "market_data.price_change_percentage_14d_in_currency.idr",
         "rawType": "float64",
         "type": "float"
        },
        {
         "name": "market_data.price_change_percentage_14d_in_currency.ils",
         "rawType": "float64",
         "type": "float"
        },
        {
         "name": "market_data.price_change_percentage_14d_in_currency.inr",
         "rawType": "float64",
         "type": "float"
        },
        {
         "name": "market_data.price_change_percentage_14d_in_currency.jpy",
         "rawType": "float64",
         "type": "float"
        },
        {
         "name": "market_data.price_change_percentage_14d_in_currency.krw",
         "rawType": "float64",
         "type": "float"
        },
        {
         "name": "market_data.price_change_percentage_14d_in_currency.kwd",
         "rawType": "float64",
         "type": "float"
        },
        {
         "name": "market_data.price_change_percentage_14d_in_currency.lkr",
         "rawType": "float64",
         "type": "float"
        },
        {
         "name": "market_data.price_change_percentage_14d_in_currency.ltc",
         "rawType": "float64",
         "type": "float"
        },
        {
         "name": "market_data.price_change_percentage_14d_in_currency.mmk",
         "rawType": "float64",
         "type": "float"
        },
        {
         "name": "market_data.price_change_percentage_14d_in_currency.mxn",
         "rawType": "float64",
         "type": "float"
        },
        {
         "name": "market_data.price_change_percentage_14d_in_currency.myr",
         "rawType": "float64",
         "type": "float"
        },
        {
         "name": "market_data.price_change_percentage_14d_in_currency.ngn",
         "rawType": "float64",
         "type": "float"
        },
        {
         "name": "market_data.price_change_percentage_14d_in_currency.nok",
         "rawType": "float64",
         "type": "float"
        },
        {
         "name": "market_data.price_change_percentage_14d_in_currency.nzd",
         "rawType": "float64",
         "type": "float"
        },
        {
         "name": "market_data.price_change_percentage_14d_in_currency.php",
         "rawType": "float64",
         "type": "float"
        },
        {
         "name": "market_data.price_change_percentage_14d_in_currency.pkr",
         "rawType": "float64",
         "type": "float"
        },
        {
         "name": "market_data.price_change_percentage_14d_in_currency.pln",
         "rawType": "float64",
         "type": "float"
        },
        {
         "name": "market_data.price_change_percentage_14d_in_currency.rub",
         "rawType": "float64",
         "type": "float"
        },
        {
         "name": "market_data.price_change_percentage_14d_in_currency.sar",
         "rawType": "float64",
         "type": "float"
        },
        {
         "name": "market_data.price_change_percentage_14d_in_currency.sek",
         "rawType": "float64",
         "type": "float"
        },
        {
         "name": "market_data.price_change_percentage_14d_in_currency.sgd",
         "rawType": "float64",
         "type": "float"
        },
        {
         "name": "market_data.price_change_percentage_14d_in_currency.sol",
         "rawType": "float64",
         "type": "float"
        },
        {
         "name": "market_data.price_change_percentage_14d_in_currency.thb",
         "rawType": "float64",
         "type": "float"
        },
        {
         "name": "market_data.price_change_percentage_14d_in_currency.try",
         "rawType": "float64",
         "type": "float"
        },
        {
         "name": "market_data.price_change_percentage_14d_in_currency.twd",
         "rawType": "float64",
         "type": "float"
        },
        {
         "name": "market_data.price_change_percentage_14d_in_currency.uah",
         "rawType": "float64",
         "type": "float"
        },
        {
         "name": "market_data.price_change_percentage_14d_in_currency.usd",
         "rawType": "float64",
         "type": "float"
        },
        {
         "name": "market_data.price_change_percentage_14d_in_currency.vef",
         "rawType": "float64",
         "type": "float"
        },
        {
         "name": "market_data.price_change_percentage_14d_in_currency.vnd",
         "rawType": "float64",
         "type": "float"
        },
        {
         "name": "market_data.price_change_percentage_14d_in_currency.xag",
         "rawType": "float64",
         "type": "float"
        },
        {
         "name": "market_data.price_change_percentage_14d_in_currency.xau",
         "rawType": "float64",
         "type": "float"
        },
        {
         "name": "market_data.price_change_percentage_14d_in_currency.xdr",
         "rawType": "float64",
         "type": "float"
        },
        {
         "name": "market_data.price_change_percentage_14d_in_currency.xlm",
         "rawType": "float64",
         "type": "float"
        },
        {
         "name": "market_data.price_change_percentage_14d_in_currency.xrp",
         "rawType": "float64",
         "type": "float"
        },
        {
         "name": "market_data.price_change_percentage_14d_in_currency.yfi",
         "rawType": "float64",
         "type": "float"
        },
        {
         "name": "market_data.price_change_percentage_14d_in_currency.zar",
         "rawType": "float64",
         "type": "float"
        },
        {
         "name": "market_data.price_change_percentage_14d_in_currency.bits",
         "rawType": "float64",
         "type": "float"
        },
        {
         "name": "market_data.price_change_percentage_14d_in_currency.link",
         "rawType": "float64",
         "type": "float"
        },
        {
         "name": "market_data.price_change_percentage_14d_in_currency.sats",
         "rawType": "float64",
         "type": "float"
        },
        {
         "name": "market_data.price_change_percentage_30d_in_currency.aed",
         "rawType": "float64",
         "type": "float"
        },
        {
         "name": "market_data.price_change_percentage_30d_in_currency.ars",
         "rawType": "float64",
         "type": "float"
        },
        {
         "name": "market_data.price_change_percentage_30d_in_currency.aud",
         "rawType": "float64",
         "type": "float"
        },
        {
         "name": "market_data.price_change_percentage_30d_in_currency.bch",
         "rawType": "float64",
         "type": "float"
        },
        {
         "name": "market_data.price_change_percentage_30d_in_currency.bdt",
         "rawType": "float64",
         "type": "float"
        },
        {
         "name": "market_data.price_change_percentage_30d_in_currency.bhd",
         "rawType": "float64",
         "type": "float"
        },
        {
         "name": "market_data.price_change_percentage_30d_in_currency.bmd",
         "rawType": "float64",
         "type": "float"
        },
        {
         "name": "market_data.price_change_percentage_30d_in_currency.bnb",
         "rawType": "float64",
         "type": "float"
        },
        {
         "name": "market_data.price_change_percentage_30d_in_currency.brl",
         "rawType": "float64",
         "type": "float"
        },
        {
         "name": "market_data.price_change_percentage_30d_in_currency.btc",
         "rawType": "float64",
         "type": "float"
        },
        {
         "name": "market_data.price_change_percentage_30d_in_currency.cad",
         "rawType": "float64",
         "type": "float"
        },
        {
         "name": "market_data.price_change_percentage_30d_in_currency.chf",
         "rawType": "float64",
         "type": "float"
        },
        {
         "name": "market_data.price_change_percentage_30d_in_currency.clp",
         "rawType": "float64",
         "type": "float"
        },
        {
         "name": "market_data.price_change_percentage_30d_in_currency.cny",
         "rawType": "float64",
         "type": "float"
        },
        {
         "name": "market_data.price_change_percentage_30d_in_currency.czk",
         "rawType": "float64",
         "type": "float"
        },
        {
         "name": "market_data.price_change_percentage_30d_in_currency.dkk",
         "rawType": "float64",
         "type": "float"
        },
        {
         "name": "market_data.price_change_percentage_30d_in_currency.dot",
         "rawType": "float64",
         "type": "float"
        },
        {
         "name": "market_data.price_change_percentage_30d_in_currency.eos",
         "rawType": "float64",
         "type": "float"
        },
        {
         "name": "market_data.price_change_percentage_30d_in_currency.eth",
         "rawType": "float64",
         "type": "float"
        },
        {
         "name": "market_data.price_change_percentage_30d_in_currency.eur",
         "rawType": "float64",
         "type": "float"
        },
        {
         "name": "market_data.price_change_percentage_30d_in_currency.gbp",
         "rawType": "float64",
         "type": "float"
        },
        {
         "name": "market_data.price_change_percentage_30d_in_currency.gel",
         "rawType": "float64",
         "type": "float"
        },
        {
         "name": "market_data.price_change_percentage_30d_in_currency.hkd",
         "rawType": "float64",
         "type": "float"
        },
        {
         "name": "market_data.price_change_percentage_30d_in_currency.huf",
         "rawType": "float64",
         "type": "float"
        },
        {
         "name": "market_data.price_change_percentage_30d_in_currency.idr",
         "rawType": "float64",
         "type": "float"
        },
        {
         "name": "market_data.price_change_percentage_30d_in_currency.ils",
         "rawType": "float64",
         "type": "float"
        },
        {
         "name": "market_data.price_change_percentage_30d_in_currency.inr",
         "rawType": "float64",
         "type": "float"
        },
        {
         "name": "market_data.price_change_percentage_30d_in_currency.jpy",
         "rawType": "float64",
         "type": "float"
        },
        {
         "name": "market_data.price_change_percentage_30d_in_currency.krw",
         "rawType": "float64",
         "type": "float"
        },
        {
         "name": "market_data.price_change_percentage_30d_in_currency.kwd",
         "rawType": "float64",
         "type": "float"
        },
        {
         "name": "market_data.price_change_percentage_30d_in_currency.lkr",
         "rawType": "float64",
         "type": "float"
        },
        {
         "name": "market_data.price_change_percentage_30d_in_currency.ltc",
         "rawType": "float64",
         "type": "float"
        },
        {
         "name": "market_data.price_change_percentage_30d_in_currency.mmk",
         "rawType": "float64",
         "type": "float"
        },
        {
         "name": "market_data.price_change_percentage_30d_in_currency.mxn",
         "rawType": "float64",
         "type": "float"
        },
        {
         "name": "market_data.price_change_percentage_30d_in_currency.myr",
         "rawType": "float64",
         "type": "float"
        },
        {
         "name": "market_data.price_change_percentage_30d_in_currency.ngn",
         "rawType": "float64",
         "type": "float"
        },
        {
         "name": "market_data.price_change_percentage_30d_in_currency.nok",
         "rawType": "float64",
         "type": "float"
        },
        {
         "name": "market_data.price_change_percentage_30d_in_currency.nzd",
         "rawType": "float64",
         "type": "float"
        },
        {
         "name": "market_data.price_change_percentage_30d_in_currency.php",
         "rawType": "float64",
         "type": "float"
        },
        {
         "name": "market_data.price_change_percentage_30d_in_currency.pkr",
         "rawType": "float64",
         "type": "float"
        },
        {
         "name": "market_data.price_change_percentage_30d_in_currency.pln",
         "rawType": "float64",
         "type": "float"
        },
        {
         "name": "market_data.price_change_percentage_30d_in_currency.rub",
         "rawType": "float64",
         "type": "float"
        },
        {
         "name": "market_data.price_change_percentage_30d_in_currency.sar",
         "rawType": "float64",
         "type": "float"
        },
        {
         "name": "market_data.price_change_percentage_30d_in_currency.sek",
         "rawType": "float64",
         "type": "float"
        },
        {
         "name": "market_data.price_change_percentage_30d_in_currency.sgd",
         "rawType": "float64",
         "type": "float"
        },
        {
         "name": "market_data.price_change_percentage_30d_in_currency.sol",
         "rawType": "float64",
         "type": "float"
        },
        {
         "name": "market_data.price_change_percentage_30d_in_currency.thb",
         "rawType": "float64",
         "type": "float"
        },
        {
         "name": "market_data.price_change_percentage_30d_in_currency.try",
         "rawType": "float64",
         "type": "float"
        },
        {
         "name": "market_data.price_change_percentage_30d_in_currency.twd",
         "rawType": "float64",
         "type": "float"
        },
        {
         "name": "market_data.price_change_percentage_30d_in_currency.uah",
         "rawType": "float64",
         "type": "float"
        },
        {
         "name": "market_data.price_change_percentage_30d_in_currency.usd",
         "rawType": "float64",
         "type": "float"
        },
        {
         "name": "market_data.price_change_percentage_30d_in_currency.vef",
         "rawType": "float64",
         "type": "float"
        },
        {
         "name": "market_data.price_change_percentage_30d_in_currency.vnd",
         "rawType": "float64",
         "type": "float"
        },
        {
         "name": "market_data.price_change_percentage_30d_in_currency.xag",
         "rawType": "float64",
         "type": "float"
        },
        {
         "name": "market_data.price_change_percentage_30d_in_currency.xau",
         "rawType": "float64",
         "type": "float"
        },
        {
         "name": "market_data.price_change_percentage_30d_in_currency.xdr",
         "rawType": "float64",
         "type": "float"
        },
        {
         "name": "market_data.price_change_percentage_30d_in_currency.xlm",
         "rawType": "float64",
         "type": "float"
        },
        {
         "name": "market_data.price_change_percentage_30d_in_currency.xrp",
         "rawType": "float64",
         "type": "float"
        },
        {
         "name": "market_data.price_change_percentage_30d_in_currency.yfi",
         "rawType": "float64",
         "type": "float"
        },
        {
         "name": "market_data.price_change_percentage_30d_in_currency.zar",
         "rawType": "float64",
         "type": "float"
        },
        {
         "name": "market_data.price_change_percentage_30d_in_currency.bits",
         "rawType": "float64",
         "type": "float"
        },
        {
         "name": "market_data.price_change_percentage_30d_in_currency.link",
         "rawType": "float64",
         "type": "float"
        },
        {
         "name": "market_data.price_change_percentage_30d_in_currency.sats",
         "rawType": "float64",
         "type": "float"
        },
        {
         "name": "market_data.price_change_percentage_60d_in_currency.aed",
         "rawType": "float64",
         "type": "float"
        },
        {
         "name": "market_data.price_change_percentage_60d_in_currency.ars",
         "rawType": "float64",
         "type": "float"
        },
        {
         "name": "market_data.price_change_percentage_60d_in_currency.aud",
         "rawType": "float64",
         "type": "float"
        },
        {
         "name": "market_data.price_change_percentage_60d_in_currency.bch",
         "rawType": "float64",
         "type": "float"
        },
        {
         "name": "market_data.price_change_percentage_60d_in_currency.bdt",
         "rawType": "float64",
         "type": "float"
        },
        {
         "name": "market_data.price_change_percentage_60d_in_currency.bhd",
         "rawType": "float64",
         "type": "float"
        },
        {
         "name": "market_data.price_change_percentage_60d_in_currency.bmd",
         "rawType": "float64",
         "type": "float"
        },
        {
         "name": "market_data.price_change_percentage_60d_in_currency.bnb",
         "rawType": "float64",
         "type": "float"
        },
        {
         "name": "market_data.price_change_percentage_60d_in_currency.brl",
         "rawType": "float64",
         "type": "float"
        },
        {
         "name": "market_data.price_change_percentage_60d_in_currency.btc",
         "rawType": "float64",
         "type": "float"
        },
        {
         "name": "market_data.price_change_percentage_60d_in_currency.cad",
         "rawType": "float64",
         "type": "float"
        },
        {
         "name": "market_data.price_change_percentage_60d_in_currency.chf",
         "rawType": "float64",
         "type": "float"
        },
        {
         "name": "market_data.price_change_percentage_60d_in_currency.clp",
         "rawType": "float64",
         "type": "float"
        },
        {
         "name": "market_data.price_change_percentage_60d_in_currency.cny",
         "rawType": "float64",
         "type": "float"
        },
        {
         "name": "market_data.price_change_percentage_60d_in_currency.czk",
         "rawType": "float64",
         "type": "float"
        },
        {
         "name": "market_data.price_change_percentage_60d_in_currency.dkk",
         "rawType": "float64",
         "type": "float"
        },
        {
         "name": "market_data.price_change_percentage_60d_in_currency.dot",
         "rawType": "float64",
         "type": "float"
        },
        {
         "name": "market_data.price_change_percentage_60d_in_currency.eos",
         "rawType": "float64",
         "type": "float"
        },
        {
         "name": "market_data.price_change_percentage_60d_in_currency.eth",
         "rawType": "float64",
         "type": "float"
        },
        {
         "name": "market_data.price_change_percentage_60d_in_currency.eur",
         "rawType": "float64",
         "type": "float"
        },
        {
         "name": "market_data.price_change_percentage_60d_in_currency.gbp",
         "rawType": "float64",
         "type": "float"
        },
        {
         "name": "market_data.price_change_percentage_60d_in_currency.gel",
         "rawType": "float64",
         "type": "float"
        },
        {
         "name": "market_data.price_change_percentage_60d_in_currency.hkd",
         "rawType": "float64",
         "type": "float"
        },
        {
         "name": "market_data.price_change_percentage_60d_in_currency.huf",
         "rawType": "float64",
         "type": "float"
        },
        {
         "name": "market_data.price_change_percentage_60d_in_currency.idr",
         "rawType": "float64",
         "type": "float"
        },
        {
         "name": "market_data.price_change_percentage_60d_in_currency.ils",
         "rawType": "float64",
         "type": "float"
        },
        {
         "name": "market_data.price_change_percentage_60d_in_currency.inr",
         "rawType": "float64",
         "type": "float"
        },
        {
         "name": "market_data.price_change_percentage_60d_in_currency.jpy",
         "rawType": "float64",
         "type": "float"
        },
        {
         "name": "market_data.price_change_percentage_60d_in_currency.krw",
         "rawType": "float64",
         "type": "float"
        },
        {
         "name": "market_data.price_change_percentage_60d_in_currency.kwd",
         "rawType": "float64",
         "type": "float"
        },
        {
         "name": "market_data.price_change_percentage_60d_in_currency.lkr",
         "rawType": "float64",
         "type": "float"
        },
        {
         "name": "market_data.price_change_percentage_60d_in_currency.ltc",
         "rawType": "float64",
         "type": "float"
        },
        {
         "name": "market_data.price_change_percentage_60d_in_currency.mmk",
         "rawType": "float64",
         "type": "float"
        },
        {
         "name": "market_data.price_change_percentage_60d_in_currency.mxn",
         "rawType": "float64",
         "type": "float"
        },
        {
         "name": "market_data.price_change_percentage_60d_in_currency.myr",
         "rawType": "float64",
         "type": "float"
        },
        {
         "name": "market_data.price_change_percentage_60d_in_currency.ngn",
         "rawType": "float64",
         "type": "float"
        },
        {
         "name": "market_data.price_change_percentage_60d_in_currency.nok",
         "rawType": "float64",
         "type": "float"
        },
        {
         "name": "market_data.price_change_percentage_60d_in_currency.nzd",
         "rawType": "float64",
         "type": "float"
        },
        {
         "name": "market_data.price_change_percentage_60d_in_currency.php",
         "rawType": "float64",
         "type": "float"
        },
        {
         "name": "market_data.price_change_percentage_60d_in_currency.pkr",
         "rawType": "float64",
         "type": "float"
        },
        {
         "name": "market_data.price_change_percentage_60d_in_currency.pln",
         "rawType": "float64",
         "type": "float"
        },
        {
         "name": "market_data.price_change_percentage_60d_in_currency.rub",
         "rawType": "float64",
         "type": "float"
        },
        {
         "name": "market_data.price_change_percentage_60d_in_currency.sar",
         "rawType": "float64",
         "type": "float"
        },
        {
         "name": "market_data.price_change_percentage_60d_in_currency.sek",
         "rawType": "float64",
         "type": "float"
        },
        {
         "name": "market_data.price_change_percentage_60d_in_currency.sgd",
         "rawType": "float64",
         "type": "float"
        },
        {
         "name": "market_data.price_change_percentage_60d_in_currency.sol",
         "rawType": "float64",
         "type": "float"
        },
        {
         "name": "market_data.price_change_percentage_60d_in_currency.thb",
         "rawType": "float64",
         "type": "float"
        },
        {
         "name": "market_data.price_change_percentage_60d_in_currency.try",
         "rawType": "float64",
         "type": "float"
        },
        {
         "name": "market_data.price_change_percentage_60d_in_currency.twd",
         "rawType": "float64",
         "type": "float"
        },
        {
         "name": "market_data.price_change_percentage_60d_in_currency.uah",
         "rawType": "float64",
         "type": "float"
        },
        {
         "name": "market_data.price_change_percentage_60d_in_currency.usd",
         "rawType": "float64",
         "type": "float"
        },
        {
         "name": "market_data.price_change_percentage_60d_in_currency.vef",
         "rawType": "float64",
         "type": "float"
        },
        {
         "name": "market_data.price_change_percentage_60d_in_currency.vnd",
         "rawType": "float64",
         "type": "float"
        },
        {
         "name": "market_data.price_change_percentage_60d_in_currency.xag",
         "rawType": "float64",
         "type": "float"
        },
        {
         "name": "market_data.price_change_percentage_60d_in_currency.xau",
         "rawType": "float64",
         "type": "float"
        },
        {
         "name": "market_data.price_change_percentage_60d_in_currency.xdr",
         "rawType": "float64",
         "type": "float"
        },
        {
         "name": "market_data.price_change_percentage_60d_in_currency.xlm",
         "rawType": "float64",
         "type": "float"
        },
        {
         "name": "market_data.price_change_percentage_60d_in_currency.xrp",
         "rawType": "float64",
         "type": "float"
        },
        {
         "name": "market_data.price_change_percentage_60d_in_currency.yfi",
         "rawType": "float64",
         "type": "float"
        },
        {
         "name": "market_data.price_change_percentage_60d_in_currency.zar",
         "rawType": "float64",
         "type": "float"
        },
        {
         "name": "market_data.price_change_percentage_60d_in_currency.bits",
         "rawType": "float64",
         "type": "float"
        },
        {
         "name": "market_data.price_change_percentage_60d_in_currency.link",
         "rawType": "float64",
         "type": "float"
        },
        {
         "name": "market_data.price_change_percentage_60d_in_currency.sats",
         "rawType": "float64",
         "type": "float"
        },
        {
         "name": "market_data.price_change_percentage_200d_in_currency.aed",
         "rawType": "float64",
         "type": "float"
        },
        {
         "name": "market_data.price_change_percentage_200d_in_currency.ars",
         "rawType": "float64",
         "type": "float"
        },
        {
         "name": "market_data.price_change_percentage_200d_in_currency.aud",
         "rawType": "float64",
         "type": "float"
        },
        {
         "name": "market_data.price_change_percentage_200d_in_currency.bch",
         "rawType": "float64",
         "type": "float"
        },
        {
         "name": "market_data.price_change_percentage_200d_in_currency.bdt",
         "rawType": "float64",
         "type": "float"
        },
        {
         "name": "market_data.price_change_percentage_200d_in_currency.bhd",
         "rawType": "float64",
         "type": "float"
        },
        {
         "name": "market_data.price_change_percentage_200d_in_currency.bmd",
         "rawType": "float64",
         "type": "float"
        },
        {
         "name": "market_data.price_change_percentage_200d_in_currency.bnb",
         "rawType": "float64",
         "type": "float"
        },
        {
         "name": "market_data.price_change_percentage_200d_in_currency.brl",
         "rawType": "float64",
         "type": "float"
        },
        {
         "name": "market_data.price_change_percentage_200d_in_currency.btc",
         "rawType": "float64",
         "type": "float"
        },
        {
         "name": "market_data.price_change_percentage_200d_in_currency.cad",
         "rawType": "float64",
         "type": "float"
        },
        {
         "name": "market_data.price_change_percentage_200d_in_currency.chf",
         "rawType": "float64",
         "type": "float"
        },
        {
         "name": "market_data.price_change_percentage_200d_in_currency.clp",
         "rawType": "float64",
         "type": "float"
        },
        {
         "name": "market_data.price_change_percentage_200d_in_currency.cny",
         "rawType": "float64",
         "type": "float"
        },
        {
         "name": "market_data.price_change_percentage_200d_in_currency.czk",
         "rawType": "float64",
         "type": "float"
        },
        {
         "name": "market_data.price_change_percentage_200d_in_currency.dkk",
         "rawType": "float64",
         "type": "float"
        },
        {
         "name": "market_data.price_change_percentage_200d_in_currency.dot",
         "rawType": "float64",
         "type": "float"
        },
        {
         "name": "market_data.price_change_percentage_200d_in_currency.eos",
         "rawType": "float64",
         "type": "float"
        },
        {
         "name": "market_data.price_change_percentage_200d_in_currency.eth",
         "rawType": "float64",
         "type": "float"
        },
        {
         "name": "market_data.price_change_percentage_200d_in_currency.eur",
         "rawType": "float64",
         "type": "float"
        },
        {
         "name": "market_data.price_change_percentage_200d_in_currency.gbp",
         "rawType": "float64",
         "type": "float"
        },
        {
         "name": "market_data.price_change_percentage_200d_in_currency.gel",
         "rawType": "float64",
         "type": "float"
        },
        {
         "name": "market_data.price_change_percentage_200d_in_currency.hkd",
         "rawType": "float64",
         "type": "float"
        },
        {
         "name": "market_data.price_change_percentage_200d_in_currency.huf",
         "rawType": "float64",
         "type": "float"
        },
        {
         "name": "market_data.price_change_percentage_200d_in_currency.idr",
         "rawType": "float64",
         "type": "float"
        },
        {
         "name": "market_data.price_change_percentage_200d_in_currency.ils",
         "rawType": "float64",
         "type": "float"
        },
        {
         "name": "market_data.price_change_percentage_200d_in_currency.inr",
         "rawType": "float64",
         "type": "float"
        },
        {
         "name": "market_data.price_change_percentage_200d_in_currency.jpy",
         "rawType": "float64",
         "type": "float"
        },
        {
         "name": "market_data.price_change_percentage_200d_in_currency.krw",
         "rawType": "float64",
         "type": "float"
        },
        {
         "name": "market_data.price_change_percentage_200d_in_currency.kwd",
         "rawType": "float64",
         "type": "float"
        },
        {
         "name": "market_data.price_change_percentage_200d_in_currency.lkr",
         "rawType": "float64",
         "type": "float"
        },
        {
         "name": "market_data.price_change_percentage_200d_in_currency.ltc",
         "rawType": "float64",
         "type": "float"
        },
        {
         "name": "market_data.price_change_percentage_200d_in_currency.mmk",
         "rawType": "float64",
         "type": "float"
        },
        {
         "name": "market_data.price_change_percentage_200d_in_currency.mxn",
         "rawType": "float64",
         "type": "float"
        },
        {
         "name": "market_data.price_change_percentage_200d_in_currency.myr",
         "rawType": "float64",
         "type": "float"
        },
        {
         "name": "market_data.price_change_percentage_200d_in_currency.ngn",
         "rawType": "float64",
         "type": "float"
        },
        {
         "name": "market_data.price_change_percentage_200d_in_currency.nok",
         "rawType": "float64",
         "type": "float"
        },
        {
         "name": "market_data.price_change_percentage_200d_in_currency.nzd",
         "rawType": "float64",
         "type": "float"
        },
        {
         "name": "market_data.price_change_percentage_200d_in_currency.php",
         "rawType": "float64",
         "type": "float"
        },
        {
         "name": "market_data.price_change_percentage_200d_in_currency.pkr",
         "rawType": "float64",
         "type": "float"
        },
        {
         "name": "market_data.price_change_percentage_200d_in_currency.pln",
         "rawType": "float64",
         "type": "float"
        },
        {
         "name": "market_data.price_change_percentage_200d_in_currency.rub",
         "rawType": "float64",
         "type": "float"
        },
        {
         "name": "market_data.price_change_percentage_200d_in_currency.sar",
         "rawType": "float64",
         "type": "float"
        },
        {
         "name": "market_data.price_change_percentage_200d_in_currency.sek",
         "rawType": "float64",
         "type": "float"
        },
        {
         "name": "market_data.price_change_percentage_200d_in_currency.sgd",
         "rawType": "float64",
         "type": "float"
        },
        {
         "name": "market_data.price_change_percentage_200d_in_currency.sol",
         "rawType": "float64",
         "type": "float"
        },
        {
         "name": "market_data.price_change_percentage_200d_in_currency.thb",
         "rawType": "float64",
         "type": "float"
        },
        {
         "name": "market_data.price_change_percentage_200d_in_currency.try",
         "rawType": "float64",
         "type": "float"
        },
        {
         "name": "market_data.price_change_percentage_200d_in_currency.twd",
         "rawType": "float64",
         "type": "float"
        },
        {
         "name": "market_data.price_change_percentage_200d_in_currency.uah",
         "rawType": "float64",
         "type": "float"
        },
        {
         "name": "market_data.price_change_percentage_200d_in_currency.usd",
         "rawType": "float64",
         "type": "float"
        },
        {
         "name": "market_data.price_change_percentage_200d_in_currency.vef",
         "rawType": "float64",
         "type": "float"
        },
        {
         "name": "market_data.price_change_percentage_200d_in_currency.vnd",
         "rawType": "float64",
         "type": "float"
        },
        {
         "name": "market_data.price_change_percentage_200d_in_currency.xag",
         "rawType": "float64",
         "type": "float"
        },
        {
         "name": "market_data.price_change_percentage_200d_in_currency.xau",
         "rawType": "float64",
         "type": "float"
        },
        {
         "name": "market_data.price_change_percentage_200d_in_currency.xdr",
         "rawType": "float64",
         "type": "float"
        },
        {
         "name": "market_data.price_change_percentage_200d_in_currency.xlm",
         "rawType": "float64",
         "type": "float"
        },
        {
         "name": "market_data.price_change_percentage_200d_in_currency.xrp",
         "rawType": "float64",
         "type": "float"
        },
        {
         "name": "market_data.price_change_percentage_200d_in_currency.yfi",
         "rawType": "float64",
         "type": "float"
        },
        {
         "name": "market_data.price_change_percentage_200d_in_currency.zar",
         "rawType": "float64",
         "type": "float"
        },
        {
         "name": "market_data.price_change_percentage_200d_in_currency.bits",
         "rawType": "float64",
         "type": "float"
        },
        {
         "name": "market_data.price_change_percentage_200d_in_currency.link",
         "rawType": "float64",
         "type": "float"
        },
        {
         "name": "market_data.price_change_percentage_200d_in_currency.sats",
         "rawType": "float64",
         "type": "float"
        },
        {
         "name": "market_data.price_change_percentage_1y_in_currency.aed",
         "rawType": "float64",
         "type": "float"
        },
        {
         "name": "market_data.price_change_percentage_1y_in_currency.ars",
         "rawType": "float64",
         "type": "float"
        },
        {
         "name": "market_data.price_change_percentage_1y_in_currency.aud",
         "rawType": "float64",
         "type": "float"
        },
        {
         "name": "market_data.price_change_percentage_1y_in_currency.bch",
         "rawType": "float64",
         "type": "float"
        },
        {
         "name": "market_data.price_change_percentage_1y_in_currency.bdt",
         "rawType": "float64",
         "type": "float"
        },
        {
         "name": "market_data.price_change_percentage_1y_in_currency.bhd",
         "rawType": "float64",
         "type": "float"
        },
        {
         "name": "market_data.price_change_percentage_1y_in_currency.bmd",
         "rawType": "float64",
         "type": "float"
        },
        {
         "name": "market_data.price_change_percentage_1y_in_currency.bnb",
         "rawType": "float64",
         "type": "float"
        },
        {
         "name": "market_data.price_change_percentage_1y_in_currency.brl",
         "rawType": "float64",
         "type": "float"
        },
        {
         "name": "market_data.price_change_percentage_1y_in_currency.btc",
         "rawType": "float64",
         "type": "float"
        },
        {
         "name": "market_data.price_change_percentage_1y_in_currency.cad",
         "rawType": "float64",
         "type": "float"
        },
        {
         "name": "market_data.price_change_percentage_1y_in_currency.chf",
         "rawType": "float64",
         "type": "float"
        },
        {
         "name": "market_data.price_change_percentage_1y_in_currency.clp",
         "rawType": "float64",
         "type": "float"
        },
        {
         "name": "market_data.price_change_percentage_1y_in_currency.cny",
         "rawType": "float64",
         "type": "float"
        },
        {
         "name": "market_data.price_change_percentage_1y_in_currency.czk",
         "rawType": "float64",
         "type": "float"
        },
        {
         "name": "market_data.price_change_percentage_1y_in_currency.dkk",
         "rawType": "float64",
         "type": "float"
        },
        {
         "name": "market_data.price_change_percentage_1y_in_currency.dot",
         "rawType": "float64",
         "type": "float"
        },
        {
         "name": "market_data.price_change_percentage_1y_in_currency.eos",
         "rawType": "float64",
         "type": "float"
        },
        {
         "name": "market_data.price_change_percentage_1y_in_currency.eth",
         "rawType": "float64",
         "type": "float"
        },
        {
         "name": "market_data.price_change_percentage_1y_in_currency.eur",
         "rawType": "float64",
         "type": "float"
        },
        {
         "name": "market_data.price_change_percentage_1y_in_currency.gbp",
         "rawType": "float64",
         "type": "float"
        },
        {
         "name": "market_data.price_change_percentage_1y_in_currency.gel",
         "rawType": "float64",
         "type": "float"
        },
        {
         "name": "market_data.price_change_percentage_1y_in_currency.hkd",
         "rawType": "float64",
         "type": "float"
        },
        {
         "name": "market_data.price_change_percentage_1y_in_currency.huf",
         "rawType": "float64",
         "type": "float"
        },
        {
         "name": "market_data.price_change_percentage_1y_in_currency.idr",
         "rawType": "float64",
         "type": "float"
        },
        {
         "name": "market_data.price_change_percentage_1y_in_currency.ils",
         "rawType": "float64",
         "type": "float"
        },
        {
         "name": "market_data.price_change_percentage_1y_in_currency.inr",
         "rawType": "float64",
         "type": "float"
        },
        {
         "name": "market_data.price_change_percentage_1y_in_currency.jpy",
         "rawType": "float64",
         "type": "float"
        },
        {
         "name": "market_data.price_change_percentage_1y_in_currency.krw",
         "rawType": "float64",
         "type": "float"
        },
        {
         "name": "market_data.price_change_percentage_1y_in_currency.kwd",
         "rawType": "float64",
         "type": "float"
        },
        {
         "name": "market_data.price_change_percentage_1y_in_currency.lkr",
         "rawType": "float64",
         "type": "float"
        },
        {
         "name": "market_data.price_change_percentage_1y_in_currency.ltc",
         "rawType": "float64",
         "type": "float"
        },
        {
         "name": "market_data.price_change_percentage_1y_in_currency.mmk",
         "rawType": "float64",
         "type": "float"
        },
        {
         "name": "market_data.price_change_percentage_1y_in_currency.mxn",
         "rawType": "float64",
         "type": "float"
        },
        {
         "name": "market_data.price_change_percentage_1y_in_currency.myr",
         "rawType": "float64",
         "type": "float"
        },
        {
         "name": "market_data.price_change_percentage_1y_in_currency.ngn",
         "rawType": "float64",
         "type": "float"
        },
        {
         "name": "market_data.price_change_percentage_1y_in_currency.nok",
         "rawType": "float64",
         "type": "float"
        },
        {
         "name": "market_data.price_change_percentage_1y_in_currency.nzd",
         "rawType": "float64",
         "type": "float"
        },
        {
         "name": "market_data.price_change_percentage_1y_in_currency.php",
         "rawType": "float64",
         "type": "float"
        },
        {
         "name": "market_data.price_change_percentage_1y_in_currency.pkr",
         "rawType": "float64",
         "type": "float"
        },
        {
         "name": "market_data.price_change_percentage_1y_in_currency.pln",
         "rawType": "float64",
         "type": "float"
        },
        {
         "name": "market_data.price_change_percentage_1y_in_currency.rub",
         "rawType": "float64",
         "type": "float"
        },
        {
         "name": "market_data.price_change_percentage_1y_in_currency.sar",
         "rawType": "float64",
         "type": "float"
        },
        {
         "name": "market_data.price_change_percentage_1y_in_currency.sek",
         "rawType": "float64",
         "type": "float"
        },
        {
         "name": "market_data.price_change_percentage_1y_in_currency.sgd",
         "rawType": "float64",
         "type": "float"
        },
        {
         "name": "market_data.price_change_percentage_1y_in_currency.sol",
         "rawType": "float64",
         "type": "float"
        },
        {
         "name": "market_data.price_change_percentage_1y_in_currency.thb",
         "rawType": "float64",
         "type": "float"
        },
        {
         "name": "market_data.price_change_percentage_1y_in_currency.try",
         "rawType": "float64",
         "type": "float"
        },
        {
         "name": "market_data.price_change_percentage_1y_in_currency.twd",
         "rawType": "float64",
         "type": "float"
        },
        {
         "name": "market_data.price_change_percentage_1y_in_currency.uah",
         "rawType": "float64",
         "type": "float"
        },
        {
         "name": "market_data.price_change_percentage_1y_in_currency.usd",
         "rawType": "float64",
         "type": "float"
        },
        {
         "name": "market_data.price_change_percentage_1y_in_currency.vef",
         "rawType": "float64",
         "type": "float"
        },
        {
         "name": "market_data.price_change_percentage_1y_in_currency.vnd",
         "rawType": "float64",
         "type": "float"
        },
        {
         "name": "market_data.price_change_percentage_1y_in_currency.xag",
         "rawType": "float64",
         "type": "float"
        },
        {
         "name": "market_data.price_change_percentage_1y_in_currency.xau",
         "rawType": "float64",
         "type": "float"
        },
        {
         "name": "market_data.price_change_percentage_1y_in_currency.xdr",
         "rawType": "float64",
         "type": "float"
        },
        {
         "name": "market_data.price_change_percentage_1y_in_currency.xlm",
         "rawType": "float64",
         "type": "float"
        },
        {
         "name": "market_data.price_change_percentage_1y_in_currency.xrp",
         "rawType": "float64",
         "type": "float"
        },
        {
         "name": "market_data.price_change_percentage_1y_in_currency.yfi",
         "rawType": "float64",
         "type": "float"
        },
        {
         "name": "market_data.price_change_percentage_1y_in_currency.zar",
         "rawType": "float64",
         "type": "float"
        },
        {
         "name": "market_data.price_change_percentage_1y_in_currency.bits",
         "rawType": "float64",
         "type": "float"
        },
        {
         "name": "market_data.price_change_percentage_1y_in_currency.link",
         "rawType": "float64",
         "type": "float"
        },
        {
         "name": "market_data.price_change_percentage_1y_in_currency.sats",
         "rawType": "float64",
         "type": "float"
        },
        {
         "name": "market_data.market_cap_change_24h_in_currency.aed",
         "rawType": "int64",
         "type": "integer"
        },
        {
         "name": "market_data.market_cap_change_24h_in_currency.ars",
         "rawType": "int64",
         "type": "integer"
        },
        {
         "name": "market_data.market_cap_change_24h_in_currency.aud",
         "rawType": "int64",
         "type": "integer"
        },
        {
         "name": "market_data.market_cap_change_24h_in_currency.bch",
         "rawType": "float64",
         "type": "float"
        },
        {
         "name": "market_data.market_cap_change_24h_in_currency.bdt",
         "rawType": "int64",
         "type": "integer"
        },
        {
         "name": "market_data.market_cap_change_24h_in_currency.bhd",
         "rawType": "int64",
         "type": "integer"
        },
        {
         "name": "market_data.market_cap_change_24h_in_currency.bmd",
         "rawType": "int64",
         "type": "integer"
        },
        {
         "name": "market_data.market_cap_change_24h_in_currency.bnb",
         "rawType": "float64",
         "type": "float"
        },
        {
         "name": "market_data.market_cap_change_24h_in_currency.brl",
         "rawType": "int64",
         "type": "integer"
        },
        {
         "name": "market_data.market_cap_change_24h_in_currency.btc",
         "rawType": "float64",
         "type": "float"
        },
        {
         "name": "market_data.market_cap_change_24h_in_currency.cad",
         "rawType": "int64",
         "type": "integer"
        },
        {
         "name": "market_data.market_cap_change_24h_in_currency.chf",
         "rawType": "int64",
         "type": "integer"
        },
        {
         "name": "market_data.market_cap_change_24h_in_currency.clp",
         "rawType": "int64",
         "type": "integer"
        },
        {
         "name": "market_data.market_cap_change_24h_in_currency.cny",
         "rawType": "int64",
         "type": "integer"
        },
        {
         "name": "market_data.market_cap_change_24h_in_currency.czk",
         "rawType": "int64",
         "type": "integer"
        },
        {
         "name": "market_data.market_cap_change_24h_in_currency.dkk",
         "rawType": "int64",
         "type": "integer"
        },
        {
         "name": "market_data.market_cap_change_24h_in_currency.dot",
         "rawType": "float64",
         "type": "float"
        },
        {
         "name": "market_data.market_cap_change_24h_in_currency.eos",
         "rawType": "float64",
         "type": "float"
        },
        {
         "name": "market_data.market_cap_change_24h_in_currency.eth",
         "rawType": "float64",
         "type": "float"
        },
        {
         "name": "market_data.market_cap_change_24h_in_currency.eur",
         "rawType": "int64",
         "type": "integer"
        },
        {
         "name": "market_data.market_cap_change_24h_in_currency.gbp",
         "rawType": "int64",
         "type": "integer"
        },
        {
         "name": "market_data.market_cap_change_24h_in_currency.gel",
         "rawType": "int64",
         "type": "integer"
        },
        {
         "name": "market_data.market_cap_change_24h_in_currency.hkd",
         "rawType": "int64",
         "type": "integer"
        },
        {
         "name": "market_data.market_cap_change_24h_in_currency.huf",
         "rawType": "int64",
         "type": "integer"
        },
        {
         "name": "market_data.market_cap_change_24h_in_currency.idr",
         "rawType": "int64",
         "type": "integer"
        },
        {
         "name": "market_data.market_cap_change_24h_in_currency.ils",
         "rawType": "int64",
         "type": "integer"
        },
        {
         "name": "market_data.market_cap_change_24h_in_currency.inr",
         "rawType": "int64",
         "type": "integer"
        },
        {
         "name": "market_data.market_cap_change_24h_in_currency.jpy",
         "rawType": "int64",
         "type": "integer"
        },
        {
         "name": "market_data.market_cap_change_24h_in_currency.krw",
         "rawType": "int64",
         "type": "integer"
        },
        {
         "name": "market_data.market_cap_change_24h_in_currency.kwd",
         "rawType": "int64",
         "type": "integer"
        },
        {
         "name": "market_data.market_cap_change_24h_in_currency.lkr",
         "rawType": "int64",
         "type": "integer"
        },
        {
         "name": "market_data.market_cap_change_24h_in_currency.ltc",
         "rawType": "float64",
         "type": "float"
        },
        {
         "name": "market_data.market_cap_change_24h_in_currency.mmk",
         "rawType": "int64",
         "type": "integer"
        },
        {
         "name": "market_data.market_cap_change_24h_in_currency.mxn",
         "rawType": "int64",
         "type": "integer"
        },
        {
         "name": "market_data.market_cap_change_24h_in_currency.myr",
         "rawType": "int64",
         "type": "integer"
        },
        {
         "name": "market_data.market_cap_change_24h_in_currency.ngn",
         "rawType": "int64",
         "type": "integer"
        },
        {
         "name": "market_data.market_cap_change_24h_in_currency.nok",
         "rawType": "int64",
         "type": "integer"
        },
        {
         "name": "market_data.market_cap_change_24h_in_currency.nzd",
         "rawType": "int64",
         "type": "integer"
        },
        {
         "name": "market_data.market_cap_change_24h_in_currency.php",
         "rawType": "int64",
         "type": "integer"
        },
        {
         "name": "market_data.market_cap_change_24h_in_currency.pkr",
         "rawType": "int64",
         "type": "integer"
        },
        {
         "name": "market_data.market_cap_change_24h_in_currency.pln",
         "rawType": "int64",
         "type": "integer"
        },
        {
         "name": "market_data.market_cap_change_24h_in_currency.rub",
         "rawType": "int64",
         "type": "integer"
        },
        {
         "name": "market_data.market_cap_change_24h_in_currency.sar",
         "rawType": "int64",
         "type": "integer"
        },
        {
         "name": "market_data.market_cap_change_24h_in_currency.sek",
         "rawType": "int64",
         "type": "integer"
        },
        {
         "name": "market_data.market_cap_change_24h_in_currency.sgd",
         "rawType": "int64",
         "type": "integer"
        },
        {
         "name": "market_data.market_cap_change_24h_in_currency.sol",
         "rawType": "float64",
         "type": "float"
        },
        {
         "name": "market_data.market_cap_change_24h_in_currency.thb",
         "rawType": "int64",
         "type": "integer"
        },
        {
         "name": "market_data.market_cap_change_24h_in_currency.try",
         "rawType": "int64",
         "type": "integer"
        },
        {
         "name": "market_data.market_cap_change_24h_in_currency.twd",
         "rawType": "int64",
         "type": "integer"
        },
        {
         "name": "market_data.market_cap_change_24h_in_currency.uah",
         "rawType": "int64",
         "type": "integer"
        },
        {
         "name": "market_data.market_cap_change_24h_in_currency.usd",
         "rawType": "int64",
         "type": "integer"
        },
        {
         "name": "market_data.market_cap_change_24h_in_currency.vef",
         "rawType": "int64",
         "type": "integer"
        },
        {
         "name": "market_data.market_cap_change_24h_in_currency.vnd",
         "rawType": "int64",
         "type": "integer"
        },
        {
         "name": "market_data.market_cap_change_24h_in_currency.xag",
         "rawType": "float64",
         "type": "float"
        },
        {
         "name": "market_data.market_cap_change_24h_in_currency.xau",
         "rawType": "float64",
         "type": "float"
        },
        {
         "name": "market_data.market_cap_change_24h_in_currency.xdr",
         "rawType": "int64",
         "type": "integer"
        },
        {
         "name": "market_data.market_cap_change_24h_in_currency.xlm",
         "rawType": "float64",
         "type": "float"
        },
        {
         "name": "market_data.market_cap_change_24h_in_currency.xrp",
         "rawType": "float64",
         "type": "float"
        },
        {
         "name": "market_data.market_cap_change_24h_in_currency.yfi",
         "rawType": "float64",
         "type": "float"
        },
        {
         "name": "market_data.market_cap_change_24h_in_currency.zar",
         "rawType": "int64",
         "type": "integer"
        },
        {
         "name": "market_data.market_cap_change_24h_in_currency.bits",
         "rawType": "int64",
         "type": "integer"
        },
        {
         "name": "market_data.market_cap_change_24h_in_currency.link",
         "rawType": "float64",
         "type": "float"
        },
        {
         "name": "market_data.market_cap_change_24h_in_currency.sats",
         "rawType": "int64",
         "type": "integer"
        },
        {
         "name": "market_data.market_cap_change_percentage_24h_in_currency.aed",
         "rawType": "float64",
         "type": "float"
        },
        {
         "name": "market_data.market_cap_change_percentage_24h_in_currency.ars",
         "rawType": "float64",
         "type": "float"
        },
        {
         "name": "market_data.market_cap_change_percentage_24h_in_currency.aud",
         "rawType": "float64",
         "type": "float"
        },
        {
         "name": "market_data.market_cap_change_percentage_24h_in_currency.bch",
         "rawType": "float64",
         "type": "float"
        },
        {
         "name": "market_data.market_cap_change_percentage_24h_in_currency.bdt",
         "rawType": "float64",
         "type": "float"
        },
        {
         "name": "market_data.market_cap_change_percentage_24h_in_currency.bhd",
         "rawType": "float64",
         "type": "float"
        },
        {
         "name": "market_data.market_cap_change_percentage_24h_in_currency.bmd",
         "rawType": "float64",
         "type": "float"
        },
        {
         "name": "market_data.market_cap_change_percentage_24h_in_currency.bnb",
         "rawType": "float64",
         "type": "float"
        },
        {
         "name": "market_data.market_cap_change_percentage_24h_in_currency.brl",
         "rawType": "float64",
         "type": "float"
        },
        {
         "name": "market_data.market_cap_change_percentage_24h_in_currency.btc",
         "rawType": "float64",
         "type": "float"
        },
        {
         "name": "market_data.market_cap_change_percentage_24h_in_currency.cad",
         "rawType": "float64",
         "type": "float"
        },
        {
         "name": "market_data.market_cap_change_percentage_24h_in_currency.chf",
         "rawType": "float64",
         "type": "float"
        },
        {
         "name": "market_data.market_cap_change_percentage_24h_in_currency.clp",
         "rawType": "float64",
         "type": "float"
        },
        {
         "name": "market_data.market_cap_change_percentage_24h_in_currency.cny",
         "rawType": "float64",
         "type": "float"
        },
        {
         "name": "market_data.market_cap_change_percentage_24h_in_currency.czk",
         "rawType": "float64",
         "type": "float"
        },
        {
         "name": "market_data.market_cap_change_percentage_24h_in_currency.dkk",
         "rawType": "float64",
         "type": "float"
        },
        {
         "name": "market_data.market_cap_change_percentage_24h_in_currency.dot",
         "rawType": "float64",
         "type": "float"
        },
        {
         "name": "market_data.market_cap_change_percentage_24h_in_currency.eos",
         "rawType": "float64",
         "type": "float"
        },
        {
         "name": "market_data.market_cap_change_percentage_24h_in_currency.eth",
         "rawType": "float64",
         "type": "float"
        },
        {
         "name": "market_data.market_cap_change_percentage_24h_in_currency.eur",
         "rawType": "float64",
         "type": "float"
        },
        {
         "name": "market_data.market_cap_change_percentage_24h_in_currency.gbp",
         "rawType": "float64",
         "type": "float"
        },
        {
         "name": "market_data.market_cap_change_percentage_24h_in_currency.gel",
         "rawType": "float64",
         "type": "float"
        },
        {
         "name": "market_data.market_cap_change_percentage_24h_in_currency.hkd",
         "rawType": "float64",
         "type": "float"
        },
        {
         "name": "market_data.market_cap_change_percentage_24h_in_currency.huf",
         "rawType": "float64",
         "type": "float"
        },
        {
         "name": "market_data.market_cap_change_percentage_24h_in_currency.idr",
         "rawType": "float64",
         "type": "float"
        },
        {
         "name": "market_data.market_cap_change_percentage_24h_in_currency.ils",
         "rawType": "float64",
         "type": "float"
        },
        {
         "name": "market_data.market_cap_change_percentage_24h_in_currency.inr",
         "rawType": "float64",
         "type": "float"
        },
        {
         "name": "market_data.market_cap_change_percentage_24h_in_currency.jpy",
         "rawType": "float64",
         "type": "float"
        },
        {
         "name": "market_data.market_cap_change_percentage_24h_in_currency.krw",
         "rawType": "float64",
         "type": "float"
        },
        {
         "name": "market_data.market_cap_change_percentage_24h_in_currency.kwd",
         "rawType": "float64",
         "type": "float"
        },
        {
         "name": "market_data.market_cap_change_percentage_24h_in_currency.lkr",
         "rawType": "float64",
         "type": "float"
        },
        {
         "name": "market_data.market_cap_change_percentage_24h_in_currency.ltc",
         "rawType": "float64",
         "type": "float"
        },
        {
         "name": "market_data.market_cap_change_percentage_24h_in_currency.mmk",
         "rawType": "float64",
         "type": "float"
        },
        {
         "name": "market_data.market_cap_change_percentage_24h_in_currency.mxn",
         "rawType": "float64",
         "type": "float"
        },
        {
         "name": "market_data.market_cap_change_percentage_24h_in_currency.myr",
         "rawType": "float64",
         "type": "float"
        },
        {
         "name": "market_data.market_cap_change_percentage_24h_in_currency.ngn",
         "rawType": "float64",
         "type": "float"
        },
        {
         "name": "market_data.market_cap_change_percentage_24h_in_currency.nok",
         "rawType": "float64",
         "type": "float"
        },
        {
         "name": "market_data.market_cap_change_percentage_24h_in_currency.nzd",
         "rawType": "float64",
         "type": "float"
        },
        {
         "name": "market_data.market_cap_change_percentage_24h_in_currency.php",
         "rawType": "float64",
         "type": "float"
        },
        {
         "name": "market_data.market_cap_change_percentage_24h_in_currency.pkr",
         "rawType": "float64",
         "type": "float"
        },
        {
         "name": "market_data.market_cap_change_percentage_24h_in_currency.pln",
         "rawType": "float64",
         "type": "float"
        },
        {
         "name": "market_data.market_cap_change_percentage_24h_in_currency.rub",
         "rawType": "float64",
         "type": "float"
        },
        {
         "name": "market_data.market_cap_change_percentage_24h_in_currency.sar",
         "rawType": "float64",
         "type": "float"
        },
        {
         "name": "market_data.market_cap_change_percentage_24h_in_currency.sek",
         "rawType": "float64",
         "type": "float"
        },
        {
         "name": "market_data.market_cap_change_percentage_24h_in_currency.sgd",
         "rawType": "float64",
         "type": "float"
        },
        {
         "name": "market_data.market_cap_change_percentage_24h_in_currency.sol",
         "rawType": "float64",
         "type": "float"
        },
        {
         "name": "market_data.market_cap_change_percentage_24h_in_currency.thb",
         "rawType": "float64",
         "type": "float"
        },
        {
         "name": "market_data.market_cap_change_percentage_24h_in_currency.try",
         "rawType": "float64",
         "type": "float"
        },
        {
         "name": "market_data.market_cap_change_percentage_24h_in_currency.twd",
         "rawType": "float64",
         "type": "float"
        },
        {
         "name": "market_data.market_cap_change_percentage_24h_in_currency.uah",
         "rawType": "float64",
         "type": "float"
        },
        {
         "name": "market_data.market_cap_change_percentage_24h_in_currency.usd",
         "rawType": "float64",
         "type": "float"
        },
        {
         "name": "market_data.market_cap_change_percentage_24h_in_currency.vef",
         "rawType": "float64",
         "type": "float"
        },
        {
         "name": "market_data.market_cap_change_percentage_24h_in_currency.vnd",
         "rawType": "float64",
         "type": "float"
        },
        {
         "name": "market_data.market_cap_change_percentage_24h_in_currency.xag",
         "rawType": "float64",
         "type": "float"
        },
        {
         "name": "market_data.market_cap_change_percentage_24h_in_currency.xau",
         "rawType": "float64",
         "type": "float"
        },
        {
         "name": "market_data.market_cap_change_percentage_24h_in_currency.xdr",
         "rawType": "float64",
         "type": "float"
        },
        {
         "name": "market_data.market_cap_change_percentage_24h_in_currency.xlm",
         "rawType": "float64",
         "type": "float"
        },
        {
         "name": "market_data.market_cap_change_percentage_24h_in_currency.xrp",
         "rawType": "float64",
         "type": "float"
        },
        {
         "name": "market_data.market_cap_change_percentage_24h_in_currency.yfi",
         "rawType": "float64",
         "type": "float"
        },
        {
         "name": "market_data.market_cap_change_percentage_24h_in_currency.zar",
         "rawType": "float64",
         "type": "float"
        },
        {
         "name": "market_data.market_cap_change_percentage_24h_in_currency.bits",
         "rawType": "float64",
         "type": "float"
        },
        {
         "name": "market_data.market_cap_change_percentage_24h_in_currency.link",
         "rawType": "float64",
         "type": "float"
        },
        {
         "name": "market_data.market_cap_change_percentage_24h_in_currency.sats",
         "rawType": "float64",
         "type": "float"
        },
        {
         "name": "market_data.total_supply",
         "rawType": "float64",
         "type": "float"
        },
        {
         "name": "market_data.max_supply",
         "rawType": "float64",
         "type": "float"
        },
        {
         "name": "market_data.max_supply_infinite",
         "rawType": "bool",
         "type": "boolean"
        },
        {
         "name": "market_data.circulating_supply",
         "rawType": "float64",
         "type": "float"
        },
        {
         "name": "market_data.last_updated",
         "rawType": "object",
         "type": "string"
        },
        {
         "name": "community_data.facebook_likes",
         "rawType": "object",
         "type": "unknown"
        },
        {
         "name": "community_data.reddit_average_posts_48h",
         "rawType": "float64",
         "type": "float"
        },
        {
         "name": "community_data.reddit_average_comments_48h",
         "rawType": "float64",
         "type": "float"
        },
        {
         "name": "community_data.reddit_subscribers",
         "rawType": "int64",
         "type": "integer"
        },
        {
         "name": "community_data.reddit_accounts_active_48h",
         "rawType": "int64",
         "type": "integer"
        },
        {
         "name": "community_data.telegram_channel_user_count",
         "rawType": "object",
         "type": "unknown"
        },
        {
         "name": "developer_data.forks",
         "rawType": "int64",
         "type": "integer"
        },
        {
         "name": "developer_data.stars",
         "rawType": "int64",
         "type": "integer"
        },
        {
         "name": "developer_data.subscribers",
         "rawType": "int64",
         "type": "integer"
        },
        {
         "name": "developer_data.total_issues",
         "rawType": "int64",
         "type": "integer"
        },
        {
         "name": "developer_data.closed_issues",
         "rawType": "int64",
         "type": "integer"
        },
        {
         "name": "developer_data.pull_requests_merged",
         "rawType": "int64",
         "type": "integer"
        },
        {
         "name": "developer_data.pull_request_contributors",
         "rawType": "int64",
         "type": "integer"
        },
        {
         "name": "developer_data.code_additions_deletions_4_weeks.additions",
         "rawType": "int64",
         "type": "integer"
        },
        {
         "name": "developer_data.code_additions_deletions_4_weeks.deletions",
         "rawType": "int64",
         "type": "integer"
        },
        {
         "name": "developer_data.commit_count_4_weeks",
         "rawType": "int64",
         "type": "integer"
        },
        {
         "name": "developer_data.last_4_weeks_commit_activity_series",
         "rawType": "object",
         "type": "unknown"
        }
       ],
       "ref": "0bd1d871-bef1-45ca-9a16-adbb12f8e993",
       "rows": [
        [
         "0",
         "bitcoin",
         "btc",
         "Bitcoin",
         "bitcoin",
         null,
         "10",
         "SHA-256",
         "['Smart Contract Platform', 'Layer 1 (L1)', 'FTX Holdings', 'Proof of Work (PoW)', 'Bitcoin Ecosystem', 'GMCI 30 Index', 'GMCI Index', 'Coinbase 50 Index']",
         "False",
         null,
         "[]",
         "",
         "2009-01-03",
         "71.01",
         "28.99",
         "2147933",
         "1",
         "[]",
         "2025-08-21T01:26:23.891Z",
         "[{'base': 'BTC', 'target': 'FDUSD', 'market': {'name': 'Binance', 'identifier': 'binance', 'has_trading_incentive': False}, 'last': 114538.6, 'volume': 26294.00468, 'converted_last': {'btc': 0.99969555, 'eth': 26.484237, 'usd': 114243}, 'converted_volume': {'btc': 26150, 'eth': 692785, 'usd': 2988412375}, 'trust_score': 'green', 'bid_ask_spread_percentage': 0.014454, 'timestamp': '2025-08-21T01:12:34+00:00', 'last_traded_at': '2025-08-21T01:12:34+00:00', 'last_fetch_at': '2025-08-21T01:12:34+00:00', 'is_anomaly': False, 'is_stale': False, 'trade_url': 'https://www.binance.com/en/trade/BTC_FDUSD?ref=37754157', 'token_info_url': None, 'coin_id': 'bitcoin', 'target_coin_id': 'first-digital-usd', 'coin_mcap_usd': 2270216550897.1494}, {'base': 'BTC', 'target': 'USDT', 'market': {'name': 'Binance', 'identifier': 'binance', 'has_trading_incentive': False}, 'last': 114144.47, 'volume': 15491.02929, 'converted_last': {'btc': 1.000021, 'eth': 26.471485, 'usd': 114146}, 'converted_volume': {'btc': 15422, 'eth': 408243, 'usd': 1760358491}, 'trust_score': 'green', 'bid_ask_spread_percentage': 0.010009, 'timestamp': '2025-08-21T01:24:34+00:00', 'last_traded_at': '2025-08-21T01:24:34+00:00', 'last_fetch_at': '2025-08-21T01:26:00+00:00', 'is_anomaly': False, 'is_stale': False, 'trade_url': 'https://www.binance.com/en/trade/BTC_USDT?ref=37754157', 'token_info_url': None, 'coin_id': 'bitcoin', 'target_coin_id': 'tether', 'coin_mcap_usd': 2270216550897.1494}, {'base': 'BTC', 'target': 'USD', 'market': {'name': 'Crypto.com Exchange', 'identifier': 'crypto_com', 'has_trading_incentive': False}, 'last': 114149.43, 'volume': 10779.1674, 'converted_last': {'btc': 1.00005, 'eth': 26.472251, 'usd': 114149}, 'converted_volume': {'btc': 10780, 'eth': 285349, 'usd': 1230435815}, 'trust_score': 'green', 'bid_ask_spread_percentage': 0.010009, 'timestamp': '2025-08-21T01:24:34+00:00', 'last_traded_at': '2025-08-21T01:24:34+00:00', 'last_fetch_at': '2025-08-21T01:26:01+00:00', 'is_anomaly': False, 'is_stale': False, 'trade_url': 'https://crypto.com/exchange/trade/spot/BTC_USD', 'token_info_url': None, 'coin_id': 'bitcoin', 'coin_mcap_usd': 2270216550897.1494}, {'base': 'BTC', 'target': 'USDT', 'market': {'name': 'Bitget', 'identifier': 'bitget', 'has_trading_incentive': False}, 'last': 114181.41, 'volume': 7254.649402, 'converted_last': {'btc': 1.000346, 'eth': 26.480083, 'usd': 114183}, 'converted_volume': {'btc': 7226, 'eth': 191272, 'usd': 824772954}, 'trust_score': 'green', 'bid_ask_spread_percentage': 0.010009, 'timestamp': '2025-08-21T01:26:12+00:00', 'last_traded_at': '2025-08-21T01:26:12+00:00', 'last_fetch_at': '2025-08-21T01:26:12+00:00', 'is_anomaly': False, 'is_stale': False, 'trade_url': 'https://www.bitget.com/spot/BTCUSDT', 'token_info_url': None, 'coin_id': 'bitcoin', 'target_coin_id': 'tether', 'coin_mcap_usd': 2270216550897.1494}, {'base': 'BTC', 'target': 'USDT', 'market': {'name': 'DigiFinex', 'identifier': 'digifinex', 'has_trading_incentive': False}, 'last': 114199.74, 'volume': 6699.3566467, 'converted_last': {'btc': 1.000505, 'eth': 26.484303, 'usd': 114201}, 'converted_volume': {'btc': 6703, 'eth': 177428, 'usd': 765075905}, 'trust_score': 'green', 'bid_ask_spread_percentage': 0.010009, 'timestamp': '2025-08-21T01:26:04+00:00', 'last_traded_at': '2025-08-21T01:26:04+00:00', 'last_fetch_at': '2025-08-21T01:26:04+00:00', 'is_anomaly': False, 'is_stale': False, 'trade_url': 'https://www.digifinex.com/en-ww/trade/USDT/BTC', 'token_info_url': None, 'coin_id': 'bitcoin', 'target_coin_id': 'tether', 'coin_mcap_usd': 2270216550897.1494}, {'base': 'BTC', 'target': 'USDT', 'market': {'name': 'Bybit', 'identifier': 'bybit_spot', 'has_trading_incentive': False}, 'last': 114141.2, 'volume': 6632.518208, 'converted_last': {'btc': 0.99999248, 'eth': 26.470727, 'usd': 114143}, 'converted_volume': {'btc': 6603, 'eth': 174784, 'usd': 753674640}, 'trust_score': 'green', 'bid_ask_spread_percentage': 0.010088, 'timestamp': '2025-08-21T01:25:04+00:00', 'last_traded_at': '2025-08-21T01:25:04+00:00', 'last_fetch_at': '2025-08-21T01:26:19+00:00', 'is_anomaly': False, 'is_stale': False, 'trade_url': 'https://www.bybit.com/trade/spot/BTC/USDT', 'token_info_url': None, 'coin_id': 'bitcoin', 'target_coin_id': 'tether', 'coin_mcap_usd': 2270216550897.1494}, {'base': 'BTC', 'target': 'USDT', 'market': {'name': 'Gate', 'identifier': 'gate', 'has_trading_incentive': False}, 'last': 114154.8, 'volume': 5773.714865, 'converted_last': {'btc': 0.99991274, 'eth': 26.468616, 'usd': 114134}, 'converted_volume': {'btc': 5751, 'eth': 152239, 'usd': 656461190}, 'trust_score': 'green', 'bid_ask_spread_percentage': 0.010088, 'timestamp': '2025-08-21T01:25:19+00:00', 'last_traded_at': '2025-08-21T01:25:19+00:00', 'last_fetch_at': '2025-08-21T01:26:00+00:00', 'is_anomaly': False, 'is_stale': False, 'trade_url': 'https://www.gate.com/trade/BTC_USDT', 'token_info_url': None, 'coin_id': 'bitcoin', 'target_coin_id': 'tether', 'coin_mcap_usd': 2270216550897.1494}, {'base': 'BTC', 'target': 'USD', 'market': {'name': 'Coinbase Exchange', 'identifier': 'gdax', 'has_trading_incentive': False}, 'last': 114139.92, 'volume': 5521.49276123, 'converted_last': {'btc': 0.99996673, 'eth': 26.470046, 'usd': 114140}, 'converted_volume': {'btc': 5521, 'eth': 146154, 'usd': 630222742}, 'trust_score': 'green', 'bid_ask_spread_percentage': 0.010009, 'timestamp': '2025-08-21T01:24:35+00:00', 'last_traded_at': '2025-08-21T01:24:35+00:00', 'last_fetch_at': '2025-08-21T01:26:01+00:00', 'is_anomaly': False, 'is_stale': False, 'trade_url': 'https://www.coinbase.com/advanced-trade/spot/BTC-USD', 'token_info_url': None, 'coin_id': 'bitcoin', 'coin_mcap_usd': 2270216550897.1494}, {'base': 'BTC', 'target': 'USDT', 'market': {'name': 'Crypto.com Exchange', 'identifier': 'crypto_com', 'has_trading_incentive': False}, 'last': 114101.32, 'volume': 5474.0575, 'converted_last': {'btc': 0.99974852, 'eth': 26.464269, 'usd': 114115}, 'converted_volume': {'btc': 5473, 'eth': 144867, 'usd': 624672138}, 'trust_score': 'green', 'bid_ask_spread_percentage': 0.010009, 'timestamp': '2025-08-21T01:24:33+00:00', 'last_traded_at': '2025-08-21T01:24:33+00:00', 'last_fetch_at': '2025-08-21T01:26:01+00:00', 'is_anomaly': False, 'is_stale': False, 'trade_url': 'https://crypto.com/exchange/trade/spot/BTC_USDT', 'token_info_url': None, 'coin_id': 'bitcoin', 'target_coin_id': 'tether', 'coin_mcap_usd': 2270216550897.1494}, {'base': 'BTC', 'target': 'USDT', 'market': {'name': 'OKX', 'identifier': 'okex', 'has_trading_incentive': False}, 'last': 114188.0, 'volume': 5307.51139705, 'converted_last': {'btc': 1.000588, 'eth': 26.486492, 'usd': 114211}, 'converted_volume': {'btc': 5288, 'eth': 139991, 'usd': 603645467}, 'trust_score': 'green', 'bid_ask_spread_percentage': 0.010088, 'timestamp': '2025-08-21T01:26:00+00:00', 'last_traded_at': '2025-08-21T01:26:00+00:00', 'last_fetch_at': '2025-08-21T01:26:01+00:00', 'is_anomaly': False, 'is_stale': False, 'trade_url': 'https://www.okx.com/trade-spot/btc-usdt', 'token_info_url': None, 'coin_id': 'bitcoin', 'target_coin_id': 'tether', 'coin_mcap_usd': 2270216550897.1494}, {'base': 'BTC', 'target': 'USDT', 'market': {'name': 'MEXC', 'identifier': 'mxc', 'has_trading_incentive': False}, 'last': 114158.39, 'volume': 5073.38210339, 'converted_last': {'btc': 1.000143, 'eth': 26.474714, 'usd': 114160}, 'converted_volume': {'btc': 5054, 'eth': 133781, 'usd': 576870467}, 'trust_score': 'green', 'bid_ask_spread_percentage': 0.010009, 'timestamp': '2025-08-21T01:25:32+00:00', 'last_traded_at': '2025-08-21T01:25:32+00:00', 'last_fetch_at': '2025-08-21T01:26:04+00:00', 'is_anomaly': False, 'is_stale': False, 'trade_url': 'https://www.mexc.com/exchange/BTC_USDT', 'token_info_url': None, 'coin_id': 'bitcoin', 'target_coin_id': 'tether', 'coin_mcap_usd': 2270216550897.1494}, {'base': 'BTC', 'target': 'USDT', 'market': {'name': 'KuCoin', 'identifier': 'kucoin', 'has_trading_incentive': False}, 'last': 114137.9, 'volume': 0.0, 'converted_last': {'btc': 0.99996357, 'eth': 26.469962, 'usd': 114140}, 'converted_volume': {'btc': 4814, 'eth': 127418, 'usd': 549431094}, 'trust_score': 'green', 'bid_ask_spread_percentage': 0.010088, 'timestamp': '2025-08-21T01:25:08+00:00', 'last_traded_at': '2025-08-21T01:25:08+00:00', 'last_fetch_at': '2025-08-21T01:26:02+00:00', 'is_anomaly': False, 'is_stale': False, 'trade_url': 'https://www.kucoin.com/trade/BTC-USDT', 'token_info_url': None, 'coin_id': 'bitcoin', 'target_coin_id': 'tether', 'coin_mcap_usd': 2270216550897.1494}, {'base': 'BTC', 'target': 'USDT', 'market': {'name': 'XT.COM', 'identifier': 'xt', 'has_trading_incentive': False}, 'last': 114037.9, 'volume': 4869.2012, 'converted_last': {'btc': 1.000534, 'eth': 26.510982, 'usd': 114041}, 'converted_volume': {'btc': 4855, 'eth': 128631, 'usd': 553326139}, 'trust_score': 'green', 'bid_ask_spread_percentage': 0.011026, 'timestamp': '2025-08-21T01:22:05+00:00', 'last_traded_at': '2025-08-21T01:22:05+00:00', 'last_fetch_at': '2025-08-21T01:22:05+00:00', 'is_anomaly': False, 'is_stale': False, 'trade_url': 'https://www.xt.com/en/trade/btc_usdt', 'token_info_url': None, 'coin_id': 'bitcoin', 'target_coin_id': 'tether', 'coin_mcap_usd': 2270216550897.1494}, {'base': 'BTC', 'target': 'USDT', 'market': {'name': 'Biconomy.com', 'identifier': 'biconomy', 'has_trading_incentive': False}, 'last': 114153.91, 'volume': 4358.35414, 'converted_last': {'btc': 1.000104, 'eth': 26.473675, 'usd': 114156}, 'converted_volume': {'btc': 4340, 'eth': 114875, 'usd': 495345960}, 'trust_score': 'green', 'bid_ask_spread_percentage': 0.010026, 'timestamp': '2025-08-21T01:25:33+00:00', 'last_traded_at': '2025-08-21T01:25:33+00:00', 'last_fetch_at': '2025-08-21T01:26:02+00:00', 'is_anomaly': False, 'is_stale': False, 'trade_url': 'https://www.biconomy.com/exchange/BTC_USDT', 'token_info_url': None, 'coin_id': 'bitcoin', 'target_coin_id': 'tether', 'coin_mcap_usd': 2270216550897.1494}, {'base': 'BTC', 'target': 'USDT', 'market': {'name': 'Toobit', 'identifier': 'toobit', 'has_trading_incentive': False}, 'last': 114148.58, 'volume': 4182.008533, 'converted_last': {'btc': 0.99995826, 'eth': 26.469821, 'usd': 114139}, 'converted_volume': {'btc': 4164, 'eth': 110220, 'usd': 475271013}, 'trust_score': 'green', 'bid_ask_spread_percentage': 0.010009, 'timestamp': '2025-08-21T01:25:34+00:00', 'last_traded_at': '2025-08-21T01:25:34+00:00', 'last_fetch_at': '2025-08-21T01:26:03+00:00', 'is_anomaly': False, 'is_stale': False, 'trade_url': 'https://www.toobit.com/en-US/spot/BTC_USDT', 'token_info_url': None, 'coin_id': 'bitcoin', 'target_coin_id': 'tether', 'coin_mcap_usd': 2270216550897.1494}, {'base': 'BTC', 'target': 'USDT', 'market': {'name': 'Hotcoin', 'identifier': 'hotcoin_global', 'has_trading_incentive': False}, 'last': 114148.58, 'volume': 4906.435389727602, 'converted_last': {'btc': 1.000057, 'eth': 26.472439, 'usd': 114150}, 'converted_volume': {'btc': 4907, 'eth': 129885, 'usd': 560070771}, 'trust_score': 'green', 'bid_ask_spread_percentage': 0.011892, 'timestamp': '2025-08-21T01:25:33+00:00', 'last_traded_at': '2025-08-21T01:25:33+00:00', 'last_fetch_at': '2025-08-21T01:26:02+00:00', 'is_anomaly': False, 'is_stale': False, 'trade_url': 'https://www.hotcoin.com/currencyExchange/btc_usdt', 'token_info_url': None, 'coin_id': 'bitcoin', 'target_coin_id': 'tether', 'coin_mcap_usd': 2270216550897.1494}, {'base': 'BTC', 'target': 'USDC', 'market': {'name': 'Binance', 'identifier': 'binance', 'has_trading_incentive': False}, 'last': 114156.0, 'volume': 3746.4808, 'converted_last': {'btc': 0.99983888, 'eth': 26.480593, 'usd': 114124}, 'converted_volume': {'btc': 3729, 'eth': 98772, 'usd': 425680102}, 'trust_score': 'green', 'bid_ask_spread_percentage': 0.010009, 'timestamp': '2025-08-21T01:24:34+00:00', 'last_traded_at': '2025-08-21T01:24:34+00:00', 'last_fetch_at': '2025-08-21T01:26:00+00:00', 'is_anomaly': False, 'is_stale': False, 'trade_url': 'https://www.binance.com/en/trade/BTC_USDC?ref=37754157', 'token_info_url': None, 'coin_id': 'bitcoin', 'target_coin_id': 'usd-coin', 'coin_mcap_usd': 2270216550897.1494}, {'base': 'BTC', 'target': 'USD', 'market': {'name': 'P2B', 'identifier': 'p2pb2b', 'has_trading_incentive': False}, 'last': 114162.96, 'volume': 3586.83405, 'converted_last': {'btc': 1.000169, 'eth': 26.475389, 'usd': 114163}, 'converted_volume': {'btc': 3587, 'eth': 94963, 'usd': 409483592}, 'trust_score': 'green', 'bid_ask_spread_percentage': 0.010009, 'timestamp': '2025-08-21T01:26:03+00:00', 'last_traded_at': '2025-08-21T01:26:03+00:00', 'last_fetch_at': '2025-08-21T01:26:03+00:00', 'is_anomaly': False, 'is_stale': False, 'trade_url': None, 'token_info_url': None, 'coin_id': 'bitcoin', 'coin_mcap_usd': 2270216550897.1494}, {'base': 'BTC', 'target': 'USDT', 'market': {'name': 'Bitrue', 'identifier': 'bitrue', 'has_trading_incentive': False}, 'last': 114186.04, 'volume': 3503.4165, 'converted_last': {'btc': 1.000385, 'eth': 26.481126, 'usd': 114188}, 'converted_volume': {'btc': 3505, 'eth': 92774, 'usd': 400047070}, 'trust_score': 'green', 'bid_ask_spread_percentage': 0.010009, 'timestamp': '2025-08-21T01:26:03+00:00', 'last_traded_at': '2025-08-21T01:26:03+00:00', 'last_fetch_at': '2025-08-21T01:26:03+00:00', 'is_anomaly': False, 'is_stale': False, 'trade_url': 'https://www.bitrue.com/trade/btc_usdt', 'token_info_url': None, 'coin_id': 'bitcoin', 'target_coin_id': 'tether', 'coin_mcap_usd': 2270216550897.1494}, {'base': 'BTC', 'target': 'USDT', 'market': {'name': 'AscendEX (BitMax)', 'identifier': 'bitmax', 'has_trading_incentive': False}, 'last': 114189.57, 'volume': 4225.61243, 'converted_last': {'btc': 1.001002, 'eth': 26.497449, 'usd': 114258}, 'converted_volume': {'btc': 4230, 'eth': 111968, 'usd': 482810379}, 'trust_score': 'green', 'bid_ask_spread_percentage': 0.013083, 'timestamp': '2025-08-21T01:26:02+00:00', 'last_traded_at': '2025-08-21T01:26:02+00:00', 'last_fetch_at': '2025-08-21T01:26:02+00:00', 'is_anomaly': False, 'is_stale': False, 'trade_url': 'https://ascendex.com/en/cashtrade-spottrading/usdt/btc', 'token_info_url': None, 'coin_id': 'bitcoin', 'target_coin_id': 'tether', 'coin_mcap_usd': 2270216550897.1494}, {'base': 'BTC', 'target': 'USDT', 'market': {'name': 'LBank', 'identifier': 'lbank', 'has_trading_incentive': False}, 'last': 114153.14, 'volume': 3038.3962, 'converted_last': {'btc': 1.000097, 'eth': 26.473496, 'usd': 114155}, 'converted_volume': {'btc': 3039, 'eth': 80437, 'usd': 346847507}, 'trust_score': 'green', 'bid_ask_spread_percentage': 0.010009, 'timestamp': '2025-08-21T01:25:04+00:00', 'last_traded_at': '2025-08-21T01:25:04+00:00', 'last_fetch_at': '2025-08-21T01:26:04+00:00', 'is_anomaly': False, 'is_stale': False, 'trade_url': 'https://www.lbank.com/trade/btc_usdt', 'token_info_url': None, 'coin_id': 'bitcoin', 'target_coin_id': 'tether', 'coin_mcap_usd': 2270216550897.1494}, {'base': 'BTC', 'target': 'USDT', 'market': {'name': 'WhiteBIT', 'identifier': 'whitebit', 'has_trading_incentive': False}, 'last': 114144.17, 'volume': 2466.883315, 'converted_last': {'btc': 1.005504, 'eth': 26.616622, 'usd': 114772}, 'converted_volume': {'btc': 2480, 'eth': 65660, 'usd': 283129040}, 'trust_score': 'green', 'bid_ask_spread_percentage': 0.010009, 'timestamp': '2025-08-21T01:25:34+00:00', 'last_traded_at': '2025-08-21T01:25:34+00:00', 'last_fetch_at': '2025-08-21T01:26:04+00:00', 'is_anomaly': False, 'is_stale': False, 'trade_url': 'https://whitebit.com/trade/BTC_USDT', 'token_info_url': None, 'coin_id': 'bitcoin', 'target_coin_id': 'tether', 'coin_mcap_usd': 2270216550897.1494}, {'base': 'BTC', 'target': 'USDT', 'market': {'name': 'CoinW', 'identifier': 'coinw', 'has_trading_incentive': False}, 'last': 114145.92, 'volume': 31083.9584, 'converted_last': {'btc': 1.000034, 'eth': 26.471822, 'usd': 114148}, 'converted_volume': {'btc': 31085, 'eth': 822849, 'usd': 3548158590}, 'trust_score': 'green', 'bid_ask_spread_percentage': 0.011454, 'timestamp': '2025-08-21T01:25:30+00:00', 'last_traded_at': '2025-08-21T01:25:30+00:00', 'last_fetch_at': '2025-08-21T01:26:01+00:00', 'is_anomaly': False, 'is_stale': False, 'trade_url': 'https://www.coinw.com/spot/btcusdt', 'token_info_url': None, 'coin_id': 'bitcoin', 'target_coin_id': 'tether', 'coin_mcap_usd': 2270216550897.1494}, {'base': 'BTC', 'target': 'USDT', 'market': {'name': 'Zoomex', 'identifier': 'zoomex', 'has_trading_incentive': False}, 'last': 114150.0, 'volume': 2653.007226, 'converted_last': {'btc': 1.00007, 'eth': 26.472768, 'usd': 114152}, 'converted_volume': {'btc': 2641, 'eth': 69913, 'usd': 301469849}, 'trust_score': 'green', 'bid_ask_spread_percentage': 0.010088, 'timestamp': '2025-08-21T01:25:04+00:00', 'last_traded_at': '2025-08-21T01:25:04+00:00', 'last_fetch_at': '2025-08-21T01:26:03+00:00', 'is_anomaly': False, 'is_stale': False, 'trade_url': 'https://www.zoomex.com/trade/spot/BTC/USDT', 'token_info_url': None, 'coin_id': 'bitcoin', 'target_coin_id': 'tether', 'coin_mcap_usd': 2270216550897.1494}, {'base': 'BTC', 'target': 'USDT', 'market': {'name': 'BitDelta', 'identifier': 'bitdelta', 'has_trading_incentive': False}, 'last': 114154.18, 'volume': 2770.59688, 'converted_last': {'btc': 1.000106, 'eth': 26.473737, 'usd': 114156}, 'converted_volume': {'btc': 2761, 'eth': 73078, 'usd': 315114669}, 'trust_score': 'green', 'bid_ask_spread_percentage': 0.011498, 'timestamp': '2025-08-21T01:25:34+00:00', 'last_traded_at': '2025-08-21T01:25:34+00:00', 'last_fetch_at': '2025-08-21T01:26:03+00:00', 'is_anomaly': False, 'is_stale': False, 'trade_url': 'https://bitdelta.com/en/trade/BTC_USDT', 'token_info_url': None, 'coin_id': 'bitcoin', 'target_coin_id': 'tether', 'coin_mcap_usd': 2270216550897.1494}, {'base': 'BTC', 'target': 'USDT', 'market': {'name': 'Slex', 'identifier': 'slex', 'has_trading_incentive': False}, 'last': 114152.79, 'volume': 2440.41905, 'converted_last': {'btc': 1.000094, 'eth': 26.473415, 'usd': 114154}, 'converted_volume': {'btc': 2430, 'eth': 64314, 'usd': 277323631}, 'trust_score': 'green', 'bid_ask_spread_percentage': 0.010009, 'timestamp': '2025-08-21T01:25:06+00:00', 'last_traded_at': '2025-08-21T01:25:06+00:00', 'last_fetch_at': '2025-08-21T01:26:05+00:00', 'is_anomaly': False, 'is_stale': False, 'trade_url': 'https://slex.io/trade/btcusdt', 'token_info_url': None, 'coin_id': 'bitcoin', 'target_coin_id': 'tether', 'coin_mcap_usd': 2270216550897.1494}, {'base': 'BTC', 'target': 'USD', 'market': {'name': 'Bitstamp', 'identifier': 'bitstamp', 'has_trading_incentive': False}, 'last': 114132.0, 'volume': 2308.23583922, 'converted_last': {'btc': 0.99989735, 'eth': 26.468209, 'usd': 114132}, 'converted_volume': {'btc': 2308, 'eth': 61095, 'usd': 263443573}, 'trust_score': 'green', 'bid_ask_spread_percentage': 0.010876, 'timestamp': '2025-08-21T01:24:38+00:00', 'last_traded_at': '2025-08-21T01:24:38+00:00', 'last_fetch_at': '2025-08-21T01:26:05+00:00', 'is_anomaly': False, 'is_stale': False, 'trade_url': 'https://www.bitstamp.net/markets/btc/usd/', 'token_info_url': None, 'coin_id': 'bitcoin', 'coin_mcap_usd': 2270216550897.1494}, {'base': 'BTC', 'target': 'USDT', 'market': {'name': 'Hibt', 'identifier': 'hibt', 'has_trading_incentive': False}, 'last': 114147.4, 'volume': 1974.6195822941993, 'converted_last': {'btc': 1.000047, 'eth': 26.472165, 'usd': 114149}, 'converted_volume': {'btc': 1966, 'eth': 52038, 'usd': 224390538}, 'trust_score': 'green', 'bid_ask_spread_percentage': 0.01035, 'timestamp': '2025-08-21T01:25:35+00:00', 'last_traded_at': '2025-08-21T01:25:35+00:00', 'last_fetch_at': '2025-08-21T01:26:05+00:00', 'is_anomaly': False, 'is_stale': False, 'trade_url': 'https://hibt.com/trade/BTC-USDT', 'token_info_url': None, 'coin_id': 'bitcoin', 'target_coin_id': 'tether', 'coin_mcap_usd': 2270216550897.1494}, {'base': 'BTC', 'target': 'USDT', 'market': {'name': 'BVOX', 'identifier': 'bitvenus_spot', 'has_trading_incentive': False}, 'last': 114147.48, 'volume': 19659.61667, 'converted_last': {'btc': 1.000064, 'eth': 26.486563, 'usd': 114149}, 'converted_volume': {'btc': 19600, 'eth': 519105, 'usd': 2237189601}, 'trust_score': 'green', 'bid_ask_spread_percentage': 0.010009, 'timestamp': '2025-08-21T01:25:30+00:00', 'last_traded_at': '2025-08-21T01:25:30+00:00', 'last_fetch_at': '2025-08-21T01:26:00+00:00', 'is_anomaly': False, 'is_stale': False, 'trade_url': 'https://www.bitvenus.me/exchange/BTC/USDT', 'token_info_url': None, 'coin_id': 'bitcoin', 'target_coin_id': 'tether', 'coin_mcap_usd': 2270216550897.1494}, {'base': 'BTC', 'target': 'USDT', 'market': {'name': 'Ourbit', 'identifier': 'ourbit', 'has_trading_incentive': False}, 'last': 114144.48, 'volume': 18527.153328, 'converted_last': {'btc': 1.000037, 'eth': 26.485836, 'usd': 114146}, 'converted_volume': {'btc': 18453, 'eth': 488721, 'usd': 2106243564}, 'trust_score': 'green', 'bid_ask_spread_percentage': 0.010009, 'timestamp': '2025-08-21T01:25:30+00:00', 'last_traded_at': '2025-08-21T01:25:30+00:00', 'last_fetch_at': '2025-08-21T01:26:00+00:00', 'is_anomaly': False, 'is_stale': False, 'trade_url': 'https://www.ourbit.com/exchange/BTC_USDT', 'token_info_url': None, 'coin_id': 'bitcoin', 'target_coin_id': 'tether', 'coin_mcap_usd': 2270216550897.1494}, {'base': 'BTC', 'target': 'USDT', 'market': {'name': 'Bitunix', 'identifier': 'bitunix', 'has_trading_incentive': False}, 'last': 114174.62, 'volume': 1803.00857, 'converted_last': {'btc': 1.000186, 'eth': 26.47586, 'usd': 114165}, 'converted_volume': {'btc': 1803, 'eth': 47736, 'usd': 205840457}, 'trust_score': 'green', 'bid_ask_spread_percentage': 0.010009, 'timestamp': '2025-08-21T01:26:31+00:00', 'last_traded_at': '2025-08-21T01:26:31+00:00', 'last_fetch_at': '2025-08-21T01:26:31+00:00', 'is_anomaly': False, 'is_stale': False, 'trade_url': 'https://www.bitunix.com/spot-trade/BTCUSDT', 'token_info_url': None, 'coin_id': 'bitcoin', 'target_coin_id': 'tether', 'coin_mcap_usd': 2270216550897.1494}, {'base': 'BTC', 'target': 'USDT', 'market': {'name': 'BingX', 'identifier': 'bingx', 'has_trading_incentive': False}, 'last': 114186.04, 'volume': 1494.9657027274893, 'converted_last': {'btc': 1.000386, 'eth': 26.481157, 'usd': 114188}, 'converted_volume': {'btc': 1489, 'eth': 39410, 'usd': 169936163}, 'trust_score': 'green', 'bid_ask_spread_percentage': 0.010018, 'timestamp': '2025-08-21T01:26:24+00:00', 'last_traded_at': '2025-08-21T01:26:24+00:00', 'last_fetch_at': '2025-08-21T01:26:24+00:00', 'is_anomaly': False, 'is_stale': False, 'trade_url': 'https://bingx.com/en-us/spot/BTCUSDT', 'token_info_url': None, 'coin_id': 'bitcoin', 'target_coin_id': 'tether', 'coin_mcap_usd': 2270216550897.1494}, {'base': 'BTC', 'target': 'USDT', 'market': {'name': 'KCEX', 'identifier': 'kcex', 'has_trading_incentive': False}, 'last': 114148.58, 'volume': 16855.34846, 'converted_last': {'btc': 0.99995826, 'eth': 26.469821, 'usd': 114139}, 'converted_volume': {'btc': 16782, 'eth': 444223, 'usd': 1915506281}, 'trust_score': 'green', 'bid_ask_spread_percentage': 0.010009, 'timestamp': '2025-08-21T01:25:30+00:00', 'last_traded_at': '2025-08-21T01:25:30+00:00', 'last_fetch_at': '2025-08-21T01:26:03+00:00', 'is_anomaly': False, 'is_stale': False, 'trade_url': 'https://www.kcex.com/exchange/BTC_USDT', 'token_info_url': None, 'coin_id': 'bitcoin', 'target_coin_id': 'tether', 'coin_mcap_usd': 2270216550897.1494}, {'base': 'BTC', 'target': 'USDT', 'market': {'name': 'P2B', 'identifier': 'p2pb2b', 'has_trading_incentive': False}, 'last': 114152.78, 'volume': 3694.998515, 'converted_last': {'btc': 0.99970776, 'eth': 26.46319, 'usd': 114110}, 'converted_volume': {'btc': 3694, 'eth': 97781, 'usd': 421637611}, 'trust_score': 'green', 'bid_ask_spread_percentage': 0.022568, 'timestamp': '2025-08-21T01:26:03+00:00', 'last_traded_at': '2025-08-21T01:26:03+00:00', 'last_fetch_at': '2025-08-21T01:26:03+00:00', 'is_anomaly': False, 'is_stale': False, 'trade_url': None, 'token_info_url': None, 'coin_id': 'bitcoin', 'target_coin_id': 'tether', 'coin_mcap_usd': 2270216550897.1494}, {'base': 'BTC', 'target': 'USDT', 'market': {'name': 'Coinstore', 'identifier': 'coinstore', 'has_trading_incentive': False}, 'last': 114106.91, 'volume': 16898.56318, 'converted_last': {'btc': 0.99970769, 'eth': 26.477119, 'usd': 114109}, 'converted_volume': {'btc': 16823, 'eth': 445551, 'usd': 1920194552}, 'trust_score': 'green', 'bid_ask_spread_percentage': 0.010298, 'timestamp': '2025-08-21T01:25:30+00:00', 'last_traded_at': '2025-08-21T01:25:30+00:00', 'last_fetch_at': '2025-08-21T01:26:00+00:00', 'is_anomaly': False, 'is_stale': False, 'trade_url': 'https://www.coinstore.com/#/spot/BTCUSDT', 'token_info_url': None, 'coin_id': 'bitcoin', 'target_coin_id': 'tether', 'coin_mcap_usd': 2270216550897.1494}, {'base': 'XBT', 'target': 'USD', 'market': {'name': 'Kraken', 'identifier': 'kraken', 'has_trading_incentive': False}, 'last': 114078.6, 'volume': 1255.43717767, 'converted_last': {'btc': 0.99942952, 'eth': 26.455825, 'usd': 114079}, 'converted_volume': {'btc': 1255, 'eth': 33214, 'usd': 143218516}, 'trust_score': 'green', 'bid_ask_spread_percentage': 0.010088, 'timestamp': '2025-08-21T01:24:39+00:00', 'last_traded_at': '2025-08-21T01:24:39+00:00', 'last_fetch_at': '2025-08-21T01:26:06+00:00', 'is_anomaly': False, 'is_stale': False, 'trade_url': 'https://pro.kraken.com/app/trade/XBT-USD', 'token_info_url': None, 'coin_id': 'bitcoin', 'coin_mcap_usd': 2270216550897.1494}, {'base': 'BTC', 'target': 'USDT', 'market': {'name': 'BigONE', 'identifier': 'bigone', 'has_trading_incentive': False}, 'last': 114186.04, 'volume': 1760.299817, 'converted_last': {'btc': 1.000385, 'eth': 26.481126, 'usd': 114188}, 'converted_volume': {'btc': 1761, 'eth': 46615, 'usd': 201004586}, 'trust_score': 'green', 'bid_ask_spread_percentage': 0.012014, 'timestamp': '2025-08-21T01:25:37+00:00', 'last_traded_at': '2025-08-21T01:25:37+00:00', 'last_fetch_at': '2025-08-21T01:26:05+00:00', 'is_anomaly': False, 'is_stale': False, 'trade_url': 'https://big.one/trade/BTC-USDT', 'token_info_url': None, 'coin_id': 'bitcoin', 'target_coin_id': 'tether', 'coin_mcap_usd': 2270216550897.1494}, {'base': 'BTC', 'target': 'USDT', 'market': {'name': 'GroveX', 'identifier': 'grovex', 'has_trading_incentive': False}, 'last': 114035.15, 'volume': 13505.2924562, 'converted_last': {'btc': 0.99906337, 'eth': 26.446133, 'usd': 114037}, 'converted_volume': {'btc': 13493, 'eth': 357163, 'usd': 1540100432}, 'trust_score': 'green', 'bid_ask_spread_percentage': 0.010009, 'timestamp': '2025-08-21T01:22:31+00:00', 'last_traded_at': '2025-08-21T01:22:31+00:00', 'last_fetch_at': '2025-08-21T01:26:00+00:00', 'is_anomaly': False, 'is_stale': False, 'trade_url': 'https://www.grovex.io/en_US/trade/BTC_USDT', 'token_info_url': None, 'coin_id': 'bitcoin', 'target_coin_id': 'tether', 'coin_mcap_usd': 2270216550897.1494}, {'base': 'BTC', 'target': 'KRW', 'market': {'name': 'Upbit', 'identifier': 'upbit', 'has_trading_incentive': False}, 'last': 159103000.0, 'volume': 1448.94714138, 'converted_last': {'btc': 0.99758339, 'eth': 26.41171, 'usd': 113793}, 'converted_volume': {'btc': 1445, 'eth': 38269, 'usd': 164879610}, 'trust_score': 'green', 'bid_ask_spread_percentage': 0.010055, 'timestamp': '2025-08-21T01:22:08+00:00', 'last_traded_at': '2025-08-21T01:22:08+00:00', 'last_fetch_at': '2025-08-21T01:24:07+00:00', 'is_anomaly': False, 'is_stale': False, 'trade_url': 'https://upbit.com/exchange?code=CRIX.UPBIT.KRW-BTC', 'token_info_url': None, 'coin_id': 'bitcoin', 'coin_mcap_usd': 2270216550897.1494}, {'base': 'BTC', 'target': 'USDT', 'market': {'name': 'HTX', 'identifier': 'huobi', 'has_trading_incentive': False}, 'last': 114182.0, 'volume': 1412.870177941665, 'converted_last': {'btc': 1.00035, 'eth': 26.480189, 'usd': 114184}, 'converted_volume': {'btc': 1407, 'eth': 37251, 'usd': 160626417}, 'trust_score': 'green', 'bid_ask_spread_percentage': 0.010009, 'timestamp': '2025-08-21T01:26:06+00:00', 'last_traded_at': '2025-08-21T01:26:06+00:00', 'last_fetch_at': '2025-08-21T01:26:06+00:00', 'is_anomaly': False, 'is_stale': False, 'trade_url': 'https://www.huobi.com/en-us/exchange/btc_usdt', 'token_info_url': None, 'coin_id': 'bitcoin', 'target_coin_id': 'tether', 'coin_mcap_usd': 2270216550897.1494}, {'base': 'BTC', 'target': 'USDC', 'market': {'name': 'Bybit', 'identifier': 'bybit_spot', 'has_trading_incentive': False}, 'last': 114158.1, 'volume': 1260.925651, 'converted_last': {'btc': 0.99984165, 'eth': 26.466735, 'usd': 114126}, 'converted_volume': {'btc': 1255, 'eth': 33234, 'usd': 143306253}, 'trust_score': 'green', 'bid_ask_spread_percentage': 0.010088, 'timestamp': '2025-08-21T01:25:04+00:00', 'last_traded_at': '2025-08-21T01:25:04+00:00', 'last_fetch_at': '2025-08-21T01:26:19+00:00', 'is_anomaly': False, 'is_stale': False, 'trade_url': 'https://www.bybit.com/trade/spot/BTC/USDC', 'token_info_url': None, 'coin_id': 'bitcoin', 'target_coin_id': 'usd-coin', 'coin_mcap_usd': 2270216550897.1494}, {'base': 'BTC', 'target': 'USDT', 'market': {'name': 'BitMart', 'identifier': 'bitmart', 'has_trading_incentive': False}, 'last': 114155.57, 'volume': 15491.90634, 'converted_last': {'btc': 0.99996949, 'eth': 26.470118, 'usd': 114140}, 'converted_volume': {'btc': 15491, 'eth': 410073, 'usd': 1768249822}, 'trust_score': 'green', 'bid_ask_spread_percentage': 0.012024, 'timestamp': '2025-08-21T01:26:07+00:00', 'last_traded_at': '2025-08-21T01:26:07+00:00', 'last_fetch_at': '2025-08-21T01:26:07+00:00', 'is_anomaly': False, 'is_stale': False, 'trade_url': 'https://www.bitmart.com/trade/en?symbol=BTC_USDT', 'token_info_url': None, 'coin_id': 'bitcoin', 'target_coin_id': 'tether', 'coin_mcap_usd': 2270216550897.1494}, {'base': 'BTC', 'target': 'USDT', 'market': {'name': 'BTSE', 'identifier': 'btse', 'has_trading_incentive': False}, 'last': 114186.98654583884, 'volume': 1242.1651405362807, 'converted_last': {'btc': 1.000394, 'eth': 26.481346, 'usd': 114189}, 'converted_volume': {'btc': 1243, 'eth': 32894, 'usd': 141841155}, 'trust_score': 'green', 'bid_ask_spread_percentage': 0.010219, 'timestamp': '2025-08-21T01:26:07+00:00', 'last_traded_at': '2025-08-21T01:26:07+00:00', 'last_fetch_at': '2025-08-21T01:26:07+00:00', 'is_anomaly': False, 'is_stale': False, 'trade_url': 'https://www.btse.com/en/trading/BTC-USDT', 'token_info_url': None, 'coin_id': 'bitcoin', 'target_coin_id': 'tether', 'coin_mcap_usd': 2270216550897.1494}, {'base': 'BTC', 'target': 'USDT', 'market': {'name': 'Trubit', 'identifier': 'trubit', 'has_trading_incentive': False}, 'last': 114153.92, 'volume': 1484.15641, 'converted_last': {'btc': 1.000104, 'eth': 26.473677, 'usd': 114156}, 'converted_volume': {'btc': 1479, 'eth': 39152, 'usd': 168824533}, 'trust_score': 'green', 'bid_ask_spread_percentage': 0.013991, 'timestamp': '2025-08-21T01:25:38+00:00', 'last_traded_at': '2025-08-21T01:25:38+00:00', 'last_fetch_at': '2025-08-21T01:26:06+00:00', 'is_anomaly': False, 'is_stale': False, 'trade_url': 'https://www.trubit.com/pro/crypto-spot-trading/BTC/USDT', 'token_info_url': None, 'coin_id': 'bitcoin', 'target_coin_id': 'tether', 'coin_mcap_usd': 2270216550897.1494}, {'base': 'BTC', 'target': 'USDT', 'market': {'name': 'BloFin', 'identifier': 'blofin_spot', 'has_trading_incentive': False}, 'last': 114150.43, 'volume': 1125.37822, 'converted_last': {'btc': 1.000073, 'eth': 26.472868, 'usd': 114152}, 'converted_volume': {'btc': 1121, 'eth': 29662, 'usd': 127905532}, 'trust_score': 'green', 'bid_ask_spread_percentage': 0.012199, 'timestamp': '2025-08-21T01:25:36+00:00', 'last_traded_at': '2025-08-21T01:25:36+00:00', 'last_fetch_at': '2025-08-21T01:26:07+00:00', 'is_anomaly': False, 'is_stale': False, 'trade_url': 'https://blofin.com/spot/BTC-USDT', 'token_info_url': None, 'coin_id': 'bitcoin', 'target_coin_id': 'tether', 'coin_mcap_usd': 2270216550897.1494}, {'base': 'BTC', 'target': 'USDC', 'market': {'name': 'Biconomy.com', 'identifier': 'biconomy', 'has_trading_incentive': False}, 'last': 114165.98, 'volume': 933.9342, 'converted_last': {'btc': 0.99991067, 'eth': 26.468561, 'usd': 114134}, 'converted_volume': {'btc': 929.851, 'eth': 24614, 'usd': 106136693}, 'trust_score': 'green', 'bid_ask_spread_percentage': 0.010026, 'timestamp': '2025-08-21T01:25:33+00:00', 'last_traded_at': '2025-08-21T01:25:33+00:00', 'last_fetch_at': '2025-08-21T01:26:02+00:00', 'is_anomaly': False, 'is_stale': False, 'trade_url': 'https://www.biconomy.com/exchange/BTC_USDC', 'token_info_url': None, 'coin_id': 'bitcoin', 'target_coin_id': 'usd-coin', 'coin_mcap_usd': 2270216550897.1494}, {'base': 'BTC', 'target': 'USDT', 'market': {'name': 'WEEX', 'identifier': 'weex', 'has_trading_incentive': False}, 'last': 114140.0, 'volume': 8695.95198, 'converted_last': {'btc': 0.9998831, 'eth': 26.467832, 'usd': 114130}, 'converted_volume': {'btc': 8645, 'eth': 228854, 'usd': 986827813}, 'trust_score': 'green', 'bid_ask_spread_percentage': 0.010088, 'timestamp': '2025-08-21T01:25:31+00:00', 'last_traded_at': '2025-08-21T01:25:31+00:00', 'last_fetch_at': '2025-08-21T01:26:00+00:00', 'is_anomaly': False, 'is_stale': False, 'trade_url': 'https://www.weex.com/spot/BTC-USDT', 'token_info_url': None, 'coin_id': 'bitcoin', 'target_coin_id': 'tether', 'coin_mcap_usd': 2270216550897.1494}, {'base': 'BTC', 'target': 'USDC', 'market': {'name': 'Hotcoin', 'identifier': 'hotcoin_global', 'has_trading_incentive': False}, 'last': 114168.03, 'volume': 950.20126, 'converted_last': {'btc': 0.99992862, 'eth': 26.469037, 'usd': 114136}, 'converted_volume': {'btc': 950.133, 'eth': 25151, 'usd': 108451762}, 'trust_score': 'green', 'bid_ask_spread_percentage': 0.013162, 'timestamp': '2025-08-21T01:25:33+00:00', 'last_traded_at': '2025-08-21T01:25:33+00:00', 'last_fetch_at': '2025-08-21T01:26:02+00:00', 'is_anomaly': False, 'is_stale': False, 'trade_url': 'https://www.hotcoin.com/currencyExchange/btc_usdc', 'token_info_url': None, 'coin_id': 'bitcoin', 'target_coin_id': 'usd-coin', 'coin_mcap_usd': 2270216550897.1494}, {'base': 'BTC', 'target': 'USDC', 'market': {'name': 'LBank', 'identifier': 'lbank', 'has_trading_incentive': False}, 'last': 114149.2, 'volume': 677.864, 'converted_last': {'btc': 0.9997637, 'eth': 26.464671, 'usd': 114117}, 'converted_volume': {'btc': 677.704, 'eth': 17939, 'usd': 77355633}, 'trust_score': 'green', 'bid_ask_spread_percentage': 0.010009, 'timestamp': '2025-08-21T01:25:04+00:00', 'last_traded_at': '2025-08-21T01:25:04+00:00', 'last_fetch_at': '2025-08-21T01:26:03+00:00', 'is_anomaly': False, 'is_stale': False, 'trade_url': 'https://www.lbank.com/trade/btc_usdc', 'token_info_url': None, 'coin_id': 'bitcoin', 'target_coin_id': 'usd-coin', 'coin_mcap_usd': 2270216550897.1494}, {'base': 'BTC', 'target': 'USDT', 'market': {'name': 'BYDFi', 'identifier': 'bydfi', 'has_trading_incentive': False}, 'last': 114148.57, 'volume': 643.3878, 'converted_last': {'btc': 1.000057, 'eth': 26.472436, 'usd': 114150}, 'converted_volume': {'btc': 643.425, 'eth': 17032, 'usd': 73442865}, 'trust_score': 'green', 'bid_ask_spread_percentage': 0.010061, 'timestamp': '2025-08-21T01:25:08+00:00', 'last_traded_at': '2025-08-21T01:25:08+00:00', 'last_fetch_at': '2025-08-21T01:26:07+00:00', 'is_anomaly': False, 'is_stale': False, 'trade_url': 'https://www.bydfi.com/en/spot/btc_usdt', 'token_info_url': None, 'coin_id': 'bitcoin', 'target_coin_id': 'tether', 'coin_mcap_usd': 2270216550897.1494}, {'base': 'BTC', 'target': 'USDT', 'market': {'name': 'LATOKEN', 'identifier': 'latoken', 'has_trading_incentive': False}, 'last': 114182.4, 'volume': 907.1059195025745, 'converted_last': {'btc': 1.000353, 'eth': 26.480282, 'usd': 114184}, 'converted_volume': {'btc': 907.427, 'eth': 24020, 'usd': 103577036}, 'trust_score': 'green', 'bid_ask_spread_percentage': 0.014855, 'timestamp': '2025-08-21T01:26:07+00:00', 'last_traded_at': '2025-08-21T01:26:07+00:00', 'last_fetch_at': '2025-08-21T01:26:07+00:00', 'is_anomaly': False, 'is_stale': False, 'trade_url': 'https://latoken.com/exchange/USDT-BTC', 'token_info_url': None, 'coin_id': 'bitcoin', 'target_coin_id': 'tether', 'coin_mcap_usd': 2270216550897.1494}, {'base': 'BTC', 'target': 'USDT', 'market': {'name': 'Bullish', 'identifier': 'bullish_com', 'has_trading_incentive': False}, 'last': 114152.1122131, 'volume': 710.75147939, 'converted_last': {'btc': 1.000074, 'eth': 26.472873, 'usd': 114152}, 'converted_volume': {'btc': 708.004, 'eth': 18742, 'usd': 80814231}, 'trust_score': 'green', 'bid_ask_spread_percentage': 0.013592, 'timestamp': '2025-08-21T01:25:34+00:00', 'last_traded_at': '2025-08-21T01:25:34+00:00', 'last_fetch_at': '2025-08-21T01:26:03+00:00', 'is_anomaly': False, 'is_stale': False, 'trade_url': 'https://bullish.com/trade/', 'token_info_url': None, 'coin_id': 'bitcoin', 'target_coin_id': 'tether', 'coin_mcap_usd': 2270216550897.1494}, {'base': 'BTC', 'target': 'KRW', 'market': {'name': 'Bithumb', 'identifier': 'bithumb', 'has_trading_incentive': False}, 'last': 159207000.0, 'volume': 595.5940088, 'converted_last': {'btc': 0.99747635, 'eth': 26.404123, 'usd': 113856}, 'converted_volume': {'btc': 594.091, 'eth': 15726, 'usd': 67811748}, 'trust_score': 'green', 'bid_ask_spread_percentage': 0.011256, 'timestamp': '2025-08-21T01:26:07+00:00', 'last_traded_at': '2025-08-21T01:26:07+00:00', 'last_fetch_at': '2025-08-21T01:26:07+00:00', 'is_anomaly': False, 'is_stale': False, 'trade_url': 'https://www.bithumb.com/trade/order/BTC_KRW', 'token_info_url': None, 'coin_id': 'bitcoin', 'coin_mcap_usd': 2270216550897.1494}, {'base': 'BTC', 'target': 'USD', 'market': {'name': 'Bullish', 'identifier': 'bullish_com', 'has_trading_incentive': False}, 'last': 114147.5, 'volume': 464.61678688, 'converted_last': {'btc': 1.000033, 'eth': 26.471803, 'usd': 114148}, 'converted_volume': {'btc': 462.613, 'eth': 12246, 'usd': 52804348}, 'trust_score': 'green', 'bid_ask_spread_percentage': 0.010088, 'timestamp': '2025-08-21T01:25:34+00:00', 'last_traded_at': '2025-08-21T01:25:34+00:00', 'last_fetch_at': '2025-08-21T01:26:02+00:00', 'is_anomaly': False, 'is_stale': False, 'trade_url': 'https://bullish.com/trade/', 'token_info_url': None, 'coin_id': 'bitcoin', 'coin_mcap_usd': 2270216550897.1494}, {'base': 'BTC', 'target': 'USDT', 'market': {'name': 'Phemex', 'identifier': 'phemex', 'has_trading_incentive': False}, 'last': 114172.4, 'volume': 1654.927073, 'converted_last': {'btc': 1.000266, 'eth': 26.477963, 'usd': 114174}, 'converted_volume': {'btc': 1655, 'eth': 43819, 'usd': 188949742}, 'trust_score': 'green', 'bid_ask_spread_percentage': 0.037006, 'timestamp': '2025-08-21T01:26:20+00:00', 'last_traded_at': '2025-08-21T01:26:20+00:00', 'last_fetch_at': '2025-08-21T01:26:20+00:00', 'is_anomaly': False, 'is_stale': False, 'trade_url': 'https://phemex.com/spot/trade/BTCUSDT', 'token_info_url': None, 'coin_id': 'bitcoin', 'target_coin_id': 'tether', 'coin_mcap_usd': 2270216550897.1494}, {'base': 'BTC', 'target': 'USDC', 'market': {'name': 'Bit2Me', 'identifier': 'bit2me', 'has_trading_incentive': False}, 'last': 114182.01, 'volume': 411.7221603, 'converted_last': {'btc': 1.000051, 'eth': 26.472278, 'usd': 114150}, 'converted_volume': {'btc': 409.841, 'eth': 10849, 'usd': 46780765}, 'trust_score': 'green', 'bid_ask_spread_percentage': 0.010009, 'timestamp': '2025-08-21T01:26:08+00:00', 'last_traded_at': '2025-08-21T01:26:08+00:00', 'last_fetch_at': '2025-08-21T01:26:08+00:00', 'is_anomaly': False, 'is_stale': False, 'trade_url': 'https://pro.bit2me.com/exchange/BTC-USDC', 'token_info_url': None, 'coin_id': 'bitcoin', 'target_coin_id': 'usd-coin', 'coin_mcap_usd': 2270216550897.1494}, {'base': 'BTC', 'target': 'USDT', 'market': {'name': 'Dex-Trade', 'identifier': 'dextrade', 'has_trading_incentive': False}, 'last': 114144.46, 'volume': 618.54806871, 'converted_last': {'btc': 1.000021, 'eth': 26.471483, 'usd': 114146}, 'converted_volume': {'btc': 618.561, 'eth': 16374, 'usd': 70604861}, 'trust_score': 'green', 'bid_ask_spread_percentage': 0.014209, 'timestamp': '2025-08-21T01:24:29+00:00', 'last_traded_at': '2025-08-21T01:24:29+00:00', 'last_fetch_at': '2025-08-21T01:26:07+00:00', 'is_anomaly': False, 'is_stale': False, 'trade_url': 'https://dex-trade.com/spot/trading/BTCUSDT?interface=classic', 'token_info_url': None, 'coin_id': 'bitcoin', 'target_coin_id': 'tether', 'coin_mcap_usd': 2270216550897.1494}, {'base': 'ETH', 'target': 'BTC', 'market': {'name': 'Binance', 'identifier': 'binance', 'has_trading_incentive': False}, 'last': 0.03778, 'volume': 30240.5607, 'converted_last': {'btc': 0.99867273, 'eth': 26.449708, 'usd': 113990}, 'converted_volume': {'btc': 1129, 'eth': 29892, 'usd': 128824897}, 'trust_score': 'green', 'bid_ask_spread_percentage': 0.027115, 'timestamp': '2025-08-21T01:26:01+00:00', 'last_traded_at': '2025-08-21T01:26:01+00:00', 'last_fetch_at': '2025-08-21T01:26:01+00:00', 'is_anomaly': False, 'is_stale': False, 'trade_url': 'https://www.binance.com/en/trade/ETH_BTC?ref=37754157', 'token_info_url': None, 'coin_id': 'ethereum', 'target_coin_id': 'bitcoin', 'coin_mcap_usd': 519558167304.3852}, {'base': 'XBT', 'target': 'EUR', 'market': {'name': 'Kraken', 'identifier': 'kraken', 'has_trading_incentive': False}, 'last': 98056.9, 'volume': 301.01304674, 'converted_last': {'btc': 1.000386, 'eth': 26.481137, 'usd': 114188}, 'converted_volume': {'btc': 301.129, 'eth': 7971, 'usd': 34372001}, 'trust_score': 'green', 'bid_ask_spread_percentage': 0.010102, 'timestamp': '2025-08-21T01:25:37+00:00', 'last_traded_at': '2025-08-21T01:25:37+00:00', 'last_fetch_at': '2025-08-21T01:26:31+00:00', 'is_anomaly': False, 'is_stale': False, 'trade_url': 'https://pro.kraken.com/app/trade/XBT-EUR', 'token_info_url': None, 'coin_id': 'bitcoin', 'coin_mcap_usd': 2270216550897.1494}, {'base': 'ETH', 'target': 'BTC', 'market': {'name': 'OKX', 'identifier': 'okex', 'has_trading_incentive': False}, 'last': 0.03778, 'volume': 25964.933487, 'converted_last': {'btc': 1.001262, 'eth': 26.50434, 'usd': 114288}, 'converted_volume': {'btc': 971.466, 'eth': 25716, 'usd': 110886713}, 'trust_score': 'green', 'bid_ask_spread_percentage': 0.026476, 'timestamp': '2025-08-21T01:25:29+00:00', 'last_traded_at': '2025-08-21T01:25:29+00:00', 'last_fetch_at': '2025-08-21T01:26:11+00:00', 'is_anomaly': False, 'is_stale': False, 'trade_url': 'https://www.okx.com/trade-spot/eth-btc', 'token_info_url': None, 'coin_id': 'ethereum', 'target_coin_id': 'bitcoin', 'coin_mcap_usd': 519558167304.3852}, {'base': 'BTC', 'target': 'USDT', 'market': {'name': 'Tothemoon', 'identifier': 'cryptology', 'has_trading_incentive': False}, 'last': 114137.54, 'volume': 718.4319523099653, 'converted_last': {'btc': 0.99947157, 'eth': 26.456938, 'usd': 114083}, 'converted_volume': {'btc': 718.052, 'eth': 19008, 'usd': 81961160}, 'trust_score': 'green', 'bid_ask_spread_percentage': 0.020009, 'timestamp': '2025-08-21T01:25:37+00:00', 'last_traded_at': '2025-08-21T01:25:37+00:00', 'last_fetch_at': '2025-08-21T01:26:07+00:00', 'is_anomaly': False, 'is_stale': False, 'trade_url': 'https://tothemoon.com/trading/BTC_USDT', 'token_info_url': None, 'coin_id': 'bitcoin', 'target_coin_id': 'tether', 'coin_mcap_usd': 2270216550897.1494}, {'base': 'BTC', 'target': 'EUR', 'market': {'name': 'Bit2Me', 'identifier': 'bit2me', 'has_trading_incentive': False}, 'last': 98056.9, 'volume': 295.04180929579996, 'converted_last': {'btc': 1.000386, 'eth': 26.481137, 'usd': 114188}, 'converted_volume': {'btc': 293.977, 'eth': 7782, 'usd': 33555580}, 'trust_score': 'green', 'bid_ask_spread_percentage': 0.010102, 'timestamp': '2025-08-21T01:26:08+00:00', 'last_traded_at': '2025-08-21T01:26:08+00:00', 'last_fetch_at': '2025-08-21T01:26:08+00:00', 'is_anomaly': False, 'is_stale': False, 'trade_url': 'https://pro.bit2me.com/exchange/BTC-EUR', 'token_info_url': None, 'coin_id': 'bitcoin', 'coin_mcap_usd': 2270216550897.1494}, {'base': 'BTC', 'target': 'EUR', 'market': {'name': 'Bitvavo', 'identifier': 'bitvavo', 'has_trading_incentive': False}, 'last': 98033.0, 'volume': 343.41382251, 'converted_last': {'btc': 1.000142, 'eth': 26.474682, 'usd': 114160}, 'converted_volume': {'btc': 343.463, 'eth': 9092, 'usd': 39204093}, 'trust_score': 'green', 'bid_ask_spread_percentage': 0.01102, 'timestamp': '2025-08-21T01:26:09+00:00', 'last_traded_at': '2025-08-21T01:26:09+00:00', 'last_fetch_at': '2025-08-21T01:26:09+00:00', 'is_anomaly': False, 'is_stale': False, 'trade_url': 'https://account.bitvavo.com/markets/BTC-EUR', 'token_info_url': None, 'coin_id': 'bitcoin', 'coin_mcap_usd': 2270216550897.1494}, {'base': 'BTC', 'target': 'USD', 'market': {'name': 'OKX', 'identifier': 'okex', 'has_trading_incentive': False}, 'last': 114287.8, 'volume': 285.11369714, 'converted_last': {'btc': 1.000167, 'eth': 26.459698, 'usd': 114288}, 'converted_volume': {'btc': 283.881, 'eth': 7510, 'usd': 32438704}, 'trust_score': 'green', 'bid_ask_spread_percentage': 0.010088, 'timestamp': '2025-08-21T01:07:32+00:00', 'last_traded_at': '2025-08-21T01:07:32+00:00', 'last_fetch_at': '2025-08-21T01:07:41+00:00', 'is_anomaly': False, 'is_stale': False, 'trade_url': 'https://www.okx.com/trade-spot/btc-usd', 'token_info_url': None, 'coin_id': 'bitcoin', 'coin_mcap_usd': 2270216550897.1494}, {'base': 'ETH', 'target': 'BTC', 'market': {'name': 'Bybit', 'identifier': 'bybit_spot', 'has_trading_incentive': False}, 'last': 0.037776, 'volume': 10191.43486, 'converted_last': {'btc': 0.99902723, 'eth': 26.445176, 'usd': 114033}, 'converted_volume': {'btc': 379.308, 'eth': 10041, 'usd': 43295663}, 'trust_score': 'green', 'bid_ask_spread_percentage': 0.012647, 'timestamp': '2025-08-21T01:25:05+00:00', 'last_traded_at': '2025-08-21T01:25:05+00:00', 'last_fetch_at': '2025-08-21T01:26:19+00:00', 'is_anomaly': False, 'is_stale': False, 'trade_url': 'https://www.bybit.com/trade/spot/ETH/BTC', 'token_info_url': None, 'coin_id': 'ethereum', 'target_coin_id': 'bitcoin', 'coin_mcap_usd': 519558167304.3852}, {'base': 'BTC', 'target': 'USDC', 'market': {'name': 'DigiFinex', 'identifier': 'digifinex', 'has_trading_incentive': False}, 'last': 114200.0, 'volume': 228.06428, 'converted_last': {'btc': 1.000209, 'eth': 26.476449, 'usd': 114168}, 'converted_volume': {'btc': 228.112, 'eth': 6038, 'usd': 26037536}, 'trust_score': 'green', 'bid_ask_spread_percentage': 0.010009, 'timestamp': '2025-08-21T01:26:07+00:00', 'last_traded_at': '2025-08-21T01:26:07+00:00', 'last_fetch_at': '2025-08-21T01:26:07+00:00', 'is_anomaly': False, 'is_stale': False, 'trade_url': 'https://www.digifinex.com/en-ww/trade/USDC/BTC', 'token_info_url': None, 'coin_id': 'bitcoin', 'target_coin_id': 'usd-coin', 'coin_mcap_usd': 2270216550897.1494}, {'base': 'BTC', 'target': 'USD', 'market': {'name': 'Tothemoon', 'identifier': 'cryptology', 'has_trading_incentive': False}, 'last': 114083.4, 'volume': 571.1450207022588, 'converted_last': {'btc': 0.99947157, 'eth': 26.456938, 'usd': 114083}, 'converted_volume': {'btc': 570.843, 'eth': 15111, 'usd': 65158166}, 'trust_score': 'green', 'bid_ask_spread_percentage': 0.020086, 'timestamp': '2025-08-21T01:25:36+00:00', 'last_traded_at': '2025-08-21T01:25:36+00:00', 'last_fetch_at': '2025-08-21T01:26:07+00:00', 'is_anomaly': False, 'is_stale': False, 'trade_url': 'https://tothemoon.com/trading/BTC_USD', 'token_info_url': None, 'coin_id': 'bitcoin', 'coin_mcap_usd': 2270216550897.1494}, {'base': 'BTC', 'target': 'USDC', 'market': {'name': 'KuCoin', 'identifier': 'kucoin', 'has_trading_incentive': False}, 'last': 114157.0, 'volume': 0.0, 'converted_last': {'btc': 0.99983202, 'eth': 26.466479, 'usd': 114125}, 'converted_volume': {'btc': 276.48, 'eth': 7319, 'usd': 31558465}, 'trust_score': 'green', 'bid_ask_spread_percentage': 0.010088, 'timestamp': '2025-08-21T01:25:08+00:00', 'last_traded_at': '2025-08-21T01:25:08+00:00', 'last_fetch_at': '2025-08-21T01:26:02+00:00', 'is_anomaly': False, 'is_stale': False, 'trade_url': 'https://www.kucoin.com/trade/BTC-USDC', 'token_info_url': None, 'coin_id': 'bitcoin', 'target_coin_id': 'usd-coin', 'coin_mcap_usd': 2270216550897.1494}, {'base': 'BTC', 'target': 'USDT', 'market': {'name': 'FMFW.io', 'identifier': 'bitcoin_com', 'has_trading_incentive': False}, 'last': 114092.06, 'volume': 397.20696, 'converted_last': {'btc': 0.99956196, 'eth': 26.459331, 'usd': 114094}, 'converted_volume': {'btc': 397.033, 'eth': 10510, 'usd': 45318819}, 'trust_score': 'green', 'bid_ask_spread_percentage': 0.019727, 'timestamp': '2025-08-21T01:24:41+00:00', 'last_traded_at': '2025-08-21T01:24:41+00:00', 'last_fetch_at': '2025-08-21T01:26:25+00:00', 'is_anomaly': False, 'is_stale': False, 'trade_url': 'https://fmfw.io/BTC-to-USDT', 'token_info_url': None, 'coin_id': 'bitcoin', 'target_coin_id': 'tether', 'coin_mcap_usd': 2270216550897.1494}, {'base': 'BTC', 'target': 'USDT', 'market': {'name': 'CoinEx', 'identifier': 'coinex', 'has_trading_incentive': False}, 'last': 114143.0, 'volume': 271.40087876, 'converted_last': {'btc': 1.000008, 'eth': 26.471145, 'usd': 114145}, 'converted_volume': {'btc': 270.215, 'eth': 7153, 'usd': 30843312}, 'trust_score': 'green', 'bid_ask_spread_percentage': 0.010876, 'timestamp': '2025-08-21T01:26:09+00:00', 'last_traded_at': '2025-08-21T01:26:09+00:00', 'last_fetch_at': '2025-08-21T01:26:21+00:00', 'is_anomaly': False, 'is_stale': False, 'trade_url': 'https://www.coinex.com/en/exchange/btc-usdt?', 'token_info_url': None, 'coin_id': 'bitcoin', 'target_coin_id': 'tether', 'coin_mcap_usd': 2270216550897.1494}, {'base': 'BTC', 'target': 'USDC', 'market': {'name': 'Bitget', 'identifier': 'bitget', 'has_trading_incentive': False}, 'last': 114148.31, 'volume': 194.08406, 'converted_last': {'btc': 0.99975591, 'eth': 26.464465, 'usd': 114116}, 'converted_volume': {'btc': 193.321, 'eth': 5117, 'usd': 22066359}, 'trust_score': 'green', 'bid_ask_spread_percentage': 0.010009, 'timestamp': '2025-08-21T01:26:13+00:00', 'last_traded_at': '2025-08-21T01:26:13+00:00', 'last_fetch_at': '2025-08-21T01:26:13+00:00', 'is_anomaly': False, 'is_stale': False, 'trade_url': 'https://www.bitget.com/spot/BTCUSDC', 'token_info_url': None, 'coin_id': 'bitcoin', 'target_coin_id': 'usd-coin', 'coin_mcap_usd': 2270216550897.1494}, {'base': 'BTC', 'target': 'EUR', 'market': {'name': 'Binance', 'identifier': 'binance', 'has_trading_incentive': False}, 'last': 98010.36, 'volume': 250.40831, 'converted_last': {'btc': 0.99991093, 'eth': 26.468568, 'usd': 114134}, 'converted_volume': {'btc': 249.225, 'eth': 6597, 'usd': 28447474}, 'trust_score': 'green', 'bid_ask_spread_percentage': 0.01001, 'timestamp': '2025-08-21T01:24:34+00:00', 'last_traded_at': '2025-08-21T01:24:34+00:00', 'last_fetch_at': '2025-08-21T01:26:01+00:00', 'is_anomaly': False, 'is_stale': False, 'trade_url': 'https://www.binance.com/en/trade/BTC_EUR?ref=37754157', 'token_info_url': None, 'coin_id': 'bitcoin', 'coin_mcap_usd': 2270216550897.1494}, {'base': 'BTC', 'target': 'EUR', 'market': {'name': 'Bitstamp', 'identifier': 'bitstamp', 'has_trading_incentive': False}, 'last': 97985.0, 'volume': 278.67772042, 'converted_last': {'btc': 0.9996522, 'eth': 26.46172, 'usd': 114104}, 'converted_volume': {'btc': 278.581, 'eth': 7374, 'usd': 31798248}, 'trust_score': 'green', 'bid_ask_spread_percentage': 0.01204, 'timestamp': '2025-08-21T01:24:39+00:00', 'last_traded_at': '2025-08-21T01:24:39+00:00', 'last_fetch_at': '2025-08-21T01:26:05+00:00', 'is_anomaly': False, 'is_stale': False, 'trade_url': 'https://www.bitstamp.net/markets/btc/eur/', 'token_info_url': None, 'coin_id': 'bitcoin', 'coin_mcap_usd': 2270216550897.1494}, {'base': 'BTC', 'target': 'USDT', 'market': {'name': 'CoinUp', 'identifier': 'coinup', 'has_trading_incentive': False}, 'last': 114152.7, 'volume': 25225.35296871, 'converted_last': {'btc': 1.000109, 'eth': 26.487744, 'usd': 114154}, 'converted_volume': {'btc': 25110, 'eth': 665038, 'usd': 2866118593}, 'trust_score': 'green', 'bid_ask_spread_percentage': 0.01021, 'timestamp': '2025-08-21T01:25:30+00:00', 'last_traded_at': '2025-08-21T01:25:30+00:00', 'last_fetch_at': '2025-08-21T01:26:00+00:00', 'is_anomaly': False, 'is_stale': False, 'trade_url': 'https://www.coinup.io/en_US/trade/BTC_USDT', 'token_info_url': None, 'coin_id': 'bitcoin', 'target_coin_id': 'tether', 'coin_mcap_usd': 2270216550897.1494}, {'base': 'BTC', 'target': 'USD', 'market': {'name': 'HashKey Exchange', 'identifier': 'hashkey_exchange', 'has_trading_incentive': False}, 'last': 114150.88, 'volume': 213.90104, 'converted_last': {'btc': 1.000063, 'eth': 26.472587, 'usd': 114151}, 'converted_volume': {'btc': 212.98, 'eth': 5638, 'usd': 24310285}, 'trust_score': 'green', 'bid_ask_spread_percentage': 0.010249, 'timestamp': '2025-08-21T01:24:42+00:00', 'last_traded_at': '2025-08-21T01:24:42+00:00', 'last_fetch_at': '2025-08-21T01:26:10+00:00', 'is_anomaly': False, 'is_stale': False, 'trade_url': 'https://www.hashkey.com/en-US/spot/BTC_USD', 'token_info_url': None, 'coin_id': 'bitcoin', 'coin_mcap_usd': 2270216550897.1494}, {'base': 'BTC', 'target': 'USD', 'market': {'name': 'Gemini', 'identifier': 'gemini', 'has_trading_incentive': False}, 'last': 114169.01, 'volume': 469.44604425, 'converted_last': {'btc': 1.000222, 'eth': 26.476792, 'usd': 114169}, 'converted_volume': {'btc': 469.55, 'eth': 12429, 'usd': 53596190}, 'trust_score': 'green', 'bid_ask_spread_percentage': 0.022517, 'timestamp': '2025-08-21T01:25:02+00:00', 'last_traded_at': '2025-08-21T01:25:02+00:00', 'last_fetch_at': '2025-08-21T01:26:08+00:00', 'is_anomaly': False, 'is_stale': False, 'trade_url': 'https://exchange.gemini.com/trade/BTCUSD', 'token_info_url': None, 'coin_id': 'bitcoin', 'coin_mcap_usd': 2270216550897.1494}, {'base': 'BTC', 'target': 'USDC', 'market': {'name': 'WEEX', 'identifier': 'weex', 'has_trading_incentive': False}, 'last': 114150.8, 'volume': 2167.309964, 'converted_last': {'btc': 0.99979334, 'eth': 26.479387, 'usd': 114118}, 'converted_volume': {'btc': 2156, 'eth': 57100, 'usd': 246085711}, 'trust_score': 'green', 'bid_ask_spread_percentage': 0.010088, 'timestamp': '2025-08-21T01:25:31+00:00', 'last_traded_at': '2025-08-21T01:25:31+00:00', 'last_fetch_at': '2025-08-21T01:26:00+00:00', 'is_anomaly': False, 'is_stale': False, 'trade_url': 'https://www.weex.com/spot/BTC-USDC', 'token_info_url': None, 'coin_id': 'bitcoin', 'target_coin_id': 'usd-coin', 'coin_mcap_usd': 2270216550897.1494}, {'base': 'BTC', 'target': 'EUR', 'market': {'name': 'Coinbase Exchange', 'identifier': 'gdax', 'has_trading_incentive': False}, 'last': 98012.51, 'volume': 228.05550037, 'converted_last': {'btc': 0.99993286, 'eth': 26.469149, 'usd': 114136}, 'converted_volume': {'btc': 228.04, 'eth': 6036, 'usd': 26029355}, 'trust_score': 'green', 'bid_ask_spread_percentage': 0.012835, 'timestamp': '2025-08-21T01:24:34+00:00', 'last_traded_at': '2025-08-21T01:24:34+00:00', 'last_fetch_at': '2025-08-21T01:26:00+00:00', 'is_anomaly': False, 'is_stale': False, 'trade_url': 'https://www.coinbase.com/advanced-trade/spot/BTC-EUR', 'token_info_url': None, 'coin_id': 'bitcoin', 'coin_mcap_usd': 2270216550897.1494}, {'base': 'XBT', 'target': 'USDT', 'market': {'name': 'Kraken', 'identifier': 'kraken', 'has_trading_incentive': False}, 'last': 114142.0, 'volume': 151.0652809, 'converted_last': {'btc': 0.99997496, 'eth': 26.470263, 'usd': 114141}, 'converted_volume': {'btc': 151.061, 'eth': 3999, 'usd': 17242721}, 'trust_score': 'green', 'bid_ask_spread_percentage': 0.010088, 'timestamp': '2025-08-21T01:24:39+00:00', 'last_traded_at': '2025-08-21T01:24:39+00:00', 'last_fetch_at': '2025-08-21T01:26:31+00:00', 'is_anomaly': False, 'is_stale': False, 'trade_url': 'https://pro.kraken.com/app/trade/XBT-USDT', 'token_info_url': None, 'coin_id': 'bitcoin', 'target_coin_id': 'tether', 'coin_mcap_usd': 2270216550897.1494}, {'base': 'BTC', 'target': 'USDT', 'market': {'name': 'BitKan', 'identifier': 'bitkan', 'has_trading_incentive': False}, 'last': 114082.25, 'volume': 183.50851, 'converted_last': {'btc': 0.99947602, 'eth': 26.457056, 'usd': 114084}, 'converted_volume': {'btc': 183.412, 'eth': 4855, 'usd': 20935368}, 'trust_score': 'green', 'bid_ask_spread_percentage': 0.010009, 'timestamp': '2025-08-21T01:25:10+00:00', 'last_traded_at': '2025-08-21T01:25:10+00:00', 'last_fetch_at': '2025-08-21T01:26:10+00:00', 'is_anomaly': False, 'is_stale': False, 'trade_url': 'https://bitkan.com/trade/BTC-USDT', 'token_info_url': None, 'coin_id': 'bitcoin', 'target_coin_id': 'tether', 'coin_mcap_usd': 2270216550897.1494}, {'base': 'BTC', 'target': 'JPY', 'market': {'name': 'Coincheck', 'identifier': 'coincheck', 'has_trading_incentive': False}, 'last': 16859927.0, 'volume': 422.96846786, 'converted_last': {'btc': 1.001442, 'eth': 26.509102, 'usd': 114308}, 'converted_volume': {'btc': 423.578, 'eth': 11213, 'usd': 48348820}, 'trust_score': 'green', 'bid_ask_spread_percentage': 0.023599, 'timestamp': '2025-08-21T01:24:41+00:00', 'last_traded_at': '2025-08-21T01:24:41+00:00', 'last_fetch_at': '2025-08-21T01:26:08+00:00', 'is_anomaly': False, 'is_stale': False, 'trade_url': 'https://coincheck.com/buys?pair=btc_jpy', 'token_info_url': None, 'coin_id': 'bitcoin', 'coin_mcap_usd': 2270216550897.1494}, {'base': 'BTC', 'target': 'EUR', 'market': {'name': 'OKX', 'identifier': 'okex', 'has_trading_incentive': False}, 'last': 98032.4, 'volume': 151.58117916, 'converted_last': {'btc': 1.000136, 'eth': 26.47452, 'usd': 114159}, 'converted_volume': {'btc': 150.845, 'eth': 3993, 'usd': 17218045}, 'trust_score': 'green', 'bid_ask_spread_percentage': 0.010102, 'timestamp': '2025-08-21T01:26:01+00:00', 'last_traded_at': '2025-08-21T01:26:01+00:00', 'last_fetch_at': '2025-08-21T01:26:11+00:00', 'is_anomaly': False, 'is_stale': False, 'trade_url': 'https://www.okx.com/trade-spot/btc-eur', 'token_info_url': None, 'coin_id': 'bitcoin', 'coin_mcap_usd': 2270216550897.1494}, {'base': 'BTC', 'target': 'USDT', 'market': {'name': 'Coinbase Exchange', 'identifier': 'gdax', 'has_trading_incentive': False}, 'last': 114119.66, 'volume': 224.97561563, 'converted_last': {'btc': 0.99986922, 'eth': 26.467464, 'usd': 114129}, 'converted_volume': {'btc': 224.946, 'eth': 5955, 'usd': 25676195}, 'trust_score': 'green', 'bid_ask_spread_percentage': 0.013942, 'timestamp': '2025-08-21T01:24:35+00:00', 'last_traded_at': '2025-08-21T01:24:35+00:00', 'last_fetch_at': '2025-08-21T01:26:00+00:00', 'is_anomaly': False, 'is_stale': False, 'trade_url': 'https://www.coinbase.com/advanced-trade/spot/BTC-USDT', 'token_info_url': None, 'coin_id': 'bitcoin', 'target_coin_id': 'tether', 'coin_mcap_usd': 2270216550897.1494}, {'base': 'BTC', 'target': 'PYUSD', 'market': {'name': 'Bullish', 'identifier': 'bullish_com', 'has_trading_incentive': False}, 'last': 114165.44996189, 'volume': 152.06358158, 'converted_last': {'btc': 0.99975553, 'eth': 26.464455, 'usd': 114116}, 'converted_volume': {'btc': 151.448, 'eth': 4009, 'usd': 17286884}, 'trust_score': 'green', 'bid_ask_spread_percentage': 0.010175, 'timestamp': '2025-08-21T01:25:33+00:00', 'last_traded_at': '2025-08-21T01:25:33+00:00', 'last_fetch_at': '2025-08-21T01:26:02+00:00', 'is_anomaly': False, 'is_stale': False, 'trade_url': 'https://bullish.com/trade/', 'token_info_url': None, 'coin_id': 'bitcoin', 'target_coin_id': 'paypal-usd', 'coin_mcap_usd': 2270216550897.1494}, {'base': 'ETH', 'target': 'BTC', 'market': {'name': 'DigiFinex', 'identifier': 'digifinex', 'has_trading_incentive': False}, 'last': 0.03777, 'volume': 8579.8098, 'converted_last': {'btc': 0.99892146, 'eth': 26.442376, 'usd': 114021}, 'converted_volume': {'btc': 323.71, 'eth': 8569, 'usd': 36949452}, 'trust_score': 'green', 'bid_ask_spread_percentage': 0.026476, 'timestamp': '2025-08-21T01:26:04+00:00', 'last_traded_at': '2025-08-21T01:26:04+00:00', 'last_fetch_at': '2025-08-21T01:26:04+00:00', 'is_anomaly': False, 'is_stale': False, 'trade_url': 'https://www.digifinex.com/en-ww/trade/BTC/ETH', 'token_info_url': None, 'coin_id': 'ethereum', 'target_coin_id': 'bitcoin', 'coin_mcap_usd': 519558167304.3852}, {'base': 'SOL', 'target': 'BTC', 'market': {'name': 'Binance', 'identifier': 'binance', 'has_trading_incentive': False}, 'last': 0.0016404, 'volume': 147307.271, 'converted_last': {'btc': 0.99867273, 'eth': 26.449708, 'usd': 113990}, 'converted_volume': {'btc': 237.254, 'eth': 6284, 'usd': 27080576}, 'trust_score': 'green', 'bid_ask_spread_percentage': 0.016118, 'timestamp': '2025-08-21T01:25:33+00:00', 'last_traded_at': '2025-08-21T01:25:33+00:00', 'last_fetch_at': '2025-08-21T01:25:33+00:00', 'is_anomaly': False, 'is_stale': False, 'trade_url': 'https://www.binance.com/en/trade/SOL_BTC?ref=37754157', 'token_info_url': None, 'coin_id': 'solana', 'target_coin_id': 'bitcoin', 'coin_mcap_usd': 101078350925.04063}, {'base': 'BTC', 'target': 'USDC', 'market': {'name': 'XT.COM', 'identifier': 'xt', 'has_trading_incentive': False}, 'last': 114286.0, 'volume': 112.54912, 'converted_last': {'btc': 0.99946578, 'eth': 26.430597, 'usd': 114253}, 'converted_volume': {'btc': 111.858, 'eth': 2958, 'usd': 12787004}, 'trust_score': 'green', 'bid_ask_spread_percentage': 0.010022, 'timestamp': '2025-08-21T01:05:36+00:00', 'last_traded_at': '2025-08-21T01:05:36+00:00', 'last_fetch_at': '2025-08-21T01:05:36+00:00', 'is_anomaly': False, 'is_stale': False, 'trade_url': 'https://www.xt.com/en/trade/btc_usdc', 'token_info_url': None, 'coin_id': 'bitcoin', 'target_coin_id': 'usd-coin', 'coin_mcap_usd': 2270216550897.1494}, {'base': 'BTC', 'target': 'USDC', 'market': {'name': 'MEXC', 'identifier': 'mxc', 'has_trading_incentive': False}, 'last': 114174.86, 'volume': 170.869348, 'converted_last': {'btc': 0.99998844, 'eth': 26.47062, 'usd': 114142}, 'converted_volume': {'btc': 170.124, 'eth': 4503, 'usd': 19418600}, 'trust_score': 'green', 'bid_ask_spread_percentage': 0.011467, 'timestamp': '2025-08-21T01:25:32+00:00', 'last_traded_at': '2025-08-21T01:25:32+00:00', 'last_fetch_at': '2025-08-21T01:26:03+00:00', 'is_anomaly': False, 'is_stale': False, 'trade_url': 'https://www.mexc.com/exchange/BTC_USDC', 'token_info_url': None, 'coin_id': 'bitcoin', 'target_coin_id': 'usd-coin', 'coin_mcap_usd': 2270216550897.1494}, {'base': 'BTC', 'target': 'JPY', 'market': {'name': 'Bitbank', 'identifier': 'bitbank', 'has_trading_incentive': False}, 'last': 16866559.0, 'volume': 141.401, 'converted_last': {'btc': 1.001836, 'eth': 26.51953, 'usd': 114353}, 'converted_volume': {'btc': 141.661, 'eth': 3750, 'usd': 16169671}, 'trust_score': 'green', 'bid_ask_spread_percentage': 0.010006, 'timestamp': '2025-08-21T01:26:04+00:00', 'last_traded_at': '2025-08-21T01:26:04+00:00', 'last_fetch_at': '2025-08-21T01:26:10+00:00', 'is_anomaly': False, 'is_stale': False, 'trade_url': 'https://app.bitbank.cc/trade/btc_jpy', 'token_info_url': None, 'coin_id': 'bitcoin', 'coin_mcap_usd': 2270216550897.1494}, {'base': 'BTC', 'target': 'JPY', 'market': {'name': 'bitFlyer', 'identifier': 'bitflyer', 'has_trading_incentive': False}, 'last': 16859964.0, 'volume': 671.43919717, 'converted_last': {'btc': 1.001444, 'eth': 26.50916, 'usd': 114309}, 'converted_volume': {'btc': 672.409, 'eth': 17799, 'usd': 76751264}, 'trust_score': 'green', 'bid_ask_spread_percentage': 0.050374, 'timestamp': '2025-08-21T01:24:40+00:00', 'last_traded_at': '2025-08-21T01:24:40+00:00', 'last_fetch_at': '2025-08-21T01:26:08+00:00', 'is_anomaly': False, 'is_stale': False, 'trade_url': 'https://bitflyer.com/en-jp/ex/simpleex', 'token_info_url': None, 'coin_id': 'bitcoin', 'coin_mcap_usd': 2270216550897.1494}, {'base': 'BTC', 'target': 'EURCV', 'market': {'name': 'Bullish', 'identifier': 'bullish_com', 'has_trading_incentive': False}, 'last': 97907.126597, 'volume': 130.84407314, 'converted_last': {'btc': 0.99975553, 'eth': 26.464455, 'usd': 114116}, 'converted_volume': {'btc': 130.322, 'eth': 3450, 'usd': 14875437}, 'trust_score': 'green', 'bid_ask_spread_percentage': 0.010204, 'timestamp': '2025-08-21T01:25:34+00:00', 'last_traded_at': '2025-08-21T01:25:34+00:00', 'last_fetch_at': '2025-08-21T01:26:02+00:00', 'is_anomaly': False, 'is_stale': False, 'trade_url': 'https://bullish.com/trade/', 'token_info_url': None, 'coin_id': 'bitcoin', 'target_coin_id': 'societe-generale-forge-eurcv', 'coin_mcap_usd': 2270216550897.1494}, {'base': 'BTC', 'target': 'EUR', 'market': {'name': 'Tothemoon', 'identifier': 'cryptology', 'has_trading_incentive': False}, 'last': 98032.82, 'volume': 259.08430316138754, 'converted_last': {'btc': 1.00014, 'eth': 26.474634, 'usd': 114160}, 'converted_volume': {'btc': 259.121, 'eth': 6859, 'usd': 29576988}, 'trust_score': 'green', 'bid_ask_spread_percentage': 0.020092, 'timestamp': '2025-08-21T01:25:37+00:00', 'last_traded_at': '2025-08-21T01:25:37+00:00', 'last_fetch_at': '2025-08-21T01:26:07+00:00', 'is_anomaly': False, 'is_stale': False, 'trade_url': 'https://tothemoon.com/trading/BTC_EUR', 'token_info_url': None, 'coin_id': 'bitcoin', 'coin_mcap_usd': 2270216550897.1494}, {'base': 'BTC', 'target': 'USDT', 'market': {'name': 'QMall', 'identifier': 'qmall', 'has_trading_incentive': False}, 'last': 114153.91, 'volume': 284.23535999, 'converted_last': {'btc': 1.000104, 'eth': 26.473675, 'usd': 114156}, 'converted_volume': {'btc': 283.075, 'eth': 7493, 'usd': 32311220}, 'trust_score': 'green', 'bid_ask_spread_percentage': 0.026578, 'timestamp': '2025-08-21T01:25:37+00:00', 'last_traded_at': '2025-08-21T01:25:37+00:00', 'last_fetch_at': '2025-08-21T01:26:09+00:00', 'is_anomaly': False, 'is_stale': False, 'trade_url': 'https://qmall.io/trade/BTC_USDT', 'token_info_url': None, 'coin_id': 'bitcoin', 'target_coin_id': 'tether', 'coin_mcap_usd': 2270216550897.1494}, {'base': 'BTC', 'target': 'USDC', 'market': {'name': 'Toobit', 'identifier': 'toobit', 'has_trading_incentive': False}, 'last': 114170.97, 'volume': 1123.63547, 'converted_last': {'btc': 0.99995437, 'eth': 26.469718, 'usd': 114139}, 'converted_volume': {'btc': 1119, 'eth': 29608, 'usd': 127670465}, 'trust_score': 'green', 'bid_ask_spread_percentage': 0.10497, 'timestamp': '2025-08-21T01:25:34+00:00', 'last_traded_at': '2025-08-21T01:25:34+00:00', 'last_fetch_at': '2025-08-21T01:26:03+00:00', 'is_anomaly': False, 'is_stale': False, 'trade_url': 'https://www.toobit.com/en-US/spot/BTC_USDC', 'token_info_url': None, 'coin_id': 'bitcoin', 'target_coin_id': 'usd-coin', 'coin_mcap_usd': 2270216550897.1494}, {'base': 'BNB', 'target': 'BTC', 'market': {'name': 'Binance', 'identifier': 'binance', 'has_trading_incentive': False}, 'last': 0.007646, 'volume': 18359.241, 'converted_last': {'btc': 0.99945751, 'eth': 26.452085, 'usd': 114239}, 'converted_volume': {'btc': 137.495, 'eth': 3639, 'usd': 15715862}, 'trust_score': 'green', 'bid_ask_spread_percentage': 0.013592, 'timestamp': '2025-08-21T01:10:02+00:00', 'last_traded_at': '2025-08-21T01:10:02+00:00', 'last_fetch_at': '2025-08-21T01:10:02+00:00', 'is_anomaly': False, 'is_stale': False, 'trade_url': 'https://www.binance.com/en/trade/BNB_BTC?ref=37754157', 'token_info_url': None, 'coin_id': 'binancecoin', 'target_coin_id': 'bitcoin', 'coin_mcap_usd': 121616240513.8764}, {'base': 'BTC', 'target': 'BRL', 'market': {'name': 'Binance', 'identifier': 'binance', 'has_trading_incentive': False}, 'last': 626974.0, 'volume': 107.43869, 'converted_last': {'btc': 1.003813, 'eth': 26.58659, 'usd': 114503}, 'converted_volume': {'btc': 107.38, 'eth': 2844, 'usd': 12248685}, 'trust_score': 'green', 'bid_ask_spread_percentage': 0.010161, 'timestamp': '2025-08-21T01:24:01+00:00', 'last_traded_at': '2025-08-21T01:24:01+00:00', 'last_fetch_at': '2025-08-21T01:24:02+00:00', 'is_anomaly': False, 'is_stale': False, 'trade_url': 'https://www.binance.com/en/trade/BTC_BRL?ref=37754157', 'token_info_url': None, 'coin_id': 'bitcoin', 'coin_mcap_usd': 2270216550897.1494}, {'base': 'BTC', 'target': 'USD', 'market': {'name': 'itBit', 'identifier': 'itbit', 'has_trading_incentive': False}, 'last': 114147.25, 'volume': 98.14932372, 'converted_last': {'btc': 1.000031, 'eth': 26.471745, 'usd': 114147}, 'converted_volume': {'btc': 98.152, 'eth': 2598, 'usd': 11203475}, 'trust_score': 'green', 'bid_ask_spread_percentage': 0.010219, 'timestamp': '2025-08-21T01:26:06+00:00', 'last_traded_at': '2025-08-21T01:26:06+00:00', 'last_fetch_at': '2025-08-21T01:26:12+00:00', 'is_anomaly': False, 'is_stale': False, 'trade_url': None, 'token_info_url': None, 'coin_id': 'bitcoin', 'coin_mcap_usd': 2270216550897.1494}, {'base': 'BTC', 'target': 'USD', 'market': {'name': 'Bitfinex', 'identifier': 'bitfinex', 'has_trading_incentive': False}, 'last': 114400.0, 'volume': 700.81734119, 'converted_last': {'btc': 1.002245, 'eth': 26.53036, 'usd': 114400}, 'converted_volume': {'btc': 702.391, 'eth': 18593, 'usd': 80173504}, 'trust_score': 'green', 'bid_ask_spread_percentage': 0.087413, 'timestamp': '2025-08-21T01:25:30+00:00', 'last_traded_at': '2025-08-21T01:25:30+00:00', 'last_fetch_at': '2025-08-21T01:26:07+00:00', 'is_anomaly': False, 'is_stale': False, 'trade_url': 'https://trading.bitfinex.com/t/BTC:USD?type=exchange', 'token_info_url': None, 'coin_id': 'bitcoin', 'coin_mcap_usd': 2270216550897.1494}, {'base': 'BTC', 'target': 'USDT', 'market': {'name': 'CoinCatch', 'identifier': 'coincatch', 'has_trading_incentive': False}, 'last': 114174.81, 'volume': 60.69522, 'converted_last': {'btc': 1.000287, 'eth': 26.478522, 'usd': 114176}, 'converted_volume': {'btc': 60.43, 'eth': 1600, 'usd': 6897658}, 'trust_score': 'green', 'bid_ask_spread_percentage': 0.010972, 'timestamp': '2025-08-21T01:26:12+00:00', 'last_traded_at': '2025-08-21T01:26:12+00:00', 'last_fetch_at': '2025-08-21T01:26:12+00:00', 'is_anomaly': False, 'is_stale': False, 'trade_url': 'https://www.coincatch.com/en/spot/BTCUSDT_SPBL', 'token_info_url': None, 'coin_id': 'bitcoin', 'target_coin_id': 'tether', 'coin_mcap_usd': 2270216550897.1494}, {'base': 'XBT', 'target': 'USDC', 'market': {'name': 'Kraken', 'identifier': 'kraken', 'has_trading_incentive': False}, 'last': 114106.51, 'volume': 96.89054603, 'converted_last': {'btc': 0.99937413, 'eth': 26.454359, 'usd': 114072}, 'converted_volume': {'btc': 96.83, 'eth': 2563, 'usd': 11052525}, 'trust_score': 'green', 'bid_ask_spread_percentage': 0.015752, 'timestamp': '2025-08-21T01:24:40+00:00', 'last_traded_at': '2025-08-21T01:24:40+00:00', 'last_fetch_at': '2025-08-21T01:26:31+00:00', 'is_anomaly': False, 'is_stale': False, 'trade_url': 'https://pro.kraken.com/app/trade/XBT-USDC', 'token_info_url': None, 'coin_id': 'bitcoin', 'target_coin_id': 'usd-coin', 'coin_mcap_usd': 2270216550897.1494}]",
         "",
         null,
         "",
         "Bitcoin",
         "比特币",
         "比特幣",
         "Bitcoin",
         "Bitcoin",
         "Bitcoin",
         "ビットコイン",
         "Bitcoin",
         "Биткоин",
         "비트코인",
         "بيتكوين",
         "บิตคอยน์",
         "Bitcoin",
         "Bitcoin",
         "Bitcoin",
         "Bitcoin",
         "Bitcoin",
         "Bitcoin",
         "Bitcoin",
         "",
         "",
         "",
         "",
         "",
         "",
         "",
         "Bitcoin",
         "",
         "",
         "",
         "",
         "",
         "",
         "Bitcoin",
         "Bitcoin is the first successful internet money based on peer-to-peer technology; whereby no central bank or authority is involved in the transaction and production of the Bitcoin currency. It was created by an anonymous individual/group under the name, Satoshi Nakamoto. The source code is available publicly as an open source project, anybody can look at it and be part of the developmental process.\r\n\r\nBitcoin is changing the way we see money as we speak. The idea was to produce a means of exchange, independent of any central authority, that could be transferred electronically in a secure, verifiable and immutable way. It is a decentralized peer-to-peer internet currency making mobile payment easy, very low transaction fees, protects your identity, and it works anywhere all the time with no central authority and banks.\r\n\r\nBitcoin is designed to have only 21 million BTC ever created, thus making it a deflationary currency. Bitcoin uses the SHA-256 hashing algorithm with an average transaction confirmation time of 10 minutes. Miners today are mining Bitcoin using ASIC chip dedicated to only mining Bitcoin, and the hash rate has shot up to peta hashes.\r\n\r\nBeing the first successful online cryptography currency, Bitcoin has inspired other alternative currencies such as Litecoin, Peercoin, Primecoin, and so on.\r\n\r\nThe cryptocurrency then took off with the innovation of the turing-complete smart contract by Ethereum which led to the development of other amazing projects such as EOS, Tron, and even crypto-collectibles such as CryptoKitties.",
         "",
         "",
         "",
         "",
         "",
         "",
         "",
         "",
         "비트코인은 2009년 나카모토 사토시가 만든 디지털 통화로, 통화를 발행하고 관리하는 중앙 장치가 존재하지 않는 구조를 가지고 있다. 대신, 비트코인의 거래는 P2P 기반 분산 데이터베이스에 의해 이루어지며, 공개 키 암호 방식 기반으로 거래를 수행한다. 비트코인은 공개성을 가지고 있다. 비트코인은 지갑 파일의 형태로 저장되며, 이 지갑에는 각각의 고유 주소가 부여되며, 그 주소를 기반으로 비트코인의 거래가 이루어진다. 비트코인은 1998년 웨이따이가 사이버펑크 메일링 리스트에 올린 암호통화란 구상을 최초로 구현한 것 중의 하나이다.\r\n\r\n비트코인은 최초로 구현된 가상화폐입니다. 발행 및 유통을 관리하는 중앙권력이나 중간상인 없이, P2P 네트워크 기술을 이용하여 네트워크에 참여하는 사용자들이 주체적으로 화폐를 발행하고 이체내용을 공동으로 관리합니다. 이를 가능하게 한 블록체인 기술을 처음으로 코인에 도입한 것이 바로 비트코인입니다.\r\n\r\n비트코인을 사용하는 개인과 사업자의 수는 꾸준히 증가하고 있으며, 여기에는 식당, 아파트, 법률사무소, 온라인 서비스를 비롯한 소매상들이 포함됩니다. 비트코인은 새로운 사회 현상이지만 아주 빠르게 성장하고 있습니다. 이를 바탕으로 가치 증대는 물론, 매일 수백만 달러의 비트코인이 교환되고 있습니다. \r\n\r\n비트코인은 가상화폐 시장에서 현재 유통시가총액과 코인의 가치가 가장 크고, 거래량 또한 안정적입니다. 이더리움이 빠르게 추격하고 있지만 아직은 가장 견고한 가상화폐라고 볼 수 있습니다. \r\n\r\n코인 특징\r\n1. 중앙주체 없이 사용자들에 의해 거래내용이 관리될 수 있는 비트코인의 운영 시스템은 블록체인 기술에서 기인합니다. 블록체인은 쉽게 말해 다 같이 장부를 공유하고, 항상 서로의 컴퓨터에 있는 장부 파일을 비교함으로써 같은 내용만 인정하는 방식으로 운영됩니다. 따라서 전통적인 금융기관에서 장부에 대한 접근을 튼튼하게 방어하던 것과는 정반대의 작업을 통해 보안을 달성합니다. 장부를 해킹하려면 51%의 장부를 동시에 조작해야 하는데, 이는 사실상 불가능합니다. 왜냐하면, 이를 실행하기 위해서는 컴퓨팅 파워가 어마어마하게 소요되고, 이것이 가능한 슈퍼컴퓨터는 세상에 존재하지 않기 때문입니다. 또한, 장부의 자료들은 줄글로 기록되는 것이 아니라 암호화 해시 함수형태로 블록에 저장되고, 이 블록들은 서로 연결되어 있어서 더 강력한 보안을 제공합니다. \r\n\r\n2. 비트코인은 블록발행보상을 채굴자에게 지급하는 방식으로 신규 코인을 발행합니다. 블록발행보상은 매 21만 블록(약 4년)을 기준으로 발행량이 절반으로 줄어듭니다. 처음에는 50비트코인씩 발행이 되었고, 4년마다 계속 반으로 감소하고 있습니다. 코인의 총량이 2,100만 개에 도달하면 신규 발행은 종료되고, 이후에는 거래 수수료만을 통해 시스템이 지탱될 것입니다. \r\n\r\n핵심 가치\r\n(키워드: 통화로 사용될 수 있는 보편성 및 편의성)\r\n\r\n1. 다양한 알트코인들의 등장에 앞서 비트코인은 가상화폐 시장에서 독보적이었기 때문에, 현재 가장 보편적인 결제수단으로 사용됩니다. 실생활에서 이를 활용할 수 있는 가맹점이 알트코인들보다 압도적으로 많을 뿐만 아니라, 이 또한 증가하고 있습니다. 일례로 일본 업체들이 비트코인 결제 시스템을 도입하면서 곧 비트코인을 오프라인 점포 26만 곳에서 이용할 수 있게 될 것입니다. \r\n\r\n2. 여러 나라에서 비트코인을 정식 결제 수단으로 인정하면서, 실물화폐와 가상화폐를 거래할 때 더는 부가가치세가 부과되지 않게 된다고 합니다. 실제로 일본과 호주에서는 이미 비트코인을 합법적 결제 수단으로 인정하면서 제도권 안으로 들여오고 있고, 미국에서는 비트코인 ETF 승인 노력도 진행되고 있습니다. 각국에 비트코인을 기반으로 한 ATM 기계도 설치되었다고 합니다. ",
         "",
         "",
         "",
         "",
         "",
         "",
         "",
         "",
         "",
         "",
         "",
         "",
         "",
         "",
         "",
         "",
         "",
         "",
         "",
         "",
         "",
         "",
         "",
         "",
         "['http://www.bitcoin.org']",
         "https://bitcoin.org/bitcoin.pdf",
         "['https://mempool.space/', 'https://platform.arkhamintelligence.com/explorer/token/bitcoin', 'https://blockchair.com/bitcoin/', 'https://btc.com/', 'https://btc.tokenview.io/', 'https://www.oklink.com/btc', 'https://3xpl.com/bitcoin']",
         "['https://bitcointalk.org/']",
         "[]",
         "[]",
         null,
         "bitcoin",
         "bitcoins",
         null,
         "",
         "https://www.reddit.com/r/Bitcoin/",
         "['https://github.com/bitcoin/bitcoin', 'https://github.com/bitcoin/bips']",
         "[]",
         "https://coin-images.coingecko.com/coins/images/1/thumb/bitcoin.png?1696501400",
         "https://coin-images.coingecko.com/coins/images/1/small/bitcoin.png?1696501400",
         "https://coin-images.coingecko.com/coins/images/1/large/bitcoin.png?1696501400",
         "419211",
         "148453106",
         "177651",
         "204.044",
         "13851240",
         "43039",
         "114149",
         "130.866",
         "625067",
         "1.0",
         "158444",
         "91857",
         "110298417",
         "819154",
         "2400201",
         "731576",
         "29445",
         "227872",
         "26.47207",
         "98021",
         "84835",
         "307631",
         "891387",
         "38676188",
         "1857809254",
         "389751",
         "9932583",
         "16836041",
         "159613539",
         "34891",
         "34385844",
         "982.752",
         "239598019",
         "2142886",
         "481821",
         "175464741",
         "1169303",
         "196094",
         "6500766",
         "32315484",
         "416405",
         "9188889",
         "428379",
         "1094931",
         "146755",
         "610.083",
         "3716851",
         "4670609",
         "3466238",
         "4716420",
         "114149",
         "11429.7",
         "3008958451",
         "3017.28",
         "34.15",
         "79852",
         "283138",
         "38922",
         "20.435425",
         "2019935",
         "1000043",
         "4354",
         "100004323",
         null,
         null,
         null,
         null,
         "455922",
         "163073911",
         "189412",
         "321.134",
         "15091245",
         "46796",
         "124128",
         "143062",
         "685780",
         "1.003301",
         "170701",
         "99896",
         "118341858",
         "890631",
         "2665950",
         "790842",
         "32671",
         "237551",
         "624.203",
         "105972",
         "91369",
         "334525",
         "974333",
         "43582313",
         "2000449967",
         "419533",
         "10855066",
         "18224479",
         "171322376",
         "37907",
         "37369811",
         "1288",
         "260544761",
         "2312679",
         "522737",
         "190337940",
         "1264020",
         "207414",
         "7033095",
         "35247799",
         "450554",
         "11257762",
         "465770",
         "1213099",
         "158811",
         "786.339",
         "4003652",
         "5062339",
         "3718032",
         "5156953",
         "124128",
         "8618768857",
         "3262084956",
         "3588.1",
         "41.01",
         "87180",
         "789420",
         "159288",
         "22.739833",
         "2198146",
         "1058236",
         "74906",
         "105823579",
         "-8.14515",
         "-9.0597",
         "-6.27838",
         "-36.53031",
         "-8.30972",
         "-8.1396",
         "-8.13277",
         "-99.90872",
         "-8.96715",
         "-0.32896",
         "-7.26728",
         "-8.15012",
         "-6.89122",
         "-8.11869",
         "-10.06794",
         "-7.58732",
         "-9.96061",
         "-4.24027",
         "-95.75461",
         "-7.60431",
         "-7.24354",
         "-8.13277",
         "-8.60925",
         "-11.36028",
         "-7.20601",
         "-7.19294",
         "-8.57299",
         "-7.76222",
         "-6.90484",
         "-8.05426",
         "-8.0782",
         "-23.78881",
         "-8.13277",
         "-7.41881",
         "-7.83332",
         "-7.90751",
         "-7.63254",
         "-5.53713",
         "-7.47774",
         "-8.41204",
         "-7.68062",
         "-18.45927",
         "-8.11963",
         "-9.84001",
         "-7.6784",
         "-22.52614",
         "-7.23333",
         "-7.83093",
         "-6.83324",
         "-8.63518",
         "-8.13277",
         "-99.99987",
         "-7.85312",
         "-16.04046",
         "-16.84869",
         "-8.49823",
         "-64.18061",
         "-75.60288",
         "-10.23833",
         "-8.2269",
         "-5.48732",
         "-94.19336",
         "-5.48732",
         "2025-08-14T00:37:02.582Z",
         "2025-08-14T00:37:02.582Z",
         "2025-08-14T00:37:02.582Z",
         "2025-02-03T04:45:48.593Z",
         "2025-08-14T00:37:02.582Z",
         "2025-08-14T00:37:02.582Z",
         "2025-08-14T00:37:02.582Z",
         "2017-10-19T00:00:00.000Z",
         "2025-07-14T07:56:01.937Z",
         "2019-10-15T16:00:56.136Z",
         "2025-08-14T00:37:02.582Z",
         "2025-08-14T00:37:02.582Z",
         "2025-08-11T06:58:02.022Z",
         "2025-08-14T00:37:02.582Z",
         "2025-01-20T07:16:25.271Z",
         "2025-08-14T00:37:02.582Z",
         "2025-08-02T18:55:43.758Z",
         "2025-08-15T16:20:36.647Z",
         "2015-10-20T00:00:00.000Z",
         "2025-08-14T00:37:02.582Z",
         "2025-08-14T00:37:02.582Z",
         "2025-08-14T00:37:02.582Z",
         "2025-08-14T00:37:02.582Z",
         "2025-01-20T09:11:54.494Z",
         "2025-08-14T00:37:02.582Z",
         "2025-08-14T00:37:02.582Z",
         "2025-08-14T00:37:02.582Z",
         "2025-08-14T00:37:02.582Z",
         "2025-08-14T03:09:01.359Z",
         "2025-08-14T00:37:02.582Z",
         "2025-08-14T00:37:02.582Z",
         "2025-07-12T15:45:33.266Z",
         "2025-08-14T00:37:02.582Z",
         "2025-08-14T00:37:02.582Z",
         "2025-07-14T07:56:01.937Z",
         "2025-08-14T00:37:02.582Z",
         "2025-08-14T00:37:02.582Z",
         "2025-08-14T00:37:02.582Z",
         "2025-08-14T00:37:02.582Z",
         "2025-08-14T00:37:02.582Z",
         "2025-08-14T00:37:02.582Z",
         "2024-12-17T18:10:38.805Z",
         "2025-08-14T00:37:02.582Z",
         "2025-01-20T07:16:25.271Z",
         "2025-08-14T00:37:02.582Z",
         "2025-06-22T13:45:40.146Z",
         "2025-08-14T00:37:02.582Z",
         "2025-08-14T00:37:02.582Z",
         "2025-08-14T00:37:02.582Z",
         "2025-08-14T00:37:02.582Z",
         "2025-08-14T00:37:02.582Z",
         "2021-01-03T12:04:17.372Z",
         "2025-08-14T00:37:02.582Z",
         "2025-01-20T09:11:54.494Z",
         "2024-12-17T15:02:41.429Z",
         "2025-08-14T00:37:02.582Z",
         "2024-11-06T21:02:03.767Z",
         "2021-01-03T07:54:40.240Z",
         "2025-08-02T18:55:43.758Z",
         "2025-07-14T06:25:35.128Z",
         "2021-05-19T16:00:11.072Z",
         "2017-12-12T00:00:00.000Z",
         "2021-05-19T16:00:11.072Z",
         "632.31",
         "1478.98",
         "72.61",
         "3.513889",
         "9390.25",
         "45.91",
         "121.77",
         "52.17",
         "149.66",
         "0.99895134",
         "69.81",
         "63.26",
         "107408",
         "407.23",
         "4101.56",
         "382.47",
         "991.882",
         "908.141",
         "6.779735",
         "51.3",
         "43.9",
         "102272",
         "514.37",
         "46598",
         "658780",
         "672.18",
         "3993.42",
         "6641.83",
         "75594",
         "50.61",
         "22646",
         "20.707835",
         "117588",
         "859.32",
         "211.18",
         "10932.64",
         "1316.03",
         "84.85",
         "2880.5",
         "17315.84",
         "220.11",
         "2206.43",
         "646.04",
         "443.81",
         "84.47",
         "577.37",
         "5644.35",
         "392.91",
         "1998.66",
         "553.37",
         "67.81",
         "766.19",
         "3672339",
         "3.37",
         "0.0531",
         "44.39",
         "21608",
         "9908",
         "0.23958075",
         "666.26",
         "950993",
         "598.477",
         "95099268",
         "66130.72219",
         "10027093.86103",
         "244385.86133",
         "5700.48466",
         "147257.08054",
         "93527.33432",
         "93546.21015",
         "150.30471",
         "417039.69308",
         "0.10498",
         "226664.03419",
         "144940.78466",
         "102486.81689",
         "200851.0567",
         "58354.46099",
         "190985.04507",
         "2865.75641",
         "24948.78591",
         "290.86844",
         "190769.83723",
         "192944.28169",
         "200.49294",
         "173013.03097",
         "82803.13886",
         "281678.04295",
         "57824.09748",
         "248420.41401",
         "252990.65067",
         "210886.67121",
         "68766.63511",
         "151584.84936",
         "4639.91485",
         "203454.21632",
         "249063.26142",
         "228045.89875",
         "1603235.62309",
         "88617.33002",
         "230800.60125",
         "225804.29179",
         "186334.68776",
         "188871.66673",
         "415940.74558",
         "66142.31401",
         "246343.54246",
         "173481.97803",
         "5.51414",
         "65701.3084",
         "1187428.58679",
         "173215.03066",
         "851348.20696",
         "168067.9277",
         "1390.24794",
         "81752.71953",
         "89301.26187",
         "64119.25679",
         "179599.17594",
         "1208.59764",
         "292.22612",
         "8419.73848",
         "302678.61524",
         "5.17084",
         "626.76698",
         "5.17084",
         "2015-01-14T00:00:00.000Z",
         "2015-01-14T00:00:00.000Z",
         "2013-07-05T00:00:00.000Z",
         "2017-08-02T00:00:00.000Z",
         "2013-09-08T00:00:00.000Z",
         "2013-09-08T00:00:00.000Z",
         "2013-09-08T00:00:00.000Z",
         "2022-11-27T02:35:06.345Z",
         "2013-07-05T00:00:00.000Z",
         "2019-10-21T00:00:00.000Z",
         "2013-07-05T00:00:00.000Z",
         "2013-07-05T00:00:00.000Z",
         "2015-01-14T00:00:00.000Z",
         "2013-07-05T00:00:00.000Z",
         "2015-01-14T00:00:00.000Z",
         "2013-07-05T00:00:00.000Z",
         "2021-05-19T11:04:48.978Z",
         "2019-04-11T00:00:00.000Z",
         "2017-06-12T00:00:00.000Z",
         "2013-07-05T00:00:00.000Z",
         "2013-07-05T00:00:00.000Z",
         "2024-01-23T14:25:15.024Z",
         "2013-07-05T00:00:00.000Z",
         "2015-01-14T00:00:00.000Z",
         "2013-07-05T00:00:00.000Z",
         "2015-01-14T00:00:00.000Z",
         "2013-07-05T00:00:00.000Z",
         "2013-07-05T00:00:00.000Z",
         "2013-07-05T00:00:00.000Z",
         "2015-01-14T00:00:00.000Z",
         "2015-01-14T00:00:00.000Z",
         "2013-11-28T00:00:00.000Z",
         "2013-09-08T00:00:00.000Z",
         "2013-07-05T00:00:00.000Z",
         "2013-07-05T00:00:00.000Z",
         "2013-07-06T00:00:00.000Z",
         "2015-01-14T00:00:00.000Z",
         "2013-07-05T00:00:00.000Z",
         "2013-07-05T00:00:00.000Z",
         "2015-01-14T00:00:00.000Z",
         "2013-07-05T00:00:00.000Z",
         "2013-07-05T00:00:00.000Z",
         "2015-01-14T00:00:00.000Z",
         "2013-07-05T00:00:00.000Z",
         "2013-07-05T00:00:00.000Z",
         "2025-07-22T03:15:39.830Z",
         "2015-01-14T00:00:00.000Z",
         "2015-01-14T00:00:00.000Z",
         "2013-07-05T00:00:00.000Z",
         "2013-07-06T00:00:00.000Z",
         "2013-07-06T00:00:00.000Z",
         "2013-09-08T00:00:00.000Z",
         "2015-01-14T00:00:00.000Z",
         "2013-07-05T00:00:00.000Z",
         "2013-07-05T00:00:00.000Z",
         "2013-07-05T00:00:00.000Z",
         "2018-11-20T00:00:00.000Z",
         "2018-12-25T00:00:00.000Z",
         "2020-09-12T20:09:36.122Z",
         "2013-07-05T00:00:00.000Z",
         "2021-05-19T13:14:13.071Z",
         "2020-08-16T08:13:13.338Z",
         "2021-05-19T13:14:13.071Z",
         "8337370283170",
         "2952416731141923",
         "3534136913444",
         "4057786152",
         "275476875645212",
         "855810343841",
         "2270216550897",
         "2599699283",
         "12428527529542",
         "19909209",
         "3151423807293",
         "1826682073132",
         "2193642146635389",
         "16291528012548",
         "47731302982613",
         "14549829225783",
         "585642094620",
         "4528735643950",
         "527569976",
         "1949296469046",
         "1687252183225",
         "6118233604668",
         "17727451332073",
         "769086936488805",
         "36955944984188216",
         "7751472795714",
         "197580351749405",
         "334657648685556",
         "3175250265766161",
         "693889418565",
         "683874144850525",
         "19540785319",
         "4765184540333120",
         "42626035462522",
         "9591664927540",
         "3489686073377064",
         "23243945878193",
         "3900638403204",
         "129547637260395",
         "642698319180283",
         "8280878214517",
         "182752532236749",
         "8519827587365",
         "21774430164365",
         "2918917309017",
         "12128356781",
         "73940953062720",
         "92890904656369",
         "68962170657763",
         "93801322789126",
         "2270216550897",
         "227316783241",
         "59842908281648912",
         "59975193800",
         "678885557",
         "1588114096664",
         "5629414695727",
         "773674836228",
         "406363744",
         "40161381674690",
         "19911743285607",
         "86592349227",
         "1991174328560691",
         "1",
         "8337370283170",
         "2952416731141923",
         "3534136913444",
         "4057786152",
         "275476875645212",
         "855810343841",
         "2270216550897",
         "2599699283",
         "12428527529542",
         "19909209",
         "3151423807293",
         "1826682073132",
         "2193642146635389",
         "16291528012548",
         "47731302982613",
         "14549829225783",
         "585642094620",
         "4528735643950",
         "527569976",
         "1949296469046",
         "1687252183225",
         "6118233604668",
         "17727451332073",
         "769086936488805",
         "36955944984188216",
         "7751472795714",
         "197580351749405",
         "334657648685556",
         "3175250265766161",
         "693889418565",
         "683874144850525",
         "19540785319",
         "4765184540333120",
         "42626035462522",
         "9591664927540",
         "3489686073377064",
         "23243945878193",
         "3900638403204",
         "129547637260395",
         "642698319180283",
         "8280878214517",
         "182752532236749",
         "8519827587365",
         "21774430164365",
         "2918917309017",
         "12128356781",
         "73940953062720",
         "92890904656369",
         "68962170657763",
         "93801322789126",
         "2270216550897",
         "227316783241",
         "59842908281648912",
         "59975193800",
         "678885557",
         "1588114096664",
         "5629414695727",
         "773674836228",
         "406363744",
         "40161381674690",
         "19911743285607",
         "86592349227",
         "1991174328560691",
         "1.0",
         "154423088062",
         "54685090125279",
         "65440615235",
         "75162822",
         "5102327038630",
         "15854215837",
         "42048492325",
         "48206734",
         "230253339121",
         "368382",
         "58365241577",
         "33837052501",
         "40630196678543",
         "301748390620",
         "884152596898",
         "269487609951",
         "10846715623",
         "83940171532",
         "9751413",
         "36107755184",
         "31250439496",
         "113320686815",
         "328356592466",
         "14246996230819",
         "684353929556048",
         "143571213163",
         "3658826727298",
         "6201826742071",
         "58796215286680",
         "12852668309",
         "12666578754090",
         "362012418",
         "88259785389448",
         "789366717306",
         "177486686102",
         "64635260461764",
         "430731426002",
         "72234390140",
         "2394661595841",
         "11903928429400",
         "153389578169",
         "3384874955063",
         "157800296820",
         "403335445652",
         "54059391866",
         "224734065",
         "1369161982829",
         "1720493955599",
         "1276844475882",
         "1737369150878",
         "42048492325",
         "4210315536",
         "1108398257677864",
         "1111462752",
         "12580909",
         "29414728466",
         "104298349613",
         "14337549195",
         "7527718",
         "744075697544",
         "368382013283",
         "1603923489",
         "36838201328284",
         "420895",
         "149047907",
         "178183",
         "207.07",
         "13906878",
         "43209",
         "114607",
         "137.749",
         "627551",
         "1.0",
         "158991",
         "92141",
         "110741469",
         "822444",
         "2407702",
         "734102",
         "30395",
         "234191",
         "27.644902",
         "98350",
         "85170",
         "308866",
         "895301",
         "38817487",
         "1866148530",
         "391317",
         "9972926",
         "16886278",
         "160210396",
         "35026",
         "34523966",
         "1001",
         "240560447",
         "2151520",
         "484330",
         "175914679",
         "1173376",
         "196794",
         "6541854",
         "32445290",
         "417842",
         "9225885",
         "430103",
         "1099357",
         "147316",
         "636.192",
         "3732755",
         "4689187",
         "3472036",
         "4735365",
         "114607",
         "11475.62",
         "3021044970",
         "3079.61",
         "34.28",
         "80173",
         "289454",
         "39790",
         "21.122692",
         "2025724",
         "1000547",
         "4802",
         "100054732",
         "413011",
         "145481743",
         "174750",
         "203.052",
         "13665297",
         "42394",
         "112460",
         "129.867",
         "615237",
         "1.0",
         "155967",
         "90474",
         "108411620",
         "807027",
         "2361554",
         "720216",
         "29278",
         "227428",
         "26.230471",
         "96476",
         "83486",
         "303081",
         "878779",
         "38083662",
         "1834731318",
         "382063",
         "9789643",
         "16553519",
         "157351613",
         "34362",
         "33924249",
         "975.541",
         "236054230",
         "2111758",
         "475257",
         "172656969",
         "1152908",
         "191278",
         "6425529",
         "31758319",
         "409948",
         "9044819",
         "422049",
         "1079730",
         "144520",
         "606.925",
         "3661652",
         "4602179",
         "3402376",
         "4653025",
         "112460",
         "11260.65",
         "2964553749",
         "2983.63",
         "33.65",
         "78399",
         "279971",
         "38333",
         "20.373656",
         "1991149",
         "998534",
         "4269",
         "99853434",
         "970.603",
         "0.85759",
         "-7.51153",
         "-0.75186",
         "-2.80766",
         "11.80945",
         "13.57631",
         "93.27533",
         "16735792196",
         "0.74266",
         "3564.54",
         "2285535",
         "2194.84",
         "-1.2365086414368704",
         "97591",
         "368.9",
         "970.6",
         "-6.392626304980979",
         "2343.55",
         "0.0",
         "1447.74",
         "307.07",
         "1246841",
         "6263.54",
         "21396",
         "5479.48",
         "-903.2198308564657",
         "-5975.581969316932",
         "-1.1067992339912216",
         "752.66",
         "856.49",
         "2615.78",
         "7730.87",
         "358846",
         "14832077",
         "5885.45",
         "70870",
         "127604",
         "1577611",
         "286.83",
         "234136",
         "-15.547673068435529",
         "2037296",
         "10827.1",
         "2965.14",
         "1791894",
         "4583.57",
         "3957.43",
         "6665.65",
         "279410",
         "3069.52",
         "46933",
         "3671.36",
         "7686.41",
         "1225.44",
         "-26.10844634619764",
         "26115",
         "42046",
         "48148",
         "32019",
         "970.6",
         "97.19",
         "30980547",
         "-15.872585831250944",
         "0.01311823",
         "952.64",
         "-4570.093877619191",
         "-416.6619639252822",
         "-0.6872669866113839",
         "15296.36",
         "46.92",
         "-401.5475513205556",
         "4692.37",
         "0.05705",
         "0.05935",
         "0.19656",
         "0.0928",
         "0.05705",
         "0.07509",
         "0.05705",
         "-0.37591",
         "0.04608",
         "0.0",
         "0.0949",
         "0.09461",
         "0.05705",
         "0.05705",
         "0.09511",
         "0.08487",
         "-0.11514",
         "-0.28524",
         "0.06773",
         "0.09505",
         "0.09206",
         "0.05705",
         "0.0186",
         "0.09138",
         "0.01004",
         "0.05705",
         "0.05234",
         "0.14107",
         "0.13241",
         "0.06327",
         "0.05705",
         "-0.30387",
         "0.05705",
         "0.03859",
         "-0.03768",
         "0.20202",
         "0.0988",
         "0.12605",
         "-0.18833",
         "0.05705",
         "0.09247",
         "0.05576",
         "0.05478",
         "0.08429",
         "0.08811",
         "0.19848",
         "0.0924",
         "0.05607",
         "0.29055",
         "0.05705",
         "0.05705",
         "0.05705",
         "0.05705",
         "0.22164",
         "0.14072",
         "0.05705",
         "0.11032",
         "0.31701",
         "0.02453",
         "0.1264",
         "-0.00908",
         "0.30518",
         "-0.00908",
         "0.85759",
         "1.56364",
         "1.25093",
         "-0.60235",
         "0.70957",
         "0.86454",
         "0.85759",
         "-4.65735",
         "0.37634",
         "0.0",
         "0.92215",
         "0.33541",
         "1.14335",
         "0.77053",
         "0.89946",
         "0.75465",
         "-2.97614",
         "-2.55534",
         "-4.01321",
         "0.7738",
         "1.01988",
         "0.85759",
         "0.87487",
         "0.93651",
         "0.80479",
         "1.5332",
         "0.71864",
         "0.76371",
         "0.99826",
         "0.82889",
         "0.68558",
         "-1.55742",
         "0.85759",
         "0.50782",
         "0.61921",
         "1.03176",
         "0.39353",
         "2.05969",
         "0.10264",
         "0.87217",
         "0.74262",
         "0.51338",
         "0.86444",
         "0.70696",
         "0.84206",
         "-4.10386",
         "0.70759",
         "0.90839",
         "1.40861",
         "0.68353",
         "0.85759",
         "0.85759",
         "1.04032",
         "-0.5233",
         "0.03842",
         "1.20742",
         "-1.58845",
         "-1.05917",
         "-3.25369",
         "0.76305",
         "0.00469",
         "-8.44349",
         "0.00469",
         "-7.524",
         "-8.44262",
         "-5.68988",
         "1.98994",
         "-7.68967",
         "-7.51546",
         "-7.51153",
         "-9.92979",
         "-6.07589",
         "0.0",
         "-6.66455",
         "-7.52188",
         "-6.23549",
         "-7.49735",
         "-6.87167",
         "-6.97066",
         "2.21217",
         "5.29651",
         "1.99643",
         "-6.97857",
         "-6.62705",
         "-7.51153",
         "-7.98478",
         "-7.14072",
         "-6.59715",
         "-6.56534",
         "-7.97243",
         "-7.2794",
         "-6.27033",
         "-7.4437",
         "-7.45659",
         "4.36565",
         "-7.51153",
         "-6.82625",
         "-7.26988",
         "-7.28474",
         "-6.9733",
         "-4.98807",
         "-7.0119",
         "-7.79269",
         "-7.09516",
         "-6.2901",
         "-7.49997",
         "-6.98729",
         "-7.08695",
         "-0.27987",
         "-6.69742",
         "-7.21642",
         "-6.24535",
         "-8.01734",
         "-7.51153",
         "-7.51153",
         "-7.22998",
         "-5.80015",
         "-6.94549",
         "-7.87946",
         "3.78143",
         "3.49075",
         "0.24829",
         "-6.50365",
         "0.01118",
         "-15.31561",
         "0.01118",
         "-0.76605",
         "-3.06282",
         "0.40743",
         "1.31336",
         "-1.037",
         "-0.74396",
         "-0.75186",
         "-12.40205",
         "-0.44096",
         "0.0",
         "0.2617",
         "-0.93283",
         "-1.70433",
         "-0.84029",
         "-0.94769",
         "-0.60505",
         "-5.94494",
         "0.37696",
         "-15.21071",
         "-0.60312",
         "-1.47055",
         "-0.93565",
         "-1.26214",
         "-1.48361",
         "-1.22977",
         "-1.19691",
         "-1.59808",
         "-0.56258",
         "0.17276",
         "-0.6859",
         "-0.6206",
         "1.95167",
         "-0.75186",
         "0.14219",
         "-0.96303",
         "-0.30103",
         "-0.13982",
         "1.09858",
         "-1.37359",
         "-0.85036",
         "-1.19077",
         "-0.1354",
         "-0.74043",
         "-0.86709",
         "-0.7151",
         "-10.79544",
         "-0.0721",
         "-0.12946",
         "0.69492",
         "-1.42726",
         "-0.75186",
         "-0.75186",
         "-0.27898",
         "-0.60227",
         "0.05743",
         "-1.50807",
         "-1.41126",
         "1.25433",
         "-6.60092",
         "-1.24101",
         "0.01111",
         "-36.83625",
         "0.01111",
         "-2.82089",
         "-0.78415",
         "-1.26534",
         "-9.09345",
         "-2.91352",
         "-2.80302",
         "-2.80766",
         "-14.62204",
         "-4.4033",
         "0.0",
         "-1.35569",
         "-2.00516",
         "-1.56999",
         "-2.80495",
         "-2.94394",
         "-2.40822",
         "12.8595",
         "17.47923",
         "-15.14203",
         "-2.39266",
         "-2.56131",
         "-3.34563",
         "-3.30996",
         "-3.51247",
         "-3.1685",
         "-0.93911",
         "-1.98173",
         "-2.74683",
         "-1.71998",
         "-2.69911",
         "-2.85348",
         "-3.07329",
         "-2.76133",
         "-2.2771",
         "-3.14039",
         "-2.35219",
         "-2.03935",
         "-0.34209",
         "-2.92869",
         "-3.55496",
         "-2.31604",
         "0.0496",
         "-2.77072",
         "-2.59757",
         "-2.42598",
         "1.95576",
         "-1.74702",
         "-1.58702",
         "0.55304",
         "-3.93618",
         "-2.80766",
         "-2.80766",
         "-2.05512",
         "0.13195",
         "-1.223",
         "-3.17818",
         "14.10554",
         "17.80082",
         "6.84407",
         "-2.3558",
         "-0.01149",
         "-27.61729",
         "-0.01149",
         "11.81524",
         "25.01079",
         "12.56739",
         "-6.73353",
         "10.87355",
         "11.82102",
         "11.80945",
         "-19.38764",
         "11.06063",
         "0.0",
         "13.01414",
         "10.00366",
         "14.79251",
         "11.75183",
         "9.15558",
         "10.69322",
         "-4.29003",
         "5.54622",
         "-40.52985",
         "10.64976",
         "11.81502",
         "10.78179",
         "11.22212",
         "8.41856",
         "10.84772",
         "9.41819",
         "12.34248",
         "12.87107",
         "13.85579",
         "11.58021",
         "12.01891",
         "-22.94772",
         "11.86275",
         "9.46878",
         "10.98123",
         "10.87537",
         "13.3457",
         "14.71711",
         "11.31601",
         "11.49109",
         "10.11858",
         "14.7745",
         "11.8242",
         "10.97369",
         "11.7785",
         "-19.31013",
         "11.07929",
         "15.31453",
         "14.74942",
         "10.73472",
         "11.80945",
         "11.80945",
         "12.80778",
         "6.45813",
         "12.65664",
         "10.26723",
         "-34.33624",
         "-21.34777",
         "-6.48275",
         "9.92325",
         "0.08648",
         "-48.774",
         "0.08648",
         "13.56239",
         "40.54702",
         "10.05093",
         "-18.09353",
         "12.86954",
         "13.60945",
         "13.57631",
         "-14.9042",
         "6.45883",
         "0.0",
         "8.4058",
         "0.28535",
         "11.60698",
         "13.40879",
         "-1.80359",
         "1.07017",
         "73.10932",
         "67.97238",
         "-17.87431",
         "1.07019",
         "4.61337",
         "6.65092",
         "13.83941",
         "-2.18251",
         "13.02145",
         "8.50844",
         "14.17062",
         "7.93921",
         "8.94184",
         "12.54717",
         "14.65884",
         "15.77725",
         "13.63044",
         "3.08868",
         "7.61068",
         "12.96341",
         "2.78099",
         "9.95466",
         "10.71652",
         "15.1278",
         "1.89059",
         "-7.2444",
         "13.63263",
         "-1.82386",
         "7.58819",
         "30.8558",
         "9.38881",
         "30.17449",
         "4.68532",
         "12.37845",
         "13.57631",
         "13.57631",
         "19.37286",
         "-6.00302",
         "-4.90281",
         "3.79685",
         "10.60975",
         "11.54782",
         "34.29542",
         "7.64465",
         "0.00562",
         "-0.51707",
         "0.00562",
         "93.25007",
         "166.34096",
         "102.91867",
         "15.91151",
         "97.06556",
         "93.38098",
         "93.27533",
         "26.18519",
         "93.14479",
         "0.0",
         "97.00409",
         "82.22496",
         "101.69664",
         "94.35323",
         "79.84787",
         "84.7286",
         "125.44866",
         "89.70969",
         "15.4487",
         "84.69175",
         "87.23113",
         "92.91741",
         "93.79034",
         "85.25078",
         "103.61479",
         "78.54725",
         "100.72088",
         "96.26524",
         "103.60119",
         "93.36895",
         "94.84628",
         "7.26197",
         "93.36745",
         "90.79697",
         "86.36554",
         "88.5899",
         "88.61643",
         "104.4241",
         "95.09609",
         "96.8293",
         "83.43986",
         "70.6946",
         "93.30731",
         "81.66885",
         "90.47738",
         "47.89074",
         "84.41736",
         "133.21056",
         "83.93041",
         "93.48387",
         "93.27533",
         "93.27533",
         "104.40082",
         "50.47274",
         "45.38044",
         "81.27681",
         "-53.1352",
         "-60.83059",
         "73.33154",
         "92.08752",
         "0.01209",
         "-24.46571",
         "0.01209",
         "61462196838",
         "42021092294341",
         "40991601092",
         "-27134510.058399677",
         "1628875346147",
         "6320209195",
         "16735792196",
         "-129647552.97717047",
         "35735445138",
         "475.0",
         "25710786129",
         "4170495609",
         "22323296396075",
         "106127811250",
         "378235755789",
         "95868430625",
         "-17943052087.579224",
         "-115955008196.35742",
         "-22138821.611979187",
         "13029182824",
         "15545791556",
         "45102959967",
         "136584476823",
         "6460390587650",
         "260827679681424",
         "108342106426",
         "1262401477626",
         "2104169311498",
         "29663015832741",
         "4910211400",
         "3881715290692",
         "-326048925.87973404",
         "35128427818514",
         "175510272445",
         "60568058612",
         "31697314341910",
         "57483485819",
         "75377350116",
         "248540521034",
         "4830135584955",
         "55754570564",
         "733812010792",
         "63584703319",
         "132361514716",
         "21779348169",
         "-538676723.1857338",
         "445931598427",
         "733233846218",
         "905927258077",
         "530527130368",
         "16735792196",
         "1675754873",
         "548583910516480",
         "-393076896.7109451",
         "-1192400.7882646322",
         "17156322754",
         "-93983598345.02832",
         "-8965601527.548828",
         "-13698575.482248485",
         "247176120301",
         "4087980146",
         "-7983640435.922348",
         "408798014561",
         "0.74266",
         "1.44383",
         "1.17349",
         "-0.66426",
         "0.59481",
         "0.744",
         "0.74266",
         "-4.75013",
         "0.28836",
         "0.00239",
         "0.82256",
         "0.22883",
         "1.0281",
         "0.6557",
         "0.79876",
         "0.66327",
         "-2.97275",
         "-2.49651",
         "-4.02737",
         "0.6729",
         "0.92994",
         "0.74266",
         "0.77645",
         "0.84712",
         "0.7108",
         "1.41751",
         "0.64304",
         "0.63273",
         "0.943",
         "0.71268",
         "0.57085",
         "-1.64117",
         "0.74266",
         "0.41345",
         "0.63548",
         "0.91664",
         "0.24792",
         "1.97052",
         "0.19222",
         "0.75723",
         "0.67786",
         "0.40315",
         "0.75193",
         "0.61159",
         "0.75175",
         "-4.25259",
         "0.60675",
         "0.79563",
         "1.33114",
         "0.5688",
         "0.74266",
         "0.74266",
         "0.92519",
         "-0.65113",
         "-0.17533",
         "1.09209",
         "-1.64209",
         "-1.14556",
         "-3.26108",
         "0.61927",
         "0.02053",
         "-8.44151",
         "0.02053",
         "19909209.0",
         "21000000.0",
         "False",
         "19909209.0",
         "2025-08-21T01:26:23.891Z",
         null,
         "0.0",
         "0.0",
         "0",
         "0",
         null,
         "36426",
         "73168",
         "3967",
         "7743",
         "7380",
         "11215",
         "846",
         "1570",
         "-1948",
         "108",
         "[]"
        ]
       ],
       "shape": {
        "columns": 1595,
        "rows": 1
       }
      },
      "text/html": [
       "<div>\n",
       "<style scoped>\n",
       "    .dataframe tbody tr th:only-of-type {\n",
       "        vertical-align: middle;\n",
       "    }\n",
       "\n",
       "    .dataframe tbody tr th {\n",
       "        vertical-align: top;\n",
       "    }\n",
       "\n",
       "    .dataframe thead th {\n",
       "        text-align: right;\n",
       "    }\n",
       "</style>\n",
       "<table border=\"1\" class=\"dataframe\">\n",
       "  <thead>\n",
       "    <tr style=\"text-align: right;\">\n",
       "      <th></th>\n",
       "      <th>id</th>\n",
       "      <th>symbol</th>\n",
       "      <th>name</th>\n",
       "      <th>web_slug</th>\n",
       "      <th>asset_platform_id</th>\n",
       "      <th>block_time_in_minutes</th>\n",
       "      <th>hashing_algorithm</th>\n",
       "      <th>categories</th>\n",
       "      <th>preview_listing</th>\n",
       "      <th>public_notice</th>\n",
       "      <th>...</th>\n",
       "      <th>developer_data.stars</th>\n",
       "      <th>developer_data.subscribers</th>\n",
       "      <th>developer_data.total_issues</th>\n",
       "      <th>developer_data.closed_issues</th>\n",
       "      <th>developer_data.pull_requests_merged</th>\n",
       "      <th>developer_data.pull_request_contributors</th>\n",
       "      <th>developer_data.code_additions_deletions_4_weeks.additions</th>\n",
       "      <th>developer_data.code_additions_deletions_4_weeks.deletions</th>\n",
       "      <th>developer_data.commit_count_4_weeks</th>\n",
       "      <th>developer_data.last_4_weeks_commit_activity_series</th>\n",
       "    </tr>\n",
       "  </thead>\n",
       "  <tbody>\n",
       "    <tr>\n",
       "      <th>0</th>\n",
       "      <td>bitcoin</td>\n",
       "      <td>btc</td>\n",
       "      <td>Bitcoin</td>\n",
       "      <td>bitcoin</td>\n",
       "      <td>None</td>\n",
       "      <td>10</td>\n",
       "      <td>SHA-256</td>\n",
       "      <td>[Smart Contract Platform, Layer 1 (L1), FTX Ho...</td>\n",
       "      <td>False</td>\n",
       "      <td>None</td>\n",
       "      <td>...</td>\n",
       "      <td>73168</td>\n",
       "      <td>3967</td>\n",
       "      <td>7743</td>\n",
       "      <td>7380</td>\n",
       "      <td>11215</td>\n",
       "      <td>846</td>\n",
       "      <td>1570</td>\n",
       "      <td>-1948</td>\n",
       "      <td>108</td>\n",
       "      <td>[]</td>\n",
       "    </tr>\n",
       "  </tbody>\n",
       "</table>\n",
       "<p>1 rows × 1595 columns</p>\n",
       "</div>"
      ],
      "text/plain": [
       "        id symbol     name web_slug asset_platform_id  block_time_in_minutes  \\\n",
       "0  bitcoin    btc  Bitcoin  bitcoin              None                     10   \n",
       "\n",
       "  hashing_algorithm                                         categories  \\\n",
       "0           SHA-256  [Smart Contract Platform, Layer 1 (L1), FTX Ho...   \n",
       "\n",
       "   preview_listing public_notice  ... developer_data.stars  \\\n",
       "0            False          None  ...                73168   \n",
       "\n",
       "  developer_data.subscribers developer_data.total_issues  \\\n",
       "0                       3967                        7743   \n",
       "\n",
       "   developer_data.closed_issues  developer_data.pull_requests_merged  \\\n",
       "0                          7380                                11215   \n",
       "\n",
       "   developer_data.pull_request_contributors  \\\n",
       "0                                       846   \n",
       "\n",
       "   developer_data.code_additions_deletions_4_weeks.additions  \\\n",
       "0                                               1570           \n",
       "\n",
       "  developer_data.code_additions_deletions_4_weeks.deletions  \\\n",
       "0                                              -1948          \n",
       "\n",
       "  developer_data.commit_count_4_weeks  \\\n",
       "0                                 108   \n",
       "\n",
       "  developer_data.last_4_weeks_commit_activity_series  \n",
       "0                                                 []  \n",
       "\n",
       "[1 rows x 1595 columns]"
      ]
     },
     "execution_count": 12,
     "metadata": {},
     "output_type": "execute_result"
    }
   ],
   "source": [
    "df=pd.json_normalize(json_data)\n",
    "df"
   ]
  },
  {
   "cell_type": "markdown",
   "id": "c886f824",
   "metadata": {},
   "source": [
    "AVANCE"
   ]
  },
  {
   "cell_type": "code",
   "execution_count": 14,
   "id": "ecfeeeaa",
   "metadata": {},
   "outputs": [],
   "source": [
    "import os\n",
    "import load_dotenv\n",
    "\n",
    "load_dotenv.load_dotenv()\n",
    "\n",
    "url = \"https://api.yelp.com/v3/businesses/search\""
   ]
  },
  {
   "cell_type": "code",
   "execution_count": null,
   "id": "77075ab5",
   "metadata": {},
   "outputs": [],
   "source": [
    "cliente_id = os.getenv(\"CLIENTE_ID\")\n",
    "api_key = os.getenv(\"API_KEY\")"
   ]
  },
  {
   "cell_type": "code",
   "execution_count": 29,
   "id": "7d699689",
   "metadata": {},
   "outputs": [],
   "source": [
    "headers = {'Authorization':'Bearer %s'%api_key}\n",
    "ciudad = 'New York'\n",
    "params = {'term':'bar', 'location':ciudad, 'limit':50}"
   ]
  },
  {
   "cell_type": "code",
   "execution_count": 30,
   "id": "240cb371",
   "metadata": {},
   "outputs": [
    {
     "data": {
      "text/plain": [
       "<Response [200]>"
      ]
     },
     "execution_count": 30,
     "metadata": {},
     "output_type": "execute_result"
    }
   ],
   "source": [
    "response = requests.get(url=url, params=params, headers=headers)\n",
    "response"
   ]
  },
  {
   "cell_type": "code",
   "execution_count": 31,
   "id": "9d9c5e41",
   "metadata": {},
   "outputs": [],
   "source": [
    "data = response.json()"
   ]
  },
  {
   "cell_type": "code",
   "execution_count": 32,
   "id": "a02db494",
   "metadata": {},
   "outputs": [
    {
     "data": {
      "text/plain": [
       "{'businesses': [{'id': 'KRp_qOt7ga8ormM1vo2P8A',\n",
       "   'alias': 'paradise-lost-new-york',\n",
       "   'name': 'Paradise Lost',\n",
       "   'image_url': 'https://s3-media0.fl.yelpcdn.com/bphoto/rECk1kCn2H8C7MYWk_kayA/o.jpg',\n",
       "   'is_closed': False,\n",
       "   'url': 'https://www.yelp.com/biz/paradise-lost-new-york?adjust_creative=GWOCZh9-BmZxtdsAjr7Gug&utm_campaign=yelp_api_v3&utm_medium=api_v3_business_search&utm_source=GWOCZh9-BmZxtdsAjr7Gug',\n",
       "   'review_count': 122,\n",
       "   'categories': [{'alias': 'cocktailbars', 'title': 'Cocktail Bars'},\n",
       "    {'alias': 'tikibars', 'title': 'Tiki Bars'}],\n",
       "   'rating': 4.6,\n",
       "   'coordinates': {'latitude': 40.727135, 'longitude': -73.988362},\n",
       "   'transactions': [],\n",
       "   'location': {'address1': '100 2nd Ave',\n",
       "    'address2': None,\n",
       "    'address3': '',\n",
       "    'city': 'New York',\n",
       "    'zip_code': '10003',\n",
       "    'country': 'US',\n",
       "    'state': 'NY',\n",
       "    'display_address': ['100 2nd Ave', 'New York, NY 10003']},\n",
       "   'phone': '+19293994666',\n",
       "   'display_phone': '(929) 399-4666',\n",
       "   'distance': 2457.4867388259354},\n",
       "  {'id': 'zRXMvxUX_rOliKZPpkWi_g',\n",
       "   'alias': 'valerie-new-york',\n",
       "   'name': 'Valerie',\n",
       "   'image_url': 'https://s3-media0.fl.yelpcdn.com/bphoto/mnH5QFkSMzZgd6P5eSZvvw/o.jpg',\n",
       "   'is_closed': False,\n",
       "   'url': 'https://www.yelp.com/biz/valerie-new-york?adjust_creative=GWOCZh9-BmZxtdsAjr7Gug&utm_campaign=yelp_api_v3&utm_medium=api_v3_business_search&utm_source=GWOCZh9-BmZxtdsAjr7Gug',\n",
       "   'review_count': 1245,\n",
       "   'categories': [{'alias': 'newamerican', 'title': 'New American'},\n",
       "    {'alias': 'cocktailbars', 'title': 'Cocktail Bars'}],\n",
       "   'rating': 4.3,\n",
       "   'coordinates': {'latitude': 40.756326, 'longitude': -73.981117},\n",
       "   'transactions': ['delivery'],\n",
       "   'price': '$$',\n",
       "   'location': {'address1': '45 W 45th St between 5th & 6th Ave',\n",
       "    'address2': '',\n",
       "    'address3': None,\n",
       "    'city': 'New York',\n",
       "    'zip_code': '10036',\n",
       "    'country': 'US',\n",
       "    'state': 'NY',\n",
       "    'display_address': ['45 W 45th St between 5th & 6th Ave',\n",
       "     'New York, NY 10036']},\n",
       "   'phone': '+12123024545',\n",
       "   'display_phone': '(212) 302-4545',\n",
       "   'distance': 5769.456784305475},\n",
       "  {'id': 'Biebaq8lEVLLNw0vszDeFQ',\n",
       "   'alias': 'hide-rooftop-new-york',\n",
       "   'name': 'Hide Rooftop',\n",
       "   'image_url': 'https://s3-media0.fl.yelpcdn.com/bphoto/TKYoY-iU6YEf8Ob8BYMQaQ/o.jpg',\n",
       "   'is_closed': False,\n",
       "   'url': 'https://www.yelp.com/biz/hide-rooftop-new-york?adjust_creative=GWOCZh9-BmZxtdsAjr7Gug&utm_campaign=yelp_api_v3&utm_medium=api_v3_business_search&utm_source=GWOCZh9-BmZxtdsAjr7Gug',\n",
       "   'review_count': 52,\n",
       "   'categories': [{'alias': 'lounges', 'title': 'Lounges'},\n",
       "    {'alias': 'cocktailbars', 'title': 'Cocktail Bars'},\n",
       "    {'alias': 'venues', 'title': 'Venues & Event Spaces'}],\n",
       "   'rating': 4.8,\n",
       "   'coordinates': {'latitude': 40.70959496491152, 'longitude': -74.0087404},\n",
       "   'transactions': [],\n",
       "   'location': {'address1': '24 John St',\n",
       "    'address2': 'Fl 20',\n",
       "    'address3': '',\n",
       "    'city': 'New York',\n",
       "    'zip_code': '10038',\n",
       "    'country': 'US',\n",
       "    'state': 'NY',\n",
       "    'display_address': ['24 John St', 'Fl 20', 'New York, NY 10038']},\n",
       "   'phone': '+16469289800',\n",
       "   'display_phone': '(646) 928-9800',\n",
       "   'distance': 1302.2732325370405},\n",
       "  {'id': 'cfKT8pNcaPQuZlaIwlEAOg',\n",
       "   'alias': 'hidden-lane-bar-new-york-3',\n",
       "   'name': 'Hidden Lane Bar',\n",
       "   'image_url': 'https://s3-media0.fl.yelpcdn.com/bphoto/fTfm_6DYkQMIDoYQQiXVqQ/o.jpg',\n",
       "   'is_closed': False,\n",
       "   'url': 'https://www.yelp.com/biz/hidden-lane-bar-new-york-3?adjust_creative=GWOCZh9-BmZxtdsAjr7Gug&utm_campaign=yelp_api_v3&utm_medium=api_v3_business_search&utm_source=GWOCZh9-BmZxtdsAjr7Gug',\n",
       "   'review_count': 91,\n",
       "   'categories': [{'alias': 'bars', 'title': 'Bars'}],\n",
       "   'rating': 4.3,\n",
       "   'coordinates': {'latitude': 40.734594491895514, 'longitude': -73.9876737},\n",
       "   'transactions': [],\n",
       "   'location': {'address1': '129 E 15th St',\n",
       "    'address2': None,\n",
       "    'address3': '',\n",
       "    'city': 'New York',\n",
       "    'zip_code': '10003',\n",
       "    'country': 'US',\n",
       "    'state': 'NY',\n",
       "    'display_address': ['129 E 15th St', 'New York, NY 10003']},\n",
       "   'phone': '+12017491876',\n",
       "   'display_phone': '(201) 749-1876',\n",
       "   'distance': 3288.943759314182},\n",
       "  {'id': 'RemvTpxalDjSew5HwmNzUQ',\n",
       "   'alias': 'the-dead-rabbit-new-york',\n",
       "   'name': 'The Dead Rabbit',\n",
       "   'image_url': 'https://s3-media0.fl.yelpcdn.com/bphoto/KkzEm9R1tKqraIRjMTk0iQ/o.jpg',\n",
       "   'is_closed': False,\n",
       "   'url': 'https://www.yelp.com/biz/the-dead-rabbit-new-york?adjust_creative=GWOCZh9-BmZxtdsAjr7Gug&utm_campaign=yelp_api_v3&utm_medium=api_v3_business_search&utm_source=GWOCZh9-BmZxtdsAjr7Gug',\n",
       "   'review_count': 2037,\n",
       "   'categories': [{'alias': 'cocktailbars', 'title': 'Cocktail Bars'}],\n",
       "   'rating': 4.2,\n",
       "   'coordinates': {'latitude': 40.7032766048948,\n",
       "    'longitude': -74.01101979176725},\n",
       "   'transactions': ['delivery', 'pickup'],\n",
       "   'price': '$$',\n",
       "   'location': {'address1': '30 Water St',\n",
       "    'address2': '',\n",
       "    'address3': '',\n",
       "    'city': 'New York',\n",
       "    'zip_code': '10004',\n",
       "    'country': 'US',\n",
       "    'state': 'NY',\n",
       "    'display_address': ['30 Water St', 'New York, NY 10004']},\n",
       "   'phone': '+19175405228',\n",
       "   'display_phone': '(917) 540-5228',\n",
       "   'distance': 1430.433294582613},\n",
       "  {'id': 'pf5JBOPUBHbY6F4s15lk6g',\n",
       "   'alias': 'strangelove-new-york',\n",
       "   'name': 'Strangelove',\n",
       "   'image_url': 'https://s3-media0.fl.yelpcdn.com/bphoto/a9IzI1z6ACja_ndrR7vlaA/o.jpg',\n",
       "   'is_closed': False,\n",
       "   'url': 'https://www.yelp.com/biz/strangelove-new-york?adjust_creative=GWOCZh9-BmZxtdsAjr7Gug&utm_campaign=yelp_api_v3&utm_medium=api_v3_business_search&utm_source=GWOCZh9-BmZxtdsAjr7Gug',\n",
       "   'review_count': 79,\n",
       "   'categories': [{'alias': 'divebars', 'title': 'Dive Bars'}],\n",
       "   'rating': 4.6,\n",
       "   'coordinates': {'latitude': 40.7574, 'longitude': -73.96809},\n",
       "   'transactions': [],\n",
       "   'price': '$',\n",
       "   'location': {'address1': '229 E 53rd St',\n",
       "    'address2': '',\n",
       "    'address3': None,\n",
       "    'city': 'New York',\n",
       "    'zip_code': '10022',\n",
       "    'country': 'US',\n",
       "    'state': 'NY',\n",
       "    'display_address': ['229 E 53rd St', 'New York, NY 10022']},\n",
       "   'phone': '',\n",
       "   'display_phone': '',\n",
       "   'distance': 6182.617036645455},\n",
       "  {'id': '8YWLuLUKj0t_0_Xv06UUtw',\n",
       "   'alias': 'yes-apothecary-夜莺-new-york-5',\n",
       "   'name': \"Ye's Apothecary 夜莺\",\n",
       "   'image_url': 'https://s3-media0.fl.yelpcdn.com/bphoto/y4pAeBfhhPy-u8MIlvHhsA/o.jpg',\n",
       "   'is_closed': False,\n",
       "   'url': 'https://www.yelp.com/biz/yes-apothecary-%E5%A4%9C%E8%8E%BA-new-york-5?adjust_creative=GWOCZh9-BmZxtdsAjr7Gug&utm_campaign=yelp_api_v3&utm_medium=api_v3_business_search&utm_source=GWOCZh9-BmZxtdsAjr7Gug',\n",
       "   'review_count': 978,\n",
       "   'categories': [{'alias': 'szechuan', 'title': 'Szechuan'},\n",
       "    {'alias': 'speakeasies', 'title': 'Speakeasies'}],\n",
       "   'rating': 4.6,\n",
       "   'coordinates': {'latitude': 40.71945, 'longitude': -73.9898},\n",
       "   'transactions': [],\n",
       "   'price': '$$',\n",
       "   'location': {'address1': '119 Orchard St',\n",
       "    'address2': None,\n",
       "    'address3': '',\n",
       "    'city': 'New York',\n",
       "    'zip_code': '10002',\n",
       "    'country': 'US',\n",
       "    'state': 'NY',\n",
       "    'display_address': ['119 Orchard St', 'New York, NY 10002']},\n",
       "   'phone': '+19296552515',\n",
       "   'display_phone': '(929) 655-2515',\n",
       "   'distance': 1602.8275228141238},\n",
       "  {'id': 'H7S7-vF2z_HfaLo6BGPetw',\n",
       "   'alias': 'attaboy-new-york',\n",
       "   'name': 'Attaboy',\n",
       "   'image_url': 'https://s3-media0.fl.yelpcdn.com/bphoto/0J7R47bFfZf9WAoQJClxhA/o.jpg',\n",
       "   'is_closed': False,\n",
       "   'url': 'https://www.yelp.com/biz/attaboy-new-york?adjust_creative=GWOCZh9-BmZxtdsAjr7Gug&utm_campaign=yelp_api_v3&utm_medium=api_v3_business_search&utm_source=GWOCZh9-BmZxtdsAjr7Gug',\n",
       "   'review_count': 852,\n",
       "   'categories': [{'alias': 'cocktailbars', 'title': 'Cocktail Bars'}],\n",
       "   'rating': 4.1,\n",
       "   'coordinates': {'latitude': 40.71887, 'longitude': -73.99134},\n",
       "   'transactions': ['delivery'],\n",
       "   'price': '$$',\n",
       "   'location': {'address1': '134 Eldridge St',\n",
       "    'address2': '',\n",
       "    'address3': '',\n",
       "    'city': 'New York',\n",
       "    'zip_code': '10002',\n",
       "    'country': 'US',\n",
       "    'state': 'NY',\n",
       "    'display_address': ['134 Eldridge St', 'New York, NY 10002']},\n",
       "   'phone': '',\n",
       "   'display_phone': '',\n",
       "   'distance': 1514.7473683794203},\n",
       "  {'id': 'zWrZBXj5F2V_0UknnTfqbw',\n",
       "   'alias': 'the-up-and-up-new-york-2',\n",
       "   'name': 'The Up & Up',\n",
       "   'image_url': 'https://s3-media0.fl.yelpcdn.com/bphoto/YGeEqFPgcZi_7qfSBX2bIA/o.jpg',\n",
       "   'is_closed': False,\n",
       "   'url': 'https://www.yelp.com/biz/the-up-and-up-new-york-2?adjust_creative=GWOCZh9-BmZxtdsAjr7Gug&utm_campaign=yelp_api_v3&utm_medium=api_v3_business_search&utm_source=GWOCZh9-BmZxtdsAjr7Gug',\n",
       "   'review_count': 601,\n",
       "   'categories': [{'alias': 'cocktailbars', 'title': 'Cocktail Bars'}],\n",
       "   'rating': 4.2,\n",
       "   'coordinates': {'latitude': 40.7295104447158,\n",
       "    'longitude': -74.0006693438721},\n",
       "   'transactions': ['delivery', 'pickup'],\n",
       "   'price': '$$',\n",
       "   'location': {'address1': '116 MacDougal St',\n",
       "    'address2': '',\n",
       "    'address3': '',\n",
       "    'city': 'New York',\n",
       "    'zip_code': '10012',\n",
       "    'country': 'US',\n",
       "    'state': 'NY',\n",
       "    'display_address': ['116 MacDougal St', 'New York, NY 10012']},\n",
       "   'phone': '+12122603000',\n",
       "   'display_phone': '(212) 260-3000',\n",
       "   'distance': 2729.3898625454526},\n",
       "  {'id': 'GJ3vgPvcJlOejZepOotQug',\n",
       "   'alias': 'the-woo-woo-new-york-2',\n",
       "   'name': 'The Woo Woo',\n",
       "   'image_url': 'https://s3-media0.fl.yelpcdn.com/bphoto/7QBj6qlHILW3c5jAwEaLSQ/o.jpg',\n",
       "   'is_closed': False,\n",
       "   'url': 'https://www.yelp.com/biz/the-woo-woo-new-york-2?adjust_creative=GWOCZh9-BmZxtdsAjr7Gug&utm_campaign=yelp_api_v3&utm_medium=api_v3_business_search&utm_source=GWOCZh9-BmZxtdsAjr7Gug',\n",
       "   'review_count': 301,\n",
       "   'categories': [{'alias': 'speakeasies', 'title': 'Speakeasies'}],\n",
       "   'rating': 4.4,\n",
       "   'coordinates': {'latitude': 40.76011384643282,\n",
       "    'longitude': -73.98724024445688},\n",
       "   'transactions': [],\n",
       "   'price': '$$',\n",
       "   'location': {'address1': '266 W 47th St',\n",
       "    'address2': '',\n",
       "    'address3': None,\n",
       "    'city': 'New York',\n",
       "    'zip_code': '10036',\n",
       "    'country': 'US',\n",
       "    'state': 'NY',\n",
       "    'display_address': ['266 W 47th St', 'New York, NY 10036']},\n",
       "   'phone': '+16468667234',\n",
       "   'display_phone': '(646) 866-7234',\n",
       "   'distance': 6107.886006444237},\n",
       "  {'id': 'dHKEJaysc51WnQ1Xfzkvpg',\n",
       "   'alias': 'wildflower-new-york',\n",
       "   'name': 'Wildflower',\n",
       "   'image_url': 'https://s3-media0.fl.yelpcdn.com/bphoto/QrOWmRkVBq3xp9Q_F_tWoQ/o.jpg',\n",
       "   'is_closed': False,\n",
       "   'url': 'https://www.yelp.com/biz/wildflower-new-york?adjust_creative=GWOCZh9-BmZxtdsAjr7Gug&utm_campaign=yelp_api_v3&utm_medium=api_v3_business_search&utm_source=GWOCZh9-BmZxtdsAjr7Gug',\n",
       "   'review_count': 35,\n",
       "   'categories': [{'alias': 'cocktailbars', 'title': 'Cocktail Bars'}],\n",
       "   'rating': 4.1,\n",
       "   'coordinates': {'latitude': 40.747987, 'longitude': -74.004369},\n",
       "   'transactions': ['delivery', 'pickup'],\n",
       "   'location': {'address1': '505 W 23rd St',\n",
       "    'address2': '',\n",
       "    'address3': None,\n",
       "    'city': 'New York',\n",
       "    'zip_code': '10011',\n",
       "    'country': 'US',\n",
       "    'state': 'NY',\n",
       "    'display_address': ['505 W 23rd St', 'New York, NY 10011']},\n",
       "   'phone': '+19175080007',\n",
       "   'display_phone': '(917) 508-0007',\n",
       "   'distance': 4806.839205906259},\n",
       "  {'id': 'luuAHNLKBRF79pdfdYjfPg',\n",
       "   'alias': 'chapel-bar-new-york',\n",
       "   'name': 'Chapel Bar',\n",
       "   'image_url': 'https://s3-media0.fl.yelpcdn.com/bphoto/JylRyiH8BUi7Js5mBRm9Qw/o.jpg',\n",
       "   'is_closed': False,\n",
       "   'url': 'https://www.yelp.com/biz/chapel-bar-new-york?adjust_creative=GWOCZh9-BmZxtdsAjr7Gug&utm_campaign=yelp_api_v3&utm_medium=api_v3_business_search&utm_source=GWOCZh9-BmZxtdsAjr7Gug',\n",
       "   'review_count': 58,\n",
       "   'categories': [{'alias': 'cocktailbars', 'title': 'Cocktail Bars'}],\n",
       "   'rating': 3.7,\n",
       "   'coordinates': {'latitude': 40.739126025294,\n",
       "    'longitude': -73.9868698666748},\n",
       "   'transactions': [],\n",
       "   'location': {'address1': '275 Park Ave S',\n",
       "    'address2': '',\n",
       "    'address3': None,\n",
       "    'city': 'New York',\n",
       "    'zip_code': '10010',\n",
       "    'country': 'US',\n",
       "    'state': 'NY',\n",
       "    'display_address': ['275 Park Ave S', 'New York, NY 10010']},\n",
       "   'phone': '+16467901590',\n",
       "   'display_phone': '(646) 790-1590',\n",
       "   'distance': 3797.0584603740426},\n",
       "  {'id': 'gZz9A8k8ORC_xl0aHxtY4w',\n",
       "   'alias': 'monkey-bar-new-york-4',\n",
       "   'name': 'Monkey Bar',\n",
       "   'image_url': 'https://s3-media0.fl.yelpcdn.com/bphoto/IxVJIa4twXFkJ94f2ERErA/o.jpg',\n",
       "   'is_closed': False,\n",
       "   'url': 'https://www.yelp.com/biz/monkey-bar-new-york-4?adjust_creative=GWOCZh9-BmZxtdsAjr7Gug&utm_campaign=yelp_api_v3&utm_medium=api_v3_business_search&utm_source=GWOCZh9-BmZxtdsAjr7Gug',\n",
       "   'review_count': 319,\n",
       "   'categories': [{'alias': 'tradamerican', 'title': 'American'},\n",
       "    {'alias': 'bars', 'title': 'Bars'}],\n",
       "   'rating': 4.3,\n",
       "   'coordinates': {'latitude': 40.75998, 'longitude': -73.97313},\n",
       "   'transactions': [],\n",
       "   'location': {'address1': '60 E 54th St',\n",
       "    'address2': '',\n",
       "    'address3': None,\n",
       "    'city': 'New York',\n",
       "    'zip_code': '10022',\n",
       "    'country': 'US',\n",
       "    'state': 'NY',\n",
       "    'display_address': ['60 E 54th St', 'New York, NY 10022']},\n",
       "   'phone': '+12124040365',\n",
       "   'display_phone': '(212) 404-0365',\n",
       "   'distance': 6309.293896383203},\n",
       "  {'id': 'NK68f4P-qwrDFIoR8QzqoA',\n",
       "   'alias': 'osamil-upstairs-new-york',\n",
       "   'name': 'Osamil Upstairs',\n",
       "   'image_url': 'https://s3-media0.fl.yelpcdn.com/bphoto/Gz4yVfElC3RBkIkJIGcNEA/o.jpg',\n",
       "   'is_closed': False,\n",
       "   'url': 'https://www.yelp.com/biz/osamil-upstairs-new-york?adjust_creative=GWOCZh9-BmZxtdsAjr7Gug&utm_campaign=yelp_api_v3&utm_medium=api_v3_business_search&utm_source=GWOCZh9-BmZxtdsAjr7Gug',\n",
       "   'review_count': 131,\n",
       "   'categories': [{'alias': 'cocktailbars', 'title': 'Cocktail Bars'},\n",
       "    {'alias': 'lounges', 'title': 'Lounges'}],\n",
       "   'rating': 4.3,\n",
       "   'coordinates': {'latitude': 40.74696104756599,\n",
       "    'longitude': -73.98643098771572},\n",
       "   'transactions': ['delivery'],\n",
       "   'location': {'address1': '5 W 31st St',\n",
       "    'address2': 'Fl 2',\n",
       "    'address3': None,\n",
       "    'city': 'New York',\n",
       "    'zip_code': '10001',\n",
       "    'country': 'US',\n",
       "    'state': 'NY',\n",
       "    'display_address': ['5 W 31st St', 'Fl 2', 'New York, NY 10001']},\n",
       "   'phone': '+19172620292',\n",
       "   'display_phone': '(917) 262-0292',\n",
       "   'distance': 4663.68361036065},\n",
       "  {'id': 'JXKCi089JT-6NHZ9kGRDrA',\n",
       "   'alias': '161-lafayette-new-york',\n",
       "   'name': '161 Lafayette',\n",
       "   'image_url': 'https://s3-media0.fl.yelpcdn.com/bphoto/gDr70W4Sv8dgK4Z3AGQSOw/o.jpg',\n",
       "   'is_closed': False,\n",
       "   'url': 'https://www.yelp.com/biz/161-lafayette-new-york?adjust_creative=GWOCZh9-BmZxtdsAjr7Gug&utm_campaign=yelp_api_v3&utm_medium=api_v3_business_search&utm_source=GWOCZh9-BmZxtdsAjr7Gug',\n",
       "   'review_count': 16,\n",
       "   'categories': [{'alias': 'bars', 'title': 'Bars'},\n",
       "    {'alias': 'karaoke', 'title': 'Karaoke'}],\n",
       "   'rating': 4.4,\n",
       "   'coordinates': {'latitude': 40.71981, 'longitude': -73.99908},\n",
       "   'transactions': ['delivery'],\n",
       "   'location': {'address1': '161 Lafayette St',\n",
       "    'address2': '',\n",
       "    'address3': None,\n",
       "    'city': 'New York',\n",
       "    'zip_code': '10013',\n",
       "    'country': 'US',\n",
       "    'state': 'NY',\n",
       "    'display_address': ['161 Lafayette St', 'New York, NY 10013']},\n",
       "   'phone': '',\n",
       "   'display_phone': '',\n",
       "   'distance': 1645.7980443677077},\n",
       "  {'id': 'U03emTRwM6XWRamsYqHsuw',\n",
       "   'alias': 'barbam-new-york',\n",
       "   'name': 'Barbam',\n",
       "   'image_url': 'https://s3-media0.fl.yelpcdn.com/bphoto/hIOoTZTp86zZuqAYJb7H4w/o.jpg',\n",
       "   'is_closed': False,\n",
       "   'url': 'https://www.yelp.com/biz/barbam-new-york?adjust_creative=GWOCZh9-BmZxtdsAjr7Gug&utm_campaign=yelp_api_v3&utm_medium=api_v3_business_search&utm_source=GWOCZh9-BmZxtdsAjr7Gug',\n",
       "   'review_count': 53,\n",
       "   'categories': [{'alias': 'speakeasies', 'title': 'Speakeasies'}],\n",
       "   'rating': 4.7,\n",
       "   'coordinates': {'latitude': 40.748423927236786, 'longitude': -73.9867438},\n",
       "   'transactions': [],\n",
       "   'location': {'address1': '32 W 33rd St',\n",
       "    'address2': 'Ste B1',\n",
       "    'address3': '',\n",
       "    'city': 'New York',\n",
       "    'zip_code': '10001',\n",
       "    'country': 'US',\n",
       "    'state': 'NY',\n",
       "    'display_address': ['32 W 33rd St', 'Ste B1', 'New York, NY 10001']},\n",
       "   'phone': '+19176404728',\n",
       "   'display_phone': '(917) 640-4728',\n",
       "   'distance': 4821.203869532761},\n",
       "  {'id': '8V4TgZmt5sXeaLuilaMJ7A',\n",
       "   'alias': 'sosos-new-york-2',\n",
       "   'name': \"Soso's\",\n",
       "   'image_url': 'https://s3-media0.fl.yelpcdn.com/bphoto/XYX06L6w_4bZvK8bBSyBmA/o.jpg',\n",
       "   'is_closed': False,\n",
       "   'url': 'https://www.yelp.com/biz/sosos-new-york-2?adjust_creative=GWOCZh9-BmZxtdsAjr7Gug&utm_campaign=yelp_api_v3&utm_medium=api_v3_business_search&utm_source=GWOCZh9-BmZxtdsAjr7Gug',\n",
       "   'review_count': 46,\n",
       "   'categories': [{'alias': 'cocktailbars', 'title': 'Cocktail Bars'}],\n",
       "   'rating': 4.2,\n",
       "   'coordinates': {'latitude': 40.718685, 'longitude': -73.999765},\n",
       "   'transactions': [],\n",
       "   'location': {'address1': '191 Centre St',\n",
       "    'address2': None,\n",
       "    'address3': '',\n",
       "    'city': 'New York',\n",
       "    'zip_code': '10013',\n",
       "    'country': 'US',\n",
       "    'state': 'NY',\n",
       "    'display_address': ['191 Centre St', 'New York, NY 10013']},\n",
       "   'phone': '+16463558693',\n",
       "   'display_phone': '(646) 355-8693',\n",
       "   'distance': 1543.9080383555083},\n",
       "  {'id': '5Fz1WlY3lxy8gJFs8s_1Dw',\n",
       "   'alias': 'the-binc-brooklyn',\n",
       "   'name': 'The Binc',\n",
       "   'image_url': 'https://s3-media0.fl.yelpcdn.com/bphoto/xRNohqaOT_kGETHJUB05tg/o.jpg',\n",
       "   'is_closed': False,\n",
       "   'url': 'https://www.yelp.com/biz/the-binc-brooklyn?adjust_creative=GWOCZh9-BmZxtdsAjr7Gug&utm_campaign=yelp_api_v3&utm_medium=api_v3_business_search&utm_source=GWOCZh9-BmZxtdsAjr7Gug',\n",
       "   'review_count': 113,\n",
       "   'categories': [{'alias': 'cocktailbars', 'title': 'Cocktail Bars'},\n",
       "    {'alias': 'tapasmallplates', 'title': 'Tapas/Small Plates'}],\n",
       "   'rating': 4.4,\n",
       "   'coordinates': {'latitude': 40.69925, 'longitude': -73.99227},\n",
       "   'transactions': ['delivery'],\n",
       "   'price': '$$',\n",
       "   'location': {'address1': '60 Henry St',\n",
       "    'address2': None,\n",
       "    'address3': '',\n",
       "    'city': 'Brooklyn',\n",
       "    'zip_code': '11201',\n",
       "    'country': 'US',\n",
       "    'state': 'NY',\n",
       "    'display_address': ['60 Henry St', 'Brooklyn, NY 11201']},\n",
       "   'phone': '+17186241444',\n",
       "   'display_phone': '(718) 624-1444',\n",
       "   'distance': 709.6365592422106},\n",
       "  {'id': 'P3NfoMjBy_o2BTNNZ-5okg',\n",
       "   'alias': 'apotheke-new-york-4',\n",
       "   'name': 'Apotheke',\n",
       "   'image_url': 'https://s3-media0.fl.yelpcdn.com/bphoto/1MO5AkdqLWduZ-GJh6It3w/o.jpg',\n",
       "   'is_closed': False,\n",
       "   'url': 'https://www.yelp.com/biz/apotheke-new-york-4?adjust_creative=GWOCZh9-BmZxtdsAjr7Gug&utm_campaign=yelp_api_v3&utm_medium=api_v3_business_search&utm_source=GWOCZh9-BmZxtdsAjr7Gug',\n",
       "   'review_count': 1569,\n",
       "   'categories': [{'alias': 'cocktailbars', 'title': 'Cocktail Bars'},\n",
       "    {'alias': 'speakeasies', 'title': 'Speakeasies'}],\n",
       "   'rating': 3.8,\n",
       "   'coordinates': {'latitude': 40.71440617040858,\n",
       "    'longitude': -73.99817232132496},\n",
       "   'transactions': [],\n",
       "   'price': '$$$',\n",
       "   'location': {'address1': '9 Doyers St',\n",
       "    'address2': '',\n",
       "    'address3': '',\n",
       "    'city': 'New York',\n",
       "    'zip_code': '10013',\n",
       "    'country': 'US',\n",
       "    'state': 'NY',\n",
       "    'display_address': ['9 Doyers St', 'New York, NY 10013']},\n",
       "   'phone': '+12124060400',\n",
       "   'display_phone': '(212) 406-0400',\n",
       "   'distance': 1048.72223999208},\n",
       "  {'id': '-CZf3uyQ53o9lqMldBiq7A',\n",
       "   'alias': 'little-ned-new-york',\n",
       "   'name': 'Little Ned',\n",
       "   'image_url': 'https://s3-media0.fl.yelpcdn.com/bphoto/rP2-6gHKntLGqaTDW0pUAg/o.jpg',\n",
       "   'is_closed': False,\n",
       "   'url': 'https://www.yelp.com/biz/little-ned-new-york?adjust_creative=GWOCZh9-BmZxtdsAjr7Gug&utm_campaign=yelp_api_v3&utm_medium=api_v3_business_search&utm_source=GWOCZh9-BmZxtdsAjr7Gug',\n",
       "   'review_count': 42,\n",
       "   'categories': [{'alias': 'cocktailbars', 'title': 'Cocktail Bars'},\n",
       "    {'alias': 'wine_bars', 'title': 'Wine Bars'},\n",
       "    {'alias': 'beertours', 'title': 'Beer Tours'}],\n",
       "   'rating': 4.8,\n",
       "   'coordinates': {'latitude': 40.74492519, 'longitude': -73.98823499},\n",
       "   'transactions': [],\n",
       "   'location': {'address1': '10 W 28th St',\n",
       "    'address2': '',\n",
       "    'address3': None,\n",
       "    'city': 'New York',\n",
       "    'zip_code': '10001',\n",
       "    'country': 'US',\n",
       "    'state': 'NY',\n",
       "    'display_address': ['10 W 28th St', 'New York, NY 10001']},\n",
       "   'phone': '+12127220555',\n",
       "   'display_phone': '(212) 722-0555',\n",
       "   'distance': 4419.59172887573},\n",
       "  {'id': 'rdXcbBve2X6Bst7UoQ6T0w',\n",
       "   'alias': 'sunken-harbor-club-brooklyn',\n",
       "   'name': 'Sunken Harbor Club',\n",
       "   'image_url': 'https://s3-media0.fl.yelpcdn.com/bphoto/e3zxGKBLK4tyvcjZB9q-iw/o.jpg',\n",
       "   'is_closed': False,\n",
       "   'url': 'https://www.yelp.com/biz/sunken-harbor-club-brooklyn?adjust_creative=GWOCZh9-BmZxtdsAjr7Gug&utm_campaign=yelp_api_v3&utm_medium=api_v3_business_search&utm_source=GWOCZh9-BmZxtdsAjr7Gug',\n",
       "   'review_count': 101,\n",
       "   'categories': [{'alias': 'cocktailbars', 'title': 'Cocktail Bars'},\n",
       "    {'alias': 'tikibars', 'title': 'Tiki Bars'}],\n",
       "   'rating': 4.5,\n",
       "   'coordinates': {'latitude': 40.69131703158167,\n",
       "    'longitude': -73.98786094039679},\n",
       "   'transactions': [],\n",
       "   'price': '$$$',\n",
       "   'location': {'address1': '372 Fulton St',\n",
       "    'address2': 'Fl 2',\n",
       "    'address3': None,\n",
       "    'city': 'Brooklyn',\n",
       "    'zip_code': '11201',\n",
       "    'country': 'US',\n",
       "    'state': 'NY',\n",
       "    'display_address': ['372 Fulton St', 'Fl 2', 'Brooklyn, NY 11201']},\n",
       "   'phone': '',\n",
       "   'display_phone': '',\n",
       "   'distance': 1661.896747578849},\n",
       "  {'id': 'Y7bbr09ssPvFojIIFBa6rA',\n",
       "   'alias': 'thyme-bar-new-york',\n",
       "   'name': 'Thyme Bar',\n",
       "   'image_url': 'https://s3-media0.fl.yelpcdn.com/bphoto/foaL7jJdrHAV2aQCKQutxw/o.jpg',\n",
       "   'is_closed': False,\n",
       "   'url': 'https://www.yelp.com/biz/thyme-bar-new-york?adjust_creative=GWOCZh9-BmZxtdsAjr7Gug&utm_campaign=yelp_api_v3&utm_medium=api_v3_business_search&utm_source=GWOCZh9-BmZxtdsAjr7Gug',\n",
       "   'review_count': 336,\n",
       "   'categories': [{'alias': 'cocktailbars', 'title': 'Cocktail Bars'},\n",
       "    {'alias': 'speakeasies', 'title': 'Speakeasies'}],\n",
       "   'rating': 4.1,\n",
       "   'coordinates': {'latitude': 40.741662, 'longitude': -73.990591},\n",
       "   'transactions': ['delivery'],\n",
       "   'price': '$$',\n",
       "   'location': {'address1': '20 W 23rd St Cellar',\n",
       "    'address2': '',\n",
       "    'address3': None,\n",
       "    'city': 'New York',\n",
       "    'zip_code': '10010',\n",
       "    'country': 'US',\n",
       "    'state': 'NY',\n",
       "    'display_address': ['20 W 23rd St Cellar', 'New York, NY 10010']},\n",
       "   'phone': '+16466009257',\n",
       "   'display_phone': '(646) 600-9257',\n",
       "   'distance': 4042.9191372408904},\n",
       "  {'id': 'pohS_d-8POAuLVj8x1_Seg',\n",
       "   'alias': 'somethin-else-brooklyn-3',\n",
       "   'name': 'Somethin Else',\n",
       "   'image_url': 'https://s3-media0.fl.yelpcdn.com/bphoto/KfgFcUSB6SuK2S-chCKr1A/o.jpg',\n",
       "   'is_closed': False,\n",
       "   'url': 'https://www.yelp.com/biz/somethin-else-brooklyn-3?adjust_creative=GWOCZh9-BmZxtdsAjr7Gug&utm_campaign=yelp_api_v3&utm_medium=api_v3_business_search&utm_source=GWOCZh9-BmZxtdsAjr7Gug',\n",
       "   'review_count': 10,\n",
       "   'categories': [{'alias': 'musicvenues', 'title': 'Music Venues'},\n",
       "    {'alias': 'cocktailbars', 'title': 'Cocktail Bars'},\n",
       "    {'alias': 'beerbar', 'title': 'Beer Bar'}],\n",
       "   'rating': 4.3,\n",
       "   'coordinates': {'latitude': 40.69072127394564,\n",
       "    'longitude': -73.98331508563771},\n",
       "   'transactions': [],\n",
       "   'location': {'address1': '445 Albee Square W',\n",
       "    'address2': '',\n",
       "    'address3': None,\n",
       "    'city': 'Brooklyn',\n",
       "    'zip_code': '11201',\n",
       "    'country': 'US',\n",
       "    'state': 'NY',\n",
       "    'display_address': ['445 Albee Square W', 'Brooklyn, NY 11201']},\n",
       "   'phone': '',\n",
       "   'display_phone': '',\n",
       "   'distance': 1880.6676832777043},\n",
       "  {'id': '9sU8ceKHiqNrLBMRM-aUkg',\n",
       "   'alias': 'harriets-rooftop-brooklyn-4',\n",
       "   'name': \"Harriet's Rooftop\",\n",
       "   'image_url': 'https://s3-media0.fl.yelpcdn.com/bphoto/5yUibmyIYPP9tvLUQOMdTQ/o.jpg',\n",
       "   'is_closed': False,\n",
       "   'url': 'https://www.yelp.com/biz/harriets-rooftop-brooklyn-4?adjust_creative=GWOCZh9-BmZxtdsAjr7Gug&utm_campaign=yelp_api_v3&utm_medium=api_v3_business_search&utm_source=GWOCZh9-BmZxtdsAjr7Gug',\n",
       "   'review_count': 334,\n",
       "   'categories': [{'alias': 'lounges', 'title': 'Lounges'},\n",
       "    {'alias': 'cocktailbars', 'title': 'Cocktail Bars'}],\n",
       "   'rating': 3.3,\n",
       "   'coordinates': {'latitude': 40.702355096100646,\n",
       "    'longitude': -73.99559200567167},\n",
       "   'transactions': ['delivery'],\n",
       "   'price': '$$$',\n",
       "   'location': {'address1': '60 Furman St',\n",
       "    'address2': 'Fl 11',\n",
       "    'address3': None,\n",
       "    'city': 'Brooklyn',\n",
       "    'zip_code': '11201',\n",
       "    'country': 'US',\n",
       "    'state': 'NY',\n",
       "    'display_address': ['60 Furman St', 'Fl 11', 'Brooklyn, NY 11201']},\n",
       "   'phone': '+13476962554',\n",
       "   'display_phone': '(347) 696-2554',\n",
       "   'distance': 360.58863224876586},\n",
       "  {'id': 'd6mslo1LlpkNPgb2HWOlEg',\n",
       "   'alias': 'fresh-kills-bar-brooklyn',\n",
       "   'name': 'Fresh Kills Bar',\n",
       "   'image_url': 'https://s3-media0.fl.yelpcdn.com/bphoto/LSvuNuV45DX7kW8JDZeIZA/o.jpg',\n",
       "   'is_closed': False,\n",
       "   'url': 'https://www.yelp.com/biz/fresh-kills-bar-brooklyn?adjust_creative=GWOCZh9-BmZxtdsAjr7Gug&utm_campaign=yelp_api_v3&utm_medium=api_v3_business_search&utm_source=GWOCZh9-BmZxtdsAjr7Gug',\n",
       "   'review_count': 237,\n",
       "   'categories': [{'alias': 'cocktailbars', 'title': 'Cocktail Bars'}],\n",
       "   'rating': 4.3,\n",
       "   'coordinates': {'latitude': 40.7147999, 'longitude': -73.96151},\n",
       "   'transactions': ['delivery'],\n",
       "   'price': '$$',\n",
       "   'location': {'address1': '161 Grand St',\n",
       "    'address2': '',\n",
       "    'address3': '',\n",
       "    'city': 'Brooklyn',\n",
       "    'zip_code': '11249',\n",
       "    'country': 'US',\n",
       "    'state': 'NY',\n",
       "    'display_address': ['161 Grand St', 'Brooklyn, NY 11249']},\n",
       "   'phone': '+17185997888',\n",
       "   'display_phone': '(718) 599-7888',\n",
       "   'distance': 2950.6174458442506},\n",
       "  {'id': 'mIgmxB2l_-p_f9pUe8kbpA',\n",
       "   'alias': 'the-tusk-bar-new-york',\n",
       "   'name': 'The Tusk Bar',\n",
       "   'image_url': 'https://s3-media0.fl.yelpcdn.com/bphoto/ztoYQqrt3TR6KHi2lkwzmg/o.jpg',\n",
       "   'is_closed': False,\n",
       "   'url': 'https://www.yelp.com/biz/the-tusk-bar-new-york?adjust_creative=GWOCZh9-BmZxtdsAjr7Gug&utm_campaign=yelp_api_v3&utm_medium=api_v3_business_search&utm_source=GWOCZh9-BmZxtdsAjr7Gug',\n",
       "   'review_count': 26,\n",
       "   'categories': [{'alias': 'cocktailbars', 'title': 'Cocktail Bars'},\n",
       "    {'alias': 'seafood', 'title': 'Seafood'}],\n",
       "   'rating': 4.3,\n",
       "   'coordinates': {'latitude': 40.7439642, 'longitude': -73.98693148465577},\n",
       "   'transactions': [],\n",
       "   'location': {'address1': '7 East 27th St',\n",
       "    'address2': None,\n",
       "    'address3': '',\n",
       "    'city': 'New York',\n",
       "    'zip_code': '10016',\n",
       "    'country': 'US',\n",
       "    'state': 'NY',\n",
       "    'display_address': ['7 East 27th St', 'New York, NY 10016']},\n",
       "   'phone': '',\n",
       "   'display_phone': '',\n",
       "   'distance': 4327.843535953854},\n",
       "  {'id': '2DJjJu3sqaBCN7w4CwR5Dw',\n",
       "   'alias': 'livingston-manor-brooklyn',\n",
       "   'name': 'Livingston Manor',\n",
       "   'image_url': 'https://s3-media0.fl.yelpcdn.com/bphoto/ULfPxnGOchUqQ9vcLVYmXw/o.jpg',\n",
       "   'is_closed': False,\n",
       "   'url': 'https://www.yelp.com/biz/livingston-manor-brooklyn?adjust_creative=GWOCZh9-BmZxtdsAjr7Gug&utm_campaign=yelp_api_v3&utm_medium=api_v3_business_search&utm_source=GWOCZh9-BmZxtdsAjr7Gug',\n",
       "   'review_count': 149,\n",
       "   'categories': [{'alias': 'bars', 'title': 'Bars'}],\n",
       "   'rating': 4.0,\n",
       "   'coordinates': {'latitude': 40.689398, 'longitude': -73.986071},\n",
       "   'transactions': ['delivery'],\n",
       "   'price': '$$',\n",
       "   'location': {'address1': '42 Hoyt St',\n",
       "    'address2': '',\n",
       "    'address3': '',\n",
       "    'city': 'Brooklyn',\n",
       "    'zip_code': '11201',\n",
       "    'country': 'US',\n",
       "    'state': 'NY',\n",
       "    'display_address': ['42 Hoyt St', 'Brooklyn, NY 11201']},\n",
       "   'phone': '+13479873292',\n",
       "   'display_phone': '(347) 987-3292',\n",
       "   'distance': 1909.6505926860607},\n",
       "  {'id': 'ePqKbqXFBCbwBaWiN2Jo9w',\n",
       "   'alias': 'ampersand-new-york-2',\n",
       "   'name': 'Ampersand',\n",
       "   'image_url': 'https://s3-media0.fl.yelpcdn.com/bphoto/bfRqLDEQWBsTnp59shvTsA/o.jpg',\n",
       "   'is_closed': False,\n",
       "   'url': 'https://www.yelp.com/biz/ampersand-new-york-2?adjust_creative=GWOCZh9-BmZxtdsAjr7Gug&utm_campaign=yelp_api_v3&utm_medium=api_v3_business_search&utm_source=GWOCZh9-BmZxtdsAjr7Gug',\n",
       "   'review_count': 280,\n",
       "   'categories': [{'alias': 'cocktailbars', 'title': 'Cocktail Bars'},\n",
       "    {'alias': 'newamerican', 'title': 'New American'}],\n",
       "   'rating': 4.3,\n",
       "   'coordinates': {'latitude': 40.7386178790617,\n",
       "    'longitude': -73.9834206895483},\n",
       "   'transactions': ['delivery'],\n",
       "   'price': '$$',\n",
       "   'location': {'address1': '294 3rd Ave',\n",
       "    'address2': '',\n",
       "    'address3': '',\n",
       "    'city': 'New York',\n",
       "    'zip_code': '10010',\n",
       "    'country': 'US',\n",
       "    'state': 'NY',\n",
       "    'display_address': ['294 3rd Ave', 'New York, NY 10010']},\n",
       "   'phone': '+12124778100',\n",
       "   'display_phone': '(212) 477-8100',\n",
       "   'distance': 3800.7617476958712},\n",
       "  {'id': 'XRjeE9yFANgsG12FWUOoXg',\n",
       "   'alias': 'gair-brooklyn',\n",
       "   'name': 'Gair',\n",
       "   'image_url': 'https://s3-media0.fl.yelpcdn.com/bphoto/2HJjpG5Z65asG7tm05puzA/o.jpg',\n",
       "   'is_closed': False,\n",
       "   'url': 'https://www.yelp.com/biz/gair-brooklyn?adjust_creative=GWOCZh9-BmZxtdsAjr7Gug&utm_campaign=yelp_api_v3&utm_medium=api_v3_business_search&utm_source=GWOCZh9-BmZxtdsAjr7Gug',\n",
       "   'review_count': 21,\n",
       "   'categories': [{'alias': 'cocktailbars', 'title': 'Cocktail Bars'},\n",
       "    {'alias': 'burgers', 'title': 'Burgers'},\n",
       "    {'alias': 'tradamerican', 'title': 'American'}],\n",
       "   'rating': 4.6,\n",
       "   'coordinates': {'latitude': 40.703113254983855,\n",
       "    'longitude': -73.98941429999999},\n",
       "   'transactions': [],\n",
       "   'location': {'address1': '41 Washington St',\n",
       "    'address2': '',\n",
       "    'address3': None,\n",
       "    'city': 'Brooklyn',\n",
       "    'zip_code': '11201',\n",
       "    'country': 'US',\n",
       "    'state': 'NY',\n",
       "    'display_address': ['41 Washington St', 'Brooklyn, NY 11201']},\n",
       "   'phone': '+17182332595',\n",
       "   'display_phone': '(718) 233-2595',\n",
       "   'distance': 486.1679736937545},\n",
       "  {'id': 'LufHsx7SCHPRmuxxG-jO7A',\n",
       "   'alias': 'the-lobby-brooklyn',\n",
       "   'name': 'The Lobby',\n",
       "   'image_url': 'https://s3-media0.fl.yelpcdn.com/bphoto/jdT7a30pqz6J29I3H4ynLw/o.jpg',\n",
       "   'is_closed': False,\n",
       "   'url': 'https://www.yelp.com/biz/the-lobby-brooklyn?adjust_creative=GWOCZh9-BmZxtdsAjr7Gug&utm_campaign=yelp_api_v3&utm_medium=api_v3_business_search&utm_source=GWOCZh9-BmZxtdsAjr7Gug',\n",
       "   'review_count': 13,\n",
       "   'categories': [{'alias': 'bars', 'title': 'Bars'}],\n",
       "   'rating': 4.5,\n",
       "   'coordinates': {'latitude': 40.687808, 'longitude': -73.98374},\n",
       "   'transactions': [],\n",
       "   'location': {'address1': '252 Schermerhorn St',\n",
       "    'address2': '',\n",
       "    'address3': 'Ace Hotel - Brooklyn',\n",
       "    'city': 'Brooklyn',\n",
       "    'zip_code': '11217',\n",
       "    'country': 'US',\n",
       "    'state': 'NY',\n",
       "    'display_address': ['252 Schermerhorn St',\n",
       "     'Ace Hotel - Brooklyn',\n",
       "     'Brooklyn, NY 11217']},\n",
       "   'phone': '+17183133636',\n",
       "   'display_phone': '(718) 313-3636',\n",
       "   'distance': 2143.0539107086897},\n",
       "  {'id': 'YOrKBjU2ZEmwHS5f-dcAhw',\n",
       "   'alias': 'another-country-new-york',\n",
       "   'name': 'Another Country',\n",
       "   'image_url': 'https://s3-media0.fl.yelpcdn.com/bphoto/m2ij29dDjJeYePXl5elpQw/o.jpg',\n",
       "   'is_closed': False,\n",
       "   'url': 'https://www.yelp.com/biz/another-country-new-york?adjust_creative=GWOCZh9-BmZxtdsAjr7Gug&utm_campaign=yelp_api_v3&utm_medium=api_v3_business_search&utm_source=GWOCZh9-BmZxtdsAjr7Gug',\n",
       "   'review_count': 13,\n",
       "   'categories': [{'alias': 'cocktailbars', 'title': 'Cocktail Bars'}],\n",
       "   'rating': 4.6,\n",
       "   'coordinates': {'latitude': 40.736834, 'longitude': -73.992064},\n",
       "   'transactions': [],\n",
       "   'location': {'address1': '10 E 16th St',\n",
       "    'address2': '',\n",
       "    'address3': None,\n",
       "    'city': 'New York',\n",
       "    'zip_code': '10003',\n",
       "    'country': 'US',\n",
       "    'state': 'NY',\n",
       "    'display_address': ['10 E 16th St', 'New York, NY 10003']},\n",
       "   'phone': '',\n",
       "   'display_phone': '',\n",
       "   'distance': 3494.807162415734},\n",
       "  {'id': 'oLA02lMIfgvbYquvXzkARw',\n",
       "   'alias': 'lillies-victorian-establishment-new-york-2',\n",
       "   'name': \"Lillie's Victorian Establishment\",\n",
       "   'image_url': 'https://s3-media0.fl.yelpcdn.com/bphoto/Qfp5NqKqo-j45uXLOzLyDg/o.jpg',\n",
       "   'is_closed': False,\n",
       "   'url': 'https://www.yelp.com/biz/lillies-victorian-establishment-new-york-2?adjust_creative=GWOCZh9-BmZxtdsAjr7Gug&utm_campaign=yelp_api_v3&utm_medium=api_v3_business_search&utm_source=GWOCZh9-BmZxtdsAjr7Gug',\n",
       "   'review_count': 1949,\n",
       "   'categories': [{'alias': 'bars', 'title': 'Bars'},\n",
       "    {'alias': 'gastropubs', 'title': 'Gastropubs'},\n",
       "    {'alias': 'burgers', 'title': 'Burgers'}],\n",
       "   'rating': 3.9,\n",
       "   'coordinates': {'latitude': 40.7614625, 'longitude': -73.9860519},\n",
       "   'transactions': ['pickup'],\n",
       "   'price': '$$',\n",
       "   'location': {'address1': '249 W 49th St',\n",
       "    'address2': '',\n",
       "    'address3': '',\n",
       "    'city': 'New York',\n",
       "    'zip_code': '10019',\n",
       "    'country': 'US',\n",
       "    'state': 'NY',\n",
       "    'display_address': ['249 W 49th St', 'New York, NY 10019']},\n",
       "   'phone': '+12129574530',\n",
       "   'display_phone': '(212) 957-4530',\n",
       "   'distance': 6267.456448728524},\n",
       "  {'id': '4nohlTsGHEDdpwYkRTt-fA',\n",
       "   'alias': 'rudys-bar-and-grill-new-york',\n",
       "   'name': \"Rudy's Bar & Grill\",\n",
       "   'image_url': 'https://s3-media0.fl.yelpcdn.com/bphoto/2366Dgpax879tmGzr7jjjQ/o.jpg',\n",
       "   'is_closed': False,\n",
       "   'url': 'https://www.yelp.com/biz/rudys-bar-and-grill-new-york?adjust_creative=GWOCZh9-BmZxtdsAjr7Gug&utm_campaign=yelp_api_v3&utm_medium=api_v3_business_search&utm_source=GWOCZh9-BmZxtdsAjr7Gug',\n",
       "   'review_count': 1262,\n",
       "   'categories': [{'alias': 'divebars', 'title': 'Dive Bars'},\n",
       "    {'alias': 'hotdog', 'title': 'Hot Dogs'}],\n",
       "   'rating': 4.3,\n",
       "   'coordinates': {'latitude': 40.76003419916213,\n",
       "    'longitude': -73.9917941990945},\n",
       "   'transactions': [],\n",
       "   'price': '$',\n",
       "   'location': {'address1': '627 9th Ave',\n",
       "    'address2': '',\n",
       "    'address3': '',\n",
       "    'city': 'New York',\n",
       "    'zip_code': '10036',\n",
       "    'country': 'US',\n",
       "    'state': 'NY',\n",
       "    'display_address': ['627 9th Ave', 'New York, NY 10036']},\n",
       "   'phone': '+16467070890',\n",
       "   'display_phone': '(646) 707-0890',\n",
       "   'distance': 6073.701392936945},\n",
       "  {'id': 'oiyThpeH8-gcynus-I20UQ',\n",
       "   'alias': 'the-rhymers-club-new-york',\n",
       "   'name': 'The Rhymers Club',\n",
       "   'image_url': 'https://s3-media0.fl.yelpcdn.com/bphoto/JH7ZwV8AkgXF1LYkRrP9kQ/o.jpg',\n",
       "   'is_closed': False,\n",
       "   'url': 'https://www.yelp.com/biz/the-rhymers-club-new-york?adjust_creative=GWOCZh9-BmZxtdsAjr7Gug&utm_campaign=yelp_api_v3&utm_medium=api_v3_business_search&utm_source=GWOCZh9-BmZxtdsAjr7Gug',\n",
       "   'review_count': 12,\n",
       "   'categories': [{'alias': 'cocktailbars', 'title': 'Cocktail Bars'}],\n",
       "   'rating': 4.5,\n",
       "   'coordinates': {'latitude': 40.72861, 'longitude': -73.98735},\n",
       "   'transactions': [],\n",
       "   'location': {'address1': '37 1/2 St Marks Pl',\n",
       "    'address2': '',\n",
       "    'address3': None,\n",
       "    'city': 'New York',\n",
       "    'zip_code': '10003',\n",
       "    'country': 'US',\n",
       "    'state': 'NY',\n",
       "    'display_address': ['37 1/2 St Marks Pl', 'New York, NY 10003']},\n",
       "   'phone': '',\n",
       "   'display_phone': '',\n",
       "   'distance': 2640.443427287957},\n",
       "  {'id': '0XL_3hwGWRyOuZ1C_i_RJw',\n",
       "   'alias': 'bar-bonobo-new-york',\n",
       "   'name': 'Bar Bonobo',\n",
       "   'image_url': 'https://s3-media0.fl.yelpcdn.com/bphoto/wRvmx29rsu4CCQp3uMkSMA/o.jpg',\n",
       "   'is_closed': False,\n",
       "   'url': 'https://www.yelp.com/biz/bar-bonobo-new-york?adjust_creative=GWOCZh9-BmZxtdsAjr7Gug&utm_campaign=yelp_api_v3&utm_medium=api_v3_business_search&utm_source=GWOCZh9-BmZxtdsAjr7Gug',\n",
       "   'review_count': 58,\n",
       "   'categories': [{'alias': 'cocktailbars', 'title': 'Cocktail Bars'}],\n",
       "   'rating': 4.3,\n",
       "   'coordinates': {'latitude': 40.742955, 'longitude': -73.999823},\n",
       "   'transactions': [],\n",
       "   'location': {'address1': '184 8th Ave',\n",
       "    'address2': None,\n",
       "    'address3': '',\n",
       "    'city': 'New York',\n",
       "    'zip_code': '10011',\n",
       "    'country': 'US',\n",
       "    'state': 'NY',\n",
       "    'display_address': ['184 8th Ave', 'New York, NY 10011']},\n",
       "   'phone': '+12512179992',\n",
       "   'display_phone': '(251) 217-9992',\n",
       "   'distance': 4197.353825902398},\n",
       "  {'id': 'UDsvp_twMrRa9j6lnZNjow',\n",
       "   'alias': 'nobody-told-me-brooklyn',\n",
       "   'name': 'Nobody Told Me',\n",
       "   'image_url': 'https://s3-media0.fl.yelpcdn.com/bphoto/YBn6RV5tBNNGytcZzNf1_g/o.jpg',\n",
       "   'is_closed': False,\n",
       "   'url': 'https://www.yelp.com/biz/nobody-told-me-brooklyn?adjust_creative=GWOCZh9-BmZxtdsAjr7Gug&utm_campaign=yelp_api_v3&utm_medium=api_v3_business_search&utm_source=GWOCZh9-BmZxtdsAjr7Gug',\n",
       "   'review_count': 36,\n",
       "   'categories': [{'alias': 'bars', 'title': 'Bars'},\n",
       "    {'alias': 'tradamerican', 'title': 'American'},\n",
       "    {'alias': 'tacos', 'title': 'Tacos'}],\n",
       "   'rating': 4.4,\n",
       "   'coordinates': {'latitude': 40.70225697182919, 'longitude': -73.9849383},\n",
       "   'transactions': ['delivery', 'pickup'],\n",
       "   'location': {'address1': '188 Front St',\n",
       "    'address2': None,\n",
       "    'address3': '',\n",
       "    'city': 'Brooklyn',\n",
       "    'zip_code': '11201',\n",
       "    'country': 'US',\n",
       "    'state': 'NY',\n",
       "    'display_address': ['188 Front St', 'Brooklyn, NY 11201']},\n",
       "   'phone': '',\n",
       "   'display_phone': '',\n",
       "   'distance': 864.5872440827293},\n",
       "  {'id': 'Gi4A4ibrznMIsy9oGi2t-g',\n",
       "   'alias': 'dear-strangers-new-york',\n",
       "   'name': 'Dear Strangers',\n",
       "   'image_url': 'https://s3-media0.fl.yelpcdn.com/bphoto/xWvuB-arndRNl19hjIpeoQ/o.jpg',\n",
       "   'is_closed': False,\n",
       "   'url': 'https://www.yelp.com/biz/dear-strangers-new-york?adjust_creative=GWOCZh9-BmZxtdsAjr7Gug&utm_campaign=yelp_api_v3&utm_medium=api_v3_business_search&utm_source=GWOCZh9-BmZxtdsAjr7Gug',\n",
       "   'review_count': 14,\n",
       "   'categories': [{'alias': 'cocktailbars', 'title': 'Cocktail Bars'}],\n",
       "   'rating': 4.6,\n",
       "   'coordinates': {'latitude': 40.731557, 'longitude': -74.000413},\n",
       "   'transactions': [],\n",
       "   'location': {'address1': '147 West 4th St',\n",
       "    'address2': '',\n",
       "    'address3': None,\n",
       "    'city': 'New York',\n",
       "    'zip_code': '10012',\n",
       "    'country': 'US',\n",
       "    'state': 'NY',\n",
       "    'display_address': ['147 West 4th St', 'New York, NY 10012']},\n",
       "   'phone': '',\n",
       "   'display_phone': '',\n",
       "   'distance': 2953.3693246807434},\n",
       "  {'id': 'gjwELZmHUNO0WdqXYBEbcg',\n",
       "   'alias': 'the-belfry-new-york',\n",
       "   'name': 'The Belfry',\n",
       "   'image_url': 'https://s3-media0.fl.yelpcdn.com/bphoto/1cvqfs12B1k4pBz9T-lMfA/o.jpg',\n",
       "   'is_closed': False,\n",
       "   'url': 'https://www.yelp.com/biz/the-belfry-new-york?adjust_creative=GWOCZh9-BmZxtdsAjr7Gug&utm_campaign=yelp_api_v3&utm_medium=api_v3_business_search&utm_source=GWOCZh9-BmZxtdsAjr7Gug',\n",
       "   'review_count': 561,\n",
       "   'categories': [{'alias': 'cocktailbars', 'title': 'Cocktail Bars'}],\n",
       "   'rating': 4.1,\n",
       "   'coordinates': {'latitude': 40.73276668659204,\n",
       "    'longitude': -73.98628575274573},\n",
       "   'transactions': [],\n",
       "   'price': '$$',\n",
       "   'location': {'address1': '222 E 14th St',\n",
       "    'address2': None,\n",
       "    'address3': '',\n",
       "    'city': 'New York',\n",
       "    'zip_code': '10003',\n",
       "    'country': 'US',\n",
       "    'state': 'NY',\n",
       "    'display_address': ['222 E 14th St', 'New York, NY 10003']},\n",
       "   'phone': '+12124736590',\n",
       "   'display_phone': '(212) 473-6590',\n",
       "   'distance': 3112.0932301782095},\n",
       "  {'id': 'IBgjj5VBu5JJvKgo9EzKrg',\n",
       "   'alias': 'the-three-monkeys-new-york-5',\n",
       "   'name': 'The Three Monkeys',\n",
       "   'image_url': 'https://s3-media0.fl.yelpcdn.com/bphoto/2-wriRJZr9PiPDjfU5yZPA/o.jpg',\n",
       "   'is_closed': False,\n",
       "   'url': 'https://www.yelp.com/biz/the-three-monkeys-new-york-5?adjust_creative=GWOCZh9-BmZxtdsAjr7Gug&utm_campaign=yelp_api_v3&utm_medium=api_v3_business_search&utm_source=GWOCZh9-BmZxtdsAjr7Gug',\n",
       "   'review_count': 1439,\n",
       "   'categories': [{'alias': 'sportsbars', 'title': 'Sports Bars'},\n",
       "    {'alias': 'beerbar', 'title': 'Beer Bar'},\n",
       "    {'alias': 'cocktailbars', 'title': 'Cocktail Bars'}],\n",
       "   'rating': 4.2,\n",
       "   'coordinates': {'latitude': 40.7623663, 'longitude': -73.9857634},\n",
       "   'transactions': ['delivery', 'pickup'],\n",
       "   'price': '$$',\n",
       "   'location': {'address1': '832 8th Ave',\n",
       "    'address2': '',\n",
       "    'address3': '',\n",
       "    'city': 'New York',\n",
       "    'zip_code': '10019',\n",
       "    'country': 'US',\n",
       "    'state': 'NY',\n",
       "    'display_address': ['832 8th Ave', 'New York, NY 10019']},\n",
       "   'phone': '+12125862080',\n",
       "   'display_phone': '(212) 586-2080',\n",
       "   'distance': 6370.0415898682695},\n",
       "  {'id': 'H8mnryiCI02N00g9vuFDLg',\n",
       "   'alias': 'the-library-new-york',\n",
       "   'name': 'The Library',\n",
       "   'image_url': 'https://s3-media0.fl.yelpcdn.com/bphoto/GxHnYu8eG3Wu2X6is53uTA/o.jpg',\n",
       "   'is_closed': False,\n",
       "   'url': 'https://www.yelp.com/biz/the-library-new-york?adjust_creative=GWOCZh9-BmZxtdsAjr7Gug&utm_campaign=yelp_api_v3&utm_medium=api_v3_business_search&utm_source=GWOCZh9-BmZxtdsAjr7Gug',\n",
       "   'review_count': 426,\n",
       "   'categories': [{'alias': 'divebars', 'title': 'Dive Bars'}],\n",
       "   'rating': 3.8,\n",
       "   'coordinates': {'latitude': 40.7226142883301,\n",
       "    'longitude': -73.9863433837891},\n",
       "   'transactions': [],\n",
       "   'price': '$',\n",
       "   'location': {'address1': '7 Ave A',\n",
       "    'address2': '',\n",
       "    'address3': '',\n",
       "    'city': 'New York',\n",
       "    'zip_code': '10009',\n",
       "    'country': 'US',\n",
       "    'state': 'NY',\n",
       "    'display_address': ['7 Ave A', 'New York, NY 10009']},\n",
       "   'phone': '+12123751352',\n",
       "   'display_phone': '(212) 375-1352',\n",
       "   'distance': 2022.6023880642597},\n",
       "  {'id': 'mMF3G7rW6UjIqoFAwWuqjg',\n",
       "   'alias': 'carousel-brooklyn',\n",
       "   'name': 'Carousel',\n",
       "   'image_url': 'https://s3-media0.fl.yelpcdn.com/bphoto/Q-T5TXucL-vtpfCfK5YtDg/o.jpg',\n",
       "   'is_closed': False,\n",
       "   'url': 'https://www.yelp.com/biz/carousel-brooklyn?adjust_creative=GWOCZh9-BmZxtdsAjr7Gug&utm_campaign=yelp_api_v3&utm_medium=api_v3_business_search&utm_source=GWOCZh9-BmZxtdsAjr7Gug',\n",
       "   'review_count': 15,\n",
       "   'categories': [{'alias': 'bars', 'title': 'Bars'}],\n",
       "   'rating': 3.9,\n",
       "   'coordinates': {'latitude': 40.70585923365661, 'longitude': -73.9221354},\n",
       "   'transactions': [],\n",
       "   'location': {'address1': '36 Wyckoff Ave',\n",
       "    'address2': None,\n",
       "    'address3': None,\n",
       "    'city': 'Brooklyn',\n",
       "    'zip_code': '11237',\n",
       "    'country': 'US',\n",
       "    'state': 'NY',\n",
       "    'display_address': ['36 Wyckoff Ave', 'Brooklyn, NY 11237']},\n",
       "   'phone': '',\n",
       "   'display_phone': '',\n",
       "   'distance': 6082.604983436382},\n",
       "  {'id': '-dQexkmhlgbiKvZ94jBmjQ',\n",
       "   'alias': 'dear-irving-new-york',\n",
       "   'name': 'Dear Irving Gramercy',\n",
       "   'image_url': 'https://s3-media0.fl.yelpcdn.com/bphoto/dTkZjzOK3_ElAgGCPx8LuA/o.jpg',\n",
       "   'is_closed': False,\n",
       "   'url': 'https://www.yelp.com/biz/dear-irving-new-york?adjust_creative=GWOCZh9-BmZxtdsAjr7Gug&utm_campaign=yelp_api_v3&utm_medium=api_v3_business_search&utm_source=GWOCZh9-BmZxtdsAjr7Gug',\n",
       "   'review_count': 775,\n",
       "   'categories': [{'alias': 'venues', 'title': 'Venues & Event Spaces'},\n",
       "    {'alias': 'cocktailbars', 'title': 'Cocktail Bars'},\n",
       "    {'alias': 'lounges', 'title': 'Lounges'}],\n",
       "   'rating': 4.3,\n",
       "   'coordinates': {'latitude': 40.7360568971331,\n",
       "    'longitude': -73.9872401005554},\n",
       "   'transactions': ['pickup'],\n",
       "   'price': '$$$',\n",
       "   'location': {'address1': '55 Irving Pl',\n",
       "    'address2': '',\n",
       "    'address3': '',\n",
       "    'city': 'New York',\n",
       "    'zip_code': '10003',\n",
       "    'country': 'US',\n",
       "    'state': 'NY',\n",
       "    'display_address': ['55 Irving Pl', 'New York, NY 10003']},\n",
       "   'phone': '',\n",
       "   'display_phone': '',\n",
       "   'distance': 3455.406641336099},\n",
       "  {'id': 'FTgaIRluLuqHcJ_bA_Pudw',\n",
       "   'alias': 'odd-sister-new-york-2',\n",
       "   'name': 'Odd Sister',\n",
       "   'image_url': 'https://s3-media0.fl.yelpcdn.com/bphoto/iyqbK6KHen9tRkmn-NGTJQ/o.jpg',\n",
       "   'is_closed': False,\n",
       "   'url': 'https://www.yelp.com/biz/odd-sister-new-york-2?adjust_creative=GWOCZh9-BmZxtdsAjr7Gug&utm_campaign=yelp_api_v3&utm_medium=api_v3_business_search&utm_source=GWOCZh9-BmZxtdsAjr7Gug',\n",
       "   'review_count': 99,\n",
       "   'categories': [{'alias': 'cocktailbars', 'title': 'Cocktail Bars'},\n",
       "    {'alias': 'diners', 'title': 'Diners'},\n",
       "    {'alias': 'coffee', 'title': 'Coffee & Tea'}],\n",
       "   'rating': 4.3,\n",
       "   'coordinates': {'latitude': 40.721695, 'longitude': -74.001446},\n",
       "   'transactions': ['delivery', 'pickup'],\n",
       "   'location': {'address1': '45 Mercer St',\n",
       "    'address2': None,\n",
       "    'address3': '',\n",
       "    'city': 'New York',\n",
       "    'zip_code': '10013',\n",
       "    'country': 'US',\n",
       "    'state': 'NY',\n",
       "    'display_address': ['45 Mercer St', 'New York, NY 10013']},\n",
       "   'phone': '+12129669288',\n",
       "   'display_phone': '(212) 966-9288',\n",
       "   'distance': 1901.5605109678668},\n",
       "  {'id': 'wygR5Tl5bS42ojSGEZHf8w',\n",
       "   'alias': 'bar-cima-new-york',\n",
       "   'name': 'Bar Cima',\n",
       "   'image_url': 'https://s3-media0.fl.yelpcdn.com/bphoto/b_lHdMUZXwYmIF3nyKRQng/o.jpg',\n",
       "   'is_closed': False,\n",
       "   'url': 'https://www.yelp.com/biz/bar-cima-new-york?adjust_creative=GWOCZh9-BmZxtdsAjr7Gug&utm_campaign=yelp_api_v3&utm_medium=api_v3_business_search&utm_source=GWOCZh9-BmZxtdsAjr7Gug',\n",
       "   'review_count': 52,\n",
       "   'categories': [{'alias': 'lounges', 'title': 'Lounges'},\n",
       "    {'alias': 'cocktailbars', 'title': 'Cocktail Bars'}],\n",
       "   'rating': 4.1,\n",
       "   'coordinates': {'latitude': 40.75213, 'longitude': -73.98383},\n",
       "   'transactions': [],\n",
       "   'price': '$$$',\n",
       "   'location': {'address1': '30 W 39th St',\n",
       "    'address2': '',\n",
       "    'address3': None,\n",
       "    'city': 'New York',\n",
       "    'zip_code': '10018',\n",
       "    'country': 'US',\n",
       "    'state': 'NY',\n",
       "    'display_address': ['30 W 39th St', 'New York, NY 10018']},\n",
       "   'phone': '+16466858274',\n",
       "   'display_phone': '(646) 685-8274',\n",
       "   'distance': 5257.700075912545},\n",
       "  {'id': 'aiRctIzCj9J3UqBHd-Z3HQ',\n",
       "   'alias': 'please-dont-tell-new-york-2',\n",
       "   'name': \"Please Don't Tell\",\n",
       "   'image_url': 'https://s3-media0.fl.yelpcdn.com/bphoto/uHUYyXS-2dOaqb2PoaGZOw/o.jpg',\n",
       "   'is_closed': False,\n",
       "   'url': 'https://www.yelp.com/biz/please-dont-tell-new-york-2?adjust_creative=GWOCZh9-BmZxtdsAjr7Gug&utm_campaign=yelp_api_v3&utm_medium=api_v3_business_search&utm_source=GWOCZh9-BmZxtdsAjr7Gug',\n",
       "   'review_count': 2029,\n",
       "   'categories': [{'alias': 'lounges', 'title': 'Lounges'},\n",
       "    {'alias': 'speakeasies', 'title': 'Speakeasies'}],\n",
       "   'rating': 3.9,\n",
       "   'coordinates': {'latitude': 40.727157, 'longitude': -73.983721},\n",
       "   'transactions': [],\n",
       "   'price': '$$$',\n",
       "   'location': {'address1': '113 St Marks Pl',\n",
       "    'address2': '',\n",
       "    'address3': '',\n",
       "    'city': 'New York',\n",
       "    'zip_code': '10009',\n",
       "    'country': 'US',\n",
       "    'state': 'NY',\n",
       "    'display_address': ['113 St Marks Pl', 'New York, NY 10009']},\n",
       "   'phone': '+12126140386',\n",
       "   'display_phone': '(212) 614-0386',\n",
       "   'distance': 2569.047094994283},\n",
       "  {'id': 'W_I1ze_NZICJcDDoFttmlw',\n",
       "   'alias': 'dear-irving-on-hudson-new-york',\n",
       "   'name': 'Dear Irving on Hudson Rooftop Bar',\n",
       "   'image_url': 'https://s3-media0.fl.yelpcdn.com/bphoto/5e_7FjFhTRA6TGuSG4PAOg/o.jpg',\n",
       "   'is_closed': False,\n",
       "   'url': 'https://www.yelp.com/biz/dear-irving-on-hudson-new-york?adjust_creative=GWOCZh9-BmZxtdsAjr7Gug&utm_campaign=yelp_api_v3&utm_medium=api_v3_business_search&utm_source=GWOCZh9-BmZxtdsAjr7Gug',\n",
       "   'review_count': 359,\n",
       "   'categories': [{'alias': 'cocktailbars', 'title': 'Cocktail Bars'},\n",
       "    {'alias': 'venues', 'title': 'Venues & Event Spaces'},\n",
       "    {'alias': 'lounges', 'title': 'Lounges'}],\n",
       "   'rating': 4.3,\n",
       "   'coordinates': {'latitude': 40.7561626, 'longitude': -73.991717},\n",
       "   'transactions': ['delivery'],\n",
       "   'location': {'address1': '310 W 40th St',\n",
       "    'address2': None,\n",
       "    'address3': None,\n",
       "    'city': 'New York',\n",
       "    'zip_code': '10018',\n",
       "    'country': 'US',\n",
       "    'state': 'NY',\n",
       "    'display_address': ['310 W 40th St', 'New York, NY 10018']},\n",
       "   'phone': '',\n",
       "   'display_phone': '',\n",
       "   'distance': 5643.724891532443},\n",
       "  {'id': 'AchEznbMLIcfGVD3pDBYsA',\n",
       "   'alias': 'steight-new-york',\n",
       "   'name': 'Steight',\n",
       "   'image_url': 'https://s3-media0.fl.yelpcdn.com/bphoto/1HfKqmieeWOEYlcSfVksnw/o.jpg',\n",
       "   'is_closed': False,\n",
       "   'url': 'https://www.yelp.com/biz/steight-new-york?adjust_creative=GWOCZh9-BmZxtdsAjr7Gug&utm_campaign=yelp_api_v3&utm_medium=api_v3_business_search&utm_source=GWOCZh9-BmZxtdsAjr7Gug',\n",
       "   'review_count': 26,\n",
       "   'categories': [{'alias': 'bars', 'title': 'Bars'}],\n",
       "   'rating': 4.5,\n",
       "   'coordinates': {'latitude': 40.71823, 'longitude': -73.99182},\n",
       "   'transactions': [],\n",
       "   'location': {'address1': '116 Eldridge St',\n",
       "    'address2': None,\n",
       "    'address3': '',\n",
       "    'city': 'New York',\n",
       "    'zip_code': '10002',\n",
       "    'country': 'US',\n",
       "    'state': 'NY',\n",
       "    'display_address': ['116 Eldridge St', 'New York, NY 10002']},\n",
       "   'phone': '+19178917372',\n",
       "   'display_phone': '(917) 891-7372',\n",
       "   'distance': 1436.8265513053452},\n",
       "  {'id': 'qxvE0fEUHfAkUiAxHlEMWQ',\n",
       "   'alias': 'famous-last-words-brooklyn',\n",
       "   'name': 'Famous Last Words',\n",
       "   'image_url': 'https://s3-media0.fl.yelpcdn.com/bphoto/jPn8OZ7dbennFfPGeTp6Zg/o.jpg',\n",
       "   'is_closed': False,\n",
       "   'url': 'https://www.yelp.com/biz/famous-last-words-brooklyn?adjust_creative=GWOCZh9-BmZxtdsAjr7Gug&utm_campaign=yelp_api_v3&utm_medium=api_v3_business_search&utm_source=GWOCZh9-BmZxtdsAjr7Gug',\n",
       "   'review_count': 17,\n",
       "   'categories': [{'alias': 'bars', 'title': 'Bars'}],\n",
       "   'rating': 4.7,\n",
       "   'coordinates': {'latitude': 40.68347014727133,\n",
       "    'longitude': -73.96623998880386},\n",
       "   'transactions': [],\n",
       "   'location': {'address1': '925 Fulton St',\n",
       "    'address2': '',\n",
       "    'address3': None,\n",
       "    'city': 'Brooklyn',\n",
       "    'zip_code': '11238',\n",
       "    'country': 'US',\n",
       "    'state': 'NY',\n",
       "    'display_address': ['925 Fulton St', 'Brooklyn, NY 11238']},\n",
       "   'phone': '',\n",
       "   'display_phone': '',\n",
       "   'distance': 3400.6273336597374},\n",
       "  {'id': 'huqNxKdJZonRgmkUtDP0tg',\n",
       "   'alias': 'honeycomb-hi-fi-lounge-brooklyn',\n",
       "   'name': 'Honeycomb Hi-Fi Lounge',\n",
       "   'image_url': 'https://s3-media0.fl.yelpcdn.com/bphoto/IKEjBKpismxE8GQbkUgJMw/o.jpg',\n",
       "   'is_closed': False,\n",
       "   'url': 'https://www.yelp.com/biz/honeycomb-hi-fi-lounge-brooklyn?adjust_creative=GWOCZh9-BmZxtdsAjr7Gug&utm_campaign=yelp_api_v3&utm_medium=api_v3_business_search&utm_source=GWOCZh9-BmZxtdsAjr7Gug',\n",
       "   'review_count': 31,\n",
       "   'categories': [{'alias': 'bars', 'title': 'Bars'}],\n",
       "   'rating': 4.4,\n",
       "   'coordinates': {'latitude': 40.68078, 'longitude': -73.97778},\n",
       "   'transactions': [],\n",
       "   'location': {'address1': '74 5th Ave',\n",
       "    'address2': '',\n",
       "    'address3': None,\n",
       "    'city': 'Brooklyn',\n",
       "    'zip_code': '11217',\n",
       "    'country': 'US',\n",
       "    'state': 'NY',\n",
       "    'display_address': ['74 5th Ave', 'Brooklyn, NY 11217']},\n",
       "   'phone': '',\n",
       "   'display_phone': '',\n",
       "   'distance': 3077.9101205349634},\n",
       "  {'id': 'LBU-q45dy308um77GBRmaA',\n",
       "   'alias': 'bar-snack-new-york',\n",
       "   'name': 'Bar Snack',\n",
       "   'image_url': 'https://s3-media0.fl.yelpcdn.com/bphoto/SmEqYQy629qR1d9IPjNaeQ/o.jpg',\n",
       "   'is_closed': False,\n",
       "   'url': 'https://www.yelp.com/biz/bar-snack-new-york?adjust_creative=GWOCZh9-BmZxtdsAjr7Gug&utm_campaign=yelp_api_v3&utm_medium=api_v3_business_search&utm_source=GWOCZh9-BmZxtdsAjr7Gug',\n",
       "   'review_count': 17,\n",
       "   'categories': [{'alias': 'bars', 'title': 'Bars'}],\n",
       "   'rating': 4.7,\n",
       "   'coordinates': {'latitude': 40.726923, 'longitude': -73.988511},\n",
       "   'transactions': [],\n",
       "   'location': {'address1': '92 2nd Ave',\n",
       "    'address2': '',\n",
       "    'address3': None,\n",
       "    'city': 'New York',\n",
       "    'zip_code': '10003',\n",
       "    'country': 'US',\n",
       "    'state': 'NY',\n",
       "    'display_address': ['92 2nd Ave', 'New York, NY 10003']},\n",
       "   'phone': '',\n",
       "   'display_phone': '',\n",
       "   'distance': 2437.04498385716}],\n",
       " 'total': 8500,\n",
       " 'region': {'center': {'longitude': -73.99429321289062,\n",
       "   'latitude': 40.70544486444615}}}"
      ]
     },
     "execution_count": 32,
     "metadata": {},
     "output_type": "execute_result"
    }
   ],
   "source": [
    "data"
   ]
  },
  {
   "cell_type": "code",
   "execution_count": 26,
   "id": "1a125fe5",
   "metadata": {},
   "outputs": [
    {
     "data": {
      "text/plain": [
       "dict_keys(['businesses', 'total', 'region'])"
      ]
     },
     "execution_count": 26,
     "metadata": {},
     "output_type": "execute_result"
    }
   ],
   "source": [
    "data.keys()"
   ]
  },
  {
   "cell_type": "code",
   "execution_count": 33,
   "id": "569b950d",
   "metadata": {},
   "outputs": [
    {
     "data": {
      "text/plain": [
       "[{'id': 'KRp_qOt7ga8ormM1vo2P8A',\n",
       "  'alias': 'paradise-lost-new-york',\n",
       "  'name': 'Paradise Lost',\n",
       "  'image_url': 'https://s3-media0.fl.yelpcdn.com/bphoto/rECk1kCn2H8C7MYWk_kayA/o.jpg',\n",
       "  'is_closed': False,\n",
       "  'url': 'https://www.yelp.com/biz/paradise-lost-new-york?adjust_creative=GWOCZh9-BmZxtdsAjr7Gug&utm_campaign=yelp_api_v3&utm_medium=api_v3_business_search&utm_source=GWOCZh9-BmZxtdsAjr7Gug',\n",
       "  'review_count': 122,\n",
       "  'categories': [{'alias': 'cocktailbars', 'title': 'Cocktail Bars'},\n",
       "   {'alias': 'tikibars', 'title': 'Tiki Bars'}],\n",
       "  'rating': 4.6,\n",
       "  'coordinates': {'latitude': 40.727135, 'longitude': -73.988362},\n",
       "  'transactions': [],\n",
       "  'location': {'address1': '100 2nd Ave',\n",
       "   'address2': None,\n",
       "   'address3': '',\n",
       "   'city': 'New York',\n",
       "   'zip_code': '10003',\n",
       "   'country': 'US',\n",
       "   'state': 'NY',\n",
       "   'display_address': ['100 2nd Ave', 'New York, NY 10003']},\n",
       "  'phone': '+19293994666',\n",
       "  'display_phone': '(929) 399-4666',\n",
       "  'distance': 2457.4867388259354},\n",
       " {'id': 'zRXMvxUX_rOliKZPpkWi_g',\n",
       "  'alias': 'valerie-new-york',\n",
       "  'name': 'Valerie',\n",
       "  'image_url': 'https://s3-media0.fl.yelpcdn.com/bphoto/mnH5QFkSMzZgd6P5eSZvvw/o.jpg',\n",
       "  'is_closed': False,\n",
       "  'url': 'https://www.yelp.com/biz/valerie-new-york?adjust_creative=GWOCZh9-BmZxtdsAjr7Gug&utm_campaign=yelp_api_v3&utm_medium=api_v3_business_search&utm_source=GWOCZh9-BmZxtdsAjr7Gug',\n",
       "  'review_count': 1245,\n",
       "  'categories': [{'alias': 'newamerican', 'title': 'New American'},\n",
       "   {'alias': 'cocktailbars', 'title': 'Cocktail Bars'}],\n",
       "  'rating': 4.3,\n",
       "  'coordinates': {'latitude': 40.756326, 'longitude': -73.981117},\n",
       "  'transactions': ['delivery'],\n",
       "  'price': '$$',\n",
       "  'location': {'address1': '45 W 45th St between 5th & 6th Ave',\n",
       "   'address2': '',\n",
       "   'address3': None,\n",
       "   'city': 'New York',\n",
       "   'zip_code': '10036',\n",
       "   'country': 'US',\n",
       "   'state': 'NY',\n",
       "   'display_address': ['45 W 45th St between 5th & 6th Ave',\n",
       "    'New York, NY 10036']},\n",
       "  'phone': '+12123024545',\n",
       "  'display_phone': '(212) 302-4545',\n",
       "  'distance': 5769.456784305475},\n",
       " {'id': 'Biebaq8lEVLLNw0vszDeFQ',\n",
       "  'alias': 'hide-rooftop-new-york',\n",
       "  'name': 'Hide Rooftop',\n",
       "  'image_url': 'https://s3-media0.fl.yelpcdn.com/bphoto/TKYoY-iU6YEf8Ob8BYMQaQ/o.jpg',\n",
       "  'is_closed': False,\n",
       "  'url': 'https://www.yelp.com/biz/hide-rooftop-new-york?adjust_creative=GWOCZh9-BmZxtdsAjr7Gug&utm_campaign=yelp_api_v3&utm_medium=api_v3_business_search&utm_source=GWOCZh9-BmZxtdsAjr7Gug',\n",
       "  'review_count': 52,\n",
       "  'categories': [{'alias': 'lounges', 'title': 'Lounges'},\n",
       "   {'alias': 'cocktailbars', 'title': 'Cocktail Bars'},\n",
       "   {'alias': 'venues', 'title': 'Venues & Event Spaces'}],\n",
       "  'rating': 4.8,\n",
       "  'coordinates': {'latitude': 40.70959496491152, 'longitude': -74.0087404},\n",
       "  'transactions': [],\n",
       "  'location': {'address1': '24 John St',\n",
       "   'address2': 'Fl 20',\n",
       "   'address3': '',\n",
       "   'city': 'New York',\n",
       "   'zip_code': '10038',\n",
       "   'country': 'US',\n",
       "   'state': 'NY',\n",
       "   'display_address': ['24 John St', 'Fl 20', 'New York, NY 10038']},\n",
       "  'phone': '+16469289800',\n",
       "  'display_phone': '(646) 928-9800',\n",
       "  'distance': 1302.2732325370405},\n",
       " {'id': 'cfKT8pNcaPQuZlaIwlEAOg',\n",
       "  'alias': 'hidden-lane-bar-new-york-3',\n",
       "  'name': 'Hidden Lane Bar',\n",
       "  'image_url': 'https://s3-media0.fl.yelpcdn.com/bphoto/fTfm_6DYkQMIDoYQQiXVqQ/o.jpg',\n",
       "  'is_closed': False,\n",
       "  'url': 'https://www.yelp.com/biz/hidden-lane-bar-new-york-3?adjust_creative=GWOCZh9-BmZxtdsAjr7Gug&utm_campaign=yelp_api_v3&utm_medium=api_v3_business_search&utm_source=GWOCZh9-BmZxtdsAjr7Gug',\n",
       "  'review_count': 91,\n",
       "  'categories': [{'alias': 'bars', 'title': 'Bars'}],\n",
       "  'rating': 4.3,\n",
       "  'coordinates': {'latitude': 40.734594491895514, 'longitude': -73.9876737},\n",
       "  'transactions': [],\n",
       "  'location': {'address1': '129 E 15th St',\n",
       "   'address2': None,\n",
       "   'address3': '',\n",
       "   'city': 'New York',\n",
       "   'zip_code': '10003',\n",
       "   'country': 'US',\n",
       "   'state': 'NY',\n",
       "   'display_address': ['129 E 15th St', 'New York, NY 10003']},\n",
       "  'phone': '+12017491876',\n",
       "  'display_phone': '(201) 749-1876',\n",
       "  'distance': 3288.943759314182},\n",
       " {'id': 'RemvTpxalDjSew5HwmNzUQ',\n",
       "  'alias': 'the-dead-rabbit-new-york',\n",
       "  'name': 'The Dead Rabbit',\n",
       "  'image_url': 'https://s3-media0.fl.yelpcdn.com/bphoto/KkzEm9R1tKqraIRjMTk0iQ/o.jpg',\n",
       "  'is_closed': False,\n",
       "  'url': 'https://www.yelp.com/biz/the-dead-rabbit-new-york?adjust_creative=GWOCZh9-BmZxtdsAjr7Gug&utm_campaign=yelp_api_v3&utm_medium=api_v3_business_search&utm_source=GWOCZh9-BmZxtdsAjr7Gug',\n",
       "  'review_count': 2037,\n",
       "  'categories': [{'alias': 'cocktailbars', 'title': 'Cocktail Bars'}],\n",
       "  'rating': 4.2,\n",
       "  'coordinates': {'latitude': 40.7032766048948,\n",
       "   'longitude': -74.01101979176725},\n",
       "  'transactions': ['delivery', 'pickup'],\n",
       "  'price': '$$',\n",
       "  'location': {'address1': '30 Water St',\n",
       "   'address2': '',\n",
       "   'address3': '',\n",
       "   'city': 'New York',\n",
       "   'zip_code': '10004',\n",
       "   'country': 'US',\n",
       "   'state': 'NY',\n",
       "   'display_address': ['30 Water St', 'New York, NY 10004']},\n",
       "  'phone': '+19175405228',\n",
       "  'display_phone': '(917) 540-5228',\n",
       "  'distance': 1430.433294582613},\n",
       " {'id': 'pf5JBOPUBHbY6F4s15lk6g',\n",
       "  'alias': 'strangelove-new-york',\n",
       "  'name': 'Strangelove',\n",
       "  'image_url': 'https://s3-media0.fl.yelpcdn.com/bphoto/a9IzI1z6ACja_ndrR7vlaA/o.jpg',\n",
       "  'is_closed': False,\n",
       "  'url': 'https://www.yelp.com/biz/strangelove-new-york?adjust_creative=GWOCZh9-BmZxtdsAjr7Gug&utm_campaign=yelp_api_v3&utm_medium=api_v3_business_search&utm_source=GWOCZh9-BmZxtdsAjr7Gug',\n",
       "  'review_count': 79,\n",
       "  'categories': [{'alias': 'divebars', 'title': 'Dive Bars'}],\n",
       "  'rating': 4.6,\n",
       "  'coordinates': {'latitude': 40.7574, 'longitude': -73.96809},\n",
       "  'transactions': [],\n",
       "  'price': '$',\n",
       "  'location': {'address1': '229 E 53rd St',\n",
       "   'address2': '',\n",
       "   'address3': None,\n",
       "   'city': 'New York',\n",
       "   'zip_code': '10022',\n",
       "   'country': 'US',\n",
       "   'state': 'NY',\n",
       "   'display_address': ['229 E 53rd St', 'New York, NY 10022']},\n",
       "  'phone': '',\n",
       "  'display_phone': '',\n",
       "  'distance': 6182.617036645455},\n",
       " {'id': '8YWLuLUKj0t_0_Xv06UUtw',\n",
       "  'alias': 'yes-apothecary-夜莺-new-york-5',\n",
       "  'name': \"Ye's Apothecary 夜莺\",\n",
       "  'image_url': 'https://s3-media0.fl.yelpcdn.com/bphoto/y4pAeBfhhPy-u8MIlvHhsA/o.jpg',\n",
       "  'is_closed': False,\n",
       "  'url': 'https://www.yelp.com/biz/yes-apothecary-%E5%A4%9C%E8%8E%BA-new-york-5?adjust_creative=GWOCZh9-BmZxtdsAjr7Gug&utm_campaign=yelp_api_v3&utm_medium=api_v3_business_search&utm_source=GWOCZh9-BmZxtdsAjr7Gug',\n",
       "  'review_count': 978,\n",
       "  'categories': [{'alias': 'szechuan', 'title': 'Szechuan'},\n",
       "   {'alias': 'speakeasies', 'title': 'Speakeasies'}],\n",
       "  'rating': 4.6,\n",
       "  'coordinates': {'latitude': 40.71945, 'longitude': -73.9898},\n",
       "  'transactions': [],\n",
       "  'price': '$$',\n",
       "  'location': {'address1': '119 Orchard St',\n",
       "   'address2': None,\n",
       "   'address3': '',\n",
       "   'city': 'New York',\n",
       "   'zip_code': '10002',\n",
       "   'country': 'US',\n",
       "   'state': 'NY',\n",
       "   'display_address': ['119 Orchard St', 'New York, NY 10002']},\n",
       "  'phone': '+19296552515',\n",
       "  'display_phone': '(929) 655-2515',\n",
       "  'distance': 1602.8275228141238},\n",
       " {'id': 'H7S7-vF2z_HfaLo6BGPetw',\n",
       "  'alias': 'attaboy-new-york',\n",
       "  'name': 'Attaboy',\n",
       "  'image_url': 'https://s3-media0.fl.yelpcdn.com/bphoto/0J7R47bFfZf9WAoQJClxhA/o.jpg',\n",
       "  'is_closed': False,\n",
       "  'url': 'https://www.yelp.com/biz/attaboy-new-york?adjust_creative=GWOCZh9-BmZxtdsAjr7Gug&utm_campaign=yelp_api_v3&utm_medium=api_v3_business_search&utm_source=GWOCZh9-BmZxtdsAjr7Gug',\n",
       "  'review_count': 852,\n",
       "  'categories': [{'alias': 'cocktailbars', 'title': 'Cocktail Bars'}],\n",
       "  'rating': 4.1,\n",
       "  'coordinates': {'latitude': 40.71887, 'longitude': -73.99134},\n",
       "  'transactions': ['delivery'],\n",
       "  'price': '$$',\n",
       "  'location': {'address1': '134 Eldridge St',\n",
       "   'address2': '',\n",
       "   'address3': '',\n",
       "   'city': 'New York',\n",
       "   'zip_code': '10002',\n",
       "   'country': 'US',\n",
       "   'state': 'NY',\n",
       "   'display_address': ['134 Eldridge St', 'New York, NY 10002']},\n",
       "  'phone': '',\n",
       "  'display_phone': '',\n",
       "  'distance': 1514.7473683794203},\n",
       " {'id': 'zWrZBXj5F2V_0UknnTfqbw',\n",
       "  'alias': 'the-up-and-up-new-york-2',\n",
       "  'name': 'The Up & Up',\n",
       "  'image_url': 'https://s3-media0.fl.yelpcdn.com/bphoto/YGeEqFPgcZi_7qfSBX2bIA/o.jpg',\n",
       "  'is_closed': False,\n",
       "  'url': 'https://www.yelp.com/biz/the-up-and-up-new-york-2?adjust_creative=GWOCZh9-BmZxtdsAjr7Gug&utm_campaign=yelp_api_v3&utm_medium=api_v3_business_search&utm_source=GWOCZh9-BmZxtdsAjr7Gug',\n",
       "  'review_count': 601,\n",
       "  'categories': [{'alias': 'cocktailbars', 'title': 'Cocktail Bars'}],\n",
       "  'rating': 4.2,\n",
       "  'coordinates': {'latitude': 40.7295104447158,\n",
       "   'longitude': -74.0006693438721},\n",
       "  'transactions': ['delivery', 'pickup'],\n",
       "  'price': '$$',\n",
       "  'location': {'address1': '116 MacDougal St',\n",
       "   'address2': '',\n",
       "   'address3': '',\n",
       "   'city': 'New York',\n",
       "   'zip_code': '10012',\n",
       "   'country': 'US',\n",
       "   'state': 'NY',\n",
       "   'display_address': ['116 MacDougal St', 'New York, NY 10012']},\n",
       "  'phone': '+12122603000',\n",
       "  'display_phone': '(212) 260-3000',\n",
       "  'distance': 2729.3898625454526},\n",
       " {'id': 'GJ3vgPvcJlOejZepOotQug',\n",
       "  'alias': 'the-woo-woo-new-york-2',\n",
       "  'name': 'The Woo Woo',\n",
       "  'image_url': 'https://s3-media0.fl.yelpcdn.com/bphoto/7QBj6qlHILW3c5jAwEaLSQ/o.jpg',\n",
       "  'is_closed': False,\n",
       "  'url': 'https://www.yelp.com/biz/the-woo-woo-new-york-2?adjust_creative=GWOCZh9-BmZxtdsAjr7Gug&utm_campaign=yelp_api_v3&utm_medium=api_v3_business_search&utm_source=GWOCZh9-BmZxtdsAjr7Gug',\n",
       "  'review_count': 301,\n",
       "  'categories': [{'alias': 'speakeasies', 'title': 'Speakeasies'}],\n",
       "  'rating': 4.4,\n",
       "  'coordinates': {'latitude': 40.76011384643282,\n",
       "   'longitude': -73.98724024445688},\n",
       "  'transactions': [],\n",
       "  'price': '$$',\n",
       "  'location': {'address1': '266 W 47th St',\n",
       "   'address2': '',\n",
       "   'address3': None,\n",
       "   'city': 'New York',\n",
       "   'zip_code': '10036',\n",
       "   'country': 'US',\n",
       "   'state': 'NY',\n",
       "   'display_address': ['266 W 47th St', 'New York, NY 10036']},\n",
       "  'phone': '+16468667234',\n",
       "  'display_phone': '(646) 866-7234',\n",
       "  'distance': 6107.886006444237},\n",
       " {'id': 'dHKEJaysc51WnQ1Xfzkvpg',\n",
       "  'alias': 'wildflower-new-york',\n",
       "  'name': 'Wildflower',\n",
       "  'image_url': 'https://s3-media0.fl.yelpcdn.com/bphoto/QrOWmRkVBq3xp9Q_F_tWoQ/o.jpg',\n",
       "  'is_closed': False,\n",
       "  'url': 'https://www.yelp.com/biz/wildflower-new-york?adjust_creative=GWOCZh9-BmZxtdsAjr7Gug&utm_campaign=yelp_api_v3&utm_medium=api_v3_business_search&utm_source=GWOCZh9-BmZxtdsAjr7Gug',\n",
       "  'review_count': 35,\n",
       "  'categories': [{'alias': 'cocktailbars', 'title': 'Cocktail Bars'}],\n",
       "  'rating': 4.1,\n",
       "  'coordinates': {'latitude': 40.747987, 'longitude': -74.004369},\n",
       "  'transactions': ['delivery', 'pickup'],\n",
       "  'location': {'address1': '505 W 23rd St',\n",
       "   'address2': '',\n",
       "   'address3': None,\n",
       "   'city': 'New York',\n",
       "   'zip_code': '10011',\n",
       "   'country': 'US',\n",
       "   'state': 'NY',\n",
       "   'display_address': ['505 W 23rd St', 'New York, NY 10011']},\n",
       "  'phone': '+19175080007',\n",
       "  'display_phone': '(917) 508-0007',\n",
       "  'distance': 4806.839205906259},\n",
       " {'id': 'luuAHNLKBRF79pdfdYjfPg',\n",
       "  'alias': 'chapel-bar-new-york',\n",
       "  'name': 'Chapel Bar',\n",
       "  'image_url': 'https://s3-media0.fl.yelpcdn.com/bphoto/JylRyiH8BUi7Js5mBRm9Qw/o.jpg',\n",
       "  'is_closed': False,\n",
       "  'url': 'https://www.yelp.com/biz/chapel-bar-new-york?adjust_creative=GWOCZh9-BmZxtdsAjr7Gug&utm_campaign=yelp_api_v3&utm_medium=api_v3_business_search&utm_source=GWOCZh9-BmZxtdsAjr7Gug',\n",
       "  'review_count': 58,\n",
       "  'categories': [{'alias': 'cocktailbars', 'title': 'Cocktail Bars'}],\n",
       "  'rating': 3.7,\n",
       "  'coordinates': {'latitude': 40.739126025294, 'longitude': -73.9868698666748},\n",
       "  'transactions': [],\n",
       "  'location': {'address1': '275 Park Ave S',\n",
       "   'address2': '',\n",
       "   'address3': None,\n",
       "   'city': 'New York',\n",
       "   'zip_code': '10010',\n",
       "   'country': 'US',\n",
       "   'state': 'NY',\n",
       "   'display_address': ['275 Park Ave S', 'New York, NY 10010']},\n",
       "  'phone': '+16467901590',\n",
       "  'display_phone': '(646) 790-1590',\n",
       "  'distance': 3797.0584603740426},\n",
       " {'id': 'gZz9A8k8ORC_xl0aHxtY4w',\n",
       "  'alias': 'monkey-bar-new-york-4',\n",
       "  'name': 'Monkey Bar',\n",
       "  'image_url': 'https://s3-media0.fl.yelpcdn.com/bphoto/IxVJIa4twXFkJ94f2ERErA/o.jpg',\n",
       "  'is_closed': False,\n",
       "  'url': 'https://www.yelp.com/biz/monkey-bar-new-york-4?adjust_creative=GWOCZh9-BmZxtdsAjr7Gug&utm_campaign=yelp_api_v3&utm_medium=api_v3_business_search&utm_source=GWOCZh9-BmZxtdsAjr7Gug',\n",
       "  'review_count': 319,\n",
       "  'categories': [{'alias': 'tradamerican', 'title': 'American'},\n",
       "   {'alias': 'bars', 'title': 'Bars'}],\n",
       "  'rating': 4.3,\n",
       "  'coordinates': {'latitude': 40.75998, 'longitude': -73.97313},\n",
       "  'transactions': [],\n",
       "  'location': {'address1': '60 E 54th St',\n",
       "   'address2': '',\n",
       "   'address3': None,\n",
       "   'city': 'New York',\n",
       "   'zip_code': '10022',\n",
       "   'country': 'US',\n",
       "   'state': 'NY',\n",
       "   'display_address': ['60 E 54th St', 'New York, NY 10022']},\n",
       "  'phone': '+12124040365',\n",
       "  'display_phone': '(212) 404-0365',\n",
       "  'distance': 6309.293896383203},\n",
       " {'id': 'NK68f4P-qwrDFIoR8QzqoA',\n",
       "  'alias': 'osamil-upstairs-new-york',\n",
       "  'name': 'Osamil Upstairs',\n",
       "  'image_url': 'https://s3-media0.fl.yelpcdn.com/bphoto/Gz4yVfElC3RBkIkJIGcNEA/o.jpg',\n",
       "  'is_closed': False,\n",
       "  'url': 'https://www.yelp.com/biz/osamil-upstairs-new-york?adjust_creative=GWOCZh9-BmZxtdsAjr7Gug&utm_campaign=yelp_api_v3&utm_medium=api_v3_business_search&utm_source=GWOCZh9-BmZxtdsAjr7Gug',\n",
       "  'review_count': 131,\n",
       "  'categories': [{'alias': 'cocktailbars', 'title': 'Cocktail Bars'},\n",
       "   {'alias': 'lounges', 'title': 'Lounges'}],\n",
       "  'rating': 4.3,\n",
       "  'coordinates': {'latitude': 40.74696104756599,\n",
       "   'longitude': -73.98643098771572},\n",
       "  'transactions': ['delivery'],\n",
       "  'location': {'address1': '5 W 31st St',\n",
       "   'address2': 'Fl 2',\n",
       "   'address3': None,\n",
       "   'city': 'New York',\n",
       "   'zip_code': '10001',\n",
       "   'country': 'US',\n",
       "   'state': 'NY',\n",
       "   'display_address': ['5 W 31st St', 'Fl 2', 'New York, NY 10001']},\n",
       "  'phone': '+19172620292',\n",
       "  'display_phone': '(917) 262-0292',\n",
       "  'distance': 4663.68361036065},\n",
       " {'id': 'JXKCi089JT-6NHZ9kGRDrA',\n",
       "  'alias': '161-lafayette-new-york',\n",
       "  'name': '161 Lafayette',\n",
       "  'image_url': 'https://s3-media0.fl.yelpcdn.com/bphoto/gDr70W4Sv8dgK4Z3AGQSOw/o.jpg',\n",
       "  'is_closed': False,\n",
       "  'url': 'https://www.yelp.com/biz/161-lafayette-new-york?adjust_creative=GWOCZh9-BmZxtdsAjr7Gug&utm_campaign=yelp_api_v3&utm_medium=api_v3_business_search&utm_source=GWOCZh9-BmZxtdsAjr7Gug',\n",
       "  'review_count': 16,\n",
       "  'categories': [{'alias': 'bars', 'title': 'Bars'},\n",
       "   {'alias': 'karaoke', 'title': 'Karaoke'}],\n",
       "  'rating': 4.4,\n",
       "  'coordinates': {'latitude': 40.71981, 'longitude': -73.99908},\n",
       "  'transactions': ['delivery'],\n",
       "  'location': {'address1': '161 Lafayette St',\n",
       "   'address2': '',\n",
       "   'address3': None,\n",
       "   'city': 'New York',\n",
       "   'zip_code': '10013',\n",
       "   'country': 'US',\n",
       "   'state': 'NY',\n",
       "   'display_address': ['161 Lafayette St', 'New York, NY 10013']},\n",
       "  'phone': '',\n",
       "  'display_phone': '',\n",
       "  'distance': 1645.7980443677077},\n",
       " {'id': 'U03emTRwM6XWRamsYqHsuw',\n",
       "  'alias': 'barbam-new-york',\n",
       "  'name': 'Barbam',\n",
       "  'image_url': 'https://s3-media0.fl.yelpcdn.com/bphoto/hIOoTZTp86zZuqAYJb7H4w/o.jpg',\n",
       "  'is_closed': False,\n",
       "  'url': 'https://www.yelp.com/biz/barbam-new-york?adjust_creative=GWOCZh9-BmZxtdsAjr7Gug&utm_campaign=yelp_api_v3&utm_medium=api_v3_business_search&utm_source=GWOCZh9-BmZxtdsAjr7Gug',\n",
       "  'review_count': 53,\n",
       "  'categories': [{'alias': 'speakeasies', 'title': 'Speakeasies'}],\n",
       "  'rating': 4.7,\n",
       "  'coordinates': {'latitude': 40.748423927236786, 'longitude': -73.9867438},\n",
       "  'transactions': [],\n",
       "  'location': {'address1': '32 W 33rd St',\n",
       "   'address2': 'Ste B1',\n",
       "   'address3': '',\n",
       "   'city': 'New York',\n",
       "   'zip_code': '10001',\n",
       "   'country': 'US',\n",
       "   'state': 'NY',\n",
       "   'display_address': ['32 W 33rd St', 'Ste B1', 'New York, NY 10001']},\n",
       "  'phone': '+19176404728',\n",
       "  'display_phone': '(917) 640-4728',\n",
       "  'distance': 4821.203869532761},\n",
       " {'id': '8V4TgZmt5sXeaLuilaMJ7A',\n",
       "  'alias': 'sosos-new-york-2',\n",
       "  'name': \"Soso's\",\n",
       "  'image_url': 'https://s3-media0.fl.yelpcdn.com/bphoto/XYX06L6w_4bZvK8bBSyBmA/o.jpg',\n",
       "  'is_closed': False,\n",
       "  'url': 'https://www.yelp.com/biz/sosos-new-york-2?adjust_creative=GWOCZh9-BmZxtdsAjr7Gug&utm_campaign=yelp_api_v3&utm_medium=api_v3_business_search&utm_source=GWOCZh9-BmZxtdsAjr7Gug',\n",
       "  'review_count': 46,\n",
       "  'categories': [{'alias': 'cocktailbars', 'title': 'Cocktail Bars'}],\n",
       "  'rating': 4.2,\n",
       "  'coordinates': {'latitude': 40.718685, 'longitude': -73.999765},\n",
       "  'transactions': [],\n",
       "  'location': {'address1': '191 Centre St',\n",
       "   'address2': None,\n",
       "   'address3': '',\n",
       "   'city': 'New York',\n",
       "   'zip_code': '10013',\n",
       "   'country': 'US',\n",
       "   'state': 'NY',\n",
       "   'display_address': ['191 Centre St', 'New York, NY 10013']},\n",
       "  'phone': '+16463558693',\n",
       "  'display_phone': '(646) 355-8693',\n",
       "  'distance': 1543.9080383555083},\n",
       " {'id': '5Fz1WlY3lxy8gJFs8s_1Dw',\n",
       "  'alias': 'the-binc-brooklyn',\n",
       "  'name': 'The Binc',\n",
       "  'image_url': 'https://s3-media0.fl.yelpcdn.com/bphoto/xRNohqaOT_kGETHJUB05tg/o.jpg',\n",
       "  'is_closed': False,\n",
       "  'url': 'https://www.yelp.com/biz/the-binc-brooklyn?adjust_creative=GWOCZh9-BmZxtdsAjr7Gug&utm_campaign=yelp_api_v3&utm_medium=api_v3_business_search&utm_source=GWOCZh9-BmZxtdsAjr7Gug',\n",
       "  'review_count': 113,\n",
       "  'categories': [{'alias': 'cocktailbars', 'title': 'Cocktail Bars'},\n",
       "   {'alias': 'tapasmallplates', 'title': 'Tapas/Small Plates'}],\n",
       "  'rating': 4.4,\n",
       "  'coordinates': {'latitude': 40.69925, 'longitude': -73.99227},\n",
       "  'transactions': ['delivery'],\n",
       "  'price': '$$',\n",
       "  'location': {'address1': '60 Henry St',\n",
       "   'address2': None,\n",
       "   'address3': '',\n",
       "   'city': 'Brooklyn',\n",
       "   'zip_code': '11201',\n",
       "   'country': 'US',\n",
       "   'state': 'NY',\n",
       "   'display_address': ['60 Henry St', 'Brooklyn, NY 11201']},\n",
       "  'phone': '+17186241444',\n",
       "  'display_phone': '(718) 624-1444',\n",
       "  'distance': 709.6365592422106},\n",
       " {'id': 'P3NfoMjBy_o2BTNNZ-5okg',\n",
       "  'alias': 'apotheke-new-york-4',\n",
       "  'name': 'Apotheke',\n",
       "  'image_url': 'https://s3-media0.fl.yelpcdn.com/bphoto/1MO5AkdqLWduZ-GJh6It3w/o.jpg',\n",
       "  'is_closed': False,\n",
       "  'url': 'https://www.yelp.com/biz/apotheke-new-york-4?adjust_creative=GWOCZh9-BmZxtdsAjr7Gug&utm_campaign=yelp_api_v3&utm_medium=api_v3_business_search&utm_source=GWOCZh9-BmZxtdsAjr7Gug',\n",
       "  'review_count': 1569,\n",
       "  'categories': [{'alias': 'cocktailbars', 'title': 'Cocktail Bars'},\n",
       "   {'alias': 'speakeasies', 'title': 'Speakeasies'}],\n",
       "  'rating': 3.8,\n",
       "  'coordinates': {'latitude': 40.71440617040858,\n",
       "   'longitude': -73.99817232132496},\n",
       "  'transactions': [],\n",
       "  'price': '$$$',\n",
       "  'location': {'address1': '9 Doyers St',\n",
       "   'address2': '',\n",
       "   'address3': '',\n",
       "   'city': 'New York',\n",
       "   'zip_code': '10013',\n",
       "   'country': 'US',\n",
       "   'state': 'NY',\n",
       "   'display_address': ['9 Doyers St', 'New York, NY 10013']},\n",
       "  'phone': '+12124060400',\n",
       "  'display_phone': '(212) 406-0400',\n",
       "  'distance': 1048.72223999208},\n",
       " {'id': '-CZf3uyQ53o9lqMldBiq7A',\n",
       "  'alias': 'little-ned-new-york',\n",
       "  'name': 'Little Ned',\n",
       "  'image_url': 'https://s3-media0.fl.yelpcdn.com/bphoto/rP2-6gHKntLGqaTDW0pUAg/o.jpg',\n",
       "  'is_closed': False,\n",
       "  'url': 'https://www.yelp.com/biz/little-ned-new-york?adjust_creative=GWOCZh9-BmZxtdsAjr7Gug&utm_campaign=yelp_api_v3&utm_medium=api_v3_business_search&utm_source=GWOCZh9-BmZxtdsAjr7Gug',\n",
       "  'review_count': 42,\n",
       "  'categories': [{'alias': 'cocktailbars', 'title': 'Cocktail Bars'},\n",
       "   {'alias': 'wine_bars', 'title': 'Wine Bars'},\n",
       "   {'alias': 'beertours', 'title': 'Beer Tours'}],\n",
       "  'rating': 4.8,\n",
       "  'coordinates': {'latitude': 40.74492519, 'longitude': -73.98823499},\n",
       "  'transactions': [],\n",
       "  'location': {'address1': '10 W 28th St',\n",
       "   'address2': '',\n",
       "   'address3': None,\n",
       "   'city': 'New York',\n",
       "   'zip_code': '10001',\n",
       "   'country': 'US',\n",
       "   'state': 'NY',\n",
       "   'display_address': ['10 W 28th St', 'New York, NY 10001']},\n",
       "  'phone': '+12127220555',\n",
       "  'display_phone': '(212) 722-0555',\n",
       "  'distance': 4419.59172887573},\n",
       " {'id': 'rdXcbBve2X6Bst7UoQ6T0w',\n",
       "  'alias': 'sunken-harbor-club-brooklyn',\n",
       "  'name': 'Sunken Harbor Club',\n",
       "  'image_url': 'https://s3-media0.fl.yelpcdn.com/bphoto/e3zxGKBLK4tyvcjZB9q-iw/o.jpg',\n",
       "  'is_closed': False,\n",
       "  'url': 'https://www.yelp.com/biz/sunken-harbor-club-brooklyn?adjust_creative=GWOCZh9-BmZxtdsAjr7Gug&utm_campaign=yelp_api_v3&utm_medium=api_v3_business_search&utm_source=GWOCZh9-BmZxtdsAjr7Gug',\n",
       "  'review_count': 101,\n",
       "  'categories': [{'alias': 'cocktailbars', 'title': 'Cocktail Bars'},\n",
       "   {'alias': 'tikibars', 'title': 'Tiki Bars'}],\n",
       "  'rating': 4.5,\n",
       "  'coordinates': {'latitude': 40.69131703158167,\n",
       "   'longitude': -73.98786094039679},\n",
       "  'transactions': [],\n",
       "  'price': '$$$',\n",
       "  'location': {'address1': '372 Fulton St',\n",
       "   'address2': 'Fl 2',\n",
       "   'address3': None,\n",
       "   'city': 'Brooklyn',\n",
       "   'zip_code': '11201',\n",
       "   'country': 'US',\n",
       "   'state': 'NY',\n",
       "   'display_address': ['372 Fulton St', 'Fl 2', 'Brooklyn, NY 11201']},\n",
       "  'phone': '',\n",
       "  'display_phone': '',\n",
       "  'distance': 1661.896747578849},\n",
       " {'id': 'Y7bbr09ssPvFojIIFBa6rA',\n",
       "  'alias': 'thyme-bar-new-york',\n",
       "  'name': 'Thyme Bar',\n",
       "  'image_url': 'https://s3-media0.fl.yelpcdn.com/bphoto/foaL7jJdrHAV2aQCKQutxw/o.jpg',\n",
       "  'is_closed': False,\n",
       "  'url': 'https://www.yelp.com/biz/thyme-bar-new-york?adjust_creative=GWOCZh9-BmZxtdsAjr7Gug&utm_campaign=yelp_api_v3&utm_medium=api_v3_business_search&utm_source=GWOCZh9-BmZxtdsAjr7Gug',\n",
       "  'review_count': 336,\n",
       "  'categories': [{'alias': 'cocktailbars', 'title': 'Cocktail Bars'},\n",
       "   {'alias': 'speakeasies', 'title': 'Speakeasies'}],\n",
       "  'rating': 4.1,\n",
       "  'coordinates': {'latitude': 40.741662, 'longitude': -73.990591},\n",
       "  'transactions': ['delivery'],\n",
       "  'price': '$$',\n",
       "  'location': {'address1': '20 W 23rd St Cellar',\n",
       "   'address2': '',\n",
       "   'address3': None,\n",
       "   'city': 'New York',\n",
       "   'zip_code': '10010',\n",
       "   'country': 'US',\n",
       "   'state': 'NY',\n",
       "   'display_address': ['20 W 23rd St Cellar', 'New York, NY 10010']},\n",
       "  'phone': '+16466009257',\n",
       "  'display_phone': '(646) 600-9257',\n",
       "  'distance': 4042.9191372408904},\n",
       " {'id': 'pohS_d-8POAuLVj8x1_Seg',\n",
       "  'alias': 'somethin-else-brooklyn-3',\n",
       "  'name': 'Somethin Else',\n",
       "  'image_url': 'https://s3-media0.fl.yelpcdn.com/bphoto/KfgFcUSB6SuK2S-chCKr1A/o.jpg',\n",
       "  'is_closed': False,\n",
       "  'url': 'https://www.yelp.com/biz/somethin-else-brooklyn-3?adjust_creative=GWOCZh9-BmZxtdsAjr7Gug&utm_campaign=yelp_api_v3&utm_medium=api_v3_business_search&utm_source=GWOCZh9-BmZxtdsAjr7Gug',\n",
       "  'review_count': 10,\n",
       "  'categories': [{'alias': 'musicvenues', 'title': 'Music Venues'},\n",
       "   {'alias': 'cocktailbars', 'title': 'Cocktail Bars'},\n",
       "   {'alias': 'beerbar', 'title': 'Beer Bar'}],\n",
       "  'rating': 4.3,\n",
       "  'coordinates': {'latitude': 40.69072127394564,\n",
       "   'longitude': -73.98331508563771},\n",
       "  'transactions': [],\n",
       "  'location': {'address1': '445 Albee Square W',\n",
       "   'address2': '',\n",
       "   'address3': None,\n",
       "   'city': 'Brooklyn',\n",
       "   'zip_code': '11201',\n",
       "   'country': 'US',\n",
       "   'state': 'NY',\n",
       "   'display_address': ['445 Albee Square W', 'Brooklyn, NY 11201']},\n",
       "  'phone': '',\n",
       "  'display_phone': '',\n",
       "  'distance': 1880.6676832777043},\n",
       " {'id': '9sU8ceKHiqNrLBMRM-aUkg',\n",
       "  'alias': 'harriets-rooftop-brooklyn-4',\n",
       "  'name': \"Harriet's Rooftop\",\n",
       "  'image_url': 'https://s3-media0.fl.yelpcdn.com/bphoto/5yUibmyIYPP9tvLUQOMdTQ/o.jpg',\n",
       "  'is_closed': False,\n",
       "  'url': 'https://www.yelp.com/biz/harriets-rooftop-brooklyn-4?adjust_creative=GWOCZh9-BmZxtdsAjr7Gug&utm_campaign=yelp_api_v3&utm_medium=api_v3_business_search&utm_source=GWOCZh9-BmZxtdsAjr7Gug',\n",
       "  'review_count': 334,\n",
       "  'categories': [{'alias': 'lounges', 'title': 'Lounges'},\n",
       "   {'alias': 'cocktailbars', 'title': 'Cocktail Bars'}],\n",
       "  'rating': 3.3,\n",
       "  'coordinates': {'latitude': 40.702355096100646,\n",
       "   'longitude': -73.99559200567167},\n",
       "  'transactions': ['delivery'],\n",
       "  'price': '$$$',\n",
       "  'location': {'address1': '60 Furman St',\n",
       "   'address2': 'Fl 11',\n",
       "   'address3': None,\n",
       "   'city': 'Brooklyn',\n",
       "   'zip_code': '11201',\n",
       "   'country': 'US',\n",
       "   'state': 'NY',\n",
       "   'display_address': ['60 Furman St', 'Fl 11', 'Brooklyn, NY 11201']},\n",
       "  'phone': '+13476962554',\n",
       "  'display_phone': '(347) 696-2554',\n",
       "  'distance': 360.58863224876586},\n",
       " {'id': 'd6mslo1LlpkNPgb2HWOlEg',\n",
       "  'alias': 'fresh-kills-bar-brooklyn',\n",
       "  'name': 'Fresh Kills Bar',\n",
       "  'image_url': 'https://s3-media0.fl.yelpcdn.com/bphoto/LSvuNuV45DX7kW8JDZeIZA/o.jpg',\n",
       "  'is_closed': False,\n",
       "  'url': 'https://www.yelp.com/biz/fresh-kills-bar-brooklyn?adjust_creative=GWOCZh9-BmZxtdsAjr7Gug&utm_campaign=yelp_api_v3&utm_medium=api_v3_business_search&utm_source=GWOCZh9-BmZxtdsAjr7Gug',\n",
       "  'review_count': 237,\n",
       "  'categories': [{'alias': 'cocktailbars', 'title': 'Cocktail Bars'}],\n",
       "  'rating': 4.3,\n",
       "  'coordinates': {'latitude': 40.7147999, 'longitude': -73.96151},\n",
       "  'transactions': ['delivery'],\n",
       "  'price': '$$',\n",
       "  'location': {'address1': '161 Grand St',\n",
       "   'address2': '',\n",
       "   'address3': '',\n",
       "   'city': 'Brooklyn',\n",
       "   'zip_code': '11249',\n",
       "   'country': 'US',\n",
       "   'state': 'NY',\n",
       "   'display_address': ['161 Grand St', 'Brooklyn, NY 11249']},\n",
       "  'phone': '+17185997888',\n",
       "  'display_phone': '(718) 599-7888',\n",
       "  'distance': 2950.6174458442506},\n",
       " {'id': 'mIgmxB2l_-p_f9pUe8kbpA',\n",
       "  'alias': 'the-tusk-bar-new-york',\n",
       "  'name': 'The Tusk Bar',\n",
       "  'image_url': 'https://s3-media0.fl.yelpcdn.com/bphoto/ztoYQqrt3TR6KHi2lkwzmg/o.jpg',\n",
       "  'is_closed': False,\n",
       "  'url': 'https://www.yelp.com/biz/the-tusk-bar-new-york?adjust_creative=GWOCZh9-BmZxtdsAjr7Gug&utm_campaign=yelp_api_v3&utm_medium=api_v3_business_search&utm_source=GWOCZh9-BmZxtdsAjr7Gug',\n",
       "  'review_count': 26,\n",
       "  'categories': [{'alias': 'cocktailbars', 'title': 'Cocktail Bars'},\n",
       "   {'alias': 'seafood', 'title': 'Seafood'}],\n",
       "  'rating': 4.3,\n",
       "  'coordinates': {'latitude': 40.7439642, 'longitude': -73.98693148465577},\n",
       "  'transactions': [],\n",
       "  'location': {'address1': '7 East 27th St',\n",
       "   'address2': None,\n",
       "   'address3': '',\n",
       "   'city': 'New York',\n",
       "   'zip_code': '10016',\n",
       "   'country': 'US',\n",
       "   'state': 'NY',\n",
       "   'display_address': ['7 East 27th St', 'New York, NY 10016']},\n",
       "  'phone': '',\n",
       "  'display_phone': '',\n",
       "  'distance': 4327.843535953854},\n",
       " {'id': '2DJjJu3sqaBCN7w4CwR5Dw',\n",
       "  'alias': 'livingston-manor-brooklyn',\n",
       "  'name': 'Livingston Manor',\n",
       "  'image_url': 'https://s3-media0.fl.yelpcdn.com/bphoto/ULfPxnGOchUqQ9vcLVYmXw/o.jpg',\n",
       "  'is_closed': False,\n",
       "  'url': 'https://www.yelp.com/biz/livingston-manor-brooklyn?adjust_creative=GWOCZh9-BmZxtdsAjr7Gug&utm_campaign=yelp_api_v3&utm_medium=api_v3_business_search&utm_source=GWOCZh9-BmZxtdsAjr7Gug',\n",
       "  'review_count': 149,\n",
       "  'categories': [{'alias': 'bars', 'title': 'Bars'}],\n",
       "  'rating': 4.0,\n",
       "  'coordinates': {'latitude': 40.689398, 'longitude': -73.986071},\n",
       "  'transactions': ['delivery'],\n",
       "  'price': '$$',\n",
       "  'location': {'address1': '42 Hoyt St',\n",
       "   'address2': '',\n",
       "   'address3': '',\n",
       "   'city': 'Brooklyn',\n",
       "   'zip_code': '11201',\n",
       "   'country': 'US',\n",
       "   'state': 'NY',\n",
       "   'display_address': ['42 Hoyt St', 'Brooklyn, NY 11201']},\n",
       "  'phone': '+13479873292',\n",
       "  'display_phone': '(347) 987-3292',\n",
       "  'distance': 1909.6505926860607},\n",
       " {'id': 'ePqKbqXFBCbwBaWiN2Jo9w',\n",
       "  'alias': 'ampersand-new-york-2',\n",
       "  'name': 'Ampersand',\n",
       "  'image_url': 'https://s3-media0.fl.yelpcdn.com/bphoto/bfRqLDEQWBsTnp59shvTsA/o.jpg',\n",
       "  'is_closed': False,\n",
       "  'url': 'https://www.yelp.com/biz/ampersand-new-york-2?adjust_creative=GWOCZh9-BmZxtdsAjr7Gug&utm_campaign=yelp_api_v3&utm_medium=api_v3_business_search&utm_source=GWOCZh9-BmZxtdsAjr7Gug',\n",
       "  'review_count': 280,\n",
       "  'categories': [{'alias': 'cocktailbars', 'title': 'Cocktail Bars'},\n",
       "   {'alias': 'newamerican', 'title': 'New American'}],\n",
       "  'rating': 4.3,\n",
       "  'coordinates': {'latitude': 40.7386178790617,\n",
       "   'longitude': -73.9834206895483},\n",
       "  'transactions': ['delivery'],\n",
       "  'price': '$$',\n",
       "  'location': {'address1': '294 3rd Ave',\n",
       "   'address2': '',\n",
       "   'address3': '',\n",
       "   'city': 'New York',\n",
       "   'zip_code': '10010',\n",
       "   'country': 'US',\n",
       "   'state': 'NY',\n",
       "   'display_address': ['294 3rd Ave', 'New York, NY 10010']},\n",
       "  'phone': '+12124778100',\n",
       "  'display_phone': '(212) 477-8100',\n",
       "  'distance': 3800.7617476958712},\n",
       " {'id': 'XRjeE9yFANgsG12FWUOoXg',\n",
       "  'alias': 'gair-brooklyn',\n",
       "  'name': 'Gair',\n",
       "  'image_url': 'https://s3-media0.fl.yelpcdn.com/bphoto/2HJjpG5Z65asG7tm05puzA/o.jpg',\n",
       "  'is_closed': False,\n",
       "  'url': 'https://www.yelp.com/biz/gair-brooklyn?adjust_creative=GWOCZh9-BmZxtdsAjr7Gug&utm_campaign=yelp_api_v3&utm_medium=api_v3_business_search&utm_source=GWOCZh9-BmZxtdsAjr7Gug',\n",
       "  'review_count': 21,\n",
       "  'categories': [{'alias': 'cocktailbars', 'title': 'Cocktail Bars'},\n",
       "   {'alias': 'burgers', 'title': 'Burgers'},\n",
       "   {'alias': 'tradamerican', 'title': 'American'}],\n",
       "  'rating': 4.6,\n",
       "  'coordinates': {'latitude': 40.703113254983855,\n",
       "   'longitude': -73.98941429999999},\n",
       "  'transactions': [],\n",
       "  'location': {'address1': '41 Washington St',\n",
       "   'address2': '',\n",
       "   'address3': None,\n",
       "   'city': 'Brooklyn',\n",
       "   'zip_code': '11201',\n",
       "   'country': 'US',\n",
       "   'state': 'NY',\n",
       "   'display_address': ['41 Washington St', 'Brooklyn, NY 11201']},\n",
       "  'phone': '+17182332595',\n",
       "  'display_phone': '(718) 233-2595',\n",
       "  'distance': 486.1679736937545},\n",
       " {'id': 'LufHsx7SCHPRmuxxG-jO7A',\n",
       "  'alias': 'the-lobby-brooklyn',\n",
       "  'name': 'The Lobby',\n",
       "  'image_url': 'https://s3-media0.fl.yelpcdn.com/bphoto/jdT7a30pqz6J29I3H4ynLw/o.jpg',\n",
       "  'is_closed': False,\n",
       "  'url': 'https://www.yelp.com/biz/the-lobby-brooklyn?adjust_creative=GWOCZh9-BmZxtdsAjr7Gug&utm_campaign=yelp_api_v3&utm_medium=api_v3_business_search&utm_source=GWOCZh9-BmZxtdsAjr7Gug',\n",
       "  'review_count': 13,\n",
       "  'categories': [{'alias': 'bars', 'title': 'Bars'}],\n",
       "  'rating': 4.5,\n",
       "  'coordinates': {'latitude': 40.687808, 'longitude': -73.98374},\n",
       "  'transactions': [],\n",
       "  'location': {'address1': '252 Schermerhorn St',\n",
       "   'address2': '',\n",
       "   'address3': 'Ace Hotel - Brooklyn',\n",
       "   'city': 'Brooklyn',\n",
       "   'zip_code': '11217',\n",
       "   'country': 'US',\n",
       "   'state': 'NY',\n",
       "   'display_address': ['252 Schermerhorn St',\n",
       "    'Ace Hotel - Brooklyn',\n",
       "    'Brooklyn, NY 11217']},\n",
       "  'phone': '+17183133636',\n",
       "  'display_phone': '(718) 313-3636',\n",
       "  'distance': 2143.0539107086897},\n",
       " {'id': 'YOrKBjU2ZEmwHS5f-dcAhw',\n",
       "  'alias': 'another-country-new-york',\n",
       "  'name': 'Another Country',\n",
       "  'image_url': 'https://s3-media0.fl.yelpcdn.com/bphoto/m2ij29dDjJeYePXl5elpQw/o.jpg',\n",
       "  'is_closed': False,\n",
       "  'url': 'https://www.yelp.com/biz/another-country-new-york?adjust_creative=GWOCZh9-BmZxtdsAjr7Gug&utm_campaign=yelp_api_v3&utm_medium=api_v3_business_search&utm_source=GWOCZh9-BmZxtdsAjr7Gug',\n",
       "  'review_count': 13,\n",
       "  'categories': [{'alias': 'cocktailbars', 'title': 'Cocktail Bars'}],\n",
       "  'rating': 4.6,\n",
       "  'coordinates': {'latitude': 40.736834, 'longitude': -73.992064},\n",
       "  'transactions': [],\n",
       "  'location': {'address1': '10 E 16th St',\n",
       "   'address2': '',\n",
       "   'address3': None,\n",
       "   'city': 'New York',\n",
       "   'zip_code': '10003',\n",
       "   'country': 'US',\n",
       "   'state': 'NY',\n",
       "   'display_address': ['10 E 16th St', 'New York, NY 10003']},\n",
       "  'phone': '',\n",
       "  'display_phone': '',\n",
       "  'distance': 3494.807162415734},\n",
       " {'id': 'oLA02lMIfgvbYquvXzkARw',\n",
       "  'alias': 'lillies-victorian-establishment-new-york-2',\n",
       "  'name': \"Lillie's Victorian Establishment\",\n",
       "  'image_url': 'https://s3-media0.fl.yelpcdn.com/bphoto/Qfp5NqKqo-j45uXLOzLyDg/o.jpg',\n",
       "  'is_closed': False,\n",
       "  'url': 'https://www.yelp.com/biz/lillies-victorian-establishment-new-york-2?adjust_creative=GWOCZh9-BmZxtdsAjr7Gug&utm_campaign=yelp_api_v3&utm_medium=api_v3_business_search&utm_source=GWOCZh9-BmZxtdsAjr7Gug',\n",
       "  'review_count': 1949,\n",
       "  'categories': [{'alias': 'bars', 'title': 'Bars'},\n",
       "   {'alias': 'gastropubs', 'title': 'Gastropubs'},\n",
       "   {'alias': 'burgers', 'title': 'Burgers'}],\n",
       "  'rating': 3.9,\n",
       "  'coordinates': {'latitude': 40.7614625, 'longitude': -73.9860519},\n",
       "  'transactions': ['pickup'],\n",
       "  'price': '$$',\n",
       "  'location': {'address1': '249 W 49th St',\n",
       "   'address2': '',\n",
       "   'address3': '',\n",
       "   'city': 'New York',\n",
       "   'zip_code': '10019',\n",
       "   'country': 'US',\n",
       "   'state': 'NY',\n",
       "   'display_address': ['249 W 49th St', 'New York, NY 10019']},\n",
       "  'phone': '+12129574530',\n",
       "  'display_phone': '(212) 957-4530',\n",
       "  'distance': 6267.456448728524},\n",
       " {'id': '4nohlTsGHEDdpwYkRTt-fA',\n",
       "  'alias': 'rudys-bar-and-grill-new-york',\n",
       "  'name': \"Rudy's Bar & Grill\",\n",
       "  'image_url': 'https://s3-media0.fl.yelpcdn.com/bphoto/2366Dgpax879tmGzr7jjjQ/o.jpg',\n",
       "  'is_closed': False,\n",
       "  'url': 'https://www.yelp.com/biz/rudys-bar-and-grill-new-york?adjust_creative=GWOCZh9-BmZxtdsAjr7Gug&utm_campaign=yelp_api_v3&utm_medium=api_v3_business_search&utm_source=GWOCZh9-BmZxtdsAjr7Gug',\n",
       "  'review_count': 1262,\n",
       "  'categories': [{'alias': 'divebars', 'title': 'Dive Bars'},\n",
       "   {'alias': 'hotdog', 'title': 'Hot Dogs'}],\n",
       "  'rating': 4.3,\n",
       "  'coordinates': {'latitude': 40.76003419916213,\n",
       "   'longitude': -73.9917941990945},\n",
       "  'transactions': [],\n",
       "  'price': '$',\n",
       "  'location': {'address1': '627 9th Ave',\n",
       "   'address2': '',\n",
       "   'address3': '',\n",
       "   'city': 'New York',\n",
       "   'zip_code': '10036',\n",
       "   'country': 'US',\n",
       "   'state': 'NY',\n",
       "   'display_address': ['627 9th Ave', 'New York, NY 10036']},\n",
       "  'phone': '+16467070890',\n",
       "  'display_phone': '(646) 707-0890',\n",
       "  'distance': 6073.701392936945},\n",
       " {'id': 'oiyThpeH8-gcynus-I20UQ',\n",
       "  'alias': 'the-rhymers-club-new-york',\n",
       "  'name': 'The Rhymers Club',\n",
       "  'image_url': 'https://s3-media0.fl.yelpcdn.com/bphoto/JH7ZwV8AkgXF1LYkRrP9kQ/o.jpg',\n",
       "  'is_closed': False,\n",
       "  'url': 'https://www.yelp.com/biz/the-rhymers-club-new-york?adjust_creative=GWOCZh9-BmZxtdsAjr7Gug&utm_campaign=yelp_api_v3&utm_medium=api_v3_business_search&utm_source=GWOCZh9-BmZxtdsAjr7Gug',\n",
       "  'review_count': 12,\n",
       "  'categories': [{'alias': 'cocktailbars', 'title': 'Cocktail Bars'}],\n",
       "  'rating': 4.5,\n",
       "  'coordinates': {'latitude': 40.72861, 'longitude': -73.98735},\n",
       "  'transactions': [],\n",
       "  'location': {'address1': '37 1/2 St Marks Pl',\n",
       "   'address2': '',\n",
       "   'address3': None,\n",
       "   'city': 'New York',\n",
       "   'zip_code': '10003',\n",
       "   'country': 'US',\n",
       "   'state': 'NY',\n",
       "   'display_address': ['37 1/2 St Marks Pl', 'New York, NY 10003']},\n",
       "  'phone': '',\n",
       "  'display_phone': '',\n",
       "  'distance': 2640.443427287957},\n",
       " {'id': '0XL_3hwGWRyOuZ1C_i_RJw',\n",
       "  'alias': 'bar-bonobo-new-york',\n",
       "  'name': 'Bar Bonobo',\n",
       "  'image_url': 'https://s3-media0.fl.yelpcdn.com/bphoto/wRvmx29rsu4CCQp3uMkSMA/o.jpg',\n",
       "  'is_closed': False,\n",
       "  'url': 'https://www.yelp.com/biz/bar-bonobo-new-york?adjust_creative=GWOCZh9-BmZxtdsAjr7Gug&utm_campaign=yelp_api_v3&utm_medium=api_v3_business_search&utm_source=GWOCZh9-BmZxtdsAjr7Gug',\n",
       "  'review_count': 58,\n",
       "  'categories': [{'alias': 'cocktailbars', 'title': 'Cocktail Bars'}],\n",
       "  'rating': 4.3,\n",
       "  'coordinates': {'latitude': 40.742955, 'longitude': -73.999823},\n",
       "  'transactions': [],\n",
       "  'location': {'address1': '184 8th Ave',\n",
       "   'address2': None,\n",
       "   'address3': '',\n",
       "   'city': 'New York',\n",
       "   'zip_code': '10011',\n",
       "   'country': 'US',\n",
       "   'state': 'NY',\n",
       "   'display_address': ['184 8th Ave', 'New York, NY 10011']},\n",
       "  'phone': '+12512179992',\n",
       "  'display_phone': '(251) 217-9992',\n",
       "  'distance': 4197.353825902398},\n",
       " {'id': 'UDsvp_twMrRa9j6lnZNjow',\n",
       "  'alias': 'nobody-told-me-brooklyn',\n",
       "  'name': 'Nobody Told Me',\n",
       "  'image_url': 'https://s3-media0.fl.yelpcdn.com/bphoto/YBn6RV5tBNNGytcZzNf1_g/o.jpg',\n",
       "  'is_closed': False,\n",
       "  'url': 'https://www.yelp.com/biz/nobody-told-me-brooklyn?adjust_creative=GWOCZh9-BmZxtdsAjr7Gug&utm_campaign=yelp_api_v3&utm_medium=api_v3_business_search&utm_source=GWOCZh9-BmZxtdsAjr7Gug',\n",
       "  'review_count': 36,\n",
       "  'categories': [{'alias': 'bars', 'title': 'Bars'},\n",
       "   {'alias': 'tradamerican', 'title': 'American'},\n",
       "   {'alias': 'tacos', 'title': 'Tacos'}],\n",
       "  'rating': 4.4,\n",
       "  'coordinates': {'latitude': 40.70225697182919, 'longitude': -73.9849383},\n",
       "  'transactions': ['delivery', 'pickup'],\n",
       "  'location': {'address1': '188 Front St',\n",
       "   'address2': None,\n",
       "   'address3': '',\n",
       "   'city': 'Brooklyn',\n",
       "   'zip_code': '11201',\n",
       "   'country': 'US',\n",
       "   'state': 'NY',\n",
       "   'display_address': ['188 Front St', 'Brooklyn, NY 11201']},\n",
       "  'phone': '',\n",
       "  'display_phone': '',\n",
       "  'distance': 864.5872440827293},\n",
       " {'id': 'Gi4A4ibrznMIsy9oGi2t-g',\n",
       "  'alias': 'dear-strangers-new-york',\n",
       "  'name': 'Dear Strangers',\n",
       "  'image_url': 'https://s3-media0.fl.yelpcdn.com/bphoto/xWvuB-arndRNl19hjIpeoQ/o.jpg',\n",
       "  'is_closed': False,\n",
       "  'url': 'https://www.yelp.com/biz/dear-strangers-new-york?adjust_creative=GWOCZh9-BmZxtdsAjr7Gug&utm_campaign=yelp_api_v3&utm_medium=api_v3_business_search&utm_source=GWOCZh9-BmZxtdsAjr7Gug',\n",
       "  'review_count': 14,\n",
       "  'categories': [{'alias': 'cocktailbars', 'title': 'Cocktail Bars'}],\n",
       "  'rating': 4.6,\n",
       "  'coordinates': {'latitude': 40.731557, 'longitude': -74.000413},\n",
       "  'transactions': [],\n",
       "  'location': {'address1': '147 West 4th St',\n",
       "   'address2': '',\n",
       "   'address3': None,\n",
       "   'city': 'New York',\n",
       "   'zip_code': '10012',\n",
       "   'country': 'US',\n",
       "   'state': 'NY',\n",
       "   'display_address': ['147 West 4th St', 'New York, NY 10012']},\n",
       "  'phone': '',\n",
       "  'display_phone': '',\n",
       "  'distance': 2953.3693246807434},\n",
       " {'id': 'gjwELZmHUNO0WdqXYBEbcg',\n",
       "  'alias': 'the-belfry-new-york',\n",
       "  'name': 'The Belfry',\n",
       "  'image_url': 'https://s3-media0.fl.yelpcdn.com/bphoto/1cvqfs12B1k4pBz9T-lMfA/o.jpg',\n",
       "  'is_closed': False,\n",
       "  'url': 'https://www.yelp.com/biz/the-belfry-new-york?adjust_creative=GWOCZh9-BmZxtdsAjr7Gug&utm_campaign=yelp_api_v3&utm_medium=api_v3_business_search&utm_source=GWOCZh9-BmZxtdsAjr7Gug',\n",
       "  'review_count': 561,\n",
       "  'categories': [{'alias': 'cocktailbars', 'title': 'Cocktail Bars'}],\n",
       "  'rating': 4.1,\n",
       "  'coordinates': {'latitude': 40.73276668659204,\n",
       "   'longitude': -73.98628575274573},\n",
       "  'transactions': [],\n",
       "  'price': '$$',\n",
       "  'location': {'address1': '222 E 14th St',\n",
       "   'address2': None,\n",
       "   'address3': '',\n",
       "   'city': 'New York',\n",
       "   'zip_code': '10003',\n",
       "   'country': 'US',\n",
       "   'state': 'NY',\n",
       "   'display_address': ['222 E 14th St', 'New York, NY 10003']},\n",
       "  'phone': '+12124736590',\n",
       "  'display_phone': '(212) 473-6590',\n",
       "  'distance': 3112.0932301782095},\n",
       " {'id': 'IBgjj5VBu5JJvKgo9EzKrg',\n",
       "  'alias': 'the-three-monkeys-new-york-5',\n",
       "  'name': 'The Three Monkeys',\n",
       "  'image_url': 'https://s3-media0.fl.yelpcdn.com/bphoto/2-wriRJZr9PiPDjfU5yZPA/o.jpg',\n",
       "  'is_closed': False,\n",
       "  'url': 'https://www.yelp.com/biz/the-three-monkeys-new-york-5?adjust_creative=GWOCZh9-BmZxtdsAjr7Gug&utm_campaign=yelp_api_v3&utm_medium=api_v3_business_search&utm_source=GWOCZh9-BmZxtdsAjr7Gug',\n",
       "  'review_count': 1439,\n",
       "  'categories': [{'alias': 'sportsbars', 'title': 'Sports Bars'},\n",
       "   {'alias': 'beerbar', 'title': 'Beer Bar'},\n",
       "   {'alias': 'cocktailbars', 'title': 'Cocktail Bars'}],\n",
       "  'rating': 4.2,\n",
       "  'coordinates': {'latitude': 40.7623663, 'longitude': -73.9857634},\n",
       "  'transactions': ['delivery', 'pickup'],\n",
       "  'price': '$$',\n",
       "  'location': {'address1': '832 8th Ave',\n",
       "   'address2': '',\n",
       "   'address3': '',\n",
       "   'city': 'New York',\n",
       "   'zip_code': '10019',\n",
       "   'country': 'US',\n",
       "   'state': 'NY',\n",
       "   'display_address': ['832 8th Ave', 'New York, NY 10019']},\n",
       "  'phone': '+12125862080',\n",
       "  'display_phone': '(212) 586-2080',\n",
       "  'distance': 6370.0415898682695},\n",
       " {'id': 'H8mnryiCI02N00g9vuFDLg',\n",
       "  'alias': 'the-library-new-york',\n",
       "  'name': 'The Library',\n",
       "  'image_url': 'https://s3-media0.fl.yelpcdn.com/bphoto/GxHnYu8eG3Wu2X6is53uTA/o.jpg',\n",
       "  'is_closed': False,\n",
       "  'url': 'https://www.yelp.com/biz/the-library-new-york?adjust_creative=GWOCZh9-BmZxtdsAjr7Gug&utm_campaign=yelp_api_v3&utm_medium=api_v3_business_search&utm_source=GWOCZh9-BmZxtdsAjr7Gug',\n",
       "  'review_count': 426,\n",
       "  'categories': [{'alias': 'divebars', 'title': 'Dive Bars'}],\n",
       "  'rating': 3.8,\n",
       "  'coordinates': {'latitude': 40.7226142883301,\n",
       "   'longitude': -73.9863433837891},\n",
       "  'transactions': [],\n",
       "  'price': '$',\n",
       "  'location': {'address1': '7 Ave A',\n",
       "   'address2': '',\n",
       "   'address3': '',\n",
       "   'city': 'New York',\n",
       "   'zip_code': '10009',\n",
       "   'country': 'US',\n",
       "   'state': 'NY',\n",
       "   'display_address': ['7 Ave A', 'New York, NY 10009']},\n",
       "  'phone': '+12123751352',\n",
       "  'display_phone': '(212) 375-1352',\n",
       "  'distance': 2022.6023880642597},\n",
       " {'id': 'mMF3G7rW6UjIqoFAwWuqjg',\n",
       "  'alias': 'carousel-brooklyn',\n",
       "  'name': 'Carousel',\n",
       "  'image_url': 'https://s3-media0.fl.yelpcdn.com/bphoto/Q-T5TXucL-vtpfCfK5YtDg/o.jpg',\n",
       "  'is_closed': False,\n",
       "  'url': 'https://www.yelp.com/biz/carousel-brooklyn?adjust_creative=GWOCZh9-BmZxtdsAjr7Gug&utm_campaign=yelp_api_v3&utm_medium=api_v3_business_search&utm_source=GWOCZh9-BmZxtdsAjr7Gug',\n",
       "  'review_count': 15,\n",
       "  'categories': [{'alias': 'bars', 'title': 'Bars'}],\n",
       "  'rating': 3.9,\n",
       "  'coordinates': {'latitude': 40.70585923365661, 'longitude': -73.9221354},\n",
       "  'transactions': [],\n",
       "  'location': {'address1': '36 Wyckoff Ave',\n",
       "   'address2': None,\n",
       "   'address3': None,\n",
       "   'city': 'Brooklyn',\n",
       "   'zip_code': '11237',\n",
       "   'country': 'US',\n",
       "   'state': 'NY',\n",
       "   'display_address': ['36 Wyckoff Ave', 'Brooklyn, NY 11237']},\n",
       "  'phone': '',\n",
       "  'display_phone': '',\n",
       "  'distance': 6082.604983436382},\n",
       " {'id': '-dQexkmhlgbiKvZ94jBmjQ',\n",
       "  'alias': 'dear-irving-new-york',\n",
       "  'name': 'Dear Irving Gramercy',\n",
       "  'image_url': 'https://s3-media0.fl.yelpcdn.com/bphoto/dTkZjzOK3_ElAgGCPx8LuA/o.jpg',\n",
       "  'is_closed': False,\n",
       "  'url': 'https://www.yelp.com/biz/dear-irving-new-york?adjust_creative=GWOCZh9-BmZxtdsAjr7Gug&utm_campaign=yelp_api_v3&utm_medium=api_v3_business_search&utm_source=GWOCZh9-BmZxtdsAjr7Gug',\n",
       "  'review_count': 775,\n",
       "  'categories': [{'alias': 'venues', 'title': 'Venues & Event Spaces'},\n",
       "   {'alias': 'cocktailbars', 'title': 'Cocktail Bars'},\n",
       "   {'alias': 'lounges', 'title': 'Lounges'}],\n",
       "  'rating': 4.3,\n",
       "  'coordinates': {'latitude': 40.7360568971331,\n",
       "   'longitude': -73.9872401005554},\n",
       "  'transactions': ['pickup'],\n",
       "  'price': '$$$',\n",
       "  'location': {'address1': '55 Irving Pl',\n",
       "   'address2': '',\n",
       "   'address3': '',\n",
       "   'city': 'New York',\n",
       "   'zip_code': '10003',\n",
       "   'country': 'US',\n",
       "   'state': 'NY',\n",
       "   'display_address': ['55 Irving Pl', 'New York, NY 10003']},\n",
       "  'phone': '',\n",
       "  'display_phone': '',\n",
       "  'distance': 3455.406641336099},\n",
       " {'id': 'FTgaIRluLuqHcJ_bA_Pudw',\n",
       "  'alias': 'odd-sister-new-york-2',\n",
       "  'name': 'Odd Sister',\n",
       "  'image_url': 'https://s3-media0.fl.yelpcdn.com/bphoto/iyqbK6KHen9tRkmn-NGTJQ/o.jpg',\n",
       "  'is_closed': False,\n",
       "  'url': 'https://www.yelp.com/biz/odd-sister-new-york-2?adjust_creative=GWOCZh9-BmZxtdsAjr7Gug&utm_campaign=yelp_api_v3&utm_medium=api_v3_business_search&utm_source=GWOCZh9-BmZxtdsAjr7Gug',\n",
       "  'review_count': 99,\n",
       "  'categories': [{'alias': 'cocktailbars', 'title': 'Cocktail Bars'},\n",
       "   {'alias': 'diners', 'title': 'Diners'},\n",
       "   {'alias': 'coffee', 'title': 'Coffee & Tea'}],\n",
       "  'rating': 4.3,\n",
       "  'coordinates': {'latitude': 40.721695, 'longitude': -74.001446},\n",
       "  'transactions': ['delivery', 'pickup'],\n",
       "  'location': {'address1': '45 Mercer St',\n",
       "   'address2': None,\n",
       "   'address3': '',\n",
       "   'city': 'New York',\n",
       "   'zip_code': '10013',\n",
       "   'country': 'US',\n",
       "   'state': 'NY',\n",
       "   'display_address': ['45 Mercer St', 'New York, NY 10013']},\n",
       "  'phone': '+12129669288',\n",
       "  'display_phone': '(212) 966-9288',\n",
       "  'distance': 1901.5605109678668},\n",
       " {'id': 'wygR5Tl5bS42ojSGEZHf8w',\n",
       "  'alias': 'bar-cima-new-york',\n",
       "  'name': 'Bar Cima',\n",
       "  'image_url': 'https://s3-media0.fl.yelpcdn.com/bphoto/b_lHdMUZXwYmIF3nyKRQng/o.jpg',\n",
       "  'is_closed': False,\n",
       "  'url': 'https://www.yelp.com/biz/bar-cima-new-york?adjust_creative=GWOCZh9-BmZxtdsAjr7Gug&utm_campaign=yelp_api_v3&utm_medium=api_v3_business_search&utm_source=GWOCZh9-BmZxtdsAjr7Gug',\n",
       "  'review_count': 52,\n",
       "  'categories': [{'alias': 'lounges', 'title': 'Lounges'},\n",
       "   {'alias': 'cocktailbars', 'title': 'Cocktail Bars'}],\n",
       "  'rating': 4.1,\n",
       "  'coordinates': {'latitude': 40.75213, 'longitude': -73.98383},\n",
       "  'transactions': [],\n",
       "  'price': '$$$',\n",
       "  'location': {'address1': '30 W 39th St',\n",
       "   'address2': '',\n",
       "   'address3': None,\n",
       "   'city': 'New York',\n",
       "   'zip_code': '10018',\n",
       "   'country': 'US',\n",
       "   'state': 'NY',\n",
       "   'display_address': ['30 W 39th St', 'New York, NY 10018']},\n",
       "  'phone': '+16466858274',\n",
       "  'display_phone': '(646) 685-8274',\n",
       "  'distance': 5257.700075912545},\n",
       " {'id': 'aiRctIzCj9J3UqBHd-Z3HQ',\n",
       "  'alias': 'please-dont-tell-new-york-2',\n",
       "  'name': \"Please Don't Tell\",\n",
       "  'image_url': 'https://s3-media0.fl.yelpcdn.com/bphoto/uHUYyXS-2dOaqb2PoaGZOw/o.jpg',\n",
       "  'is_closed': False,\n",
       "  'url': 'https://www.yelp.com/biz/please-dont-tell-new-york-2?adjust_creative=GWOCZh9-BmZxtdsAjr7Gug&utm_campaign=yelp_api_v3&utm_medium=api_v3_business_search&utm_source=GWOCZh9-BmZxtdsAjr7Gug',\n",
       "  'review_count': 2029,\n",
       "  'categories': [{'alias': 'lounges', 'title': 'Lounges'},\n",
       "   {'alias': 'speakeasies', 'title': 'Speakeasies'}],\n",
       "  'rating': 3.9,\n",
       "  'coordinates': {'latitude': 40.727157, 'longitude': -73.983721},\n",
       "  'transactions': [],\n",
       "  'price': '$$$',\n",
       "  'location': {'address1': '113 St Marks Pl',\n",
       "   'address2': '',\n",
       "   'address3': '',\n",
       "   'city': 'New York',\n",
       "   'zip_code': '10009',\n",
       "   'country': 'US',\n",
       "   'state': 'NY',\n",
       "   'display_address': ['113 St Marks Pl', 'New York, NY 10009']},\n",
       "  'phone': '+12126140386',\n",
       "  'display_phone': '(212) 614-0386',\n",
       "  'distance': 2569.047094994283},\n",
       " {'id': 'W_I1ze_NZICJcDDoFttmlw',\n",
       "  'alias': 'dear-irving-on-hudson-new-york',\n",
       "  'name': 'Dear Irving on Hudson Rooftop Bar',\n",
       "  'image_url': 'https://s3-media0.fl.yelpcdn.com/bphoto/5e_7FjFhTRA6TGuSG4PAOg/o.jpg',\n",
       "  'is_closed': False,\n",
       "  'url': 'https://www.yelp.com/biz/dear-irving-on-hudson-new-york?adjust_creative=GWOCZh9-BmZxtdsAjr7Gug&utm_campaign=yelp_api_v3&utm_medium=api_v3_business_search&utm_source=GWOCZh9-BmZxtdsAjr7Gug',\n",
       "  'review_count': 359,\n",
       "  'categories': [{'alias': 'cocktailbars', 'title': 'Cocktail Bars'},\n",
       "   {'alias': 'venues', 'title': 'Venues & Event Spaces'},\n",
       "   {'alias': 'lounges', 'title': 'Lounges'}],\n",
       "  'rating': 4.3,\n",
       "  'coordinates': {'latitude': 40.7561626, 'longitude': -73.991717},\n",
       "  'transactions': ['delivery'],\n",
       "  'location': {'address1': '310 W 40th St',\n",
       "   'address2': None,\n",
       "   'address3': None,\n",
       "   'city': 'New York',\n",
       "   'zip_code': '10018',\n",
       "   'country': 'US',\n",
       "   'state': 'NY',\n",
       "   'display_address': ['310 W 40th St', 'New York, NY 10018']},\n",
       "  'phone': '',\n",
       "  'display_phone': '',\n",
       "  'distance': 5643.724891532443},\n",
       " {'id': 'AchEznbMLIcfGVD3pDBYsA',\n",
       "  'alias': 'steight-new-york',\n",
       "  'name': 'Steight',\n",
       "  'image_url': 'https://s3-media0.fl.yelpcdn.com/bphoto/1HfKqmieeWOEYlcSfVksnw/o.jpg',\n",
       "  'is_closed': False,\n",
       "  'url': 'https://www.yelp.com/biz/steight-new-york?adjust_creative=GWOCZh9-BmZxtdsAjr7Gug&utm_campaign=yelp_api_v3&utm_medium=api_v3_business_search&utm_source=GWOCZh9-BmZxtdsAjr7Gug',\n",
       "  'review_count': 26,\n",
       "  'categories': [{'alias': 'bars', 'title': 'Bars'}],\n",
       "  'rating': 4.5,\n",
       "  'coordinates': {'latitude': 40.71823, 'longitude': -73.99182},\n",
       "  'transactions': [],\n",
       "  'location': {'address1': '116 Eldridge St',\n",
       "   'address2': None,\n",
       "   'address3': '',\n",
       "   'city': 'New York',\n",
       "   'zip_code': '10002',\n",
       "   'country': 'US',\n",
       "   'state': 'NY',\n",
       "   'display_address': ['116 Eldridge St', 'New York, NY 10002']},\n",
       "  'phone': '+19178917372',\n",
       "  'display_phone': '(917) 891-7372',\n",
       "  'distance': 1436.8265513053452},\n",
       " {'id': 'qxvE0fEUHfAkUiAxHlEMWQ',\n",
       "  'alias': 'famous-last-words-brooklyn',\n",
       "  'name': 'Famous Last Words',\n",
       "  'image_url': 'https://s3-media0.fl.yelpcdn.com/bphoto/jPn8OZ7dbennFfPGeTp6Zg/o.jpg',\n",
       "  'is_closed': False,\n",
       "  'url': 'https://www.yelp.com/biz/famous-last-words-brooklyn?adjust_creative=GWOCZh9-BmZxtdsAjr7Gug&utm_campaign=yelp_api_v3&utm_medium=api_v3_business_search&utm_source=GWOCZh9-BmZxtdsAjr7Gug',\n",
       "  'review_count': 17,\n",
       "  'categories': [{'alias': 'bars', 'title': 'Bars'}],\n",
       "  'rating': 4.7,\n",
       "  'coordinates': {'latitude': 40.68347014727133,\n",
       "   'longitude': -73.96623998880386},\n",
       "  'transactions': [],\n",
       "  'location': {'address1': '925 Fulton St',\n",
       "   'address2': '',\n",
       "   'address3': None,\n",
       "   'city': 'Brooklyn',\n",
       "   'zip_code': '11238',\n",
       "   'country': 'US',\n",
       "   'state': 'NY',\n",
       "   'display_address': ['925 Fulton St', 'Brooklyn, NY 11238']},\n",
       "  'phone': '',\n",
       "  'display_phone': '',\n",
       "  'distance': 3400.6273336597374},\n",
       " {'id': 'huqNxKdJZonRgmkUtDP0tg',\n",
       "  'alias': 'honeycomb-hi-fi-lounge-brooklyn',\n",
       "  'name': 'Honeycomb Hi-Fi Lounge',\n",
       "  'image_url': 'https://s3-media0.fl.yelpcdn.com/bphoto/IKEjBKpismxE8GQbkUgJMw/o.jpg',\n",
       "  'is_closed': False,\n",
       "  'url': 'https://www.yelp.com/biz/honeycomb-hi-fi-lounge-brooklyn?adjust_creative=GWOCZh9-BmZxtdsAjr7Gug&utm_campaign=yelp_api_v3&utm_medium=api_v3_business_search&utm_source=GWOCZh9-BmZxtdsAjr7Gug',\n",
       "  'review_count': 31,\n",
       "  'categories': [{'alias': 'bars', 'title': 'Bars'}],\n",
       "  'rating': 4.4,\n",
       "  'coordinates': {'latitude': 40.68078, 'longitude': -73.97778},\n",
       "  'transactions': [],\n",
       "  'location': {'address1': '74 5th Ave',\n",
       "   'address2': '',\n",
       "   'address3': None,\n",
       "   'city': 'Brooklyn',\n",
       "   'zip_code': '11217',\n",
       "   'country': 'US',\n",
       "   'state': 'NY',\n",
       "   'display_address': ['74 5th Ave', 'Brooklyn, NY 11217']},\n",
       "  'phone': '',\n",
       "  'display_phone': '',\n",
       "  'distance': 3077.9101205349634},\n",
       " {'id': 'LBU-q45dy308um77GBRmaA',\n",
       "  'alias': 'bar-snack-new-york',\n",
       "  'name': 'Bar Snack',\n",
       "  'image_url': 'https://s3-media0.fl.yelpcdn.com/bphoto/SmEqYQy629qR1d9IPjNaeQ/o.jpg',\n",
       "  'is_closed': False,\n",
       "  'url': 'https://www.yelp.com/biz/bar-snack-new-york?adjust_creative=GWOCZh9-BmZxtdsAjr7Gug&utm_campaign=yelp_api_v3&utm_medium=api_v3_business_search&utm_source=GWOCZh9-BmZxtdsAjr7Gug',\n",
       "  'review_count': 17,\n",
       "  'categories': [{'alias': 'bars', 'title': 'Bars'}],\n",
       "  'rating': 4.7,\n",
       "  'coordinates': {'latitude': 40.726923, 'longitude': -73.988511},\n",
       "  'transactions': [],\n",
       "  'location': {'address1': '92 2nd Ave',\n",
       "   'address2': '',\n",
       "   'address3': None,\n",
       "   'city': 'New York',\n",
       "   'zip_code': '10003',\n",
       "   'country': 'US',\n",
       "   'state': 'NY',\n",
       "   'display_address': ['92 2nd Ave', 'New York, NY 10003']},\n",
       "  'phone': '',\n",
       "  'display_phone': '',\n",
       "  'distance': 2437.04498385716}]"
      ]
     },
     "execution_count": 33,
     "metadata": {},
     "output_type": "execute_result"
    }
   ],
   "source": [
    "data['businesses']"
   ]
  },
  {
   "cell_type": "code",
   "execution_count": 34,
   "id": "ecf6451a",
   "metadata": {},
   "outputs": [
    {
     "data": {
      "application/vnd.microsoft.datawrangler.viewer.v0+json": {
       "columns": [
        {
         "name": "index",
         "rawType": "int64",
         "type": "integer"
        },
        {
         "name": "id",
         "rawType": "object",
         "type": "string"
        },
        {
         "name": "alias",
         "rawType": "object",
         "type": "string"
        },
        {
         "name": "name",
         "rawType": "object",
         "type": "string"
        },
        {
         "name": "image_url",
         "rawType": "object",
         "type": "string"
        },
        {
         "name": "is_closed",
         "rawType": "bool",
         "type": "boolean"
        },
        {
         "name": "url",
         "rawType": "object",
         "type": "string"
        },
        {
         "name": "review_count",
         "rawType": "int64",
         "type": "integer"
        },
        {
         "name": "categories",
         "rawType": "object",
         "type": "unknown"
        },
        {
         "name": "rating",
         "rawType": "float64",
         "type": "float"
        },
        {
         "name": "transactions",
         "rawType": "object",
         "type": "unknown"
        },
        {
         "name": "phone",
         "rawType": "object",
         "type": "string"
        },
        {
         "name": "display_phone",
         "rawType": "object",
         "type": "string"
        },
        {
         "name": "distance",
         "rawType": "float64",
         "type": "float"
        },
        {
         "name": "coordinates.latitude",
         "rawType": "float64",
         "type": "float"
        },
        {
         "name": "coordinates.longitude",
         "rawType": "float64",
         "type": "float"
        },
        {
         "name": "location.address1",
         "rawType": "object",
         "type": "string"
        },
        {
         "name": "location.address2",
         "rawType": "object",
         "type": "unknown"
        },
        {
         "name": "location.address3",
         "rawType": "object",
         "type": "unknown"
        },
        {
         "name": "location.city",
         "rawType": "object",
         "type": "string"
        },
        {
         "name": "location.zip_code",
         "rawType": "object",
         "type": "string"
        },
        {
         "name": "location.country",
         "rawType": "object",
         "type": "string"
        },
        {
         "name": "location.state",
         "rawType": "object",
         "type": "string"
        },
        {
         "name": "location.display_address",
         "rawType": "object",
         "type": "unknown"
        },
        {
         "name": "price",
         "rawType": "object",
         "type": "unknown"
        }
       ],
       "ref": "8dc01493-797f-4048-abaf-6c844ebe08f8",
       "rows": [
        [
         "0",
         "KRp_qOt7ga8ormM1vo2P8A",
         "paradise-lost-new-york",
         "Paradise Lost",
         "https://s3-media0.fl.yelpcdn.com/bphoto/rECk1kCn2H8C7MYWk_kayA/o.jpg",
         "False",
         "https://www.yelp.com/biz/paradise-lost-new-york?adjust_creative=GWOCZh9-BmZxtdsAjr7Gug&utm_campaign=yelp_api_v3&utm_medium=api_v3_business_search&utm_source=GWOCZh9-BmZxtdsAjr7Gug",
         "122",
         "[{'alias': 'cocktailbars', 'title': 'Cocktail Bars'}, {'alias': 'tikibars', 'title': 'Tiki Bars'}]",
         "4.6",
         "[]",
         "+19293994666",
         "(929) 399-4666",
         "2457.4867388259354",
         "40.727135",
         "-73.988362",
         "100 2nd Ave",
         null,
         "",
         "New York",
         "10003",
         "US",
         "NY",
         "['100 2nd Ave', 'New York, NY 10003']",
         null
        ],
        [
         "1",
         "zRXMvxUX_rOliKZPpkWi_g",
         "valerie-new-york",
         "Valerie",
         "https://s3-media0.fl.yelpcdn.com/bphoto/mnH5QFkSMzZgd6P5eSZvvw/o.jpg",
         "False",
         "https://www.yelp.com/biz/valerie-new-york?adjust_creative=GWOCZh9-BmZxtdsAjr7Gug&utm_campaign=yelp_api_v3&utm_medium=api_v3_business_search&utm_source=GWOCZh9-BmZxtdsAjr7Gug",
         "1245",
         "[{'alias': 'newamerican', 'title': 'New American'}, {'alias': 'cocktailbars', 'title': 'Cocktail Bars'}]",
         "4.3",
         "['delivery']",
         "+12123024545",
         "(212) 302-4545",
         "5769.456784305475",
         "40.756326",
         "-73.981117",
         "45 W 45th St between 5th & 6th Ave",
         "",
         null,
         "New York",
         "10036",
         "US",
         "NY",
         "['45 W 45th St between 5th & 6th Ave', 'New York, NY 10036']",
         "$$"
        ],
        [
         "2",
         "Biebaq8lEVLLNw0vszDeFQ",
         "hide-rooftop-new-york",
         "Hide Rooftop",
         "https://s3-media0.fl.yelpcdn.com/bphoto/TKYoY-iU6YEf8Ob8BYMQaQ/o.jpg",
         "False",
         "https://www.yelp.com/biz/hide-rooftop-new-york?adjust_creative=GWOCZh9-BmZxtdsAjr7Gug&utm_campaign=yelp_api_v3&utm_medium=api_v3_business_search&utm_source=GWOCZh9-BmZxtdsAjr7Gug",
         "52",
         "[{'alias': 'lounges', 'title': 'Lounges'}, {'alias': 'cocktailbars', 'title': 'Cocktail Bars'}, {'alias': 'venues', 'title': 'Venues & Event Spaces'}]",
         "4.8",
         "[]",
         "+16469289800",
         "(646) 928-9800",
         "1302.2732325370405",
         "40.70959496491152",
         "-74.0087404",
         "24 John St",
         "Fl 20",
         "",
         "New York",
         "10038",
         "US",
         "NY",
         "['24 John St', 'Fl 20', 'New York, NY 10038']",
         null
        ],
        [
         "3",
         "cfKT8pNcaPQuZlaIwlEAOg",
         "hidden-lane-bar-new-york-3",
         "Hidden Lane Bar",
         "https://s3-media0.fl.yelpcdn.com/bphoto/fTfm_6DYkQMIDoYQQiXVqQ/o.jpg",
         "False",
         "https://www.yelp.com/biz/hidden-lane-bar-new-york-3?adjust_creative=GWOCZh9-BmZxtdsAjr7Gug&utm_campaign=yelp_api_v3&utm_medium=api_v3_business_search&utm_source=GWOCZh9-BmZxtdsAjr7Gug",
         "91",
         "[{'alias': 'bars', 'title': 'Bars'}]",
         "4.3",
         "[]",
         "+12017491876",
         "(201) 749-1876",
         "3288.943759314182",
         "40.734594491895514",
         "-73.9876737",
         "129 E 15th St",
         null,
         "",
         "New York",
         "10003",
         "US",
         "NY",
         "['129 E 15th St', 'New York, NY 10003']",
         null
        ],
        [
         "4",
         "RemvTpxalDjSew5HwmNzUQ",
         "the-dead-rabbit-new-york",
         "The Dead Rabbit",
         "https://s3-media0.fl.yelpcdn.com/bphoto/KkzEm9R1tKqraIRjMTk0iQ/o.jpg",
         "False",
         "https://www.yelp.com/biz/the-dead-rabbit-new-york?adjust_creative=GWOCZh9-BmZxtdsAjr7Gug&utm_campaign=yelp_api_v3&utm_medium=api_v3_business_search&utm_source=GWOCZh9-BmZxtdsAjr7Gug",
         "2037",
         "[{'alias': 'cocktailbars', 'title': 'Cocktail Bars'}]",
         "4.2",
         "['delivery', 'pickup']",
         "+19175405228",
         "(917) 540-5228",
         "1430.433294582613",
         "40.7032766048948",
         "-74.01101979176725",
         "30 Water St",
         "",
         "",
         "New York",
         "10004",
         "US",
         "NY",
         "['30 Water St', 'New York, NY 10004']",
         "$$"
        ],
        [
         "5",
         "pf5JBOPUBHbY6F4s15lk6g",
         "strangelove-new-york",
         "Strangelove",
         "https://s3-media0.fl.yelpcdn.com/bphoto/a9IzI1z6ACja_ndrR7vlaA/o.jpg",
         "False",
         "https://www.yelp.com/biz/strangelove-new-york?adjust_creative=GWOCZh9-BmZxtdsAjr7Gug&utm_campaign=yelp_api_v3&utm_medium=api_v3_business_search&utm_source=GWOCZh9-BmZxtdsAjr7Gug",
         "79",
         "[{'alias': 'divebars', 'title': 'Dive Bars'}]",
         "4.6",
         "[]",
         "",
         "",
         "6182.617036645455",
         "40.7574",
         "-73.96809",
         "229 E 53rd St",
         "",
         null,
         "New York",
         "10022",
         "US",
         "NY",
         "['229 E 53rd St', 'New York, NY 10022']",
         "$"
        ],
        [
         "6",
         "8YWLuLUKj0t_0_Xv06UUtw",
         "yes-apothecary-夜莺-new-york-5",
         "Ye's Apothecary 夜莺",
         "https://s3-media0.fl.yelpcdn.com/bphoto/y4pAeBfhhPy-u8MIlvHhsA/o.jpg",
         "False",
         "https://www.yelp.com/biz/yes-apothecary-%E5%A4%9C%E8%8E%BA-new-york-5?adjust_creative=GWOCZh9-BmZxtdsAjr7Gug&utm_campaign=yelp_api_v3&utm_medium=api_v3_business_search&utm_source=GWOCZh9-BmZxtdsAjr7Gug",
         "978",
         "[{'alias': 'szechuan', 'title': 'Szechuan'}, {'alias': 'speakeasies', 'title': 'Speakeasies'}]",
         "4.6",
         "[]",
         "+19296552515",
         "(929) 655-2515",
         "1602.8275228141238",
         "40.71945",
         "-73.9898",
         "119 Orchard St",
         null,
         "",
         "New York",
         "10002",
         "US",
         "NY",
         "['119 Orchard St', 'New York, NY 10002']",
         "$$"
        ],
        [
         "7",
         "H7S7-vF2z_HfaLo6BGPetw",
         "attaboy-new-york",
         "Attaboy",
         "https://s3-media0.fl.yelpcdn.com/bphoto/0J7R47bFfZf9WAoQJClxhA/o.jpg",
         "False",
         "https://www.yelp.com/biz/attaboy-new-york?adjust_creative=GWOCZh9-BmZxtdsAjr7Gug&utm_campaign=yelp_api_v3&utm_medium=api_v3_business_search&utm_source=GWOCZh9-BmZxtdsAjr7Gug",
         "852",
         "[{'alias': 'cocktailbars', 'title': 'Cocktail Bars'}]",
         "4.1",
         "['delivery']",
         "",
         "",
         "1514.7473683794203",
         "40.71887",
         "-73.99134",
         "134 Eldridge St",
         "",
         "",
         "New York",
         "10002",
         "US",
         "NY",
         "['134 Eldridge St', 'New York, NY 10002']",
         "$$"
        ],
        [
         "8",
         "zWrZBXj5F2V_0UknnTfqbw",
         "the-up-and-up-new-york-2",
         "The Up & Up",
         "https://s3-media0.fl.yelpcdn.com/bphoto/YGeEqFPgcZi_7qfSBX2bIA/o.jpg",
         "False",
         "https://www.yelp.com/biz/the-up-and-up-new-york-2?adjust_creative=GWOCZh9-BmZxtdsAjr7Gug&utm_campaign=yelp_api_v3&utm_medium=api_v3_business_search&utm_source=GWOCZh9-BmZxtdsAjr7Gug",
         "601",
         "[{'alias': 'cocktailbars', 'title': 'Cocktail Bars'}]",
         "4.2",
         "['delivery', 'pickup']",
         "+12122603000",
         "(212) 260-3000",
         "2729.3898625454526",
         "40.7295104447158",
         "-74.0006693438721",
         "116 MacDougal St",
         "",
         "",
         "New York",
         "10012",
         "US",
         "NY",
         "['116 MacDougal St', 'New York, NY 10012']",
         "$$"
        ],
        [
         "9",
         "GJ3vgPvcJlOejZepOotQug",
         "the-woo-woo-new-york-2",
         "The Woo Woo",
         "https://s3-media0.fl.yelpcdn.com/bphoto/7QBj6qlHILW3c5jAwEaLSQ/o.jpg",
         "False",
         "https://www.yelp.com/biz/the-woo-woo-new-york-2?adjust_creative=GWOCZh9-BmZxtdsAjr7Gug&utm_campaign=yelp_api_v3&utm_medium=api_v3_business_search&utm_source=GWOCZh9-BmZxtdsAjr7Gug",
         "301",
         "[{'alias': 'speakeasies', 'title': 'Speakeasies'}]",
         "4.4",
         "[]",
         "+16468667234",
         "(646) 866-7234",
         "6107.886006444237",
         "40.76011384643282",
         "-73.98724024445688",
         "266 W 47th St",
         "",
         null,
         "New York",
         "10036",
         "US",
         "NY",
         "['266 W 47th St', 'New York, NY 10036']",
         "$$"
        ],
        [
         "10",
         "dHKEJaysc51WnQ1Xfzkvpg",
         "wildflower-new-york",
         "Wildflower",
         "https://s3-media0.fl.yelpcdn.com/bphoto/QrOWmRkVBq3xp9Q_F_tWoQ/o.jpg",
         "False",
         "https://www.yelp.com/biz/wildflower-new-york?adjust_creative=GWOCZh9-BmZxtdsAjr7Gug&utm_campaign=yelp_api_v3&utm_medium=api_v3_business_search&utm_source=GWOCZh9-BmZxtdsAjr7Gug",
         "35",
         "[{'alias': 'cocktailbars', 'title': 'Cocktail Bars'}]",
         "4.1",
         "['delivery', 'pickup']",
         "+19175080007",
         "(917) 508-0007",
         "4806.839205906259",
         "40.747987",
         "-74.004369",
         "505 W 23rd St",
         "",
         null,
         "New York",
         "10011",
         "US",
         "NY",
         "['505 W 23rd St', 'New York, NY 10011']",
         null
        ],
        [
         "11",
         "luuAHNLKBRF79pdfdYjfPg",
         "chapel-bar-new-york",
         "Chapel Bar",
         "https://s3-media0.fl.yelpcdn.com/bphoto/JylRyiH8BUi7Js5mBRm9Qw/o.jpg",
         "False",
         "https://www.yelp.com/biz/chapel-bar-new-york?adjust_creative=GWOCZh9-BmZxtdsAjr7Gug&utm_campaign=yelp_api_v3&utm_medium=api_v3_business_search&utm_source=GWOCZh9-BmZxtdsAjr7Gug",
         "58",
         "[{'alias': 'cocktailbars', 'title': 'Cocktail Bars'}]",
         "3.7",
         "[]",
         "+16467901590",
         "(646) 790-1590",
         "3797.0584603740426",
         "40.739126025294",
         "-73.9868698666748",
         "275 Park Ave S",
         "",
         null,
         "New York",
         "10010",
         "US",
         "NY",
         "['275 Park Ave S', 'New York, NY 10010']",
         null
        ],
        [
         "12",
         "gZz9A8k8ORC_xl0aHxtY4w",
         "monkey-bar-new-york-4",
         "Monkey Bar",
         "https://s3-media0.fl.yelpcdn.com/bphoto/IxVJIa4twXFkJ94f2ERErA/o.jpg",
         "False",
         "https://www.yelp.com/biz/monkey-bar-new-york-4?adjust_creative=GWOCZh9-BmZxtdsAjr7Gug&utm_campaign=yelp_api_v3&utm_medium=api_v3_business_search&utm_source=GWOCZh9-BmZxtdsAjr7Gug",
         "319",
         "[{'alias': 'tradamerican', 'title': 'American'}, {'alias': 'bars', 'title': 'Bars'}]",
         "4.3",
         "[]",
         "+12124040365",
         "(212) 404-0365",
         "6309.293896383203",
         "40.75998",
         "-73.97313",
         "60 E 54th St",
         "",
         null,
         "New York",
         "10022",
         "US",
         "NY",
         "['60 E 54th St', 'New York, NY 10022']",
         null
        ],
        [
         "13",
         "NK68f4P-qwrDFIoR8QzqoA",
         "osamil-upstairs-new-york",
         "Osamil Upstairs",
         "https://s3-media0.fl.yelpcdn.com/bphoto/Gz4yVfElC3RBkIkJIGcNEA/o.jpg",
         "False",
         "https://www.yelp.com/biz/osamil-upstairs-new-york?adjust_creative=GWOCZh9-BmZxtdsAjr7Gug&utm_campaign=yelp_api_v3&utm_medium=api_v3_business_search&utm_source=GWOCZh9-BmZxtdsAjr7Gug",
         "131",
         "[{'alias': 'cocktailbars', 'title': 'Cocktail Bars'}, {'alias': 'lounges', 'title': 'Lounges'}]",
         "4.3",
         "['delivery']",
         "+19172620292",
         "(917) 262-0292",
         "4663.68361036065",
         "40.74696104756599",
         "-73.98643098771572",
         "5 W 31st St",
         "Fl 2",
         null,
         "New York",
         "10001",
         "US",
         "NY",
         "['5 W 31st St', 'Fl 2', 'New York, NY 10001']",
         null
        ],
        [
         "14",
         "JXKCi089JT-6NHZ9kGRDrA",
         "161-lafayette-new-york",
         "161 Lafayette",
         "https://s3-media0.fl.yelpcdn.com/bphoto/gDr70W4Sv8dgK4Z3AGQSOw/o.jpg",
         "False",
         "https://www.yelp.com/biz/161-lafayette-new-york?adjust_creative=GWOCZh9-BmZxtdsAjr7Gug&utm_campaign=yelp_api_v3&utm_medium=api_v3_business_search&utm_source=GWOCZh9-BmZxtdsAjr7Gug",
         "16",
         "[{'alias': 'bars', 'title': 'Bars'}, {'alias': 'karaoke', 'title': 'Karaoke'}]",
         "4.4",
         "['delivery']",
         "",
         "",
         "1645.7980443677077",
         "40.71981",
         "-73.99908",
         "161 Lafayette St",
         "",
         null,
         "New York",
         "10013",
         "US",
         "NY",
         "['161 Lafayette St', 'New York, NY 10013']",
         null
        ],
        [
         "15",
         "U03emTRwM6XWRamsYqHsuw",
         "barbam-new-york",
         "Barbam",
         "https://s3-media0.fl.yelpcdn.com/bphoto/hIOoTZTp86zZuqAYJb7H4w/o.jpg",
         "False",
         "https://www.yelp.com/biz/barbam-new-york?adjust_creative=GWOCZh9-BmZxtdsAjr7Gug&utm_campaign=yelp_api_v3&utm_medium=api_v3_business_search&utm_source=GWOCZh9-BmZxtdsAjr7Gug",
         "53",
         "[{'alias': 'speakeasies', 'title': 'Speakeasies'}]",
         "4.7",
         "[]",
         "+19176404728",
         "(917) 640-4728",
         "4821.203869532761",
         "40.748423927236786",
         "-73.9867438",
         "32 W 33rd St",
         "Ste B1",
         "",
         "New York",
         "10001",
         "US",
         "NY",
         "['32 W 33rd St', 'Ste B1', 'New York, NY 10001']",
         null
        ],
        [
         "16",
         "8V4TgZmt5sXeaLuilaMJ7A",
         "sosos-new-york-2",
         "Soso's",
         "https://s3-media0.fl.yelpcdn.com/bphoto/XYX06L6w_4bZvK8bBSyBmA/o.jpg",
         "False",
         "https://www.yelp.com/biz/sosos-new-york-2?adjust_creative=GWOCZh9-BmZxtdsAjr7Gug&utm_campaign=yelp_api_v3&utm_medium=api_v3_business_search&utm_source=GWOCZh9-BmZxtdsAjr7Gug",
         "46",
         "[{'alias': 'cocktailbars', 'title': 'Cocktail Bars'}]",
         "4.2",
         "[]",
         "+16463558693",
         "(646) 355-8693",
         "1543.9080383555083",
         "40.718685",
         "-73.999765",
         "191 Centre St",
         null,
         "",
         "New York",
         "10013",
         "US",
         "NY",
         "['191 Centre St', 'New York, NY 10013']",
         null
        ],
        [
         "17",
         "5Fz1WlY3lxy8gJFs8s_1Dw",
         "the-binc-brooklyn",
         "The Binc",
         "https://s3-media0.fl.yelpcdn.com/bphoto/xRNohqaOT_kGETHJUB05tg/o.jpg",
         "False",
         "https://www.yelp.com/biz/the-binc-brooklyn?adjust_creative=GWOCZh9-BmZxtdsAjr7Gug&utm_campaign=yelp_api_v3&utm_medium=api_v3_business_search&utm_source=GWOCZh9-BmZxtdsAjr7Gug",
         "113",
         "[{'alias': 'cocktailbars', 'title': 'Cocktail Bars'}, {'alias': 'tapasmallplates', 'title': 'Tapas/Small Plates'}]",
         "4.4",
         "['delivery']",
         "+17186241444",
         "(718) 624-1444",
         "709.6365592422106",
         "40.69925",
         "-73.99227",
         "60 Henry St",
         null,
         "",
         "Brooklyn",
         "11201",
         "US",
         "NY",
         "['60 Henry St', 'Brooklyn, NY 11201']",
         "$$"
        ],
        [
         "18",
         "P3NfoMjBy_o2BTNNZ-5okg",
         "apotheke-new-york-4",
         "Apotheke",
         "https://s3-media0.fl.yelpcdn.com/bphoto/1MO5AkdqLWduZ-GJh6It3w/o.jpg",
         "False",
         "https://www.yelp.com/biz/apotheke-new-york-4?adjust_creative=GWOCZh9-BmZxtdsAjr7Gug&utm_campaign=yelp_api_v3&utm_medium=api_v3_business_search&utm_source=GWOCZh9-BmZxtdsAjr7Gug",
         "1569",
         "[{'alias': 'cocktailbars', 'title': 'Cocktail Bars'}, {'alias': 'speakeasies', 'title': 'Speakeasies'}]",
         "3.8",
         "[]",
         "+12124060400",
         "(212) 406-0400",
         "1048.72223999208",
         "40.71440617040858",
         "-73.99817232132496",
         "9 Doyers St",
         "",
         "",
         "New York",
         "10013",
         "US",
         "NY",
         "['9 Doyers St', 'New York, NY 10013']",
         "$$$"
        ],
        [
         "19",
         "-CZf3uyQ53o9lqMldBiq7A",
         "little-ned-new-york",
         "Little Ned",
         "https://s3-media0.fl.yelpcdn.com/bphoto/rP2-6gHKntLGqaTDW0pUAg/o.jpg",
         "False",
         "https://www.yelp.com/biz/little-ned-new-york?adjust_creative=GWOCZh9-BmZxtdsAjr7Gug&utm_campaign=yelp_api_v3&utm_medium=api_v3_business_search&utm_source=GWOCZh9-BmZxtdsAjr7Gug",
         "42",
         "[{'alias': 'cocktailbars', 'title': 'Cocktail Bars'}, {'alias': 'wine_bars', 'title': 'Wine Bars'}, {'alias': 'beertours', 'title': 'Beer Tours'}]",
         "4.8",
         "[]",
         "+12127220555",
         "(212) 722-0555",
         "4419.59172887573",
         "40.74492519",
         "-73.98823499",
         "10 W 28th St",
         "",
         null,
         "New York",
         "10001",
         "US",
         "NY",
         "['10 W 28th St', 'New York, NY 10001']",
         null
        ],
        [
         "20",
         "rdXcbBve2X6Bst7UoQ6T0w",
         "sunken-harbor-club-brooklyn",
         "Sunken Harbor Club",
         "https://s3-media0.fl.yelpcdn.com/bphoto/e3zxGKBLK4tyvcjZB9q-iw/o.jpg",
         "False",
         "https://www.yelp.com/biz/sunken-harbor-club-brooklyn?adjust_creative=GWOCZh9-BmZxtdsAjr7Gug&utm_campaign=yelp_api_v3&utm_medium=api_v3_business_search&utm_source=GWOCZh9-BmZxtdsAjr7Gug",
         "101",
         "[{'alias': 'cocktailbars', 'title': 'Cocktail Bars'}, {'alias': 'tikibars', 'title': 'Tiki Bars'}]",
         "4.5",
         "[]",
         "",
         "",
         "1661.896747578849",
         "40.69131703158167",
         "-73.98786094039679",
         "372 Fulton St",
         "Fl 2",
         null,
         "Brooklyn",
         "11201",
         "US",
         "NY",
         "['372 Fulton St', 'Fl 2', 'Brooklyn, NY 11201']",
         "$$$"
        ],
        [
         "21",
         "Y7bbr09ssPvFojIIFBa6rA",
         "thyme-bar-new-york",
         "Thyme Bar",
         "https://s3-media0.fl.yelpcdn.com/bphoto/foaL7jJdrHAV2aQCKQutxw/o.jpg",
         "False",
         "https://www.yelp.com/biz/thyme-bar-new-york?adjust_creative=GWOCZh9-BmZxtdsAjr7Gug&utm_campaign=yelp_api_v3&utm_medium=api_v3_business_search&utm_source=GWOCZh9-BmZxtdsAjr7Gug",
         "336",
         "[{'alias': 'cocktailbars', 'title': 'Cocktail Bars'}, {'alias': 'speakeasies', 'title': 'Speakeasies'}]",
         "4.1",
         "['delivery']",
         "+16466009257",
         "(646) 600-9257",
         "4042.9191372408904",
         "40.741662",
         "-73.990591",
         "20 W 23rd St Cellar",
         "",
         null,
         "New York",
         "10010",
         "US",
         "NY",
         "['20 W 23rd St Cellar', 'New York, NY 10010']",
         "$$"
        ],
        [
         "22",
         "pohS_d-8POAuLVj8x1_Seg",
         "somethin-else-brooklyn-3",
         "Somethin Else",
         "https://s3-media0.fl.yelpcdn.com/bphoto/KfgFcUSB6SuK2S-chCKr1A/o.jpg",
         "False",
         "https://www.yelp.com/biz/somethin-else-brooklyn-3?adjust_creative=GWOCZh9-BmZxtdsAjr7Gug&utm_campaign=yelp_api_v3&utm_medium=api_v3_business_search&utm_source=GWOCZh9-BmZxtdsAjr7Gug",
         "10",
         "[{'alias': 'musicvenues', 'title': 'Music Venues'}, {'alias': 'cocktailbars', 'title': 'Cocktail Bars'}, {'alias': 'beerbar', 'title': 'Beer Bar'}]",
         "4.3",
         "[]",
         "",
         "",
         "1880.6676832777043",
         "40.69072127394564",
         "-73.98331508563771",
         "445 Albee Square W",
         "",
         null,
         "Brooklyn",
         "11201",
         "US",
         "NY",
         "['445 Albee Square W', 'Brooklyn, NY 11201']",
         null
        ],
        [
         "23",
         "9sU8ceKHiqNrLBMRM-aUkg",
         "harriets-rooftop-brooklyn-4",
         "Harriet's Rooftop",
         "https://s3-media0.fl.yelpcdn.com/bphoto/5yUibmyIYPP9tvLUQOMdTQ/o.jpg",
         "False",
         "https://www.yelp.com/biz/harriets-rooftop-brooklyn-4?adjust_creative=GWOCZh9-BmZxtdsAjr7Gug&utm_campaign=yelp_api_v3&utm_medium=api_v3_business_search&utm_source=GWOCZh9-BmZxtdsAjr7Gug",
         "334",
         "[{'alias': 'lounges', 'title': 'Lounges'}, {'alias': 'cocktailbars', 'title': 'Cocktail Bars'}]",
         "3.3",
         "['delivery']",
         "+13476962554",
         "(347) 696-2554",
         "360.58863224876586",
         "40.702355096100646",
         "-73.99559200567167",
         "60 Furman St",
         "Fl 11",
         null,
         "Brooklyn",
         "11201",
         "US",
         "NY",
         "['60 Furman St', 'Fl 11', 'Brooklyn, NY 11201']",
         "$$$"
        ],
        [
         "24",
         "d6mslo1LlpkNPgb2HWOlEg",
         "fresh-kills-bar-brooklyn",
         "Fresh Kills Bar",
         "https://s3-media0.fl.yelpcdn.com/bphoto/LSvuNuV45DX7kW8JDZeIZA/o.jpg",
         "False",
         "https://www.yelp.com/biz/fresh-kills-bar-brooklyn?adjust_creative=GWOCZh9-BmZxtdsAjr7Gug&utm_campaign=yelp_api_v3&utm_medium=api_v3_business_search&utm_source=GWOCZh9-BmZxtdsAjr7Gug",
         "237",
         "[{'alias': 'cocktailbars', 'title': 'Cocktail Bars'}]",
         "4.3",
         "['delivery']",
         "+17185997888",
         "(718) 599-7888",
         "2950.6174458442506",
         "40.7147999",
         "-73.96151",
         "161 Grand St",
         "",
         "",
         "Brooklyn",
         "11249",
         "US",
         "NY",
         "['161 Grand St', 'Brooklyn, NY 11249']",
         "$$"
        ],
        [
         "25",
         "mIgmxB2l_-p_f9pUe8kbpA",
         "the-tusk-bar-new-york",
         "The Tusk Bar",
         "https://s3-media0.fl.yelpcdn.com/bphoto/ztoYQqrt3TR6KHi2lkwzmg/o.jpg",
         "False",
         "https://www.yelp.com/biz/the-tusk-bar-new-york?adjust_creative=GWOCZh9-BmZxtdsAjr7Gug&utm_campaign=yelp_api_v3&utm_medium=api_v3_business_search&utm_source=GWOCZh9-BmZxtdsAjr7Gug",
         "26",
         "[{'alias': 'cocktailbars', 'title': 'Cocktail Bars'}, {'alias': 'seafood', 'title': 'Seafood'}]",
         "4.3",
         "[]",
         "",
         "",
         "4327.843535953854",
         "40.7439642",
         "-73.98693148465577",
         "7 East 27th St",
         null,
         "",
         "New York",
         "10016",
         "US",
         "NY",
         "['7 East 27th St', 'New York, NY 10016']",
         null
        ],
        [
         "26",
         "2DJjJu3sqaBCN7w4CwR5Dw",
         "livingston-manor-brooklyn",
         "Livingston Manor",
         "https://s3-media0.fl.yelpcdn.com/bphoto/ULfPxnGOchUqQ9vcLVYmXw/o.jpg",
         "False",
         "https://www.yelp.com/biz/livingston-manor-brooklyn?adjust_creative=GWOCZh9-BmZxtdsAjr7Gug&utm_campaign=yelp_api_v3&utm_medium=api_v3_business_search&utm_source=GWOCZh9-BmZxtdsAjr7Gug",
         "149",
         "[{'alias': 'bars', 'title': 'Bars'}]",
         "4.0",
         "['delivery']",
         "+13479873292",
         "(347) 987-3292",
         "1909.6505926860607",
         "40.689398",
         "-73.986071",
         "42 Hoyt St",
         "",
         "",
         "Brooklyn",
         "11201",
         "US",
         "NY",
         "['42 Hoyt St', 'Brooklyn, NY 11201']",
         "$$"
        ],
        [
         "27",
         "ePqKbqXFBCbwBaWiN2Jo9w",
         "ampersand-new-york-2",
         "Ampersand",
         "https://s3-media0.fl.yelpcdn.com/bphoto/bfRqLDEQWBsTnp59shvTsA/o.jpg",
         "False",
         "https://www.yelp.com/biz/ampersand-new-york-2?adjust_creative=GWOCZh9-BmZxtdsAjr7Gug&utm_campaign=yelp_api_v3&utm_medium=api_v3_business_search&utm_source=GWOCZh9-BmZxtdsAjr7Gug",
         "280",
         "[{'alias': 'cocktailbars', 'title': 'Cocktail Bars'}, {'alias': 'newamerican', 'title': 'New American'}]",
         "4.3",
         "['delivery']",
         "+12124778100",
         "(212) 477-8100",
         "3800.7617476958712",
         "40.7386178790617",
         "-73.9834206895483",
         "294 3rd Ave",
         "",
         "",
         "New York",
         "10010",
         "US",
         "NY",
         "['294 3rd Ave', 'New York, NY 10010']",
         "$$"
        ],
        [
         "28",
         "XRjeE9yFANgsG12FWUOoXg",
         "gair-brooklyn",
         "Gair",
         "https://s3-media0.fl.yelpcdn.com/bphoto/2HJjpG5Z65asG7tm05puzA/o.jpg",
         "False",
         "https://www.yelp.com/biz/gair-brooklyn?adjust_creative=GWOCZh9-BmZxtdsAjr7Gug&utm_campaign=yelp_api_v3&utm_medium=api_v3_business_search&utm_source=GWOCZh9-BmZxtdsAjr7Gug",
         "21",
         "[{'alias': 'cocktailbars', 'title': 'Cocktail Bars'}, {'alias': 'burgers', 'title': 'Burgers'}, {'alias': 'tradamerican', 'title': 'American'}]",
         "4.6",
         "[]",
         "+17182332595",
         "(718) 233-2595",
         "486.1679736937545",
         "40.703113254983855",
         "-73.98941429999999",
         "41 Washington St",
         "",
         null,
         "Brooklyn",
         "11201",
         "US",
         "NY",
         "['41 Washington St', 'Brooklyn, NY 11201']",
         null
        ],
        [
         "29",
         "LufHsx7SCHPRmuxxG-jO7A",
         "the-lobby-brooklyn",
         "The Lobby",
         "https://s3-media0.fl.yelpcdn.com/bphoto/jdT7a30pqz6J29I3H4ynLw/o.jpg",
         "False",
         "https://www.yelp.com/biz/the-lobby-brooklyn?adjust_creative=GWOCZh9-BmZxtdsAjr7Gug&utm_campaign=yelp_api_v3&utm_medium=api_v3_business_search&utm_source=GWOCZh9-BmZxtdsAjr7Gug",
         "13",
         "[{'alias': 'bars', 'title': 'Bars'}]",
         "4.5",
         "[]",
         "+17183133636",
         "(718) 313-3636",
         "2143.0539107086897",
         "40.687808",
         "-73.98374",
         "252 Schermerhorn St",
         "",
         "Ace Hotel - Brooklyn",
         "Brooklyn",
         "11217",
         "US",
         "NY",
         "['252 Schermerhorn St', 'Ace Hotel - Brooklyn', 'Brooklyn, NY 11217']",
         null
        ],
        [
         "30",
         "YOrKBjU2ZEmwHS5f-dcAhw",
         "another-country-new-york",
         "Another Country",
         "https://s3-media0.fl.yelpcdn.com/bphoto/m2ij29dDjJeYePXl5elpQw/o.jpg",
         "False",
         "https://www.yelp.com/biz/another-country-new-york?adjust_creative=GWOCZh9-BmZxtdsAjr7Gug&utm_campaign=yelp_api_v3&utm_medium=api_v3_business_search&utm_source=GWOCZh9-BmZxtdsAjr7Gug",
         "13",
         "[{'alias': 'cocktailbars', 'title': 'Cocktail Bars'}]",
         "4.6",
         "[]",
         "",
         "",
         "3494.807162415734",
         "40.736834",
         "-73.992064",
         "10 E 16th St",
         "",
         null,
         "New York",
         "10003",
         "US",
         "NY",
         "['10 E 16th St', 'New York, NY 10003']",
         null
        ],
        [
         "31",
         "oLA02lMIfgvbYquvXzkARw",
         "lillies-victorian-establishment-new-york-2",
         "Lillie's Victorian Establishment",
         "https://s3-media0.fl.yelpcdn.com/bphoto/Qfp5NqKqo-j45uXLOzLyDg/o.jpg",
         "False",
         "https://www.yelp.com/biz/lillies-victorian-establishment-new-york-2?adjust_creative=GWOCZh9-BmZxtdsAjr7Gug&utm_campaign=yelp_api_v3&utm_medium=api_v3_business_search&utm_source=GWOCZh9-BmZxtdsAjr7Gug",
         "1949",
         "[{'alias': 'bars', 'title': 'Bars'}, {'alias': 'gastropubs', 'title': 'Gastropubs'}, {'alias': 'burgers', 'title': 'Burgers'}]",
         "3.9",
         "['pickup']",
         "+12129574530",
         "(212) 957-4530",
         "6267.456448728524",
         "40.7614625",
         "-73.9860519",
         "249 W 49th St",
         "",
         "",
         "New York",
         "10019",
         "US",
         "NY",
         "['249 W 49th St', 'New York, NY 10019']",
         "$$"
        ],
        [
         "32",
         "4nohlTsGHEDdpwYkRTt-fA",
         "rudys-bar-and-grill-new-york",
         "Rudy's Bar & Grill",
         "https://s3-media0.fl.yelpcdn.com/bphoto/2366Dgpax879tmGzr7jjjQ/o.jpg",
         "False",
         "https://www.yelp.com/biz/rudys-bar-and-grill-new-york?adjust_creative=GWOCZh9-BmZxtdsAjr7Gug&utm_campaign=yelp_api_v3&utm_medium=api_v3_business_search&utm_source=GWOCZh9-BmZxtdsAjr7Gug",
         "1262",
         "[{'alias': 'divebars', 'title': 'Dive Bars'}, {'alias': 'hotdog', 'title': 'Hot Dogs'}]",
         "4.3",
         "[]",
         "+16467070890",
         "(646) 707-0890",
         "6073.701392936945",
         "40.76003419916213",
         "-73.9917941990945",
         "627 9th Ave",
         "",
         "",
         "New York",
         "10036",
         "US",
         "NY",
         "['627 9th Ave', 'New York, NY 10036']",
         "$"
        ],
        [
         "33",
         "oiyThpeH8-gcynus-I20UQ",
         "the-rhymers-club-new-york",
         "The Rhymers Club",
         "https://s3-media0.fl.yelpcdn.com/bphoto/JH7ZwV8AkgXF1LYkRrP9kQ/o.jpg",
         "False",
         "https://www.yelp.com/biz/the-rhymers-club-new-york?adjust_creative=GWOCZh9-BmZxtdsAjr7Gug&utm_campaign=yelp_api_v3&utm_medium=api_v3_business_search&utm_source=GWOCZh9-BmZxtdsAjr7Gug",
         "12",
         "[{'alias': 'cocktailbars', 'title': 'Cocktail Bars'}]",
         "4.5",
         "[]",
         "",
         "",
         "2640.443427287957",
         "40.72861",
         "-73.98735",
         "37 1/2 St Marks Pl",
         "",
         null,
         "New York",
         "10003",
         "US",
         "NY",
         "['37 1/2 St Marks Pl', 'New York, NY 10003']",
         null
        ],
        [
         "34",
         "0XL_3hwGWRyOuZ1C_i_RJw",
         "bar-bonobo-new-york",
         "Bar Bonobo",
         "https://s3-media0.fl.yelpcdn.com/bphoto/wRvmx29rsu4CCQp3uMkSMA/o.jpg",
         "False",
         "https://www.yelp.com/biz/bar-bonobo-new-york?adjust_creative=GWOCZh9-BmZxtdsAjr7Gug&utm_campaign=yelp_api_v3&utm_medium=api_v3_business_search&utm_source=GWOCZh9-BmZxtdsAjr7Gug",
         "58",
         "[{'alias': 'cocktailbars', 'title': 'Cocktail Bars'}]",
         "4.3",
         "[]",
         "+12512179992",
         "(251) 217-9992",
         "4197.353825902398",
         "40.742955",
         "-73.999823",
         "184 8th Ave",
         null,
         "",
         "New York",
         "10011",
         "US",
         "NY",
         "['184 8th Ave', 'New York, NY 10011']",
         null
        ],
        [
         "35",
         "UDsvp_twMrRa9j6lnZNjow",
         "nobody-told-me-brooklyn",
         "Nobody Told Me",
         "https://s3-media0.fl.yelpcdn.com/bphoto/YBn6RV5tBNNGytcZzNf1_g/o.jpg",
         "False",
         "https://www.yelp.com/biz/nobody-told-me-brooklyn?adjust_creative=GWOCZh9-BmZxtdsAjr7Gug&utm_campaign=yelp_api_v3&utm_medium=api_v3_business_search&utm_source=GWOCZh9-BmZxtdsAjr7Gug",
         "36",
         "[{'alias': 'bars', 'title': 'Bars'}, {'alias': 'tradamerican', 'title': 'American'}, {'alias': 'tacos', 'title': 'Tacos'}]",
         "4.4",
         "['delivery', 'pickup']",
         "",
         "",
         "864.5872440827293",
         "40.70225697182919",
         "-73.9849383",
         "188 Front St",
         null,
         "",
         "Brooklyn",
         "11201",
         "US",
         "NY",
         "['188 Front St', 'Brooklyn, NY 11201']",
         null
        ],
        [
         "36",
         "Gi4A4ibrznMIsy9oGi2t-g",
         "dear-strangers-new-york",
         "Dear Strangers",
         "https://s3-media0.fl.yelpcdn.com/bphoto/xWvuB-arndRNl19hjIpeoQ/o.jpg",
         "False",
         "https://www.yelp.com/biz/dear-strangers-new-york?adjust_creative=GWOCZh9-BmZxtdsAjr7Gug&utm_campaign=yelp_api_v3&utm_medium=api_v3_business_search&utm_source=GWOCZh9-BmZxtdsAjr7Gug",
         "14",
         "[{'alias': 'cocktailbars', 'title': 'Cocktail Bars'}]",
         "4.6",
         "[]",
         "",
         "",
         "2953.3693246807434",
         "40.731557",
         "-74.000413",
         "147 West 4th St",
         "",
         null,
         "New York",
         "10012",
         "US",
         "NY",
         "['147 West 4th St', 'New York, NY 10012']",
         null
        ],
        [
         "37",
         "gjwELZmHUNO0WdqXYBEbcg",
         "the-belfry-new-york",
         "The Belfry",
         "https://s3-media0.fl.yelpcdn.com/bphoto/1cvqfs12B1k4pBz9T-lMfA/o.jpg",
         "False",
         "https://www.yelp.com/biz/the-belfry-new-york?adjust_creative=GWOCZh9-BmZxtdsAjr7Gug&utm_campaign=yelp_api_v3&utm_medium=api_v3_business_search&utm_source=GWOCZh9-BmZxtdsAjr7Gug",
         "561",
         "[{'alias': 'cocktailbars', 'title': 'Cocktail Bars'}]",
         "4.1",
         "[]",
         "+12124736590",
         "(212) 473-6590",
         "3112.0932301782095",
         "40.73276668659204",
         "-73.98628575274573",
         "222 E 14th St",
         null,
         "",
         "New York",
         "10003",
         "US",
         "NY",
         "['222 E 14th St', 'New York, NY 10003']",
         "$$"
        ],
        [
         "38",
         "IBgjj5VBu5JJvKgo9EzKrg",
         "the-three-monkeys-new-york-5",
         "The Three Monkeys",
         "https://s3-media0.fl.yelpcdn.com/bphoto/2-wriRJZr9PiPDjfU5yZPA/o.jpg",
         "False",
         "https://www.yelp.com/biz/the-three-monkeys-new-york-5?adjust_creative=GWOCZh9-BmZxtdsAjr7Gug&utm_campaign=yelp_api_v3&utm_medium=api_v3_business_search&utm_source=GWOCZh9-BmZxtdsAjr7Gug",
         "1439",
         "[{'alias': 'sportsbars', 'title': 'Sports Bars'}, {'alias': 'beerbar', 'title': 'Beer Bar'}, {'alias': 'cocktailbars', 'title': 'Cocktail Bars'}]",
         "4.2",
         "['delivery', 'pickup']",
         "+12125862080",
         "(212) 586-2080",
         "6370.0415898682695",
         "40.7623663",
         "-73.9857634",
         "832 8th Ave",
         "",
         "",
         "New York",
         "10019",
         "US",
         "NY",
         "['832 8th Ave', 'New York, NY 10019']",
         "$$"
        ],
        [
         "39",
         "H8mnryiCI02N00g9vuFDLg",
         "the-library-new-york",
         "The Library",
         "https://s3-media0.fl.yelpcdn.com/bphoto/GxHnYu8eG3Wu2X6is53uTA/o.jpg",
         "False",
         "https://www.yelp.com/biz/the-library-new-york?adjust_creative=GWOCZh9-BmZxtdsAjr7Gug&utm_campaign=yelp_api_v3&utm_medium=api_v3_business_search&utm_source=GWOCZh9-BmZxtdsAjr7Gug",
         "426",
         "[{'alias': 'divebars', 'title': 'Dive Bars'}]",
         "3.8",
         "[]",
         "+12123751352",
         "(212) 375-1352",
         "2022.6023880642597",
         "40.7226142883301",
         "-73.9863433837891",
         "7 Ave A",
         "",
         "",
         "New York",
         "10009",
         "US",
         "NY",
         "['7 Ave A', 'New York, NY 10009']",
         "$"
        ],
        [
         "40",
         "mMF3G7rW6UjIqoFAwWuqjg",
         "carousel-brooklyn",
         "Carousel",
         "https://s3-media0.fl.yelpcdn.com/bphoto/Q-T5TXucL-vtpfCfK5YtDg/o.jpg",
         "False",
         "https://www.yelp.com/biz/carousel-brooklyn?adjust_creative=GWOCZh9-BmZxtdsAjr7Gug&utm_campaign=yelp_api_v3&utm_medium=api_v3_business_search&utm_source=GWOCZh9-BmZxtdsAjr7Gug",
         "15",
         "[{'alias': 'bars', 'title': 'Bars'}]",
         "3.9",
         "[]",
         "",
         "",
         "6082.604983436382",
         "40.70585923365661",
         "-73.9221354",
         "36 Wyckoff Ave",
         null,
         null,
         "Brooklyn",
         "11237",
         "US",
         "NY",
         "['36 Wyckoff Ave', 'Brooklyn, NY 11237']",
         null
        ],
        [
         "41",
         "-dQexkmhlgbiKvZ94jBmjQ",
         "dear-irving-new-york",
         "Dear Irving Gramercy",
         "https://s3-media0.fl.yelpcdn.com/bphoto/dTkZjzOK3_ElAgGCPx8LuA/o.jpg",
         "False",
         "https://www.yelp.com/biz/dear-irving-new-york?adjust_creative=GWOCZh9-BmZxtdsAjr7Gug&utm_campaign=yelp_api_v3&utm_medium=api_v3_business_search&utm_source=GWOCZh9-BmZxtdsAjr7Gug",
         "775",
         "[{'alias': 'venues', 'title': 'Venues & Event Spaces'}, {'alias': 'cocktailbars', 'title': 'Cocktail Bars'}, {'alias': 'lounges', 'title': 'Lounges'}]",
         "4.3",
         "['pickup']",
         "",
         "",
         "3455.406641336099",
         "40.7360568971331",
         "-73.9872401005554",
         "55 Irving Pl",
         "",
         "",
         "New York",
         "10003",
         "US",
         "NY",
         "['55 Irving Pl', 'New York, NY 10003']",
         "$$$"
        ],
        [
         "42",
         "FTgaIRluLuqHcJ_bA_Pudw",
         "odd-sister-new-york-2",
         "Odd Sister",
         "https://s3-media0.fl.yelpcdn.com/bphoto/iyqbK6KHen9tRkmn-NGTJQ/o.jpg",
         "False",
         "https://www.yelp.com/biz/odd-sister-new-york-2?adjust_creative=GWOCZh9-BmZxtdsAjr7Gug&utm_campaign=yelp_api_v3&utm_medium=api_v3_business_search&utm_source=GWOCZh9-BmZxtdsAjr7Gug",
         "99",
         "[{'alias': 'cocktailbars', 'title': 'Cocktail Bars'}, {'alias': 'diners', 'title': 'Diners'}, {'alias': 'coffee', 'title': 'Coffee & Tea'}]",
         "4.3",
         "['delivery', 'pickup']",
         "+12129669288",
         "(212) 966-9288",
         "1901.5605109678668",
         "40.721695",
         "-74.001446",
         "45 Mercer St",
         null,
         "",
         "New York",
         "10013",
         "US",
         "NY",
         "['45 Mercer St', 'New York, NY 10013']",
         null
        ],
        [
         "43",
         "wygR5Tl5bS42ojSGEZHf8w",
         "bar-cima-new-york",
         "Bar Cima",
         "https://s3-media0.fl.yelpcdn.com/bphoto/b_lHdMUZXwYmIF3nyKRQng/o.jpg",
         "False",
         "https://www.yelp.com/biz/bar-cima-new-york?adjust_creative=GWOCZh9-BmZxtdsAjr7Gug&utm_campaign=yelp_api_v3&utm_medium=api_v3_business_search&utm_source=GWOCZh9-BmZxtdsAjr7Gug",
         "52",
         "[{'alias': 'lounges', 'title': 'Lounges'}, {'alias': 'cocktailbars', 'title': 'Cocktail Bars'}]",
         "4.1",
         "[]",
         "+16466858274",
         "(646) 685-8274",
         "5257.700075912545",
         "40.75213",
         "-73.98383",
         "30 W 39th St",
         "",
         null,
         "New York",
         "10018",
         "US",
         "NY",
         "['30 W 39th St', 'New York, NY 10018']",
         "$$$"
        ],
        [
         "44",
         "aiRctIzCj9J3UqBHd-Z3HQ",
         "please-dont-tell-new-york-2",
         "Please Don't Tell",
         "https://s3-media0.fl.yelpcdn.com/bphoto/uHUYyXS-2dOaqb2PoaGZOw/o.jpg",
         "False",
         "https://www.yelp.com/biz/please-dont-tell-new-york-2?adjust_creative=GWOCZh9-BmZxtdsAjr7Gug&utm_campaign=yelp_api_v3&utm_medium=api_v3_business_search&utm_source=GWOCZh9-BmZxtdsAjr7Gug",
         "2029",
         "[{'alias': 'lounges', 'title': 'Lounges'}, {'alias': 'speakeasies', 'title': 'Speakeasies'}]",
         "3.9",
         "[]",
         "+12126140386",
         "(212) 614-0386",
         "2569.047094994283",
         "40.727157",
         "-73.983721",
         "113 St Marks Pl",
         "",
         "",
         "New York",
         "10009",
         "US",
         "NY",
         "['113 St Marks Pl', 'New York, NY 10009']",
         "$$$"
        ],
        [
         "45",
         "W_I1ze_NZICJcDDoFttmlw",
         "dear-irving-on-hudson-new-york",
         "Dear Irving on Hudson Rooftop Bar",
         "https://s3-media0.fl.yelpcdn.com/bphoto/5e_7FjFhTRA6TGuSG4PAOg/o.jpg",
         "False",
         "https://www.yelp.com/biz/dear-irving-on-hudson-new-york?adjust_creative=GWOCZh9-BmZxtdsAjr7Gug&utm_campaign=yelp_api_v3&utm_medium=api_v3_business_search&utm_source=GWOCZh9-BmZxtdsAjr7Gug",
         "359",
         "[{'alias': 'cocktailbars', 'title': 'Cocktail Bars'}, {'alias': 'venues', 'title': 'Venues & Event Spaces'}, {'alias': 'lounges', 'title': 'Lounges'}]",
         "4.3",
         "['delivery']",
         "",
         "",
         "5643.724891532443",
         "40.7561626",
         "-73.991717",
         "310 W 40th St",
         null,
         null,
         "New York",
         "10018",
         "US",
         "NY",
         "['310 W 40th St', 'New York, NY 10018']",
         null
        ],
        [
         "46",
         "AchEznbMLIcfGVD3pDBYsA",
         "steight-new-york",
         "Steight",
         "https://s3-media0.fl.yelpcdn.com/bphoto/1HfKqmieeWOEYlcSfVksnw/o.jpg",
         "False",
         "https://www.yelp.com/biz/steight-new-york?adjust_creative=GWOCZh9-BmZxtdsAjr7Gug&utm_campaign=yelp_api_v3&utm_medium=api_v3_business_search&utm_source=GWOCZh9-BmZxtdsAjr7Gug",
         "26",
         "[{'alias': 'bars', 'title': 'Bars'}]",
         "4.5",
         "[]",
         "+19178917372",
         "(917) 891-7372",
         "1436.8265513053452",
         "40.71823",
         "-73.99182",
         "116 Eldridge St",
         null,
         "",
         "New York",
         "10002",
         "US",
         "NY",
         "['116 Eldridge St', 'New York, NY 10002']",
         null
        ],
        [
         "47",
         "qxvE0fEUHfAkUiAxHlEMWQ",
         "famous-last-words-brooklyn",
         "Famous Last Words",
         "https://s3-media0.fl.yelpcdn.com/bphoto/jPn8OZ7dbennFfPGeTp6Zg/o.jpg",
         "False",
         "https://www.yelp.com/biz/famous-last-words-brooklyn?adjust_creative=GWOCZh9-BmZxtdsAjr7Gug&utm_campaign=yelp_api_v3&utm_medium=api_v3_business_search&utm_source=GWOCZh9-BmZxtdsAjr7Gug",
         "17",
         "[{'alias': 'bars', 'title': 'Bars'}]",
         "4.7",
         "[]",
         "",
         "",
         "3400.6273336597374",
         "40.68347014727133",
         "-73.96623998880386",
         "925 Fulton St",
         "",
         null,
         "Brooklyn",
         "11238",
         "US",
         "NY",
         "['925 Fulton St', 'Brooklyn, NY 11238']",
         null
        ],
        [
         "48",
         "huqNxKdJZonRgmkUtDP0tg",
         "honeycomb-hi-fi-lounge-brooklyn",
         "Honeycomb Hi-Fi Lounge",
         "https://s3-media0.fl.yelpcdn.com/bphoto/IKEjBKpismxE8GQbkUgJMw/o.jpg",
         "False",
         "https://www.yelp.com/biz/honeycomb-hi-fi-lounge-brooklyn?adjust_creative=GWOCZh9-BmZxtdsAjr7Gug&utm_campaign=yelp_api_v3&utm_medium=api_v3_business_search&utm_source=GWOCZh9-BmZxtdsAjr7Gug",
         "31",
         "[{'alias': 'bars', 'title': 'Bars'}]",
         "4.4",
         "[]",
         "",
         "",
         "3077.9101205349634",
         "40.68078",
         "-73.97778",
         "74 5th Ave",
         "",
         null,
         "Brooklyn",
         "11217",
         "US",
         "NY",
         "['74 5th Ave', 'Brooklyn, NY 11217']",
         null
        ],
        [
         "49",
         "LBU-q45dy308um77GBRmaA",
         "bar-snack-new-york",
         "Bar Snack",
         "https://s3-media0.fl.yelpcdn.com/bphoto/SmEqYQy629qR1d9IPjNaeQ/o.jpg",
         "False",
         "https://www.yelp.com/biz/bar-snack-new-york?adjust_creative=GWOCZh9-BmZxtdsAjr7Gug&utm_campaign=yelp_api_v3&utm_medium=api_v3_business_search&utm_source=GWOCZh9-BmZxtdsAjr7Gug",
         "17",
         "[{'alias': 'bars', 'title': 'Bars'}]",
         "4.7",
         "[]",
         "",
         "",
         "2437.04498385716",
         "40.726923",
         "-73.988511",
         "92 2nd Ave",
         "",
         null,
         "New York",
         "10003",
         "US",
         "NY",
         "['92 2nd Ave', 'New York, NY 10003']",
         null
        ]
       ],
       "shape": {
        "columns": 24,
        "rows": 50
       }
      },
      "text/html": [
       "<div>\n",
       "<style scoped>\n",
       "    .dataframe tbody tr th:only-of-type {\n",
       "        vertical-align: middle;\n",
       "    }\n",
       "\n",
       "    .dataframe tbody tr th {\n",
       "        vertical-align: top;\n",
       "    }\n",
       "\n",
       "    .dataframe thead th {\n",
       "        text-align: right;\n",
       "    }\n",
       "</style>\n",
       "<table border=\"1\" class=\"dataframe\">\n",
       "  <thead>\n",
       "    <tr style=\"text-align: right;\">\n",
       "      <th></th>\n",
       "      <th>id</th>\n",
       "      <th>alias</th>\n",
       "      <th>name</th>\n",
       "      <th>image_url</th>\n",
       "      <th>is_closed</th>\n",
       "      <th>url</th>\n",
       "      <th>review_count</th>\n",
       "      <th>categories</th>\n",
       "      <th>rating</th>\n",
       "      <th>transactions</th>\n",
       "      <th>...</th>\n",
       "      <th>coordinates.longitude</th>\n",
       "      <th>location.address1</th>\n",
       "      <th>location.address2</th>\n",
       "      <th>location.address3</th>\n",
       "      <th>location.city</th>\n",
       "      <th>location.zip_code</th>\n",
       "      <th>location.country</th>\n",
       "      <th>location.state</th>\n",
       "      <th>location.display_address</th>\n",
       "      <th>price</th>\n",
       "    </tr>\n",
       "  </thead>\n",
       "  <tbody>\n",
       "    <tr>\n",
       "      <th>0</th>\n",
       "      <td>KRp_qOt7ga8ormM1vo2P8A</td>\n",
       "      <td>paradise-lost-new-york</td>\n",
       "      <td>Paradise Lost</td>\n",
       "      <td>https://s3-media0.fl.yelpcdn.com/bphoto/rECk1k...</td>\n",
       "      <td>False</td>\n",
       "      <td>https://www.yelp.com/biz/paradise-lost-new-yor...</td>\n",
       "      <td>122</td>\n",
       "      <td>[{'alias': 'cocktailbars', 'title': 'Cocktail ...</td>\n",
       "      <td>4.6</td>\n",
       "      <td>[]</td>\n",
       "      <td>...</td>\n",
       "      <td>-73.988362</td>\n",
       "      <td>100 2nd Ave</td>\n",
       "      <td>None</td>\n",
       "      <td></td>\n",
       "      <td>New York</td>\n",
       "      <td>10003</td>\n",
       "      <td>US</td>\n",
       "      <td>NY</td>\n",
       "      <td>[100 2nd Ave, New York, NY 10003]</td>\n",
       "      <td>NaN</td>\n",
       "    </tr>\n",
       "    <tr>\n",
       "      <th>1</th>\n",
       "      <td>zRXMvxUX_rOliKZPpkWi_g</td>\n",
       "      <td>valerie-new-york</td>\n",
       "      <td>Valerie</td>\n",
       "      <td>https://s3-media0.fl.yelpcdn.com/bphoto/mnH5QF...</td>\n",
       "      <td>False</td>\n",
       "      <td>https://www.yelp.com/biz/valerie-new-york?adju...</td>\n",
       "      <td>1245</td>\n",
       "      <td>[{'alias': 'newamerican', 'title': 'New Americ...</td>\n",
       "      <td>4.3</td>\n",
       "      <td>[delivery]</td>\n",
       "      <td>...</td>\n",
       "      <td>-73.981117</td>\n",
       "      <td>45 W 45th St between 5th &amp; 6th Ave</td>\n",
       "      <td></td>\n",
       "      <td>None</td>\n",
       "      <td>New York</td>\n",
       "      <td>10036</td>\n",
       "      <td>US</td>\n",
       "      <td>NY</td>\n",
       "      <td>[45 W 45th St between 5th &amp; 6th Ave, New York,...</td>\n",
       "      <td>$$</td>\n",
       "    </tr>\n",
       "    <tr>\n",
       "      <th>2</th>\n",
       "      <td>Biebaq8lEVLLNw0vszDeFQ</td>\n",
       "      <td>hide-rooftop-new-york</td>\n",
       "      <td>Hide Rooftop</td>\n",
       "      <td>https://s3-media0.fl.yelpcdn.com/bphoto/TKYoY-...</td>\n",
       "      <td>False</td>\n",
       "      <td>https://www.yelp.com/biz/hide-rooftop-new-york...</td>\n",
       "      <td>52</td>\n",
       "      <td>[{'alias': 'lounges', 'title': 'Lounges'}, {'a...</td>\n",
       "      <td>4.8</td>\n",
       "      <td>[]</td>\n",
       "      <td>...</td>\n",
       "      <td>-74.008740</td>\n",
       "      <td>24 John St</td>\n",
       "      <td>Fl 20</td>\n",
       "      <td></td>\n",
       "      <td>New York</td>\n",
       "      <td>10038</td>\n",
       "      <td>US</td>\n",
       "      <td>NY</td>\n",
       "      <td>[24 John St, Fl 20, New York, NY 10038]</td>\n",
       "      <td>NaN</td>\n",
       "    </tr>\n",
       "    <tr>\n",
       "      <th>3</th>\n",
       "      <td>cfKT8pNcaPQuZlaIwlEAOg</td>\n",
       "      <td>hidden-lane-bar-new-york-3</td>\n",
       "      <td>Hidden Lane Bar</td>\n",
       "      <td>https://s3-media0.fl.yelpcdn.com/bphoto/fTfm_6...</td>\n",
       "      <td>False</td>\n",
       "      <td>https://www.yelp.com/biz/hidden-lane-bar-new-y...</td>\n",
       "      <td>91</td>\n",
       "      <td>[{'alias': 'bars', 'title': 'Bars'}]</td>\n",
       "      <td>4.3</td>\n",
       "      <td>[]</td>\n",
       "      <td>...</td>\n",
       "      <td>-73.987674</td>\n",
       "      <td>129 E 15th St</td>\n",
       "      <td>None</td>\n",
       "      <td></td>\n",
       "      <td>New York</td>\n",
       "      <td>10003</td>\n",
       "      <td>US</td>\n",
       "      <td>NY</td>\n",
       "      <td>[129 E 15th St, New York, NY 10003]</td>\n",
       "      <td>NaN</td>\n",
       "    </tr>\n",
       "    <tr>\n",
       "      <th>4</th>\n",
       "      <td>RemvTpxalDjSew5HwmNzUQ</td>\n",
       "      <td>the-dead-rabbit-new-york</td>\n",
       "      <td>The Dead Rabbit</td>\n",
       "      <td>https://s3-media0.fl.yelpcdn.com/bphoto/KkzEm9...</td>\n",
       "      <td>False</td>\n",
       "      <td>https://www.yelp.com/biz/the-dead-rabbit-new-y...</td>\n",
       "      <td>2037</td>\n",
       "      <td>[{'alias': 'cocktailbars', 'title': 'Cocktail ...</td>\n",
       "      <td>4.2</td>\n",
       "      <td>[delivery, pickup]</td>\n",
       "      <td>...</td>\n",
       "      <td>-74.011020</td>\n",
       "      <td>30 Water St</td>\n",
       "      <td></td>\n",
       "      <td></td>\n",
       "      <td>New York</td>\n",
       "      <td>10004</td>\n",
       "      <td>US</td>\n",
       "      <td>NY</td>\n",
       "      <td>[30 Water St, New York, NY 10004]</td>\n",
       "      <td>$$</td>\n",
       "    </tr>\n",
       "    <tr>\n",
       "      <th>5</th>\n",
       "      <td>pf5JBOPUBHbY6F4s15lk6g</td>\n",
       "      <td>strangelove-new-york</td>\n",
       "      <td>Strangelove</td>\n",
       "      <td>https://s3-media0.fl.yelpcdn.com/bphoto/a9IzI1...</td>\n",
       "      <td>False</td>\n",
       "      <td>https://www.yelp.com/biz/strangelove-new-york?...</td>\n",
       "      <td>79</td>\n",
       "      <td>[{'alias': 'divebars', 'title': 'Dive Bars'}]</td>\n",
       "      <td>4.6</td>\n",
       "      <td>[]</td>\n",
       "      <td>...</td>\n",
       "      <td>-73.968090</td>\n",
       "      <td>229 E 53rd St</td>\n",
       "      <td></td>\n",
       "      <td>None</td>\n",
       "      <td>New York</td>\n",
       "      <td>10022</td>\n",
       "      <td>US</td>\n",
       "      <td>NY</td>\n",
       "      <td>[229 E 53rd St, New York, NY 10022]</td>\n",
       "      <td>$</td>\n",
       "    </tr>\n",
       "    <tr>\n",
       "      <th>6</th>\n",
       "      <td>8YWLuLUKj0t_0_Xv06UUtw</td>\n",
       "      <td>yes-apothecary-夜莺-new-york-5</td>\n",
       "      <td>Ye's Apothecary 夜莺</td>\n",
       "      <td>https://s3-media0.fl.yelpcdn.com/bphoto/y4pAeB...</td>\n",
       "      <td>False</td>\n",
       "      <td>https://www.yelp.com/biz/yes-apothecary-%E5%A4...</td>\n",
       "      <td>978</td>\n",
       "      <td>[{'alias': 'szechuan', 'title': 'Szechuan'}, {...</td>\n",
       "      <td>4.6</td>\n",
       "      <td>[]</td>\n",
       "      <td>...</td>\n",
       "      <td>-73.989800</td>\n",
       "      <td>119 Orchard St</td>\n",
       "      <td>None</td>\n",
       "      <td></td>\n",
       "      <td>New York</td>\n",
       "      <td>10002</td>\n",
       "      <td>US</td>\n",
       "      <td>NY</td>\n",
       "      <td>[119 Orchard St, New York, NY 10002]</td>\n",
       "      <td>$$</td>\n",
       "    </tr>\n",
       "    <tr>\n",
       "      <th>7</th>\n",
       "      <td>H7S7-vF2z_HfaLo6BGPetw</td>\n",
       "      <td>attaboy-new-york</td>\n",
       "      <td>Attaboy</td>\n",
       "      <td>https://s3-media0.fl.yelpcdn.com/bphoto/0J7R47...</td>\n",
       "      <td>False</td>\n",
       "      <td>https://www.yelp.com/biz/attaboy-new-york?adju...</td>\n",
       "      <td>852</td>\n",
       "      <td>[{'alias': 'cocktailbars', 'title': 'Cocktail ...</td>\n",
       "      <td>4.1</td>\n",
       "      <td>[delivery]</td>\n",
       "      <td>...</td>\n",
       "      <td>-73.991340</td>\n",
       "      <td>134 Eldridge St</td>\n",
       "      <td></td>\n",
       "      <td></td>\n",
       "      <td>New York</td>\n",
       "      <td>10002</td>\n",
       "      <td>US</td>\n",
       "      <td>NY</td>\n",
       "      <td>[134 Eldridge St, New York, NY 10002]</td>\n",
       "      <td>$$</td>\n",
       "    </tr>\n",
       "    <tr>\n",
       "      <th>8</th>\n",
       "      <td>zWrZBXj5F2V_0UknnTfqbw</td>\n",
       "      <td>the-up-and-up-new-york-2</td>\n",
       "      <td>The Up &amp; Up</td>\n",
       "      <td>https://s3-media0.fl.yelpcdn.com/bphoto/YGeEqF...</td>\n",
       "      <td>False</td>\n",
       "      <td>https://www.yelp.com/biz/the-up-and-up-new-yor...</td>\n",
       "      <td>601</td>\n",
       "      <td>[{'alias': 'cocktailbars', 'title': 'Cocktail ...</td>\n",
       "      <td>4.2</td>\n",
       "      <td>[delivery, pickup]</td>\n",
       "      <td>...</td>\n",
       "      <td>-74.000669</td>\n",
       "      <td>116 MacDougal St</td>\n",
       "      <td></td>\n",
       "      <td></td>\n",
       "      <td>New York</td>\n",
       "      <td>10012</td>\n",
       "      <td>US</td>\n",
       "      <td>NY</td>\n",
       "      <td>[116 MacDougal St, New York, NY 10012]</td>\n",
       "      <td>$$</td>\n",
       "    </tr>\n",
       "    <tr>\n",
       "      <th>9</th>\n",
       "      <td>GJ3vgPvcJlOejZepOotQug</td>\n",
       "      <td>the-woo-woo-new-york-2</td>\n",
       "      <td>The Woo Woo</td>\n",
       "      <td>https://s3-media0.fl.yelpcdn.com/bphoto/7QBj6q...</td>\n",
       "      <td>False</td>\n",
       "      <td>https://www.yelp.com/biz/the-woo-woo-new-york-...</td>\n",
       "      <td>301</td>\n",
       "      <td>[{'alias': 'speakeasies', 'title': 'Speakeasie...</td>\n",
       "      <td>4.4</td>\n",
       "      <td>[]</td>\n",
       "      <td>...</td>\n",
       "      <td>-73.987240</td>\n",
       "      <td>266 W 47th St</td>\n",
       "      <td></td>\n",
       "      <td>None</td>\n",
       "      <td>New York</td>\n",
       "      <td>10036</td>\n",
       "      <td>US</td>\n",
       "      <td>NY</td>\n",
       "      <td>[266 W 47th St, New York, NY 10036]</td>\n",
       "      <td>$$</td>\n",
       "    </tr>\n",
       "    <tr>\n",
       "      <th>10</th>\n",
       "      <td>dHKEJaysc51WnQ1Xfzkvpg</td>\n",
       "      <td>wildflower-new-york</td>\n",
       "      <td>Wildflower</td>\n",
       "      <td>https://s3-media0.fl.yelpcdn.com/bphoto/QrOWmR...</td>\n",
       "      <td>False</td>\n",
       "      <td>https://www.yelp.com/biz/wildflower-new-york?a...</td>\n",
       "      <td>35</td>\n",
       "      <td>[{'alias': 'cocktailbars', 'title': 'Cocktail ...</td>\n",
       "      <td>4.1</td>\n",
       "      <td>[delivery, pickup]</td>\n",
       "      <td>...</td>\n",
       "      <td>-74.004369</td>\n",
       "      <td>505 W 23rd St</td>\n",
       "      <td></td>\n",
       "      <td>None</td>\n",
       "      <td>New York</td>\n",
       "      <td>10011</td>\n",
       "      <td>US</td>\n",
       "      <td>NY</td>\n",
       "      <td>[505 W 23rd St, New York, NY 10011]</td>\n",
       "      <td>NaN</td>\n",
       "    </tr>\n",
       "    <tr>\n",
       "      <th>11</th>\n",
       "      <td>luuAHNLKBRF79pdfdYjfPg</td>\n",
       "      <td>chapel-bar-new-york</td>\n",
       "      <td>Chapel Bar</td>\n",
       "      <td>https://s3-media0.fl.yelpcdn.com/bphoto/JylRyi...</td>\n",
       "      <td>False</td>\n",
       "      <td>https://www.yelp.com/biz/chapel-bar-new-york?a...</td>\n",
       "      <td>58</td>\n",
       "      <td>[{'alias': 'cocktailbars', 'title': 'Cocktail ...</td>\n",
       "      <td>3.7</td>\n",
       "      <td>[]</td>\n",
       "      <td>...</td>\n",
       "      <td>-73.986870</td>\n",
       "      <td>275 Park Ave S</td>\n",
       "      <td></td>\n",
       "      <td>None</td>\n",
       "      <td>New York</td>\n",
       "      <td>10010</td>\n",
       "      <td>US</td>\n",
       "      <td>NY</td>\n",
       "      <td>[275 Park Ave S, New York, NY 10010]</td>\n",
       "      <td>NaN</td>\n",
       "    </tr>\n",
       "    <tr>\n",
       "      <th>12</th>\n",
       "      <td>gZz9A8k8ORC_xl0aHxtY4w</td>\n",
       "      <td>monkey-bar-new-york-4</td>\n",
       "      <td>Monkey Bar</td>\n",
       "      <td>https://s3-media0.fl.yelpcdn.com/bphoto/IxVJIa...</td>\n",
       "      <td>False</td>\n",
       "      <td>https://www.yelp.com/biz/monkey-bar-new-york-4...</td>\n",
       "      <td>319</td>\n",
       "      <td>[{'alias': 'tradamerican', 'title': 'American'...</td>\n",
       "      <td>4.3</td>\n",
       "      <td>[]</td>\n",
       "      <td>...</td>\n",
       "      <td>-73.973130</td>\n",
       "      <td>60 E 54th St</td>\n",
       "      <td></td>\n",
       "      <td>None</td>\n",
       "      <td>New York</td>\n",
       "      <td>10022</td>\n",
       "      <td>US</td>\n",
       "      <td>NY</td>\n",
       "      <td>[60 E 54th St, New York, NY 10022]</td>\n",
       "      <td>NaN</td>\n",
       "    </tr>\n",
       "    <tr>\n",
       "      <th>13</th>\n",
       "      <td>NK68f4P-qwrDFIoR8QzqoA</td>\n",
       "      <td>osamil-upstairs-new-york</td>\n",
       "      <td>Osamil Upstairs</td>\n",
       "      <td>https://s3-media0.fl.yelpcdn.com/bphoto/Gz4yVf...</td>\n",
       "      <td>False</td>\n",
       "      <td>https://www.yelp.com/biz/osamil-upstairs-new-y...</td>\n",
       "      <td>131</td>\n",
       "      <td>[{'alias': 'cocktailbars', 'title': 'Cocktail ...</td>\n",
       "      <td>4.3</td>\n",
       "      <td>[delivery]</td>\n",
       "      <td>...</td>\n",
       "      <td>-73.986431</td>\n",
       "      <td>5 W 31st St</td>\n",
       "      <td>Fl 2</td>\n",
       "      <td>None</td>\n",
       "      <td>New York</td>\n",
       "      <td>10001</td>\n",
       "      <td>US</td>\n",
       "      <td>NY</td>\n",
       "      <td>[5 W 31st St, Fl 2, New York, NY 10001]</td>\n",
       "      <td>NaN</td>\n",
       "    </tr>\n",
       "    <tr>\n",
       "      <th>14</th>\n",
       "      <td>JXKCi089JT-6NHZ9kGRDrA</td>\n",
       "      <td>161-lafayette-new-york</td>\n",
       "      <td>161 Lafayette</td>\n",
       "      <td>https://s3-media0.fl.yelpcdn.com/bphoto/gDr70W...</td>\n",
       "      <td>False</td>\n",
       "      <td>https://www.yelp.com/biz/161-lafayette-new-yor...</td>\n",
       "      <td>16</td>\n",
       "      <td>[{'alias': 'bars', 'title': 'Bars'}, {'alias':...</td>\n",
       "      <td>4.4</td>\n",
       "      <td>[delivery]</td>\n",
       "      <td>...</td>\n",
       "      <td>-73.999080</td>\n",
       "      <td>161 Lafayette St</td>\n",
       "      <td></td>\n",
       "      <td>None</td>\n",
       "      <td>New York</td>\n",
       "      <td>10013</td>\n",
       "      <td>US</td>\n",
       "      <td>NY</td>\n",
       "      <td>[161 Lafayette St, New York, NY 10013]</td>\n",
       "      <td>NaN</td>\n",
       "    </tr>\n",
       "    <tr>\n",
       "      <th>15</th>\n",
       "      <td>U03emTRwM6XWRamsYqHsuw</td>\n",
       "      <td>barbam-new-york</td>\n",
       "      <td>Barbam</td>\n",
       "      <td>https://s3-media0.fl.yelpcdn.com/bphoto/hIOoTZ...</td>\n",
       "      <td>False</td>\n",
       "      <td>https://www.yelp.com/biz/barbam-new-york?adjus...</td>\n",
       "      <td>53</td>\n",
       "      <td>[{'alias': 'speakeasies', 'title': 'Speakeasie...</td>\n",
       "      <td>4.7</td>\n",
       "      <td>[]</td>\n",
       "      <td>...</td>\n",
       "      <td>-73.986744</td>\n",
       "      <td>32 W 33rd St</td>\n",
       "      <td>Ste B1</td>\n",
       "      <td></td>\n",
       "      <td>New York</td>\n",
       "      <td>10001</td>\n",
       "      <td>US</td>\n",
       "      <td>NY</td>\n",
       "      <td>[32 W 33rd St, Ste B1, New York, NY 10001]</td>\n",
       "      <td>NaN</td>\n",
       "    </tr>\n",
       "    <tr>\n",
       "      <th>16</th>\n",
       "      <td>8V4TgZmt5sXeaLuilaMJ7A</td>\n",
       "      <td>sosos-new-york-2</td>\n",
       "      <td>Soso's</td>\n",
       "      <td>https://s3-media0.fl.yelpcdn.com/bphoto/XYX06L...</td>\n",
       "      <td>False</td>\n",
       "      <td>https://www.yelp.com/biz/sosos-new-york-2?adju...</td>\n",
       "      <td>46</td>\n",
       "      <td>[{'alias': 'cocktailbars', 'title': 'Cocktail ...</td>\n",
       "      <td>4.2</td>\n",
       "      <td>[]</td>\n",
       "      <td>...</td>\n",
       "      <td>-73.999765</td>\n",
       "      <td>191 Centre St</td>\n",
       "      <td>None</td>\n",
       "      <td></td>\n",
       "      <td>New York</td>\n",
       "      <td>10013</td>\n",
       "      <td>US</td>\n",
       "      <td>NY</td>\n",
       "      <td>[191 Centre St, New York, NY 10013]</td>\n",
       "      <td>NaN</td>\n",
       "    </tr>\n",
       "    <tr>\n",
       "      <th>17</th>\n",
       "      <td>5Fz1WlY3lxy8gJFs8s_1Dw</td>\n",
       "      <td>the-binc-brooklyn</td>\n",
       "      <td>The Binc</td>\n",
       "      <td>https://s3-media0.fl.yelpcdn.com/bphoto/xRNohq...</td>\n",
       "      <td>False</td>\n",
       "      <td>https://www.yelp.com/biz/the-binc-brooklyn?adj...</td>\n",
       "      <td>113</td>\n",
       "      <td>[{'alias': 'cocktailbars', 'title': 'Cocktail ...</td>\n",
       "      <td>4.4</td>\n",
       "      <td>[delivery]</td>\n",
       "      <td>...</td>\n",
       "      <td>-73.992270</td>\n",
       "      <td>60 Henry St</td>\n",
       "      <td>None</td>\n",
       "      <td></td>\n",
       "      <td>Brooklyn</td>\n",
       "      <td>11201</td>\n",
       "      <td>US</td>\n",
       "      <td>NY</td>\n",
       "      <td>[60 Henry St, Brooklyn, NY 11201]</td>\n",
       "      <td>$$</td>\n",
       "    </tr>\n",
       "    <tr>\n",
       "      <th>18</th>\n",
       "      <td>P3NfoMjBy_o2BTNNZ-5okg</td>\n",
       "      <td>apotheke-new-york-4</td>\n",
       "      <td>Apotheke</td>\n",
       "      <td>https://s3-media0.fl.yelpcdn.com/bphoto/1MO5Ak...</td>\n",
       "      <td>False</td>\n",
       "      <td>https://www.yelp.com/biz/apotheke-new-york-4?a...</td>\n",
       "      <td>1569</td>\n",
       "      <td>[{'alias': 'cocktailbars', 'title': 'Cocktail ...</td>\n",
       "      <td>3.8</td>\n",
       "      <td>[]</td>\n",
       "      <td>...</td>\n",
       "      <td>-73.998172</td>\n",
       "      <td>9 Doyers St</td>\n",
       "      <td></td>\n",
       "      <td></td>\n",
       "      <td>New York</td>\n",
       "      <td>10013</td>\n",
       "      <td>US</td>\n",
       "      <td>NY</td>\n",
       "      <td>[9 Doyers St, New York, NY 10013]</td>\n",
       "      <td>$$$</td>\n",
       "    </tr>\n",
       "    <tr>\n",
       "      <th>19</th>\n",
       "      <td>-CZf3uyQ53o9lqMldBiq7A</td>\n",
       "      <td>little-ned-new-york</td>\n",
       "      <td>Little Ned</td>\n",
       "      <td>https://s3-media0.fl.yelpcdn.com/bphoto/rP2-6g...</td>\n",
       "      <td>False</td>\n",
       "      <td>https://www.yelp.com/biz/little-ned-new-york?a...</td>\n",
       "      <td>42</td>\n",
       "      <td>[{'alias': 'cocktailbars', 'title': 'Cocktail ...</td>\n",
       "      <td>4.8</td>\n",
       "      <td>[]</td>\n",
       "      <td>...</td>\n",
       "      <td>-73.988235</td>\n",
       "      <td>10 W 28th St</td>\n",
       "      <td></td>\n",
       "      <td>None</td>\n",
       "      <td>New York</td>\n",
       "      <td>10001</td>\n",
       "      <td>US</td>\n",
       "      <td>NY</td>\n",
       "      <td>[10 W 28th St, New York, NY 10001]</td>\n",
       "      <td>NaN</td>\n",
       "    </tr>\n",
       "    <tr>\n",
       "      <th>20</th>\n",
       "      <td>rdXcbBve2X6Bst7UoQ6T0w</td>\n",
       "      <td>sunken-harbor-club-brooklyn</td>\n",
       "      <td>Sunken Harbor Club</td>\n",
       "      <td>https://s3-media0.fl.yelpcdn.com/bphoto/e3zxGK...</td>\n",
       "      <td>False</td>\n",
       "      <td>https://www.yelp.com/biz/sunken-harbor-club-br...</td>\n",
       "      <td>101</td>\n",
       "      <td>[{'alias': 'cocktailbars', 'title': 'Cocktail ...</td>\n",
       "      <td>4.5</td>\n",
       "      <td>[]</td>\n",
       "      <td>...</td>\n",
       "      <td>-73.987861</td>\n",
       "      <td>372 Fulton St</td>\n",
       "      <td>Fl 2</td>\n",
       "      <td>None</td>\n",
       "      <td>Brooklyn</td>\n",
       "      <td>11201</td>\n",
       "      <td>US</td>\n",
       "      <td>NY</td>\n",
       "      <td>[372 Fulton St, Fl 2, Brooklyn, NY 11201]</td>\n",
       "      <td>$$$</td>\n",
       "    </tr>\n",
       "    <tr>\n",
       "      <th>21</th>\n",
       "      <td>Y7bbr09ssPvFojIIFBa6rA</td>\n",
       "      <td>thyme-bar-new-york</td>\n",
       "      <td>Thyme Bar</td>\n",
       "      <td>https://s3-media0.fl.yelpcdn.com/bphoto/foaL7j...</td>\n",
       "      <td>False</td>\n",
       "      <td>https://www.yelp.com/biz/thyme-bar-new-york?ad...</td>\n",
       "      <td>336</td>\n",
       "      <td>[{'alias': 'cocktailbars', 'title': 'Cocktail ...</td>\n",
       "      <td>4.1</td>\n",
       "      <td>[delivery]</td>\n",
       "      <td>...</td>\n",
       "      <td>-73.990591</td>\n",
       "      <td>20 W 23rd St Cellar</td>\n",
       "      <td></td>\n",
       "      <td>None</td>\n",
       "      <td>New York</td>\n",
       "      <td>10010</td>\n",
       "      <td>US</td>\n",
       "      <td>NY</td>\n",
       "      <td>[20 W 23rd St Cellar, New York, NY 10010]</td>\n",
       "      <td>$$</td>\n",
       "    </tr>\n",
       "    <tr>\n",
       "      <th>22</th>\n",
       "      <td>pohS_d-8POAuLVj8x1_Seg</td>\n",
       "      <td>somethin-else-brooklyn-3</td>\n",
       "      <td>Somethin Else</td>\n",
       "      <td>https://s3-media0.fl.yelpcdn.com/bphoto/KfgFcU...</td>\n",
       "      <td>False</td>\n",
       "      <td>https://www.yelp.com/biz/somethin-else-brookly...</td>\n",
       "      <td>10</td>\n",
       "      <td>[{'alias': 'musicvenues', 'title': 'Music Venu...</td>\n",
       "      <td>4.3</td>\n",
       "      <td>[]</td>\n",
       "      <td>...</td>\n",
       "      <td>-73.983315</td>\n",
       "      <td>445 Albee Square W</td>\n",
       "      <td></td>\n",
       "      <td>None</td>\n",
       "      <td>Brooklyn</td>\n",
       "      <td>11201</td>\n",
       "      <td>US</td>\n",
       "      <td>NY</td>\n",
       "      <td>[445 Albee Square W, Brooklyn, NY 11201]</td>\n",
       "      <td>NaN</td>\n",
       "    </tr>\n",
       "    <tr>\n",
       "      <th>23</th>\n",
       "      <td>9sU8ceKHiqNrLBMRM-aUkg</td>\n",
       "      <td>harriets-rooftop-brooklyn-4</td>\n",
       "      <td>Harriet's Rooftop</td>\n",
       "      <td>https://s3-media0.fl.yelpcdn.com/bphoto/5yUibm...</td>\n",
       "      <td>False</td>\n",
       "      <td>https://www.yelp.com/biz/harriets-rooftop-broo...</td>\n",
       "      <td>334</td>\n",
       "      <td>[{'alias': 'lounges', 'title': 'Lounges'}, {'a...</td>\n",
       "      <td>3.3</td>\n",
       "      <td>[delivery]</td>\n",
       "      <td>...</td>\n",
       "      <td>-73.995592</td>\n",
       "      <td>60 Furman St</td>\n",
       "      <td>Fl 11</td>\n",
       "      <td>None</td>\n",
       "      <td>Brooklyn</td>\n",
       "      <td>11201</td>\n",
       "      <td>US</td>\n",
       "      <td>NY</td>\n",
       "      <td>[60 Furman St, Fl 11, Brooklyn, NY 11201]</td>\n",
       "      <td>$$$</td>\n",
       "    </tr>\n",
       "    <tr>\n",
       "      <th>24</th>\n",
       "      <td>d6mslo1LlpkNPgb2HWOlEg</td>\n",
       "      <td>fresh-kills-bar-brooklyn</td>\n",
       "      <td>Fresh Kills Bar</td>\n",
       "      <td>https://s3-media0.fl.yelpcdn.com/bphoto/LSvuNu...</td>\n",
       "      <td>False</td>\n",
       "      <td>https://www.yelp.com/biz/fresh-kills-bar-brook...</td>\n",
       "      <td>237</td>\n",
       "      <td>[{'alias': 'cocktailbars', 'title': 'Cocktail ...</td>\n",
       "      <td>4.3</td>\n",
       "      <td>[delivery]</td>\n",
       "      <td>...</td>\n",
       "      <td>-73.961510</td>\n",
       "      <td>161 Grand St</td>\n",
       "      <td></td>\n",
       "      <td></td>\n",
       "      <td>Brooklyn</td>\n",
       "      <td>11249</td>\n",
       "      <td>US</td>\n",
       "      <td>NY</td>\n",
       "      <td>[161 Grand St, Brooklyn, NY 11249]</td>\n",
       "      <td>$$</td>\n",
       "    </tr>\n",
       "    <tr>\n",
       "      <th>25</th>\n",
       "      <td>mIgmxB2l_-p_f9pUe8kbpA</td>\n",
       "      <td>the-tusk-bar-new-york</td>\n",
       "      <td>The Tusk Bar</td>\n",
       "      <td>https://s3-media0.fl.yelpcdn.com/bphoto/ztoYQq...</td>\n",
       "      <td>False</td>\n",
       "      <td>https://www.yelp.com/biz/the-tusk-bar-new-york...</td>\n",
       "      <td>26</td>\n",
       "      <td>[{'alias': 'cocktailbars', 'title': 'Cocktail ...</td>\n",
       "      <td>4.3</td>\n",
       "      <td>[]</td>\n",
       "      <td>...</td>\n",
       "      <td>-73.986931</td>\n",
       "      <td>7 East 27th St</td>\n",
       "      <td>None</td>\n",
       "      <td></td>\n",
       "      <td>New York</td>\n",
       "      <td>10016</td>\n",
       "      <td>US</td>\n",
       "      <td>NY</td>\n",
       "      <td>[7 East 27th St, New York, NY 10016]</td>\n",
       "      <td>NaN</td>\n",
       "    </tr>\n",
       "    <tr>\n",
       "      <th>26</th>\n",
       "      <td>2DJjJu3sqaBCN7w4CwR5Dw</td>\n",
       "      <td>livingston-manor-brooklyn</td>\n",
       "      <td>Livingston Manor</td>\n",
       "      <td>https://s3-media0.fl.yelpcdn.com/bphoto/ULfPxn...</td>\n",
       "      <td>False</td>\n",
       "      <td>https://www.yelp.com/biz/livingston-manor-broo...</td>\n",
       "      <td>149</td>\n",
       "      <td>[{'alias': 'bars', 'title': 'Bars'}]</td>\n",
       "      <td>4.0</td>\n",
       "      <td>[delivery]</td>\n",
       "      <td>...</td>\n",
       "      <td>-73.986071</td>\n",
       "      <td>42 Hoyt St</td>\n",
       "      <td></td>\n",
       "      <td></td>\n",
       "      <td>Brooklyn</td>\n",
       "      <td>11201</td>\n",
       "      <td>US</td>\n",
       "      <td>NY</td>\n",
       "      <td>[42 Hoyt St, Brooklyn, NY 11201]</td>\n",
       "      <td>$$</td>\n",
       "    </tr>\n",
       "    <tr>\n",
       "      <th>27</th>\n",
       "      <td>ePqKbqXFBCbwBaWiN2Jo9w</td>\n",
       "      <td>ampersand-new-york-2</td>\n",
       "      <td>Ampersand</td>\n",
       "      <td>https://s3-media0.fl.yelpcdn.com/bphoto/bfRqLD...</td>\n",
       "      <td>False</td>\n",
       "      <td>https://www.yelp.com/biz/ampersand-new-york-2?...</td>\n",
       "      <td>280</td>\n",
       "      <td>[{'alias': 'cocktailbars', 'title': 'Cocktail ...</td>\n",
       "      <td>4.3</td>\n",
       "      <td>[delivery]</td>\n",
       "      <td>...</td>\n",
       "      <td>-73.983421</td>\n",
       "      <td>294 3rd Ave</td>\n",
       "      <td></td>\n",
       "      <td></td>\n",
       "      <td>New York</td>\n",
       "      <td>10010</td>\n",
       "      <td>US</td>\n",
       "      <td>NY</td>\n",
       "      <td>[294 3rd Ave, New York, NY 10010]</td>\n",
       "      <td>$$</td>\n",
       "    </tr>\n",
       "    <tr>\n",
       "      <th>28</th>\n",
       "      <td>XRjeE9yFANgsG12FWUOoXg</td>\n",
       "      <td>gair-brooklyn</td>\n",
       "      <td>Gair</td>\n",
       "      <td>https://s3-media0.fl.yelpcdn.com/bphoto/2HJjpG...</td>\n",
       "      <td>False</td>\n",
       "      <td>https://www.yelp.com/biz/gair-brooklyn?adjust_...</td>\n",
       "      <td>21</td>\n",
       "      <td>[{'alias': 'cocktailbars', 'title': 'Cocktail ...</td>\n",
       "      <td>4.6</td>\n",
       "      <td>[]</td>\n",
       "      <td>...</td>\n",
       "      <td>-73.989414</td>\n",
       "      <td>41 Washington St</td>\n",
       "      <td></td>\n",
       "      <td>None</td>\n",
       "      <td>Brooklyn</td>\n",
       "      <td>11201</td>\n",
       "      <td>US</td>\n",
       "      <td>NY</td>\n",
       "      <td>[41 Washington St, Brooklyn, NY 11201]</td>\n",
       "      <td>NaN</td>\n",
       "    </tr>\n",
       "    <tr>\n",
       "      <th>29</th>\n",
       "      <td>LufHsx7SCHPRmuxxG-jO7A</td>\n",
       "      <td>the-lobby-brooklyn</td>\n",
       "      <td>The Lobby</td>\n",
       "      <td>https://s3-media0.fl.yelpcdn.com/bphoto/jdT7a3...</td>\n",
       "      <td>False</td>\n",
       "      <td>https://www.yelp.com/biz/the-lobby-brooklyn?ad...</td>\n",
       "      <td>13</td>\n",
       "      <td>[{'alias': 'bars', 'title': 'Bars'}]</td>\n",
       "      <td>4.5</td>\n",
       "      <td>[]</td>\n",
       "      <td>...</td>\n",
       "      <td>-73.983740</td>\n",
       "      <td>252 Schermerhorn St</td>\n",
       "      <td></td>\n",
       "      <td>Ace Hotel - Brooklyn</td>\n",
       "      <td>Brooklyn</td>\n",
       "      <td>11217</td>\n",
       "      <td>US</td>\n",
       "      <td>NY</td>\n",
       "      <td>[252 Schermerhorn St, Ace Hotel - Brooklyn, Br...</td>\n",
       "      <td>NaN</td>\n",
       "    </tr>\n",
       "    <tr>\n",
       "      <th>30</th>\n",
       "      <td>YOrKBjU2ZEmwHS5f-dcAhw</td>\n",
       "      <td>another-country-new-york</td>\n",
       "      <td>Another Country</td>\n",
       "      <td>https://s3-media0.fl.yelpcdn.com/bphoto/m2ij29...</td>\n",
       "      <td>False</td>\n",
       "      <td>https://www.yelp.com/biz/another-country-new-y...</td>\n",
       "      <td>13</td>\n",
       "      <td>[{'alias': 'cocktailbars', 'title': 'Cocktail ...</td>\n",
       "      <td>4.6</td>\n",
       "      <td>[]</td>\n",
       "      <td>...</td>\n",
       "      <td>-73.992064</td>\n",
       "      <td>10 E 16th St</td>\n",
       "      <td></td>\n",
       "      <td>None</td>\n",
       "      <td>New York</td>\n",
       "      <td>10003</td>\n",
       "      <td>US</td>\n",
       "      <td>NY</td>\n",
       "      <td>[10 E 16th St, New York, NY 10003]</td>\n",
       "      <td>NaN</td>\n",
       "    </tr>\n",
       "    <tr>\n",
       "      <th>31</th>\n",
       "      <td>oLA02lMIfgvbYquvXzkARw</td>\n",
       "      <td>lillies-victorian-establishment-new-york-2</td>\n",
       "      <td>Lillie's Victorian Establishment</td>\n",
       "      <td>https://s3-media0.fl.yelpcdn.com/bphoto/Qfp5Nq...</td>\n",
       "      <td>False</td>\n",
       "      <td>https://www.yelp.com/biz/lillies-victorian-est...</td>\n",
       "      <td>1949</td>\n",
       "      <td>[{'alias': 'bars', 'title': 'Bars'}, {'alias':...</td>\n",
       "      <td>3.9</td>\n",
       "      <td>[pickup]</td>\n",
       "      <td>...</td>\n",
       "      <td>-73.986052</td>\n",
       "      <td>249 W 49th St</td>\n",
       "      <td></td>\n",
       "      <td></td>\n",
       "      <td>New York</td>\n",
       "      <td>10019</td>\n",
       "      <td>US</td>\n",
       "      <td>NY</td>\n",
       "      <td>[249 W 49th St, New York, NY 10019]</td>\n",
       "      <td>$$</td>\n",
       "    </tr>\n",
       "    <tr>\n",
       "      <th>32</th>\n",
       "      <td>4nohlTsGHEDdpwYkRTt-fA</td>\n",
       "      <td>rudys-bar-and-grill-new-york</td>\n",
       "      <td>Rudy's Bar &amp; Grill</td>\n",
       "      <td>https://s3-media0.fl.yelpcdn.com/bphoto/2366Dg...</td>\n",
       "      <td>False</td>\n",
       "      <td>https://www.yelp.com/biz/rudys-bar-and-grill-n...</td>\n",
       "      <td>1262</td>\n",
       "      <td>[{'alias': 'divebars', 'title': 'Dive Bars'}, ...</td>\n",
       "      <td>4.3</td>\n",
       "      <td>[]</td>\n",
       "      <td>...</td>\n",
       "      <td>-73.991794</td>\n",
       "      <td>627 9th Ave</td>\n",
       "      <td></td>\n",
       "      <td></td>\n",
       "      <td>New York</td>\n",
       "      <td>10036</td>\n",
       "      <td>US</td>\n",
       "      <td>NY</td>\n",
       "      <td>[627 9th Ave, New York, NY 10036]</td>\n",
       "      <td>$</td>\n",
       "    </tr>\n",
       "    <tr>\n",
       "      <th>33</th>\n",
       "      <td>oiyThpeH8-gcynus-I20UQ</td>\n",
       "      <td>the-rhymers-club-new-york</td>\n",
       "      <td>The Rhymers Club</td>\n",
       "      <td>https://s3-media0.fl.yelpcdn.com/bphoto/JH7ZwV...</td>\n",
       "      <td>False</td>\n",
       "      <td>https://www.yelp.com/biz/the-rhymers-club-new-...</td>\n",
       "      <td>12</td>\n",
       "      <td>[{'alias': 'cocktailbars', 'title': 'Cocktail ...</td>\n",
       "      <td>4.5</td>\n",
       "      <td>[]</td>\n",
       "      <td>...</td>\n",
       "      <td>-73.987350</td>\n",
       "      <td>37 1/2 St Marks Pl</td>\n",
       "      <td></td>\n",
       "      <td>None</td>\n",
       "      <td>New York</td>\n",
       "      <td>10003</td>\n",
       "      <td>US</td>\n",
       "      <td>NY</td>\n",
       "      <td>[37 1/2 St Marks Pl, New York, NY 10003]</td>\n",
       "      <td>NaN</td>\n",
       "    </tr>\n",
       "    <tr>\n",
       "      <th>34</th>\n",
       "      <td>0XL_3hwGWRyOuZ1C_i_RJw</td>\n",
       "      <td>bar-bonobo-new-york</td>\n",
       "      <td>Bar Bonobo</td>\n",
       "      <td>https://s3-media0.fl.yelpcdn.com/bphoto/wRvmx2...</td>\n",
       "      <td>False</td>\n",
       "      <td>https://www.yelp.com/biz/bar-bonobo-new-york?a...</td>\n",
       "      <td>58</td>\n",
       "      <td>[{'alias': 'cocktailbars', 'title': 'Cocktail ...</td>\n",
       "      <td>4.3</td>\n",
       "      <td>[]</td>\n",
       "      <td>...</td>\n",
       "      <td>-73.999823</td>\n",
       "      <td>184 8th Ave</td>\n",
       "      <td>None</td>\n",
       "      <td></td>\n",
       "      <td>New York</td>\n",
       "      <td>10011</td>\n",
       "      <td>US</td>\n",
       "      <td>NY</td>\n",
       "      <td>[184 8th Ave, New York, NY 10011]</td>\n",
       "      <td>NaN</td>\n",
       "    </tr>\n",
       "    <tr>\n",
       "      <th>35</th>\n",
       "      <td>UDsvp_twMrRa9j6lnZNjow</td>\n",
       "      <td>nobody-told-me-brooklyn</td>\n",
       "      <td>Nobody Told Me</td>\n",
       "      <td>https://s3-media0.fl.yelpcdn.com/bphoto/YBn6RV...</td>\n",
       "      <td>False</td>\n",
       "      <td>https://www.yelp.com/biz/nobody-told-me-brookl...</td>\n",
       "      <td>36</td>\n",
       "      <td>[{'alias': 'bars', 'title': 'Bars'}, {'alias':...</td>\n",
       "      <td>4.4</td>\n",
       "      <td>[delivery, pickup]</td>\n",
       "      <td>...</td>\n",
       "      <td>-73.984938</td>\n",
       "      <td>188 Front St</td>\n",
       "      <td>None</td>\n",
       "      <td></td>\n",
       "      <td>Brooklyn</td>\n",
       "      <td>11201</td>\n",
       "      <td>US</td>\n",
       "      <td>NY</td>\n",
       "      <td>[188 Front St, Brooklyn, NY 11201]</td>\n",
       "      <td>NaN</td>\n",
       "    </tr>\n",
       "    <tr>\n",
       "      <th>36</th>\n",
       "      <td>Gi4A4ibrznMIsy9oGi2t-g</td>\n",
       "      <td>dear-strangers-new-york</td>\n",
       "      <td>Dear Strangers</td>\n",
       "      <td>https://s3-media0.fl.yelpcdn.com/bphoto/xWvuB-...</td>\n",
       "      <td>False</td>\n",
       "      <td>https://www.yelp.com/biz/dear-strangers-new-yo...</td>\n",
       "      <td>14</td>\n",
       "      <td>[{'alias': 'cocktailbars', 'title': 'Cocktail ...</td>\n",
       "      <td>4.6</td>\n",
       "      <td>[]</td>\n",
       "      <td>...</td>\n",
       "      <td>-74.000413</td>\n",
       "      <td>147 West 4th St</td>\n",
       "      <td></td>\n",
       "      <td>None</td>\n",
       "      <td>New York</td>\n",
       "      <td>10012</td>\n",
       "      <td>US</td>\n",
       "      <td>NY</td>\n",
       "      <td>[147 West 4th St, New York, NY 10012]</td>\n",
       "      <td>NaN</td>\n",
       "    </tr>\n",
       "    <tr>\n",
       "      <th>37</th>\n",
       "      <td>gjwELZmHUNO0WdqXYBEbcg</td>\n",
       "      <td>the-belfry-new-york</td>\n",
       "      <td>The Belfry</td>\n",
       "      <td>https://s3-media0.fl.yelpcdn.com/bphoto/1cvqfs...</td>\n",
       "      <td>False</td>\n",
       "      <td>https://www.yelp.com/biz/the-belfry-new-york?a...</td>\n",
       "      <td>561</td>\n",
       "      <td>[{'alias': 'cocktailbars', 'title': 'Cocktail ...</td>\n",
       "      <td>4.1</td>\n",
       "      <td>[]</td>\n",
       "      <td>...</td>\n",
       "      <td>-73.986286</td>\n",
       "      <td>222 E 14th St</td>\n",
       "      <td>None</td>\n",
       "      <td></td>\n",
       "      <td>New York</td>\n",
       "      <td>10003</td>\n",
       "      <td>US</td>\n",
       "      <td>NY</td>\n",
       "      <td>[222 E 14th St, New York, NY 10003]</td>\n",
       "      <td>$$</td>\n",
       "    </tr>\n",
       "    <tr>\n",
       "      <th>38</th>\n",
       "      <td>IBgjj5VBu5JJvKgo9EzKrg</td>\n",
       "      <td>the-three-monkeys-new-york-5</td>\n",
       "      <td>The Three Monkeys</td>\n",
       "      <td>https://s3-media0.fl.yelpcdn.com/bphoto/2-wriR...</td>\n",
       "      <td>False</td>\n",
       "      <td>https://www.yelp.com/biz/the-three-monkeys-new...</td>\n",
       "      <td>1439</td>\n",
       "      <td>[{'alias': 'sportsbars', 'title': 'Sports Bars...</td>\n",
       "      <td>4.2</td>\n",
       "      <td>[delivery, pickup]</td>\n",
       "      <td>...</td>\n",
       "      <td>-73.985763</td>\n",
       "      <td>832 8th Ave</td>\n",
       "      <td></td>\n",
       "      <td></td>\n",
       "      <td>New York</td>\n",
       "      <td>10019</td>\n",
       "      <td>US</td>\n",
       "      <td>NY</td>\n",
       "      <td>[832 8th Ave, New York, NY 10019]</td>\n",
       "      <td>$$</td>\n",
       "    </tr>\n",
       "    <tr>\n",
       "      <th>39</th>\n",
       "      <td>H8mnryiCI02N00g9vuFDLg</td>\n",
       "      <td>the-library-new-york</td>\n",
       "      <td>The Library</td>\n",
       "      <td>https://s3-media0.fl.yelpcdn.com/bphoto/GxHnYu...</td>\n",
       "      <td>False</td>\n",
       "      <td>https://www.yelp.com/biz/the-library-new-york?...</td>\n",
       "      <td>426</td>\n",
       "      <td>[{'alias': 'divebars', 'title': 'Dive Bars'}]</td>\n",
       "      <td>3.8</td>\n",
       "      <td>[]</td>\n",
       "      <td>...</td>\n",
       "      <td>-73.986343</td>\n",
       "      <td>7 Ave A</td>\n",
       "      <td></td>\n",
       "      <td></td>\n",
       "      <td>New York</td>\n",
       "      <td>10009</td>\n",
       "      <td>US</td>\n",
       "      <td>NY</td>\n",
       "      <td>[7 Ave A, New York, NY 10009]</td>\n",
       "      <td>$</td>\n",
       "    </tr>\n",
       "    <tr>\n",
       "      <th>40</th>\n",
       "      <td>mMF3G7rW6UjIqoFAwWuqjg</td>\n",
       "      <td>carousel-brooklyn</td>\n",
       "      <td>Carousel</td>\n",
       "      <td>https://s3-media0.fl.yelpcdn.com/bphoto/Q-T5TX...</td>\n",
       "      <td>False</td>\n",
       "      <td>https://www.yelp.com/biz/carousel-brooklyn?adj...</td>\n",
       "      <td>15</td>\n",
       "      <td>[{'alias': 'bars', 'title': 'Bars'}]</td>\n",
       "      <td>3.9</td>\n",
       "      <td>[]</td>\n",
       "      <td>...</td>\n",
       "      <td>-73.922135</td>\n",
       "      <td>36 Wyckoff Ave</td>\n",
       "      <td>None</td>\n",
       "      <td>None</td>\n",
       "      <td>Brooklyn</td>\n",
       "      <td>11237</td>\n",
       "      <td>US</td>\n",
       "      <td>NY</td>\n",
       "      <td>[36 Wyckoff Ave, Brooklyn, NY 11237]</td>\n",
       "      <td>NaN</td>\n",
       "    </tr>\n",
       "    <tr>\n",
       "      <th>41</th>\n",
       "      <td>-dQexkmhlgbiKvZ94jBmjQ</td>\n",
       "      <td>dear-irving-new-york</td>\n",
       "      <td>Dear Irving Gramercy</td>\n",
       "      <td>https://s3-media0.fl.yelpcdn.com/bphoto/dTkZjz...</td>\n",
       "      <td>False</td>\n",
       "      <td>https://www.yelp.com/biz/dear-irving-new-york?...</td>\n",
       "      <td>775</td>\n",
       "      <td>[{'alias': 'venues', 'title': 'Venues &amp; Event ...</td>\n",
       "      <td>4.3</td>\n",
       "      <td>[pickup]</td>\n",
       "      <td>...</td>\n",
       "      <td>-73.987240</td>\n",
       "      <td>55 Irving Pl</td>\n",
       "      <td></td>\n",
       "      <td></td>\n",
       "      <td>New York</td>\n",
       "      <td>10003</td>\n",
       "      <td>US</td>\n",
       "      <td>NY</td>\n",
       "      <td>[55 Irving Pl, New York, NY 10003]</td>\n",
       "      <td>$$$</td>\n",
       "    </tr>\n",
       "    <tr>\n",
       "      <th>42</th>\n",
       "      <td>FTgaIRluLuqHcJ_bA_Pudw</td>\n",
       "      <td>odd-sister-new-york-2</td>\n",
       "      <td>Odd Sister</td>\n",
       "      <td>https://s3-media0.fl.yelpcdn.com/bphoto/iyqbK6...</td>\n",
       "      <td>False</td>\n",
       "      <td>https://www.yelp.com/biz/odd-sister-new-york-2...</td>\n",
       "      <td>99</td>\n",
       "      <td>[{'alias': 'cocktailbars', 'title': 'Cocktail ...</td>\n",
       "      <td>4.3</td>\n",
       "      <td>[delivery, pickup]</td>\n",
       "      <td>...</td>\n",
       "      <td>-74.001446</td>\n",
       "      <td>45 Mercer St</td>\n",
       "      <td>None</td>\n",
       "      <td></td>\n",
       "      <td>New York</td>\n",
       "      <td>10013</td>\n",
       "      <td>US</td>\n",
       "      <td>NY</td>\n",
       "      <td>[45 Mercer St, New York, NY 10013]</td>\n",
       "      <td>NaN</td>\n",
       "    </tr>\n",
       "    <tr>\n",
       "      <th>43</th>\n",
       "      <td>wygR5Tl5bS42ojSGEZHf8w</td>\n",
       "      <td>bar-cima-new-york</td>\n",
       "      <td>Bar Cima</td>\n",
       "      <td>https://s3-media0.fl.yelpcdn.com/bphoto/b_lHdM...</td>\n",
       "      <td>False</td>\n",
       "      <td>https://www.yelp.com/biz/bar-cima-new-york?adj...</td>\n",
       "      <td>52</td>\n",
       "      <td>[{'alias': 'lounges', 'title': 'Lounges'}, {'a...</td>\n",
       "      <td>4.1</td>\n",
       "      <td>[]</td>\n",
       "      <td>...</td>\n",
       "      <td>-73.983830</td>\n",
       "      <td>30 W 39th St</td>\n",
       "      <td></td>\n",
       "      <td>None</td>\n",
       "      <td>New York</td>\n",
       "      <td>10018</td>\n",
       "      <td>US</td>\n",
       "      <td>NY</td>\n",
       "      <td>[30 W 39th St, New York, NY 10018]</td>\n",
       "      <td>$$$</td>\n",
       "    </tr>\n",
       "    <tr>\n",
       "      <th>44</th>\n",
       "      <td>aiRctIzCj9J3UqBHd-Z3HQ</td>\n",
       "      <td>please-dont-tell-new-york-2</td>\n",
       "      <td>Please Don't Tell</td>\n",
       "      <td>https://s3-media0.fl.yelpcdn.com/bphoto/uHUYyX...</td>\n",
       "      <td>False</td>\n",
       "      <td>https://www.yelp.com/biz/please-dont-tell-new-...</td>\n",
       "      <td>2029</td>\n",
       "      <td>[{'alias': 'lounges', 'title': 'Lounges'}, {'a...</td>\n",
       "      <td>3.9</td>\n",
       "      <td>[]</td>\n",
       "      <td>...</td>\n",
       "      <td>-73.983721</td>\n",
       "      <td>113 St Marks Pl</td>\n",
       "      <td></td>\n",
       "      <td></td>\n",
       "      <td>New York</td>\n",
       "      <td>10009</td>\n",
       "      <td>US</td>\n",
       "      <td>NY</td>\n",
       "      <td>[113 St Marks Pl, New York, NY 10009]</td>\n",
       "      <td>$$$</td>\n",
       "    </tr>\n",
       "    <tr>\n",
       "      <th>45</th>\n",
       "      <td>W_I1ze_NZICJcDDoFttmlw</td>\n",
       "      <td>dear-irving-on-hudson-new-york</td>\n",
       "      <td>Dear Irving on Hudson Rooftop Bar</td>\n",
       "      <td>https://s3-media0.fl.yelpcdn.com/bphoto/5e_7Fj...</td>\n",
       "      <td>False</td>\n",
       "      <td>https://www.yelp.com/biz/dear-irving-on-hudson...</td>\n",
       "      <td>359</td>\n",
       "      <td>[{'alias': 'cocktailbars', 'title': 'Cocktail ...</td>\n",
       "      <td>4.3</td>\n",
       "      <td>[delivery]</td>\n",
       "      <td>...</td>\n",
       "      <td>-73.991717</td>\n",
       "      <td>310 W 40th St</td>\n",
       "      <td>None</td>\n",
       "      <td>None</td>\n",
       "      <td>New York</td>\n",
       "      <td>10018</td>\n",
       "      <td>US</td>\n",
       "      <td>NY</td>\n",
       "      <td>[310 W 40th St, New York, NY 10018]</td>\n",
       "      <td>NaN</td>\n",
       "    </tr>\n",
       "    <tr>\n",
       "      <th>46</th>\n",
       "      <td>AchEznbMLIcfGVD3pDBYsA</td>\n",
       "      <td>steight-new-york</td>\n",
       "      <td>Steight</td>\n",
       "      <td>https://s3-media0.fl.yelpcdn.com/bphoto/1HfKqm...</td>\n",
       "      <td>False</td>\n",
       "      <td>https://www.yelp.com/biz/steight-new-york?adju...</td>\n",
       "      <td>26</td>\n",
       "      <td>[{'alias': 'bars', 'title': 'Bars'}]</td>\n",
       "      <td>4.5</td>\n",
       "      <td>[]</td>\n",
       "      <td>...</td>\n",
       "      <td>-73.991820</td>\n",
       "      <td>116 Eldridge St</td>\n",
       "      <td>None</td>\n",
       "      <td></td>\n",
       "      <td>New York</td>\n",
       "      <td>10002</td>\n",
       "      <td>US</td>\n",
       "      <td>NY</td>\n",
       "      <td>[116 Eldridge St, New York, NY 10002]</td>\n",
       "      <td>NaN</td>\n",
       "    </tr>\n",
       "    <tr>\n",
       "      <th>47</th>\n",
       "      <td>qxvE0fEUHfAkUiAxHlEMWQ</td>\n",
       "      <td>famous-last-words-brooklyn</td>\n",
       "      <td>Famous Last Words</td>\n",
       "      <td>https://s3-media0.fl.yelpcdn.com/bphoto/jPn8OZ...</td>\n",
       "      <td>False</td>\n",
       "      <td>https://www.yelp.com/biz/famous-last-words-bro...</td>\n",
       "      <td>17</td>\n",
       "      <td>[{'alias': 'bars', 'title': 'Bars'}]</td>\n",
       "      <td>4.7</td>\n",
       "      <td>[]</td>\n",
       "      <td>...</td>\n",
       "      <td>-73.966240</td>\n",
       "      <td>925 Fulton St</td>\n",
       "      <td></td>\n",
       "      <td>None</td>\n",
       "      <td>Brooklyn</td>\n",
       "      <td>11238</td>\n",
       "      <td>US</td>\n",
       "      <td>NY</td>\n",
       "      <td>[925 Fulton St, Brooklyn, NY 11238]</td>\n",
       "      <td>NaN</td>\n",
       "    </tr>\n",
       "    <tr>\n",
       "      <th>48</th>\n",
       "      <td>huqNxKdJZonRgmkUtDP0tg</td>\n",
       "      <td>honeycomb-hi-fi-lounge-brooklyn</td>\n",
       "      <td>Honeycomb Hi-Fi Lounge</td>\n",
       "      <td>https://s3-media0.fl.yelpcdn.com/bphoto/IKEjBK...</td>\n",
       "      <td>False</td>\n",
       "      <td>https://www.yelp.com/biz/honeycomb-hi-fi-loung...</td>\n",
       "      <td>31</td>\n",
       "      <td>[{'alias': 'bars', 'title': 'Bars'}]</td>\n",
       "      <td>4.4</td>\n",
       "      <td>[]</td>\n",
       "      <td>...</td>\n",
       "      <td>-73.977780</td>\n",
       "      <td>74 5th Ave</td>\n",
       "      <td></td>\n",
       "      <td>None</td>\n",
       "      <td>Brooklyn</td>\n",
       "      <td>11217</td>\n",
       "      <td>US</td>\n",
       "      <td>NY</td>\n",
       "      <td>[74 5th Ave, Brooklyn, NY 11217]</td>\n",
       "      <td>NaN</td>\n",
       "    </tr>\n",
       "    <tr>\n",
       "      <th>49</th>\n",
       "      <td>LBU-q45dy308um77GBRmaA</td>\n",
       "      <td>bar-snack-new-york</td>\n",
       "      <td>Bar Snack</td>\n",
       "      <td>https://s3-media0.fl.yelpcdn.com/bphoto/SmEqYQ...</td>\n",
       "      <td>False</td>\n",
       "      <td>https://www.yelp.com/biz/bar-snack-new-york?ad...</td>\n",
       "      <td>17</td>\n",
       "      <td>[{'alias': 'bars', 'title': 'Bars'}]</td>\n",
       "      <td>4.7</td>\n",
       "      <td>[]</td>\n",
       "      <td>...</td>\n",
       "      <td>-73.988511</td>\n",
       "      <td>92 2nd Ave</td>\n",
       "      <td></td>\n",
       "      <td>None</td>\n",
       "      <td>New York</td>\n",
       "      <td>10003</td>\n",
       "      <td>US</td>\n",
       "      <td>NY</td>\n",
       "      <td>[92 2nd Ave, New York, NY 10003]</td>\n",
       "      <td>NaN</td>\n",
       "    </tr>\n",
       "  </tbody>\n",
       "</table>\n",
       "<p>50 rows × 24 columns</p>\n",
       "</div>"
      ],
      "text/plain": [
       "                        id                                       alias  \\\n",
       "0   KRp_qOt7ga8ormM1vo2P8A                      paradise-lost-new-york   \n",
       "1   zRXMvxUX_rOliKZPpkWi_g                            valerie-new-york   \n",
       "2   Biebaq8lEVLLNw0vszDeFQ                       hide-rooftop-new-york   \n",
       "3   cfKT8pNcaPQuZlaIwlEAOg                  hidden-lane-bar-new-york-3   \n",
       "4   RemvTpxalDjSew5HwmNzUQ                    the-dead-rabbit-new-york   \n",
       "5   pf5JBOPUBHbY6F4s15lk6g                        strangelove-new-york   \n",
       "6   8YWLuLUKj0t_0_Xv06UUtw                yes-apothecary-夜莺-new-york-5   \n",
       "7   H7S7-vF2z_HfaLo6BGPetw                            attaboy-new-york   \n",
       "8   zWrZBXj5F2V_0UknnTfqbw                    the-up-and-up-new-york-2   \n",
       "9   GJ3vgPvcJlOejZepOotQug                      the-woo-woo-new-york-2   \n",
       "10  dHKEJaysc51WnQ1Xfzkvpg                         wildflower-new-york   \n",
       "11  luuAHNLKBRF79pdfdYjfPg                         chapel-bar-new-york   \n",
       "12  gZz9A8k8ORC_xl0aHxtY4w                       monkey-bar-new-york-4   \n",
       "13  NK68f4P-qwrDFIoR8QzqoA                    osamil-upstairs-new-york   \n",
       "14  JXKCi089JT-6NHZ9kGRDrA                      161-lafayette-new-york   \n",
       "15  U03emTRwM6XWRamsYqHsuw                             barbam-new-york   \n",
       "16  8V4TgZmt5sXeaLuilaMJ7A                            sosos-new-york-2   \n",
       "17  5Fz1WlY3lxy8gJFs8s_1Dw                           the-binc-brooklyn   \n",
       "18  P3NfoMjBy_o2BTNNZ-5okg                         apotheke-new-york-4   \n",
       "19  -CZf3uyQ53o9lqMldBiq7A                         little-ned-new-york   \n",
       "20  rdXcbBve2X6Bst7UoQ6T0w                 sunken-harbor-club-brooklyn   \n",
       "21  Y7bbr09ssPvFojIIFBa6rA                          thyme-bar-new-york   \n",
       "22  pohS_d-8POAuLVj8x1_Seg                    somethin-else-brooklyn-3   \n",
       "23  9sU8ceKHiqNrLBMRM-aUkg                 harriets-rooftop-brooklyn-4   \n",
       "24  d6mslo1LlpkNPgb2HWOlEg                    fresh-kills-bar-brooklyn   \n",
       "25  mIgmxB2l_-p_f9pUe8kbpA                       the-tusk-bar-new-york   \n",
       "26  2DJjJu3sqaBCN7w4CwR5Dw                   livingston-manor-brooklyn   \n",
       "27  ePqKbqXFBCbwBaWiN2Jo9w                        ampersand-new-york-2   \n",
       "28  XRjeE9yFANgsG12FWUOoXg                               gair-brooklyn   \n",
       "29  LufHsx7SCHPRmuxxG-jO7A                          the-lobby-brooklyn   \n",
       "30  YOrKBjU2ZEmwHS5f-dcAhw                    another-country-new-york   \n",
       "31  oLA02lMIfgvbYquvXzkARw  lillies-victorian-establishment-new-york-2   \n",
       "32  4nohlTsGHEDdpwYkRTt-fA                rudys-bar-and-grill-new-york   \n",
       "33  oiyThpeH8-gcynus-I20UQ                   the-rhymers-club-new-york   \n",
       "34  0XL_3hwGWRyOuZ1C_i_RJw                         bar-bonobo-new-york   \n",
       "35  UDsvp_twMrRa9j6lnZNjow                     nobody-told-me-brooklyn   \n",
       "36  Gi4A4ibrznMIsy9oGi2t-g                     dear-strangers-new-york   \n",
       "37  gjwELZmHUNO0WdqXYBEbcg                         the-belfry-new-york   \n",
       "38  IBgjj5VBu5JJvKgo9EzKrg                the-three-monkeys-new-york-5   \n",
       "39  H8mnryiCI02N00g9vuFDLg                        the-library-new-york   \n",
       "40  mMF3G7rW6UjIqoFAwWuqjg                           carousel-brooklyn   \n",
       "41  -dQexkmhlgbiKvZ94jBmjQ                        dear-irving-new-york   \n",
       "42  FTgaIRluLuqHcJ_bA_Pudw                       odd-sister-new-york-2   \n",
       "43  wygR5Tl5bS42ojSGEZHf8w                           bar-cima-new-york   \n",
       "44  aiRctIzCj9J3UqBHd-Z3HQ                 please-dont-tell-new-york-2   \n",
       "45  W_I1ze_NZICJcDDoFttmlw              dear-irving-on-hudson-new-york   \n",
       "46  AchEznbMLIcfGVD3pDBYsA                            steight-new-york   \n",
       "47  qxvE0fEUHfAkUiAxHlEMWQ                  famous-last-words-brooklyn   \n",
       "48  huqNxKdJZonRgmkUtDP0tg             honeycomb-hi-fi-lounge-brooklyn   \n",
       "49  LBU-q45dy308um77GBRmaA                          bar-snack-new-york   \n",
       "\n",
       "                                 name  \\\n",
       "0                       Paradise Lost   \n",
       "1                             Valerie   \n",
       "2                        Hide Rooftop   \n",
       "3                     Hidden Lane Bar   \n",
       "4                     The Dead Rabbit   \n",
       "5                         Strangelove   \n",
       "6                  Ye's Apothecary 夜莺   \n",
       "7                             Attaboy   \n",
       "8                         The Up & Up   \n",
       "9                         The Woo Woo   \n",
       "10                         Wildflower   \n",
       "11                         Chapel Bar   \n",
       "12                         Monkey Bar   \n",
       "13                    Osamil Upstairs   \n",
       "14                      161 Lafayette   \n",
       "15                             Barbam   \n",
       "16                             Soso's   \n",
       "17                           The Binc   \n",
       "18                           Apotheke   \n",
       "19                         Little Ned   \n",
       "20                 Sunken Harbor Club   \n",
       "21                          Thyme Bar   \n",
       "22                      Somethin Else   \n",
       "23                  Harriet's Rooftop   \n",
       "24                    Fresh Kills Bar   \n",
       "25                       The Tusk Bar   \n",
       "26                   Livingston Manor   \n",
       "27                          Ampersand   \n",
       "28                               Gair   \n",
       "29                          The Lobby   \n",
       "30                    Another Country   \n",
       "31   Lillie's Victorian Establishment   \n",
       "32                 Rudy's Bar & Grill   \n",
       "33                   The Rhymers Club   \n",
       "34                         Bar Bonobo   \n",
       "35                     Nobody Told Me   \n",
       "36                     Dear Strangers   \n",
       "37                         The Belfry   \n",
       "38                  The Three Monkeys   \n",
       "39                        The Library   \n",
       "40                           Carousel   \n",
       "41               Dear Irving Gramercy   \n",
       "42                         Odd Sister   \n",
       "43                           Bar Cima   \n",
       "44                  Please Don't Tell   \n",
       "45  Dear Irving on Hudson Rooftop Bar   \n",
       "46                            Steight   \n",
       "47                  Famous Last Words   \n",
       "48             Honeycomb Hi-Fi Lounge   \n",
       "49                          Bar Snack   \n",
       "\n",
       "                                            image_url  is_closed  \\\n",
       "0   https://s3-media0.fl.yelpcdn.com/bphoto/rECk1k...      False   \n",
       "1   https://s3-media0.fl.yelpcdn.com/bphoto/mnH5QF...      False   \n",
       "2   https://s3-media0.fl.yelpcdn.com/bphoto/TKYoY-...      False   \n",
       "3   https://s3-media0.fl.yelpcdn.com/bphoto/fTfm_6...      False   \n",
       "4   https://s3-media0.fl.yelpcdn.com/bphoto/KkzEm9...      False   \n",
       "5   https://s3-media0.fl.yelpcdn.com/bphoto/a9IzI1...      False   \n",
       "6   https://s3-media0.fl.yelpcdn.com/bphoto/y4pAeB...      False   \n",
       "7   https://s3-media0.fl.yelpcdn.com/bphoto/0J7R47...      False   \n",
       "8   https://s3-media0.fl.yelpcdn.com/bphoto/YGeEqF...      False   \n",
       "9   https://s3-media0.fl.yelpcdn.com/bphoto/7QBj6q...      False   \n",
       "10  https://s3-media0.fl.yelpcdn.com/bphoto/QrOWmR...      False   \n",
       "11  https://s3-media0.fl.yelpcdn.com/bphoto/JylRyi...      False   \n",
       "12  https://s3-media0.fl.yelpcdn.com/bphoto/IxVJIa...      False   \n",
       "13  https://s3-media0.fl.yelpcdn.com/bphoto/Gz4yVf...      False   \n",
       "14  https://s3-media0.fl.yelpcdn.com/bphoto/gDr70W...      False   \n",
       "15  https://s3-media0.fl.yelpcdn.com/bphoto/hIOoTZ...      False   \n",
       "16  https://s3-media0.fl.yelpcdn.com/bphoto/XYX06L...      False   \n",
       "17  https://s3-media0.fl.yelpcdn.com/bphoto/xRNohq...      False   \n",
       "18  https://s3-media0.fl.yelpcdn.com/bphoto/1MO5Ak...      False   \n",
       "19  https://s3-media0.fl.yelpcdn.com/bphoto/rP2-6g...      False   \n",
       "20  https://s3-media0.fl.yelpcdn.com/bphoto/e3zxGK...      False   \n",
       "21  https://s3-media0.fl.yelpcdn.com/bphoto/foaL7j...      False   \n",
       "22  https://s3-media0.fl.yelpcdn.com/bphoto/KfgFcU...      False   \n",
       "23  https://s3-media0.fl.yelpcdn.com/bphoto/5yUibm...      False   \n",
       "24  https://s3-media0.fl.yelpcdn.com/bphoto/LSvuNu...      False   \n",
       "25  https://s3-media0.fl.yelpcdn.com/bphoto/ztoYQq...      False   \n",
       "26  https://s3-media0.fl.yelpcdn.com/bphoto/ULfPxn...      False   \n",
       "27  https://s3-media0.fl.yelpcdn.com/bphoto/bfRqLD...      False   \n",
       "28  https://s3-media0.fl.yelpcdn.com/bphoto/2HJjpG...      False   \n",
       "29  https://s3-media0.fl.yelpcdn.com/bphoto/jdT7a3...      False   \n",
       "30  https://s3-media0.fl.yelpcdn.com/bphoto/m2ij29...      False   \n",
       "31  https://s3-media0.fl.yelpcdn.com/bphoto/Qfp5Nq...      False   \n",
       "32  https://s3-media0.fl.yelpcdn.com/bphoto/2366Dg...      False   \n",
       "33  https://s3-media0.fl.yelpcdn.com/bphoto/JH7ZwV...      False   \n",
       "34  https://s3-media0.fl.yelpcdn.com/bphoto/wRvmx2...      False   \n",
       "35  https://s3-media0.fl.yelpcdn.com/bphoto/YBn6RV...      False   \n",
       "36  https://s3-media0.fl.yelpcdn.com/bphoto/xWvuB-...      False   \n",
       "37  https://s3-media0.fl.yelpcdn.com/bphoto/1cvqfs...      False   \n",
       "38  https://s3-media0.fl.yelpcdn.com/bphoto/2-wriR...      False   \n",
       "39  https://s3-media0.fl.yelpcdn.com/bphoto/GxHnYu...      False   \n",
       "40  https://s3-media0.fl.yelpcdn.com/bphoto/Q-T5TX...      False   \n",
       "41  https://s3-media0.fl.yelpcdn.com/bphoto/dTkZjz...      False   \n",
       "42  https://s3-media0.fl.yelpcdn.com/bphoto/iyqbK6...      False   \n",
       "43  https://s3-media0.fl.yelpcdn.com/bphoto/b_lHdM...      False   \n",
       "44  https://s3-media0.fl.yelpcdn.com/bphoto/uHUYyX...      False   \n",
       "45  https://s3-media0.fl.yelpcdn.com/bphoto/5e_7Fj...      False   \n",
       "46  https://s3-media0.fl.yelpcdn.com/bphoto/1HfKqm...      False   \n",
       "47  https://s3-media0.fl.yelpcdn.com/bphoto/jPn8OZ...      False   \n",
       "48  https://s3-media0.fl.yelpcdn.com/bphoto/IKEjBK...      False   \n",
       "49  https://s3-media0.fl.yelpcdn.com/bphoto/SmEqYQ...      False   \n",
       "\n",
       "                                                  url  review_count  \\\n",
       "0   https://www.yelp.com/biz/paradise-lost-new-yor...           122   \n",
       "1   https://www.yelp.com/biz/valerie-new-york?adju...          1245   \n",
       "2   https://www.yelp.com/biz/hide-rooftop-new-york...            52   \n",
       "3   https://www.yelp.com/biz/hidden-lane-bar-new-y...            91   \n",
       "4   https://www.yelp.com/biz/the-dead-rabbit-new-y...          2037   \n",
       "5   https://www.yelp.com/biz/strangelove-new-york?...            79   \n",
       "6   https://www.yelp.com/biz/yes-apothecary-%E5%A4...           978   \n",
       "7   https://www.yelp.com/biz/attaboy-new-york?adju...           852   \n",
       "8   https://www.yelp.com/biz/the-up-and-up-new-yor...           601   \n",
       "9   https://www.yelp.com/biz/the-woo-woo-new-york-...           301   \n",
       "10  https://www.yelp.com/biz/wildflower-new-york?a...            35   \n",
       "11  https://www.yelp.com/biz/chapel-bar-new-york?a...            58   \n",
       "12  https://www.yelp.com/biz/monkey-bar-new-york-4...           319   \n",
       "13  https://www.yelp.com/biz/osamil-upstairs-new-y...           131   \n",
       "14  https://www.yelp.com/biz/161-lafayette-new-yor...            16   \n",
       "15  https://www.yelp.com/biz/barbam-new-york?adjus...            53   \n",
       "16  https://www.yelp.com/biz/sosos-new-york-2?adju...            46   \n",
       "17  https://www.yelp.com/biz/the-binc-brooklyn?adj...           113   \n",
       "18  https://www.yelp.com/biz/apotheke-new-york-4?a...          1569   \n",
       "19  https://www.yelp.com/biz/little-ned-new-york?a...            42   \n",
       "20  https://www.yelp.com/biz/sunken-harbor-club-br...           101   \n",
       "21  https://www.yelp.com/biz/thyme-bar-new-york?ad...           336   \n",
       "22  https://www.yelp.com/biz/somethin-else-brookly...            10   \n",
       "23  https://www.yelp.com/biz/harriets-rooftop-broo...           334   \n",
       "24  https://www.yelp.com/biz/fresh-kills-bar-brook...           237   \n",
       "25  https://www.yelp.com/biz/the-tusk-bar-new-york...            26   \n",
       "26  https://www.yelp.com/biz/livingston-manor-broo...           149   \n",
       "27  https://www.yelp.com/biz/ampersand-new-york-2?...           280   \n",
       "28  https://www.yelp.com/biz/gair-brooklyn?adjust_...            21   \n",
       "29  https://www.yelp.com/biz/the-lobby-brooklyn?ad...            13   \n",
       "30  https://www.yelp.com/biz/another-country-new-y...            13   \n",
       "31  https://www.yelp.com/biz/lillies-victorian-est...          1949   \n",
       "32  https://www.yelp.com/biz/rudys-bar-and-grill-n...          1262   \n",
       "33  https://www.yelp.com/biz/the-rhymers-club-new-...            12   \n",
       "34  https://www.yelp.com/biz/bar-bonobo-new-york?a...            58   \n",
       "35  https://www.yelp.com/biz/nobody-told-me-brookl...            36   \n",
       "36  https://www.yelp.com/biz/dear-strangers-new-yo...            14   \n",
       "37  https://www.yelp.com/biz/the-belfry-new-york?a...           561   \n",
       "38  https://www.yelp.com/biz/the-three-monkeys-new...          1439   \n",
       "39  https://www.yelp.com/biz/the-library-new-york?...           426   \n",
       "40  https://www.yelp.com/biz/carousel-brooklyn?adj...            15   \n",
       "41  https://www.yelp.com/biz/dear-irving-new-york?...           775   \n",
       "42  https://www.yelp.com/biz/odd-sister-new-york-2...            99   \n",
       "43  https://www.yelp.com/biz/bar-cima-new-york?adj...            52   \n",
       "44  https://www.yelp.com/biz/please-dont-tell-new-...          2029   \n",
       "45  https://www.yelp.com/biz/dear-irving-on-hudson...           359   \n",
       "46  https://www.yelp.com/biz/steight-new-york?adju...            26   \n",
       "47  https://www.yelp.com/biz/famous-last-words-bro...            17   \n",
       "48  https://www.yelp.com/biz/honeycomb-hi-fi-loung...            31   \n",
       "49  https://www.yelp.com/biz/bar-snack-new-york?ad...            17   \n",
       "\n",
       "                                           categories  rating  \\\n",
       "0   [{'alias': 'cocktailbars', 'title': 'Cocktail ...     4.6   \n",
       "1   [{'alias': 'newamerican', 'title': 'New Americ...     4.3   \n",
       "2   [{'alias': 'lounges', 'title': 'Lounges'}, {'a...     4.8   \n",
       "3                [{'alias': 'bars', 'title': 'Bars'}]     4.3   \n",
       "4   [{'alias': 'cocktailbars', 'title': 'Cocktail ...     4.2   \n",
       "5       [{'alias': 'divebars', 'title': 'Dive Bars'}]     4.6   \n",
       "6   [{'alias': 'szechuan', 'title': 'Szechuan'}, {...     4.6   \n",
       "7   [{'alias': 'cocktailbars', 'title': 'Cocktail ...     4.1   \n",
       "8   [{'alias': 'cocktailbars', 'title': 'Cocktail ...     4.2   \n",
       "9   [{'alias': 'speakeasies', 'title': 'Speakeasie...     4.4   \n",
       "10  [{'alias': 'cocktailbars', 'title': 'Cocktail ...     4.1   \n",
       "11  [{'alias': 'cocktailbars', 'title': 'Cocktail ...     3.7   \n",
       "12  [{'alias': 'tradamerican', 'title': 'American'...     4.3   \n",
       "13  [{'alias': 'cocktailbars', 'title': 'Cocktail ...     4.3   \n",
       "14  [{'alias': 'bars', 'title': 'Bars'}, {'alias':...     4.4   \n",
       "15  [{'alias': 'speakeasies', 'title': 'Speakeasie...     4.7   \n",
       "16  [{'alias': 'cocktailbars', 'title': 'Cocktail ...     4.2   \n",
       "17  [{'alias': 'cocktailbars', 'title': 'Cocktail ...     4.4   \n",
       "18  [{'alias': 'cocktailbars', 'title': 'Cocktail ...     3.8   \n",
       "19  [{'alias': 'cocktailbars', 'title': 'Cocktail ...     4.8   \n",
       "20  [{'alias': 'cocktailbars', 'title': 'Cocktail ...     4.5   \n",
       "21  [{'alias': 'cocktailbars', 'title': 'Cocktail ...     4.1   \n",
       "22  [{'alias': 'musicvenues', 'title': 'Music Venu...     4.3   \n",
       "23  [{'alias': 'lounges', 'title': 'Lounges'}, {'a...     3.3   \n",
       "24  [{'alias': 'cocktailbars', 'title': 'Cocktail ...     4.3   \n",
       "25  [{'alias': 'cocktailbars', 'title': 'Cocktail ...     4.3   \n",
       "26               [{'alias': 'bars', 'title': 'Bars'}]     4.0   \n",
       "27  [{'alias': 'cocktailbars', 'title': 'Cocktail ...     4.3   \n",
       "28  [{'alias': 'cocktailbars', 'title': 'Cocktail ...     4.6   \n",
       "29               [{'alias': 'bars', 'title': 'Bars'}]     4.5   \n",
       "30  [{'alias': 'cocktailbars', 'title': 'Cocktail ...     4.6   \n",
       "31  [{'alias': 'bars', 'title': 'Bars'}, {'alias':...     3.9   \n",
       "32  [{'alias': 'divebars', 'title': 'Dive Bars'}, ...     4.3   \n",
       "33  [{'alias': 'cocktailbars', 'title': 'Cocktail ...     4.5   \n",
       "34  [{'alias': 'cocktailbars', 'title': 'Cocktail ...     4.3   \n",
       "35  [{'alias': 'bars', 'title': 'Bars'}, {'alias':...     4.4   \n",
       "36  [{'alias': 'cocktailbars', 'title': 'Cocktail ...     4.6   \n",
       "37  [{'alias': 'cocktailbars', 'title': 'Cocktail ...     4.1   \n",
       "38  [{'alias': 'sportsbars', 'title': 'Sports Bars...     4.2   \n",
       "39      [{'alias': 'divebars', 'title': 'Dive Bars'}]     3.8   \n",
       "40               [{'alias': 'bars', 'title': 'Bars'}]     3.9   \n",
       "41  [{'alias': 'venues', 'title': 'Venues & Event ...     4.3   \n",
       "42  [{'alias': 'cocktailbars', 'title': 'Cocktail ...     4.3   \n",
       "43  [{'alias': 'lounges', 'title': 'Lounges'}, {'a...     4.1   \n",
       "44  [{'alias': 'lounges', 'title': 'Lounges'}, {'a...     3.9   \n",
       "45  [{'alias': 'cocktailbars', 'title': 'Cocktail ...     4.3   \n",
       "46               [{'alias': 'bars', 'title': 'Bars'}]     4.5   \n",
       "47               [{'alias': 'bars', 'title': 'Bars'}]     4.7   \n",
       "48               [{'alias': 'bars', 'title': 'Bars'}]     4.4   \n",
       "49               [{'alias': 'bars', 'title': 'Bars'}]     4.7   \n",
       "\n",
       "          transactions  ... coordinates.longitude  \\\n",
       "0                   []  ...            -73.988362   \n",
       "1           [delivery]  ...            -73.981117   \n",
       "2                   []  ...            -74.008740   \n",
       "3                   []  ...            -73.987674   \n",
       "4   [delivery, pickup]  ...            -74.011020   \n",
       "5                   []  ...            -73.968090   \n",
       "6                   []  ...            -73.989800   \n",
       "7           [delivery]  ...            -73.991340   \n",
       "8   [delivery, pickup]  ...            -74.000669   \n",
       "9                   []  ...            -73.987240   \n",
       "10  [delivery, pickup]  ...            -74.004369   \n",
       "11                  []  ...            -73.986870   \n",
       "12                  []  ...            -73.973130   \n",
       "13          [delivery]  ...            -73.986431   \n",
       "14          [delivery]  ...            -73.999080   \n",
       "15                  []  ...            -73.986744   \n",
       "16                  []  ...            -73.999765   \n",
       "17          [delivery]  ...            -73.992270   \n",
       "18                  []  ...            -73.998172   \n",
       "19                  []  ...            -73.988235   \n",
       "20                  []  ...            -73.987861   \n",
       "21          [delivery]  ...            -73.990591   \n",
       "22                  []  ...            -73.983315   \n",
       "23          [delivery]  ...            -73.995592   \n",
       "24          [delivery]  ...            -73.961510   \n",
       "25                  []  ...            -73.986931   \n",
       "26          [delivery]  ...            -73.986071   \n",
       "27          [delivery]  ...            -73.983421   \n",
       "28                  []  ...            -73.989414   \n",
       "29                  []  ...            -73.983740   \n",
       "30                  []  ...            -73.992064   \n",
       "31            [pickup]  ...            -73.986052   \n",
       "32                  []  ...            -73.991794   \n",
       "33                  []  ...            -73.987350   \n",
       "34                  []  ...            -73.999823   \n",
       "35  [delivery, pickup]  ...            -73.984938   \n",
       "36                  []  ...            -74.000413   \n",
       "37                  []  ...            -73.986286   \n",
       "38  [delivery, pickup]  ...            -73.985763   \n",
       "39                  []  ...            -73.986343   \n",
       "40                  []  ...            -73.922135   \n",
       "41            [pickup]  ...            -73.987240   \n",
       "42  [delivery, pickup]  ...            -74.001446   \n",
       "43                  []  ...            -73.983830   \n",
       "44                  []  ...            -73.983721   \n",
       "45          [delivery]  ...            -73.991717   \n",
       "46                  []  ...            -73.991820   \n",
       "47                  []  ...            -73.966240   \n",
       "48                  []  ...            -73.977780   \n",
       "49                  []  ...            -73.988511   \n",
       "\n",
       "                     location.address1  location.address2  \\\n",
       "0                          100 2nd Ave               None   \n",
       "1   45 W 45th St between 5th & 6th Ave                      \n",
       "2                           24 John St              Fl 20   \n",
       "3                        129 E 15th St               None   \n",
       "4                          30 Water St                      \n",
       "5                        229 E 53rd St                      \n",
       "6                       119 Orchard St               None   \n",
       "7                      134 Eldridge St                      \n",
       "8                     116 MacDougal St                      \n",
       "9                        266 W 47th St                      \n",
       "10                       505 W 23rd St                      \n",
       "11                      275 Park Ave S                      \n",
       "12                        60 E 54th St                      \n",
       "13                         5 W 31st St               Fl 2   \n",
       "14                    161 Lafayette St                      \n",
       "15                        32 W 33rd St             Ste B1   \n",
       "16                       191 Centre St               None   \n",
       "17                         60 Henry St               None   \n",
       "18                         9 Doyers St                      \n",
       "19                        10 W 28th St                      \n",
       "20                       372 Fulton St               Fl 2   \n",
       "21                 20 W 23rd St Cellar                      \n",
       "22                  445 Albee Square W                      \n",
       "23                        60 Furman St              Fl 11   \n",
       "24                        161 Grand St                      \n",
       "25                      7 East 27th St               None   \n",
       "26                          42 Hoyt St                      \n",
       "27                         294 3rd Ave                      \n",
       "28                    41 Washington St                      \n",
       "29                 252 Schermerhorn St                      \n",
       "30                        10 E 16th St                      \n",
       "31                       249 W 49th St                      \n",
       "32                         627 9th Ave                      \n",
       "33                  37 1/2 St Marks Pl                      \n",
       "34                         184 8th Ave               None   \n",
       "35                        188 Front St               None   \n",
       "36                     147 West 4th St                      \n",
       "37                       222 E 14th St               None   \n",
       "38                         832 8th Ave                      \n",
       "39                             7 Ave A                      \n",
       "40                      36 Wyckoff Ave               None   \n",
       "41                        55 Irving Pl                      \n",
       "42                        45 Mercer St               None   \n",
       "43                        30 W 39th St                      \n",
       "44                     113 St Marks Pl                      \n",
       "45                       310 W 40th St               None   \n",
       "46                     116 Eldridge St               None   \n",
       "47                       925 Fulton St                      \n",
       "48                          74 5th Ave                      \n",
       "49                          92 2nd Ave                      \n",
       "\n",
       "       location.address3  location.city location.zip_code location.country  \\\n",
       "0                              New York             10003               US   \n",
       "1                   None       New York             10036               US   \n",
       "2                              New York             10038               US   \n",
       "3                              New York             10003               US   \n",
       "4                              New York             10004               US   \n",
       "5                   None       New York             10022               US   \n",
       "6                              New York             10002               US   \n",
       "7                              New York             10002               US   \n",
       "8                              New York             10012               US   \n",
       "9                   None       New York             10036               US   \n",
       "10                  None       New York             10011               US   \n",
       "11                  None       New York             10010               US   \n",
       "12                  None       New York             10022               US   \n",
       "13                  None       New York             10001               US   \n",
       "14                  None       New York             10013               US   \n",
       "15                             New York             10001               US   \n",
       "16                             New York             10013               US   \n",
       "17                             Brooklyn             11201               US   \n",
       "18                             New York             10013               US   \n",
       "19                  None       New York             10001               US   \n",
       "20                  None       Brooklyn             11201               US   \n",
       "21                  None       New York             10010               US   \n",
       "22                  None       Brooklyn             11201               US   \n",
       "23                  None       Brooklyn             11201               US   \n",
       "24                             Brooklyn             11249               US   \n",
       "25                             New York             10016               US   \n",
       "26                             Brooklyn             11201               US   \n",
       "27                             New York             10010               US   \n",
       "28                  None       Brooklyn             11201               US   \n",
       "29  Ace Hotel - Brooklyn       Brooklyn             11217               US   \n",
       "30                  None       New York             10003               US   \n",
       "31                             New York             10019               US   \n",
       "32                             New York             10036               US   \n",
       "33                  None       New York             10003               US   \n",
       "34                             New York             10011               US   \n",
       "35                             Brooklyn             11201               US   \n",
       "36                  None       New York             10012               US   \n",
       "37                             New York             10003               US   \n",
       "38                             New York             10019               US   \n",
       "39                             New York             10009               US   \n",
       "40                  None       Brooklyn             11237               US   \n",
       "41                             New York             10003               US   \n",
       "42                             New York             10013               US   \n",
       "43                  None       New York             10018               US   \n",
       "44                             New York             10009               US   \n",
       "45                  None       New York             10018               US   \n",
       "46                             New York             10002               US   \n",
       "47                  None       Brooklyn             11238               US   \n",
       "48                  None       Brooklyn             11217               US   \n",
       "49                  None       New York             10003               US   \n",
       "\n",
       "   location.state                           location.display_address price  \n",
       "0              NY                  [100 2nd Ave, New York, NY 10003]   NaN  \n",
       "1              NY  [45 W 45th St between 5th & 6th Ave, New York,...    $$  \n",
       "2              NY            [24 John St, Fl 20, New York, NY 10038]   NaN  \n",
       "3              NY                [129 E 15th St, New York, NY 10003]   NaN  \n",
       "4              NY                  [30 Water St, New York, NY 10004]    $$  \n",
       "5              NY                [229 E 53rd St, New York, NY 10022]     $  \n",
       "6              NY               [119 Orchard St, New York, NY 10002]    $$  \n",
       "7              NY              [134 Eldridge St, New York, NY 10002]    $$  \n",
       "8              NY             [116 MacDougal St, New York, NY 10012]    $$  \n",
       "9              NY                [266 W 47th St, New York, NY 10036]    $$  \n",
       "10             NY                [505 W 23rd St, New York, NY 10011]   NaN  \n",
       "11             NY               [275 Park Ave S, New York, NY 10010]   NaN  \n",
       "12             NY                 [60 E 54th St, New York, NY 10022]   NaN  \n",
       "13             NY            [5 W 31st St, Fl 2, New York, NY 10001]   NaN  \n",
       "14             NY             [161 Lafayette St, New York, NY 10013]   NaN  \n",
       "15             NY         [32 W 33rd St, Ste B1, New York, NY 10001]   NaN  \n",
       "16             NY                [191 Centre St, New York, NY 10013]   NaN  \n",
       "17             NY                  [60 Henry St, Brooklyn, NY 11201]    $$  \n",
       "18             NY                  [9 Doyers St, New York, NY 10013]   $$$  \n",
       "19             NY                 [10 W 28th St, New York, NY 10001]   NaN  \n",
       "20             NY          [372 Fulton St, Fl 2, Brooklyn, NY 11201]   $$$  \n",
       "21             NY          [20 W 23rd St Cellar, New York, NY 10010]    $$  \n",
       "22             NY           [445 Albee Square W, Brooklyn, NY 11201]   NaN  \n",
       "23             NY          [60 Furman St, Fl 11, Brooklyn, NY 11201]   $$$  \n",
       "24             NY                 [161 Grand St, Brooklyn, NY 11249]    $$  \n",
       "25             NY               [7 East 27th St, New York, NY 10016]   NaN  \n",
       "26             NY                   [42 Hoyt St, Brooklyn, NY 11201]    $$  \n",
       "27             NY                  [294 3rd Ave, New York, NY 10010]    $$  \n",
       "28             NY             [41 Washington St, Brooklyn, NY 11201]   NaN  \n",
       "29             NY  [252 Schermerhorn St, Ace Hotel - Brooklyn, Br...   NaN  \n",
       "30             NY                 [10 E 16th St, New York, NY 10003]   NaN  \n",
       "31             NY                [249 W 49th St, New York, NY 10019]    $$  \n",
       "32             NY                  [627 9th Ave, New York, NY 10036]     $  \n",
       "33             NY           [37 1/2 St Marks Pl, New York, NY 10003]   NaN  \n",
       "34             NY                  [184 8th Ave, New York, NY 10011]   NaN  \n",
       "35             NY                 [188 Front St, Brooklyn, NY 11201]   NaN  \n",
       "36             NY              [147 West 4th St, New York, NY 10012]   NaN  \n",
       "37             NY                [222 E 14th St, New York, NY 10003]    $$  \n",
       "38             NY                  [832 8th Ave, New York, NY 10019]    $$  \n",
       "39             NY                      [7 Ave A, New York, NY 10009]     $  \n",
       "40             NY               [36 Wyckoff Ave, Brooklyn, NY 11237]   NaN  \n",
       "41             NY                 [55 Irving Pl, New York, NY 10003]   $$$  \n",
       "42             NY                 [45 Mercer St, New York, NY 10013]   NaN  \n",
       "43             NY                 [30 W 39th St, New York, NY 10018]   $$$  \n",
       "44             NY              [113 St Marks Pl, New York, NY 10009]   $$$  \n",
       "45             NY                [310 W 40th St, New York, NY 10018]   NaN  \n",
       "46             NY              [116 Eldridge St, New York, NY 10002]   NaN  \n",
       "47             NY                [925 Fulton St, Brooklyn, NY 11238]   NaN  \n",
       "48             NY                   [74 5th Ave, Brooklyn, NY 11217]   NaN  \n",
       "49             NY                   [92 2nd Ave, New York, NY 10003]   NaN  \n",
       "\n",
       "[50 rows x 24 columns]"
      ]
     },
     "execution_count": 34,
     "metadata": {},
     "output_type": "execute_result"
    }
   ],
   "source": [
    "df = pd.json_normalize(data['businesses'])\n",
    "df"
   ]
  }
 ],
 "metadata": {
  "kernelspec": {
   "display_name": "Python 3",
   "language": "python",
   "name": "python3"
  },
  "language_info": {
   "codemirror_mode": {
    "name": "ipython",
    "version": 3
   },
   "file_extension": ".py",
   "mimetype": "text/x-python",
   "name": "python",
   "nbconvert_exporter": "python",
   "pygments_lexer": "ipython3",
   "version": "3.13.3"
  }
 },
 "nbformat": 4,
 "nbformat_minor": 5
}
