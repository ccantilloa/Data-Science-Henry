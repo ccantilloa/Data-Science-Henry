{
 "cells": [
  {
   "cell_type": "markdown",
   "id": "0b946c9b",
   "metadata": {},
   "source": [
    "# Avance 2: Descarga de datos de negocios desde la API de yelp:"
   ]
  },
  {
   "cell_type": "markdown",
   "id": "ab6263ca",
   "metadata": {},
   "source": [
    "Se importan los modulos a utilizar. La API de yelp es de tipo REST, por lo que se importa requests para realizar y recibir payloads en http.\n",
    "Adicionalmente, se importa load_dotenv poder acceder a las variables de environment que tengamos y os para poder cargar esas variables de enviroment. Esto es con el fin de manejar de manera segura las credenciales de aceso a la API Yelp (Las cuales estan en un archivo .env).\n",
    "\n",
    "En el archivo .env.example se tiene la estructura de como deben ir registrados los datos de usario y contraseña. **Se deben ingresar en este archivo las credenciales adecuadas de aceso y ademas cambiar el nombre de archivo de .env.example a .env**"
   ]
  },
  {
   "cell_type": "code",
   "execution_count": null,
   "id": "49a868ce",
   "metadata": {},
   "outputs": [],
   "source": [
    "import requests\n",
    "import pandas as pd\n",
    "import os\n",
    "import load_dotenv"
   ]
  },
  {
   "cell_type": "code",
   "execution_count": 121,
   "id": "fa6de334",
   "metadata": {},
   "outputs": [],
   "source": [
    "# Obtener las credenciales de la API desde las variables de entorno. Deberías tener un archivo .env con estas variables definidas.\n",
    "load_dotenv.load_dotenv()\n",
    "cliente_id = os.getenv(\"CLIENTE_ID\")\n",
    "api_key = os.getenv(\"API_KEY\")\n",
    "headers = {'Authorization':'Bearer %s'%api_key}"
   ]
  },
  {
   "cell_type": "markdown",
   "id": "8f4b0093",
   "metadata": {},
   "source": [
    "Ya teniendo la api_key y el cliente_id, se aplicaran los http requests al endpoint de la API: https://api.yelp.com/v3/businesses/search\n",
    "\n",
    "De acuerdo a la documentacion de Yelp, la variable 'term' puede contener categorias y 'location' puede usarse para filtrar por ciudad. En este caso usaremos 'restaurants' y 'Chicago' como se ve a continuacion:"
   ]
  },
  {
   "cell_type": "code",
   "execution_count": 122,
   "id": "77075ab5",
   "metadata": {},
   "outputs": [],
   "source": [
    "# Parámetros de búsqueda (puedes ajustarlos según tus necesidades). Se define \n",
    "url = \"https://api.yelp.com/v3/businesses/search\"\n",
    "ciudad = 'Chicago'\n",
    "term='restaurants'"
   ]
  },
  {
   "cell_type": "markdown",
   "id": "5f4742ea",
   "metadata": {},
   "source": [
    "Adicionalmente, la API solo acepta 50 filas por request y hasta un maximo de 240 filas. Por ende, para recolectar todos los posibles datos se crea un loop en el que se adicionan todas las consultas a una lista:"
   ]
  },
  {
   "cell_type": "code",
   "execution_count": 123,
   "id": "c1ac3c8a",
   "metadata": {},
   "outputs": [],
   "source": [
    "# se define un limite de 30 filas por request y un maximo de 240 filas\n",
    "limit=30\n",
    "max_entries= 240\n",
    "\n",
    "# Realizar múltiples solicitudes para obtener más resultados de acuerdo con el límite y el offset especificados anteriormente\n",
    "resultados=[]\n",
    "for offset in range(0, max_entries, limit):\n",
    "    params = {'term':term, 'location':ciudad, 'limit':limit, 'offset':offset}\n",
    "    response = requests.get(url, headers=headers, params=params)\n",
    "    if response.status_code != 200:\n",
    "        print(\"Error:\", response.json())\n",
    "        break\n",
    "    \n",
    "    data = response.json()\n",
    "    negocios = data.get(\"businesses\", []) # obtener la lista de negocios de la respuesta, si no existe, asigna una lista vacía\n",
    "\n",
    "    if not negocios:  # si ya no hay más resultados\n",
    "        break\n",
    "\n",
    "    resultados.extend(negocios)\n"
   ]
  },
  {
   "cell_type": "markdown",
   "id": "fb5cede1",
   "metadata": {},
   "source": [
    "La lista de dictionarios se convierte ahora a dataframe:"
   ]
  },
  {
   "cell_type": "code",
   "execution_count": 129,
   "id": "240cb371",
   "metadata": {},
   "outputs": [],
   "source": [
    "# Convertir la lista de resultados en un DataFrame de pandas\n",
    "df_negocios = pd.json_normalize(resultados)"
   ]
  },
  {
   "cell_type": "code",
   "execution_count": 107,
   "id": "f88956d9",
   "metadata": {},
   "outputs": [
    {
     "name": "stdout",
     "output_type": "stream",
     "text": [
      "<class 'pandas.core.frame.DataFrame'>\n",
      "RangeIndex: 240 entries, 0 to 239\n",
      "Data columns (total 24 columns):\n",
      " #   Column                    Non-Null Count  Dtype  \n",
      "---  ------                    --------------  -----  \n",
      " 0   id                        240 non-null    object \n",
      " 1   alias                     240 non-null    object \n",
      " 2   name                      240 non-null    object \n",
      " 3   image_url                 240 non-null    object \n",
      " 4   is_closed                 240 non-null    bool   \n",
      " 5   url                       240 non-null    object \n",
      " 6   review_count              240 non-null    int64  \n",
      " 7   categories                240 non-null    object \n",
      " 8   rating                    240 non-null    float64\n",
      " 9   transactions              240 non-null    object \n",
      " 10  price                     155 non-null    object \n",
      " 11  phone                     240 non-null    object \n",
      " 12  display_phone             240 non-null    object \n",
      " 13  distance                  240 non-null    float64\n",
      " 14  coordinates.latitude      240 non-null    float64\n",
      " 15  coordinates.longitude     240 non-null    float64\n",
      " 16  location.address1         239 non-null    object \n",
      " 17  location.address2         155 non-null    object \n",
      " 18  location.address3         126 non-null    object \n",
      " 19  location.city             240 non-null    object \n",
      " 20  location.zip_code         240 non-null    object \n",
      " 21  location.country          240 non-null    object \n",
      " 22  location.state            240 non-null    object \n",
      " 23  location.display_address  240 non-null    object \n",
      "dtypes: bool(1), float64(4), int64(1), object(18)\n",
      "memory usage: 43.5+ KB\n"
     ]
    }
   ],
   "source": [
    "# Se busca entender la estructura del dataframe\n",
    "df_negocios.info()"
   ]
  },
  {
   "cell_type": "markdown",
   "id": "1556c3d0",
   "metadata": {},
   "source": [
    "La variable costo tiene bastantes filas faltantes. Se calculara ahora el porcentaje:"
   ]
  },
  {
   "cell_type": "code",
   "execution_count": 130,
   "id": "e138e89b",
   "metadata": {},
   "outputs": [
    {
     "name": "stdout",
     "output_type": "stream",
     "text": [
      "Porcentaje de valores faltantes en costo:  35.833333333333336\n"
     ]
    }
   ],
   "source": [
    "print('Porcentaje de valores faltantes en costo: ',df_negocios['price'].isna().mean() * 100)"
   ]
  },
  {
   "cell_type": "markdown",
   "id": "afbb1a85",
   "metadata": {},
   "source": [
    "La moda es 'medio' por lo cual se puede utilizar para rellenar los datos faltantes, ya que es un valor representativo de la muestra y seria util para un analisis descriptivo. Sin embargo, al haber un porcentaje relativamente alto de datos faltantes, puede que esto sesgue los resultados hacia la moda. \n",
    "\n",
    "La otra alternativa es reemplazar los NaN asignando valores aleatorios con la misma probabilidad de la distribución observada: es decir, un 58% sea medio, un 32% alto, un 10% muy alto y el resto bajo. No obstante, esto introduciria aleatoriedad y los resultados podrian variar en cada ejecucion.\n",
    "\n",
    "No obstante, como se observa abajo, se decidio reemplazar los valores nulos por desconocido. Esto es porque al final se quiere dar recomendaciones a las empresas sobre que informacion es util que tengan en su base de datos de yelp o que promocionen, por lo que por ejemplo se podria comparar el desempeño de restaurantes con valores desconocidos de variables como categoria de precio para verificar el impacto de tenerlo o no.\n",
    "\n",
    "Tambien, para efectos del estudio, se convertiran los simbolos a $, $$, $$$ y $$$$ a bajo, medio, alto y muy alto, como se ve a continuacion:"
   ]
  },
  {
   "cell_type": "code",
   "execution_count": 131,
   "id": "0d785f40",
   "metadata": {},
   "outputs": [],
   "source": [
    "df_negocios['price']=df_negocios['price'].replace({'$':'bajo','$$':'medio','$$$':'alto','$$$$':'muy alto'}).fillna('desconocido')"
   ]
  },
  {
   "cell_type": "markdown",
   "id": "ce934189",
   "metadata": {},
   "source": [
    "Finalmente, las direcciones no son relevantes en este estudio, asi que se borraran:"
   ]
  },
  {
   "cell_type": "code",
   "execution_count": 132,
   "id": "29c9464a",
   "metadata": {},
   "outputs": [],
   "source": [
    "df_negocios.drop(columns=['coordinates.latitude','coordinates.longitude','location.address1', 'location.address2', 'location.address3', 'location.zip_code', 'location.country', 'location.state', 'location.display_address','location.city','distance','display_phone'], inplace=True)"
   ]
  },
  {
   "cell_type": "markdown",
   "id": "9aa3ea76",
   "metadata": {},
   "source": [
    "Ahora el dataset se visualiza un poco para observar las variables y su formato:"
   ]
  },
  {
   "cell_type": "code",
   "execution_count": 133,
   "id": "f277f993",
   "metadata": {},
   "outputs": [
    {
     "data": {
      "application/vnd.microsoft.datawrangler.viewer.v0+json": {
       "columns": [
        {
         "name": "index",
         "rawType": "int64",
         "type": "integer"
        },
        {
         "name": "id",
         "rawType": "object",
         "type": "string"
        },
        {
         "name": "alias",
         "rawType": "object",
         "type": "string"
        },
        {
         "name": "name",
         "rawType": "object",
         "type": "string"
        },
        {
         "name": "image_url",
         "rawType": "object",
         "type": "string"
        },
        {
         "name": "is_closed",
         "rawType": "bool",
         "type": "boolean"
        },
        {
         "name": "url",
         "rawType": "object",
         "type": "string"
        },
        {
         "name": "review_count",
         "rawType": "int64",
         "type": "integer"
        },
        {
         "name": "categories",
         "rawType": "object",
         "type": "unknown"
        },
        {
         "name": "rating",
         "rawType": "float64",
         "type": "float"
        },
        {
         "name": "transactions",
         "rawType": "object",
         "type": "unknown"
        },
        {
         "name": "price",
         "rawType": "object",
         "type": "string"
        },
        {
         "name": "phone",
         "rawType": "object",
         "type": "string"
        }
       ],
       "ref": "60eb3c49-4d58-4384-bef2-5cf6623c30a2",
       "rows": [
        [
         "0",
         "qjnpkS8yZO8xcyEIy5OU9A",
         "girl-and-the-goat-chicago",
         "Girl & The Goat",
         "https://s3-media0.fl.yelpcdn.com/bphoto/ya6gjD4BPlxe7AKMj_5WsA/o.jpg",
         "False",
         "https://www.yelp.com/biz/girl-and-the-goat-chicago?adjust_creative=GWOCZh9-BmZxtdsAjr7Gug&utm_campaign=yelp_api_v3&utm_medium=api_v3_business_search&utm_source=GWOCZh9-BmZxtdsAjr7Gug",
         "10510",
         "[{'alias': 'newamerican', 'title': 'New American'}, {'alias': 'bars', 'title': 'Bars'}, {'alias': 'bakeries', 'title': 'Bakeries'}]",
         "4.4",
         "['delivery']",
         "alto",
         "+13124926262"
        ],
        [
         "1",
         "boE4Ahsssqic7o5wQLI04w",
         "the-purple-pig-chicago",
         "The Purple Pig",
         "https://s3-media0.fl.yelpcdn.com/bphoto/rHHvhRF8QPjee5B7c54jzw/o.jpg",
         "False",
         "https://www.yelp.com/biz/the-purple-pig-chicago?adjust_creative=GWOCZh9-BmZxtdsAjr7Gug&utm_campaign=yelp_api_v3&utm_medium=api_v3_business_search&utm_source=GWOCZh9-BmZxtdsAjr7Gug",
         "8856",
         "[{'alias': 'tapasmallplates', 'title': 'Tapas/Small Plates'}, {'alias': 'mediterranean', 'title': 'Mediterranean'}, {'alias': 'newamerican', 'title': 'New American'}]",
         "4.3",
         "['delivery', 'pickup']",
         "alto",
         "+13124641744"
        ],
        [
         "2",
         "VPJk-SEWSWS_nGoQvM-COw",
         "penumbra-chicago",
         "Penumbra",
         "https://s3-media0.fl.yelpcdn.com/bphoto/IlSPQKhzbs2s0g7Cxshlmg/o.jpg",
         "False",
         "https://www.yelp.com/biz/penumbra-chicago?adjust_creative=GWOCZh9-BmZxtdsAjr7Gug&utm_campaign=yelp_api_v3&utm_medium=api_v3_business_search&utm_source=GWOCZh9-BmZxtdsAjr7Gug",
         "996",
         "[{'alias': 'wine_bars', 'title': 'Wine Bars'}, {'alias': 'seafood', 'title': 'Seafood'}, {'alias': 'steak', 'title': 'Steakhouses'}]",
         "4.8",
         "['delivery', 'restaurant_reservation']",
         "alto",
         "+17737722343"
        ],
        [
         "3",
         "riT822EnU7y_5eCuJsd9sA",
         "cindys-rooftop-chicago",
         "Cindy's Rooftop",
         "https://s3-media0.fl.yelpcdn.com/bphoto/XLdHyZLsRMogjR4GNWCe-A/o.jpg",
         "False",
         "https://www.yelp.com/biz/cindys-rooftop-chicago?adjust_creative=GWOCZh9-BmZxtdsAjr7Gug&utm_campaign=yelp_api_v3&utm_medium=api_v3_business_search&utm_source=GWOCZh9-BmZxtdsAjr7Gug",
         "2717",
         "[{'alias': 'newamerican', 'title': 'New American'}, {'alias': 'seafood', 'title': 'Seafood'}, {'alias': 'breakfast_brunch', 'title': 'Breakfast & Brunch'}]",
         "4.1",
         "['delivery']",
         "medio",
         "+13127923502"
        ],
        [
         "4",
         "GZsrGq6H8CQ4YlGtE_Bm0Q",
         "ciccio-mio-chicago-2",
         "Ciccio Mio",
         "https://s3-media0.fl.yelpcdn.com/bphoto/eFIrEMfnmALCGrR1gSJKLQ/o.jpg",
         "False",
         "https://www.yelp.com/biz/ciccio-mio-chicago-2?adjust_creative=GWOCZh9-BmZxtdsAjr7Gug&utm_campaign=yelp_api_v3&utm_medium=api_v3_business_search&utm_source=GWOCZh9-BmZxtdsAjr7Gug",
         "577",
         "[{'alias': 'italian', 'title': 'Italian'}]",
         "4.7",
         "['delivery']",
         "alto",
         "+13127963316"
        ]
       ],
       "shape": {
        "columns": 12,
        "rows": 5
       }
      },
      "text/html": [
       "<div>\n",
       "<style scoped>\n",
       "    .dataframe tbody tr th:only-of-type {\n",
       "        vertical-align: middle;\n",
       "    }\n",
       "\n",
       "    .dataframe tbody tr th {\n",
       "        vertical-align: top;\n",
       "    }\n",
       "\n",
       "    .dataframe thead th {\n",
       "        text-align: right;\n",
       "    }\n",
       "</style>\n",
       "<table border=\"1\" class=\"dataframe\">\n",
       "  <thead>\n",
       "    <tr style=\"text-align: right;\">\n",
       "      <th></th>\n",
       "      <th>id</th>\n",
       "      <th>alias</th>\n",
       "      <th>name</th>\n",
       "      <th>image_url</th>\n",
       "      <th>is_closed</th>\n",
       "      <th>url</th>\n",
       "      <th>review_count</th>\n",
       "      <th>categories</th>\n",
       "      <th>rating</th>\n",
       "      <th>transactions</th>\n",
       "      <th>price</th>\n",
       "      <th>phone</th>\n",
       "    </tr>\n",
       "  </thead>\n",
       "  <tbody>\n",
       "    <tr>\n",
       "      <th>0</th>\n",
       "      <td>qjnpkS8yZO8xcyEIy5OU9A</td>\n",
       "      <td>girl-and-the-goat-chicago</td>\n",
       "      <td>Girl &amp; The Goat</td>\n",
       "      <td>https://s3-media0.fl.yelpcdn.com/bphoto/ya6gjD...</td>\n",
       "      <td>False</td>\n",
       "      <td>https://www.yelp.com/biz/girl-and-the-goat-chi...</td>\n",
       "      <td>10510</td>\n",
       "      <td>[{'alias': 'newamerican', 'title': 'New Americ...</td>\n",
       "      <td>4.4</td>\n",
       "      <td>[delivery]</td>\n",
       "      <td>alto</td>\n",
       "      <td>+13124926262</td>\n",
       "    </tr>\n",
       "    <tr>\n",
       "      <th>1</th>\n",
       "      <td>boE4Ahsssqic7o5wQLI04w</td>\n",
       "      <td>the-purple-pig-chicago</td>\n",
       "      <td>The Purple Pig</td>\n",
       "      <td>https://s3-media0.fl.yelpcdn.com/bphoto/rHHvhR...</td>\n",
       "      <td>False</td>\n",
       "      <td>https://www.yelp.com/biz/the-purple-pig-chicag...</td>\n",
       "      <td>8856</td>\n",
       "      <td>[{'alias': 'tapasmallplates', 'title': 'Tapas/...</td>\n",
       "      <td>4.3</td>\n",
       "      <td>[delivery, pickup]</td>\n",
       "      <td>alto</td>\n",
       "      <td>+13124641744</td>\n",
       "    </tr>\n",
       "    <tr>\n",
       "      <th>2</th>\n",
       "      <td>VPJk-SEWSWS_nGoQvM-COw</td>\n",
       "      <td>penumbra-chicago</td>\n",
       "      <td>Penumbra</td>\n",
       "      <td>https://s3-media0.fl.yelpcdn.com/bphoto/IlSPQK...</td>\n",
       "      <td>False</td>\n",
       "      <td>https://www.yelp.com/biz/penumbra-chicago?adju...</td>\n",
       "      <td>996</td>\n",
       "      <td>[{'alias': 'wine_bars', 'title': 'Wine Bars'},...</td>\n",
       "      <td>4.8</td>\n",
       "      <td>[delivery, restaurant_reservation]</td>\n",
       "      <td>alto</td>\n",
       "      <td>+17737722343</td>\n",
       "    </tr>\n",
       "    <tr>\n",
       "      <th>3</th>\n",
       "      <td>riT822EnU7y_5eCuJsd9sA</td>\n",
       "      <td>cindys-rooftop-chicago</td>\n",
       "      <td>Cindy's Rooftop</td>\n",
       "      <td>https://s3-media0.fl.yelpcdn.com/bphoto/XLdHyZ...</td>\n",
       "      <td>False</td>\n",
       "      <td>https://www.yelp.com/biz/cindys-rooftop-chicag...</td>\n",
       "      <td>2717</td>\n",
       "      <td>[{'alias': 'newamerican', 'title': 'New Americ...</td>\n",
       "      <td>4.1</td>\n",
       "      <td>[delivery]</td>\n",
       "      <td>medio</td>\n",
       "      <td>+13127923502</td>\n",
       "    </tr>\n",
       "    <tr>\n",
       "      <th>4</th>\n",
       "      <td>GZsrGq6H8CQ4YlGtE_Bm0Q</td>\n",
       "      <td>ciccio-mio-chicago-2</td>\n",
       "      <td>Ciccio Mio</td>\n",
       "      <td>https://s3-media0.fl.yelpcdn.com/bphoto/eFIrEM...</td>\n",
       "      <td>False</td>\n",
       "      <td>https://www.yelp.com/biz/ciccio-mio-chicago-2?...</td>\n",
       "      <td>577</td>\n",
       "      <td>[{'alias': 'italian', 'title': 'Italian'}]</td>\n",
       "      <td>4.7</td>\n",
       "      <td>[delivery]</td>\n",
       "      <td>alto</td>\n",
       "      <td>+13127963316</td>\n",
       "    </tr>\n",
       "  </tbody>\n",
       "</table>\n",
       "</div>"
      ],
      "text/plain": [
       "                       id                      alias             name  \\\n",
       "0  qjnpkS8yZO8xcyEIy5OU9A  girl-and-the-goat-chicago  Girl & The Goat   \n",
       "1  boE4Ahsssqic7o5wQLI04w     the-purple-pig-chicago   The Purple Pig   \n",
       "2  VPJk-SEWSWS_nGoQvM-COw           penumbra-chicago         Penumbra   \n",
       "3  riT822EnU7y_5eCuJsd9sA     cindys-rooftop-chicago  Cindy's Rooftop   \n",
       "4  GZsrGq6H8CQ4YlGtE_Bm0Q       ciccio-mio-chicago-2       Ciccio Mio   \n",
       "\n",
       "                                           image_url  is_closed  \\\n",
       "0  https://s3-media0.fl.yelpcdn.com/bphoto/ya6gjD...      False   \n",
       "1  https://s3-media0.fl.yelpcdn.com/bphoto/rHHvhR...      False   \n",
       "2  https://s3-media0.fl.yelpcdn.com/bphoto/IlSPQK...      False   \n",
       "3  https://s3-media0.fl.yelpcdn.com/bphoto/XLdHyZ...      False   \n",
       "4  https://s3-media0.fl.yelpcdn.com/bphoto/eFIrEM...      False   \n",
       "\n",
       "                                                 url  review_count  \\\n",
       "0  https://www.yelp.com/biz/girl-and-the-goat-chi...         10510   \n",
       "1  https://www.yelp.com/biz/the-purple-pig-chicag...          8856   \n",
       "2  https://www.yelp.com/biz/penumbra-chicago?adju...           996   \n",
       "3  https://www.yelp.com/biz/cindys-rooftop-chicag...          2717   \n",
       "4  https://www.yelp.com/biz/ciccio-mio-chicago-2?...           577   \n",
       "\n",
       "                                          categories  rating  \\\n",
       "0  [{'alias': 'newamerican', 'title': 'New Americ...     4.4   \n",
       "1  [{'alias': 'tapasmallplates', 'title': 'Tapas/...     4.3   \n",
       "2  [{'alias': 'wine_bars', 'title': 'Wine Bars'},...     4.8   \n",
       "3  [{'alias': 'newamerican', 'title': 'New Americ...     4.1   \n",
       "4         [{'alias': 'italian', 'title': 'Italian'}]     4.7   \n",
       "\n",
       "                         transactions  price         phone  \n",
       "0                          [delivery]   alto  +13124926262  \n",
       "1                  [delivery, pickup]   alto  +13124641744  \n",
       "2  [delivery, restaurant_reservation]   alto  +17737722343  \n",
       "3                          [delivery]  medio  +13127923502  \n",
       "4                          [delivery]   alto  +13127963316  "
      ]
     },
     "execution_count": 133,
     "metadata": {},
     "output_type": "execute_result"
    }
   ],
   "source": [
    "df_negocios.head()"
   ]
  },
  {
   "cell_type": "markdown",
   "id": "34f90e08",
   "metadata": {},
   "source": [
    "Observamos ademas, que el dataframe tiene listas de diccionarios en la columna categoria\n",
    "Por ende, se expandira la lista de diccionarios para poder agrupar, agregar y visualizar por categoria y ver su impacto:"
   ]
  },
  {
   "cell_type": "code",
   "execution_count": 134,
   "id": "34a772fc",
   "metadata": {},
   "outputs": [],
   "source": [
    "df_negocios['categories_list'] = df_negocios['categories'].apply( lambda x: [d['title'] for d in x] if isinstance(x, list) else [])"
   ]
  },
  {
   "cell_type": "code",
   "execution_count": 135,
   "id": "76610b02",
   "metadata": {},
   "outputs": [],
   "source": [
    "df_negocios=df_negocios.explode('categories_list').reset_index(drop=True)"
   ]
  },
  {
   "cell_type": "code",
   "execution_count": 136,
   "id": "22e848f6",
   "metadata": {},
   "outputs": [],
   "source": [
    "df_negocios.to_csv(\"df_negocios_chicago.csv\", index=False)"
   ]
  },
  {
   "cell_type": "markdown",
   "id": "97c70339",
   "metadata": {},
   "source": [
    "El resto del proyecto continuara en el avance 3"
   ]
  },
  {
   "cell_type": "code",
   "execution_count": null,
   "id": "2c03465f",
   "metadata": {},
   "outputs": [],
   "source": []
  }
 ],
 "metadata": {
  "kernelspec": {
   "display_name": "base",
   "language": "python",
   "name": "python3"
  },
  "language_info": {
   "codemirror_mode": {
    "name": "ipython",
    "version": 3
   },
   "file_extension": ".py",
   "mimetype": "text/x-python",
   "name": "python",
   "nbconvert_exporter": "python",
   "pygments_lexer": "ipython3",
   "version": "3.12.7"
  }
 },
 "nbformat": 4,
 "nbformat_minor": 5
}
