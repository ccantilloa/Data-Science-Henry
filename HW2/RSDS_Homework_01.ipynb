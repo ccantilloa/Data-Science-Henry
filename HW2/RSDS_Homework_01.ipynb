{
  "cells": [
    {
      "cell_type": "markdown",
      "metadata": {
        "id": "1NPI5PsgffJg"
      },
      "source": [
        "## Homework"
      ]
    },
    {
      "cell_type": "markdown",
      "metadata": {
        "id": "L3QRoWE9ffJh"
      },
      "source": [
        "1) Crea una variable que contenga un elemento del conjunto de números enteros y luego imprímela por pantalla.<br>\n",
        "Por ejemplo:<br>\n",
        "x = 2 #creo la variable x que vale 2<br>\n",
        "print(x)  #imprimo la variable x"
      ]
    },
    {
      "cell_type": "code",
      "execution_count": 3,
      "metadata": {
        "id": "mta7xA71TpuK"
      },
      "outputs": [
        {
          "name": "stdout",
          "output_type": "stream",
          "text": [
            "4\n"
          ]
        }
      ],
      "source": [
        "x=4\n",
        "print(x)"
      ]
    },
    {
      "cell_type": "markdown",
      "metadata": {
        "id": "Z2u_Ubh_ffJj"
      },
      "source": [
        "2) Imprime el tipo de dato de la constante 8.5<br>\n",
        "Recuerda utilizar la función \"type()\""
      ]
    },
    {
      "cell_type": "code",
      "execution_count": 4,
      "metadata": {
        "id": "CFYXmb0eTsxb"
      },
      "outputs": [
        {
          "name": "stdout",
          "output_type": "stream",
          "text": [
            "<class 'float'>\n"
          ]
        }
      ],
      "source": [
        "print(type(8.5))"
      ]
    },
    {
      "cell_type": "markdown",
      "metadata": {
        "id": "_wWzWcrKffJj"
      },
      "source": [
        "3) Imprime el tipo de dato de la variable creada en el punto 1<br>\n",
        "Recuerda utilizar el nombre de la variable"
      ]
    },
    {
      "cell_type": "code",
      "execution_count": 5,
      "metadata": {
        "id": "2XNU-EccTt6q"
      },
      "outputs": [
        {
          "name": "stdout",
          "output_type": "stream",
          "text": [
            "<class 'int'>\n"
          ]
        }
      ],
      "source": [
        "print(type(x))"
      ]
    },
    {
      "cell_type": "markdown",
      "metadata": {
        "id": "JRCeWdojffJj"
      },
      "source": [
        "4) Crea una variable que contenga tu nombre"
      ]
    },
    {
      "cell_type": "code",
      "execution_count": 6,
      "metadata": {
        "id": "z0LxQSsUTwLS"
      },
      "outputs": [],
      "source": [
        "nom='Carlos'"
      ]
    },
    {
      "cell_type": "markdown",
      "metadata": {
        "id": "_UYcXvekffJk"
      },
      "source": [
        "5) Crea dos variables:\n",
        "* una que se llame var1 y contenga el valor: 'True'\n",
        "* y otra que se llame var2 y contenga el valor: True<br>\n",
        "¿Se trata de lo mismo?"
      ]
    },
    {
      "cell_type": "code",
      "execution_count": 7,
      "metadata": {
        "id": "c6e35oNETx_y"
      },
      "outputs": [],
      "source": [
        "var1='True'\n",
        "var2=True"
      ]
    },
    {
      "cell_type": "markdown",
      "metadata": {
        "id": "ogZ1ij48ffJk"
      },
      "source": [
        "6) Imprime el tipo de dato correspondiente a las variables creadas en el punto anterior"
      ]
    },
    {
      "cell_type": "code",
      "execution_count": 8,
      "metadata": {
        "id": "PLMMBlVKTz07"
      },
      "outputs": [
        {
          "name": "stdout",
          "output_type": "stream",
          "text": [
            "<class 'str'>\n",
            "<class 'bool'>\n"
          ]
        }
      ],
      "source": [
        "print(type(var1))\n",
        "print(type(var2))"
      ]
    },
    {
      "cell_type": "markdown",
      "metadata": {
        "id": "iJhPb3vSffJl"
      },
      "source": [
        "7) Asigna a una variable: la suma de un número entero y un número decimal"
      ]
    },
    {
      "cell_type": "code",
      "execution_count": 9,
      "metadata": {
        "id": "apqwo4HJT0QS"
      },
      "outputs": [],
      "source": [
        "sum=4+6.8"
      ]
    },
    {
      "cell_type": "markdown",
      "metadata": {
        "id": "doezo0FGffJl"
      },
      "source": [
        "8) Realiza una operación de suma entre dos variables:<br>\n",
        "* a: que contenga un número entero\n",
        "* b: que contenga un número decimal<br>\n",
        "Asígnale el resultado a la variable \"c\""
      ]
    },
    {
      "cell_type": "code",
      "execution_count": 11,
      "metadata": {
        "id": "i719Oy6qT3WT"
      },
      "outputs": [],
      "source": [
        "a=3\n",
        "b=2.2\n",
        "c=a+b"
      ]
    },
    {
      "cell_type": "markdown",
      "metadata": {
        "id": "Bd654x2uffJl"
      },
      "source": [
        "9) Realiza una operación de multiplicación<br>\n",
        "Puedes, por ejemplo, realizar una multiplicación entre dos números enteros"
      ]
    },
    {
      "cell_type": "code",
      "execution_count": 12,
      "metadata": {
        "id": "aGF6Iya-T4Dq"
      },
      "outputs": [
        {
          "data": {
            "text/plain": [
              "6.6000000000000005"
            ]
          },
          "execution_count": 12,
          "metadata": {},
          "output_type": "execute_result"
        }
      ],
      "source": [
        "a*b"
      ]
    },
    {
      "cell_type": "markdown",
      "metadata": {
        "id": "ly7mRJ94ffJm"
      },
      "source": [
        "10) Obtén el cociente de la división de 27 entre 4 en una variable y luego muéstrala<br>\n",
        "Ayuda: asigna la operación a una variable y luego imprímela utilizando la función print()"
      ]
    },
    {
      "cell_type": "code",
      "execution_count": 13,
      "metadata": {
        "id": "j6gth_wtT7XK"
      },
      "outputs": [
        {
          "name": "stdout",
          "output_type": "stream",
          "text": [
            "6.75\n"
          ]
        }
      ],
      "source": [
        "coc=27/4\n",
        "print(coc)"
      ]
    },
    {
      "cell_type": "markdown",
      "metadata": {
        "id": "V8fjaagdffJm"
      },
      "source": [
        "11) De la división anterior, muestra solamente la parte entera<br>\n",
        "Ayuda: Recuerda la división (parte entera)"
      ]
    },
    {
      "cell_type": "code",
      "execution_count": 14,
      "metadata": {
        "id": "ngA9nv38T74K"
      },
      "outputs": [
        {
          "name": "stdout",
          "output_type": "stream",
          "text": [
            "6\n"
          ]
        }
      ],
      "source": [
        "coc_en=27//4\n",
        "print(coc_en)"
      ]
    },
    {
      "cell_type": "markdown",
      "metadata": {
        "id": "RXuPRcUVffJm"
      },
      "source": [
        "12) De la división de 27 entre 4 muestra solamente el resto<br>\n",
        "Ayuda: Recuerda la división (resto)"
      ]
    },
    {
      "cell_type": "code",
      "execution_count": 15,
      "metadata": {
        "id": "P46MAI1KT_nq"
      },
      "outputs": [
        {
          "name": "stdout",
          "output_type": "stream",
          "text": [
            "3\n"
          ]
        }
      ],
      "source": [
        "coc_res=27%4\n",
        "print(coc_res)"
      ]
    },
    {
      "cell_type": "markdown",
      "metadata": {
        "id": "ndkN9G2GffJn"
      },
      "source": [
        "13) Concatena las siguientes variables e imprímelas por pantalla:<br>\n",
        "var1 = 'Buenos '<br>\n",
        "var2 = 'Aires'"
      ]
    },
    {
      "cell_type": "code",
      "execution_count": 17,
      "metadata": {
        "id": "2V6WwXuHUAIC"
      },
      "outputs": [
        {
          "name": "stdout",
          "output_type": "stream",
          "text": [
            "BuenosAires\n"
          ]
        }
      ],
      "source": [
        "var1='Buenos'\n",
        "var2='Aires'\n",
        "var3=var1+var2\n",
        "print(var3)"
      ]
    },
    {
      "cell_type": "markdown",
      "metadata": {
        "id": "y-GVz43gffJn"
      },
      "source": [
        "14) Evalúa si \"2\" es igual a 2. ¿Por qué ocurre eso?<br>\n",
        "Ayuda: Utiliza un operador relacional para evaluar la igualdad, esperas un resultado booleano (True o False)"
      ]
    },
    {
      "cell_type": "code",
      "execution_count": 20,
      "metadata": {
        "id": "tLrMrHEjUBOq"
      },
      "outputs": [
        {
          "data": {
            "text/plain": [
              "False"
            ]
          },
          "execution_count": 20,
          "metadata": {},
          "output_type": "execute_result"
        }
      ],
      "source": [
        "2=='2'"
      ]
    },
    {
      "cell_type": "markdown",
      "metadata": {
        "id": "wkDY0kyUwxSO"
      },
      "source": [
        "15. Crea una variable que contenga un elemento del conjunto de números enteros y luego imprime por pantalla si es mayor, menor o igual a cero.<br>\n",
        "Ayuda: Primero crea la variable en cuestión y luego recuerda utilizar condicionales para resolver esta actividad."
      ]
    },
    {
      "cell_type": "code",
      "execution_count": 21,
      "metadata": {
        "id": "hsr3sjGYwxSO"
      },
      "outputs": [
        {
          "name": "stdout",
          "output_type": "stream",
          "text": [
            "mayor a cero\n"
          ]
        }
      ],
      "source": [
        "p=3\n",
        "if p==0:\n",
        "    print('igual a cero')\n",
        "elif p>0:\n",
        "    print('mayor a cero')\n",
        "else:\n",
        "    print('menor a cero')"
      ]
    },
    {
      "cell_type": "markdown",
      "metadata": {
        "id": "xrwwKbB1wxSO"
      },
      "source": [
        "16. Crea dos variables:\n",
        "* a que sea un número\n",
        "* b que sea un string<br>\n",
        " Crea un condicional que informe si las variables son del mismo tipo de dato<br>\n",
        " Ayuda: Utiliza la función type() dentro del condicional."
      ]
    },
    {
      "cell_type": "code",
      "execution_count": 25,
      "metadata": {},
      "outputs": [
        {
          "name": "stdout",
          "output_type": "stream",
          "text": [
            "No es el mismo tipo de dato, a=<class 'int'> and b=<class 'float'>\n"
          ]
        }
      ],
      "source": [
        "a=4\n",
        "b=5.5\n",
        "if type(a)==type(b):\n",
        "    print(f'mismo tipo de dato:{type(a)}')\n",
        "else:\n",
        "    print(f'No es el mismo tipo de dato, a={type(a)} and b={type(b)}')"
      ]
    },
    {
      "cell_type": "markdown",
      "metadata": {
        "id": "1R1ee2Bgwzq8"
      },
      "source": [
        "18. Usa match/case para clasificar un día de la semana (1–7) en “día laboral” o “fin de semana”. (Si tienes una versión de python mayor a  3.10, si tienes una versión más antigua solucionalo con sentencias if/else)"
      ]
    },
    {
      "cell_type": "code",
      "execution_count": 26,
      "metadata": {
        "colab": {
          "base_uri": "https://localhost:8080/"
        },
        "id": "c-hZgp_SxCYw",
        "outputId": "896fd8b9-5e58-48ec-d96d-16057591d772"
      },
      "outputs": [
        {
          "name": "stdout",
          "output_type": "stream",
          "text": [
            "3.12.7 | packaged by Anaconda, Inc. | (main, Oct  4 2024, 13:17:27) [MSC v.1929 64 bit (AMD64)]\n"
          ]
        }
      ],
      "source": [
        "import sys\n",
        "print(sys.version) #Imprime la versión de python"
      ]
    },
    {
      "cell_type": "code",
      "execution_count": 35,
      "metadata": {},
      "outputs": [
        {
          "name": "stdout",
          "output_type": "stream",
          "text": [
            "Not a day in the week\n"
          ]
        }
      ],
      "source": [
        "dia=9\n",
        "match dia:\n",
        "    case 1|2|3|4|5:\n",
        "        print('Dia laboral')\n",
        "    case 6|7:\n",
        "        print('Fin de semana')\n",
        "    case _:\n",
        "        print('Not a day in the week')\n"
      ]
    },
    {
      "cell_type": "markdown",
      "metadata": {
        "id": "9ic6T3VkyGzM"
      },
      "source": [
        "19.  Gestión de una lista de transacciones\n",
        "Tienes una lista con montos de transacciones y necesitas limpiarla y prepararla para análisis:\n",
        "\n",
        "* Elimina (-10) y (-5) usando el método apropiado.\n",
        "* Inserta una transacción de 400 en la posición 2.\n",
        "* Ordena la lista de menor a mayor.\n",
        "* Extrae (y guarda en una variable) el valor más alto usando .pop().\n",
        "* Filtra con un bucle y operador lógico and las transacciones que estén entre 100 * y 400, guardándolas en una nueva lista trans_filtradas.<br>\n",
        "\n",
        "Ayuda: .remove(), .insert(), .sort(), .pop(), if 100 <= x <= 400."
      ]
    },
    {
      "cell_type": "code",
      "execution_count": 45,
      "metadata": {
        "id": "-YTEu6HJyXna"
      },
      "outputs": [],
      "source": [
        "lista = [250, -10, 500, 125, -5, 300]"
      ]
    },
    {
      "cell_type": "code",
      "execution_count": 46,
      "metadata": {},
      "outputs": [
        {
          "data": {
            "text/plain": [
              "[250, 500, 125, 300]"
            ]
          },
          "execution_count": 46,
          "metadata": {},
          "output_type": "execute_result"
        }
      ],
      "source": [
        "lista.remove(-10)\n",
        "lista.remove(-5)\n",
        "lista"
      ]
    },
    {
      "cell_type": "code",
      "execution_count": 47,
      "metadata": {},
      "outputs": [
        {
          "data": {
            "text/plain": [
              "[250, 400, 500, 125, 300]"
            ]
          },
          "execution_count": 47,
          "metadata": {},
          "output_type": "execute_result"
        }
      ],
      "source": [
        "lista.insert(1,400)\n",
        "lista"
      ]
    },
    {
      "cell_type": "code",
      "execution_count": 48,
      "metadata": {},
      "outputs": [
        {
          "data": {
            "text/plain": [
              "[500, 400, 300, 250, 125]"
            ]
          },
          "execution_count": 48,
          "metadata": {},
          "output_type": "execute_result"
        }
      ],
      "source": [
        "lista.sort(reverse=True)\n",
        "lista"
      ]
    },
    {
      "cell_type": "code",
      "execution_count": 49,
      "metadata": {},
      "outputs": [
        {
          "data": {
            "text/plain": [
              "500"
            ]
          },
          "execution_count": 49,
          "metadata": {},
          "output_type": "execute_result"
        }
      ],
      "source": [
        "mas_alto=lista.pop(0)\n",
        "mas_alto"
      ]
    },
    {
      "cell_type": "code",
      "execution_count": 50,
      "metadata": {},
      "outputs": [
        {
          "data": {
            "text/plain": [
              "[400, 300, 250]"
            ]
          },
          "execution_count": 50,
          "metadata": {},
          "output_type": "execute_result"
        }
      ],
      "source": [
        "listas_filtradas=[]\n",
        "for element in lista:\n",
        "    if element>=200 and element<=400:\n",
        "        listas_filtradas.append(element)\n",
        "listas_filtradas"
      ]
    },
    {
      "cell_type": "markdown",
      "metadata": {
        "id": "VC86INuixaJP"
      },
      "source": [
        "20. Acceso seguro con .get()\n",
        "* Tienes un diccionario con información parcial de un cliente. Usa .get() para leer “email” devolviendo \"no-mail@ejemplo.com\" si no existe."
      ]
    },
    {
      "cell_type": "code",
      "execution_count": 56,
      "metadata": {
        "id": "b1Gt59z6wxSP"
      },
      "outputs": [],
      "source": [
        "cliente = {\"nombre\": \"María\", \"edad\": 30}"
      ]
    },
    {
      "cell_type": "code",
      "execution_count": 57,
      "metadata": {},
      "outputs": [
        {
          "data": {
            "text/plain": [
              "'no-mail@ejemplo.com'"
            ]
          },
          "execution_count": 57,
          "metadata": {},
          "output_type": "execute_result"
        }
      ],
      "source": [
        "cliente.get('email','no-mail@ejemplo.com')"
      ]
    },
    {
      "cell_type": "markdown",
      "metadata": {
        "id": "1XHTp-Y_yhAj"
      },
      "source": [
        "21. Tuplas y desempacado en pasos de análisis\n",
        "Se recibe como tupla la configuración de un experimento:\n",
        "\n",
        "* Desempaqueta config en variables modelo, learning_rate y n_iter.\n",
        "* Crea una nueva tupla config_inv intercambiando modelo y n_iter en su posición.\n",
        "* Muestra por pantalla: <br>"
      ]
    },
    {
      "cell_type": "code",
      "execution_count": 61,
      "metadata": {
        "id": "vtFHglGhygpg"
      },
      "outputs": [
        {
          "data": {
            "text/plain": [
              "('modelo_A', 100, 0.01)"
            ]
          },
          "execution_count": 61,
          "metadata": {},
          "output_type": "execute_result"
        }
      ],
      "source": [
        "config = (\"modelo_A\", 0.01, 100)\n",
        "modelo=config[0]\n",
        "learning_rate=config[1]\n",
        "n_iter=config[2]\n",
        "config_inv=(modelo,n_iter,learning_rate)\n",
        "config_inv"
      ]
    },
    {
      "cell_type": "code",
      "execution_count": 70,
      "metadata": {},
      "outputs": [
        {
          "data": {
            "text/plain": [
              "1"
            ]
          },
          "execution_count": 70,
          "metadata": {},
          "output_type": "execute_result"
        }
      ],
      "source": [
        "5%2"
      ]
    },
    {
      "cell_type": "code",
      "execution_count": 78,
      "metadata": {
        "id": "QnkVg0zmxnvv"
      },
      "outputs": [
        {
          "name": "stdout",
          "output_type": "stream",
          "text": [
            "El valor ingresado es solo letras\n"
          ]
        }
      ],
      "source": [
        "valor = input(\"Ingresa un valor\").strip()\n",
        "\n",
        "tiene_letra=False\n",
        "tiene_numero=False\n",
        "for letra in valor:\n",
        "    if letra.isalpha():\n",
        "        tiene_letra=True\n",
        "    if letra.isdigit():\n",
        "        tiene_numero=True\n",
        "\n",
        "if tiene_letra==True and tiene_numero==True:\n",
        "    print(\"El valor ingresado es combinacion de numeros y letras\")\n",
        "elif tiene_letra==False and tiene_numero==True:\n",
        "    if (float(valor)%2)==0:\n",
        "        print(\"El valor ingresado es entero\")\n",
        "    else:\n",
        "        print(\"El valor ingresado es decimal\")\n",
        "else:\n",
        "    print(\"El valor ingresado es solo letras\")\n"
      ]
    },
    {
      "cell_type": "code",
      "execution_count": null,
      "metadata": {},
      "outputs": [],
      "source": []
    }
  ],
  "metadata": {
    "colab": {
      "provenance": []
    },
    "kernelspec": {
      "display_name": "base",
      "language": "python",
      "name": "python3"
    },
    "language_info": {
      "codemirror_mode": {
        "name": "ipython",
        "version": 3
      },
      "file_extension": ".py",
      "mimetype": "text/x-python",
      "name": "python",
      "nbconvert_exporter": "python",
      "pygments_lexer": "ipython3",
      "version": "3.12.7"
    }
  },
  "nbformat": 4,
  "nbformat_minor": 0
}
