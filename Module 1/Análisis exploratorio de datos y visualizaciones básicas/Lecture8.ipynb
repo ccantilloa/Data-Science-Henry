{
 "cells": [
  {
   "cell_type": "markdown",
   "id": "266ba1e5",
   "metadata": {},
   "source": [
    "# Papel de la visualizacion en un EDA"
   ]
  },
  {
   "cell_type": "markdown",
   "id": "8d3f2303",
   "metadata": {},
   "source": [
    "A través de bibliotecas como Matplotlib y Seaborn, aprenderemos a generar distintos tipos de gráficos —líneas, barras, histogramas, diagramas de dispersión, boxplots, mapas de calor y pair plots. \n",
    "\n",
    "Esto nos permitirá identificar distribuciones, detectar outliers, reconocer patrones y analizar relaciones entre variables"
   ]
  },
  {
   "cell_type": "code",
   "execution_count": null,
   "id": "6b7e7935",
   "metadata": {
    "vscode": {
     "languageId": "plaintext"
    }
   },
   "outputs": [],
   "source": []
  },
  {
   "cell_type": "markdown",
   "id": "bcb8c4bd",
   "metadata": {},
   "source": []
  }
 ],
 "metadata": {
  "language_info": {
   "name": "python"
  }
 },
 "nbformat": 4,
 "nbformat_minor": 5
}
