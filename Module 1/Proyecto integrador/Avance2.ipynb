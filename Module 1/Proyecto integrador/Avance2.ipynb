{
 "cells": [
  {
   "cell_type": "code",
   "execution_count": 1,
   "id": "49a868ce",
   "metadata": {},
   "outputs": [],
   "source": [
    "import requests\n",
    "import pandas as pd\n",
    "import os\n",
    "import load_dotenv"
   ]
  },
  {
   "cell_type": "code",
   "execution_count": 14,
   "id": "fa6de334",
   "metadata": {},
   "outputs": [],
   "source": [
    "# Obtener las credenciales de la API desde las variables de entorno. Deberías tener un archivo .env con estas variables definidas.\n",
    "load_dotenv.load_dotenv()\n",
    "cliente_id = os.getenv(\"CLIENTE_ID\")\n",
    "api_key = os.getenv(\"API_KEY\")\n",
    "headers = {'Authorization':'Bearer %s'%api_key}"
   ]
  },
  {
   "cell_type": "code",
   "execution_count": 35,
   "id": "77075ab5",
   "metadata": {},
   "outputs": [],
   "source": [
    "# Parámetros de búsqueda (puedes ajustarlos según tus necesidades)\n",
    "url = \"https://api.yelp.com/v3/businesses/search\"\n",
    "ciudad = 'Chicago'\n",
    "term='restaurants'\n",
    "limit=30\n",
    "max_entries= 240\n"
   ]
  },
  {
   "cell_type": "code",
   "execution_count": 41,
   "id": "c1ac3c8a",
   "metadata": {},
   "outputs": [],
   "source": [
    "# Realizar múltiples solicitudes para obtener más resultados de acuerdo con el límite y el offset especificados anteriormente\n",
    "resultados=[]\n",
    "for offset in range(0, max_entries, limit):\n",
    "    params = {'term':term, 'location':ciudad, 'limit':limit, 'offset':offset}\n",
    "    response = requests.get(url, headers=headers, params=params)\n",
    "    if response.status_code != 200:\n",
    "        print(\"Error:\", response.json())\n",
    "        break\n",
    "    \n",
    "    data = response.json()\n",
    "    negocios = data.get(\"businesses\", []) # obtener la lista de negocios de la respuesta, si no existe, asigna una lista vacía\n",
    "\n",
    "    if not negocios:  # si ya no hay más resultados\n",
    "        break\n",
    "\n",
    "    resultados.extend(negocios)\n"
   ]
  },
  {
   "cell_type": "code",
   "execution_count": 43,
   "id": "240cb371",
   "metadata": {},
   "outputs": [],
   "source": [
    "# Convertir la lista de resultados en un DataFrame de pandas\n",
    "df_negocios = pd.json_normalize(resultados)"
   ]
  },
  {
   "cell_type": "code",
   "execution_count": 44,
   "id": "f88956d9",
   "metadata": {},
   "outputs": [
    {
     "name": "stdout",
     "output_type": "stream",
     "text": [
      "<class 'pandas.core.frame.DataFrame'>\n",
      "RangeIndex: 240 entries, 0 to 239\n",
      "Data columns (total 24 columns):\n",
      " #   Column                    Non-Null Count  Dtype  \n",
      "---  ------                    --------------  -----  \n",
      " 0   id                        240 non-null    object \n",
      " 1   alias                     240 non-null    object \n",
      " 2   name                      240 non-null    object \n",
      " 3   image_url                 240 non-null    object \n",
      " 4   is_closed                 240 non-null    bool   \n",
      " 5   url                       240 non-null    object \n",
      " 6   review_count              240 non-null    int64  \n",
      " 7   categories                240 non-null    object \n",
      " 8   rating                    240 non-null    float64\n",
      " 9   transactions              240 non-null    object \n",
      " 10  price                     154 non-null    object \n",
      " 11  phone                     240 non-null    object \n",
      " 12  display_phone             240 non-null    object \n",
      " 13  distance                  240 non-null    float64\n",
      " 14  coordinates.latitude      240 non-null    float64\n",
      " 15  coordinates.longitude     240 non-null    float64\n",
      " 16  location.address1         239 non-null    object \n",
      " 17  location.address2         157 non-null    object \n",
      " 18  location.address3         127 non-null    object \n",
      " 19  location.city             240 non-null    object \n",
      " 20  location.zip_code         240 non-null    object \n",
      " 21  location.country          240 non-null    object \n",
      " 22  location.state            240 non-null    object \n",
      " 23  location.display_address  240 non-null    object \n",
      "dtypes: bool(1), float64(4), int64(1), object(18)\n",
      "memory usage: 43.5+ KB\n"
     ]
    }
   ],
   "source": [
    "df_negocios.info()"
   ]
  },
  {
   "cell_type": "code",
   "execution_count": null,
   "id": "9852240a",
   "metadata": {},
   "outputs": [],
   "source": []
  }
 ],
 "metadata": {
  "kernelspec": {
   "display_name": "base",
   "language": "python",
   "name": "python3"
  },
  "language_info": {
   "codemirror_mode": {
    "name": "ipython",
    "version": 3
   },
   "file_extension": ".py",
   "mimetype": "text/x-python",
   "name": "python",
   "nbconvert_exporter": "python",
   "pygments_lexer": "ipython3",
   "version": "3.12.7"
  }
 },
 "nbformat": 4,
 "nbformat_minor": 5
}
