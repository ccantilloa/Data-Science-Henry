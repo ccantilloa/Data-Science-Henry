{
 "cells": [
  {
   "cell_type": "markdown",
   "id": "9d72377f",
   "metadata": {},
   "source": [
    "# Avance 1 proyecto integrador: EDA"
   ]
  },
  {
   "cell_type": "markdown",
   "id": "5001c514",
   "metadata": {},
   "source": [
    "Se inicia el pipeline analitico de los datos con la base de datos proporcionada por la empresa. Se realizara un analisis previo de la calidad, estructura e integridad de los datos como se vera a continuacion"
   ]
  },
  {
   "cell_type": "markdown",
   "id": "e285a799",
   "metadata": {},
   "source": [
    "## Carga de datos desde la base de datos del cliente"
   ]
  },
  {
   "cell_type": "code",
   "execution_count": 1,
   "id": "10958d9e",
   "metadata": {},
   "outputs": [],
   "source": [
    "#Importar librerias a utilizar \n",
    "\n",
    "import pandas as pd \n",
    "import numpy as np\n",
    "import matplotlib.pyplot as plt\n",
    "import seaborn as sns\n"
   ]
  },
  {
   "cell_type": "markdown",
   "id": "0c0205db",
   "metadata": {},
   "source": [
    "Leer la base de datos de clientes en USA:"
   ]
  },
  {
   "cell_type": "code",
   "execution_count": 2,
   "id": "cfe17796",
   "metadata": {},
   "outputs": [],
   "source": [
    "df_restaurants_USA = pd.read_csv('base_datos_restaurantes_USA_v2.csv')"
   ]
  },
  {
   "cell_type": "markdown",
   "id": "c652eb07",
   "metadata": {},
   "source": [
    "## Limpieza de los datos"
   ]
  },
  {
   "cell_type": "markdown",
   "id": "d3d04ef8",
   "metadata": {},
   "source": [
    "### Identificando valores nulos, duplicados y errores"
   ]
  },
  {
   "cell_type": "code",
   "execution_count": 3,
   "id": "549bdab9",
   "metadata": {},
   "outputs": [
    {
     "name": "stdout",
     "output_type": "stream",
     "text": [
      "<class 'pandas.core.frame.DataFrame'>\n",
      "RangeIndex: 30000 entries, 0 to 29999\n",
      "Data columns (total 17 columns):\n",
      " #   Column                     Non-Null Count  Dtype  \n",
      "---  ------                     --------------  -----  \n",
      " 0   id_persona                 30000 non-null  int64  \n",
      " 1   nombre                     30000 non-null  object \n",
      " 2   apellido                   30000 non-null  object \n",
      " 3   edad                       29899 non-null  float64\n",
      " 4   genero                     30000 non-null  object \n",
      " 5   ciudad_residencia          30000 non-null  object \n",
      " 6   estrato_socioeconomico     30000 non-null  object \n",
      " 7   frecuencia_visita          30000 non-null  int64  \n",
      " 8   promedio_gasto_comida      29855 non-null  float64\n",
      " 9   ocio                       30000 non-null  object \n",
      " 10  consume_licor              30000 non-null  object \n",
      " 11  preferencias_alimenticias  28597 non-null  object \n",
      " 12  membresia_premium          30000 non-null  object \n",
      " 13  telefono_contacto          14834 non-null  object \n",
      " 14  correo_electronico         14928 non-null  object \n",
      " 15  tipo_de_pago_mas_usado     30000 non-null  object \n",
      " 16  ingresos_mensuales         30000 non-null  int64  \n",
      "dtypes: float64(2), int64(3), object(12)\n",
      "memory usage: 3.9+ MB\n"
     ]
    }
   ],
   "source": [
    "df_restaurants_USA.info()"
   ]
  },
  {
   "cell_type": "markdown",
   "id": "1f780f4d",
   "metadata": {},
   "source": [
    "Como podemos observar, edad promedio_gasto_comida, preferencias_alimenticias, telefono_contacto y correo_electronico tienen valores vacios. Veamos cuantos de ellos son vacios:"
   ]
  },
  {
   "cell_type": "code",
   "execution_count": 4,
   "id": "92bd6593",
   "metadata": {},
   "outputs": [
    {
     "name": "stdout",
     "output_type": "stream",
     "text": [
      "id_persona                    0.000000\n",
      "nombre                        0.000000\n",
      "apellido                      0.000000\n",
      "edad                          0.336667\n",
      "genero                        0.000000\n",
      "ciudad_residencia             0.000000\n",
      "estrato_socioeconomico        0.000000\n",
      "frecuencia_visita             0.000000\n",
      "promedio_gasto_comida         0.483333\n",
      "ocio                          0.000000\n",
      "consume_licor                 0.000000\n",
      "preferencias_alimenticias     4.676667\n",
      "membresia_premium             0.000000\n",
      "telefono_contacto            50.553333\n",
      "correo_electronico           50.240000\n",
      "tipo_de_pago_mas_usado        0.000000\n",
      "ingresos_mensuales            0.000000\n",
      "dtype: float64\n"
     ]
    }
   ],
   "source": [
    "porcentaje_vacios = df_restaurants_USA.isna().mean() * 100\n",
    "print(porcentaje_vacios)"
   ]
  },
  {
   "cell_type": "markdown",
   "id": "bfc3095f",
   "metadata": {},
   "source": [
    "Se decide eliminar las columnas: telefono_contacto y correo_electronico. Primero porque tienen mas del 50% de campos vacios y segundo porque no son realmente relevantes para este analisis, sino que servirian mas adelante en una campaña de mercadeo para enviar informacion a los clientes basado en los insights que generemos de este proyecto."
   ]
  },
  {
   "cell_type": "code",
   "execution_count": 5,
   "id": "2e7e83c4",
   "metadata": {},
   "outputs": [],
   "source": [
    "df_restaurants_USA.drop(columns=['telefono_contacto', 'correo_electronico'], inplace=True)"
   ]
  },
  {
   "cell_type": "markdown",
   "id": "24bd94a4",
   "metadata": {},
   "source": [
    "Con respecto a edad, promedio_gastos_comida y preferencias_alimenticias, la mejor opcion es inputar los datos faltantes ya que solo un pequeño porcentaje aparece vacio (menos del 5%). \n",
    "\n",
    "Ahora bien, para saber con que valor representativo se reemplazara cada uno, se analiza primero los datos estadisticos de estas tres columnas:"
   ]
  },
  {
   "cell_type": "markdown",
   "id": "5c2c1002",
   "metadata": {},
   "source": [
    "#### Tratamiento de edad"
   ]
  },
  {
   "cell_type": "code",
   "execution_count": 6,
   "id": "dfcf4d0e",
   "metadata": {},
   "outputs": [],
   "source": [
    "# Primero convertimos la edad a enteros:\n",
    "df_restaurants_USA['edad'] = df_restaurants_USA['edad'].astype('Int64')"
   ]
  },
  {
   "cell_type": "code",
   "execution_count": 7,
   "id": "6b55ed78",
   "metadata": {},
   "outputs": [
    {
     "name": "stdout",
     "output_type": "stream",
     "text": [
      "count      29899.0\n",
      "mean     49.665006\n",
      "std       23.83955\n",
      "min           -5.0\n",
      "25%           33.0\n",
      "50%           49.0\n",
      "75%           65.0\n",
      "max          300.0\n",
      "Name: edad, dtype: Float64\n"
     ]
    }
   ],
   "source": [
    "# Luego analizamos los datos estadisticos de la columna edad\n",
    "print(df_restaurants_USA['edad'].describe())"
   ]
  },
  {
   "cell_type": "markdown",
   "id": "32369830",
   "metadata": {},
   "source": [
    "Vemos a primera vista que el valor maximo: 300 y minimo -5 estan erroneos. Vamos a comprobar la distribucion con un histograma:"
   ]
  },
  {
   "cell_type": "code",
   "execution_count": 8,
   "id": "5f79782c",
   "metadata": {},
   "outputs": [
    {
     "data": {
      "text/plain": [
       "<Axes: >"
      ]
     },
     "execution_count": 8,
     "metadata": {},
     "output_type": "execute_result"
    },
    {
     "data": {
      "image/png": "[encoded data removed]",
      "text/plain": [
       "<Figure size 640x480 with 1 Axes>"
      ]
     },
     "metadata": {},
     "output_type": "display_data"
    }
   ],
   "source": [
    "df_restaurants_USA['edad'].hist(bins=100)"
   ]
  },
  {
   "cell_type": "markdown",
   "id": "619b4681",
   "metadata": {},
   "source": [
    "Como se puede observar, es obvio que valores negativos y valores alrededor de 300 son ilogicos (Outliers) probablemente errores en la digitacion, por lo que vamos a volverlos NaN (En vez de eliminar toda la fila y perder datos importantes de otras columnas) y a inputarlos mas adelante con un valor representativo:"
   ]
  },
  {
   "cell_type": "code",
   "execution_count": 9,
   "id": "77e1507c",
   "metadata": {},
   "outputs": [],
   "source": [
    "df_restaurants_USA['edad']=df_restaurants_USA['edad'].where((df_restaurants_USA['edad']>5) & (df_restaurants_USA['edad']<110), np.nan)"
   ]
  },
  {
   "cell_type": "code",
   "execution_count": 10,
   "id": "5b4abe5f",
   "metadata": {},
   "outputs": [
    {
     "name": "stdout",
     "output_type": "stream",
     "text": [
      "count      29692.0\n",
      "mean     48.916173\n",
      "std      18.160132\n",
      "min           18.0\n",
      "25%           33.0\n",
      "50%           49.0\n",
      "75%           65.0\n",
      "max           80.0\n",
      "Name: edad, dtype: Float64\n",
      "Coeficiente de variacion:  37.12500543438086\n"
     ]
    }
   ],
   "source": [
    "# Analizamos nuevamente los datos estadisticos de la columna edad\n",
    "print(df_restaurants_USA['edad'].describe())\n",
    "\n",
    "# Obtenemos el coeficiente  de variacion de la columna edad\n",
    "print(\"Coeficiente de variacion: \",df_restaurants_USA['edad'].std()*100/df_restaurants_USA['edad'].mean())"
   ]
  },
  {
   "cell_type": "markdown",
   "id": "ebfc89d6",
   "metadata": {},
   "source": [
    "Esto nos indica que la media no es un buen candidato a utilizar para reemplazar los valores faltantes, ya que el coeficiente de variabilidad es muy alto y hace que los datos esten muy dispersos haciendo que la media no sea un valor representativo. Por ende, se toma la mediana como valor representativo de los datos y se inputara en los valores NaN"
   ]
  },
  {
   "cell_type": "code",
   "execution_count": 11,
   "id": "1fb4d00b",
   "metadata": {},
   "outputs": [],
   "source": [
    "df_restaurants_USA['edad']=df_restaurants_USA['edad'].fillna(int(df_restaurants_USA['edad'].median()))"
   ]
  },
  {
   "cell_type": "markdown",
   "id": "1b9d1d86",
   "metadata": {},
   "source": [
    "#### Tratamiento de promedio gastos de comida"
   ]
  },
  {
   "cell_type": "markdown",
   "id": "f5a810b9",
   "metadata": {},
   "source": [
    "Se realiza el mismo procedimiento con la columna promedio gastos de comida:"
   ]
  },
  {
   "cell_type": "code",
   "execution_count": 12,
   "id": "27f255f8",
   "metadata": {},
   "outputs": [
    {
     "data": {
      "application/vnd.microsoft.datawrangler.viewer.v0+json": {
       "columns": [
        {
         "name": "index",
         "rawType": "object",
         "type": "string"
        },
        {
         "name": "promedio_gasto_comida",
         "rawType": "float64",
         "type": "float"
        }
       ],
       "ref": "04d5ac22-cc01-4cf4-88c4-9df9676ba9eb",
       "rows": [
        [
         "count",
         "29855.0"
        ],
        [
         "mean",
         "32.60345168313515"
        ],
        [
         "std",
         "26.402600946984847"
        ],
        [
         "min",
         "0.0"
        ],
        [
         "25%",
         "13.29"
        ],
        [
         "50%",
         "25.51"
        ],
        [
         "75%",
         "44.4"
        ],
        [
         "max",
         "149.97"
        ]
       ],
       "shape": {
        "columns": 1,
        "rows": 8
       }
      },
      "text/plain": [
       "count    29855.000000\n",
       "mean        32.603452\n",
       "std         26.402601\n",
       "min          0.000000\n",
       "25%         13.290000\n",
       "50%         25.510000\n",
       "75%         44.400000\n",
       "max        149.970000\n",
       "Name: promedio_gasto_comida, dtype: float64"
      ]
     },
     "execution_count": 12,
     "metadata": {},
     "output_type": "execute_result"
    }
   ],
   "source": [
    "df_restaurants_USA['promedio_gasto_comida'].describe()"
   ]
  },
  {
   "cell_type": "code",
   "execution_count": 13,
   "id": "87891e6c",
   "metadata": {},
   "outputs": [
    {
     "data": {
      "text/plain": [
       "<Axes: >"
      ]
     },
     "execution_count": 13,
     "metadata": {},
     "output_type": "execute_result"
    },
    {
     "data": {
      "image/png": "[encoded data removed]",
      "text/plain": [
       "<Figure size 640x480 with 1 Axes>"
      ]
     },
     "metadata": {},
     "output_type": "display_data"
    }
   ],
   "source": [
    "# Hacemos tambien un histograma de la columna promedio_gasto_comida, para ver el tipo de distribucion que tiene\n",
    "df_restaurants_USA['promedio_gasto_comida'].hist(bins=100)"
   ]
  },
  {
   "cell_type": "code",
   "execution_count": 14,
   "id": "363cd6d1",
   "metadata": {},
   "outputs": [],
   "source": [
    "# De nuevo, se debe filtrar solo los valores logicos: en este caso, valores positivos de gasto, por lo que se va a volver naN los valores negativos y 0 (que no tienen sentido en este contexto)\n",
    "df_restaurants_USA['promedio_gasto_comida']=df_restaurants_USA['promedio_gasto_comida'].where(df_restaurants_USA['promedio_gasto_comida']>0, np.nan)"
   ]
  },
  {
   "cell_type": "code",
   "execution_count": 15,
   "id": "4195a97d",
   "metadata": {},
   "outputs": [
    {
     "name": "stdout",
     "output_type": "stream",
     "text": [
      "Coeficiente de variacion:  75.80579999085506\n"
     ]
    }
   ],
   "source": [
    "# Se revisa de nuevo los datos estadisticos de la columna promedio_gasto_comida:\n",
    "df_restaurants_USA['promedio_gasto_comida'].describe()\n",
    "\n",
    "# Obtenemos el coeficiente  de variacion de la columna promedio_gasto_comida\n",
    "print(\"Coeficiente de variacion: \",df_restaurants_USA['promedio_gasto_comida'].std()*100/df_restaurants_USA['promedio_gasto_comida'].mean())"
   ]
  },
  {
   "cell_type": "markdown",
   "id": "a02414f1",
   "metadata": {},
   "source": [
    "De nuevo, se va a utilizar la mediana para la imputacion de valores NaN, debido a que el coeficiente de variacion resulta muy alto (Datos muy dispersos) por lo que la media no es una medida representativa."
   ]
  },
  {
   "cell_type": "code",
   "execution_count": 16,
   "id": "79d285b0",
   "metadata": {},
   "outputs": [],
   "source": [
    "df_restaurants_USA['promedio_gasto_comida']=df_restaurants_USA['promedio_gasto_comida'].fillna(df_restaurants_USA['promedio_gasto_comida'].median())"
   ]
  },
  {
   "cell_type": "markdown",
   "id": "adb4e507",
   "metadata": {},
   "source": [
    "#### Tratamiento de preferencias alimenticias"
   ]
  },
  {
   "cell_type": "markdown",
   "id": "1a807f29",
   "metadata": {},
   "source": [
    "Primero se verificara que no hayan errores en el ingreso de las variables categoricas:"
   ]
  },
  {
   "cell_type": "code",
   "execution_count": 17,
   "id": "b28d539d",
   "metadata": {},
   "outputs": [
    {
     "data": {
      "text/plain": [
       "array(['Vegetariano', 'Mariscos', 'Carnes', 'Vegano', 'Pescado', nan,\n",
       "       'Otro'], dtype=object)"
      ]
     },
     "execution_count": 17,
     "metadata": {},
     "output_type": "execute_result"
    }
   ],
   "source": [
    "df_restaurants_USA['preferencias_alimenticias'].unique()"
   ]
  },
  {
   "cell_type": "markdown",
   "id": "1020a025",
   "metadata": {},
   "source": [
    "Al comprobar que no tenemos valores irregulares (Algun nombre mal escrito), procedemos con el siguiente paso:"
   ]
  },
  {
   "cell_type": "markdown",
   "id": "7497a12c",
   "metadata": {},
   "source": [
    "Al ser una variable categorica, lo ideal en este caso es reemplazar los faltantes con la moda de la siguiente manera:"
   ]
  },
  {
   "cell_type": "code",
   "execution_count": 18,
   "id": "e978b5e9",
   "metadata": {},
   "outputs": [],
   "source": [
    "df_restaurants_USA['preferencias_alimenticias']=df_restaurants_USA['preferencias_alimenticias'].fillna(df_restaurants_USA['preferencias_alimenticias'].mode()[0])"
   ]
  },
  {
   "cell_type": "markdown",
   "id": "b68c9af5",
   "metadata": {},
   "source": [
    "### Resultados"
   ]
  },
  {
   "cell_type": "markdown",
   "id": "f0982486",
   "metadata": {},
   "source": [
    "Se analiza nuevamente el dataset para verificar que no hay datos faltantes:"
   ]
  },
  {
   "cell_type": "code",
   "execution_count": 28,
   "id": "ab464a85",
   "metadata": {},
   "outputs": [
    {
     "name": "stdout",
     "output_type": "stream",
     "text": [
      "<class 'pandas.core.frame.DataFrame'>\n",
      "RangeIndex: 30000 entries, 0 to 29999\n",
      "Data columns (total 15 columns):\n",
      " #   Column                     Non-Null Count  Dtype  \n",
      "---  ------                     --------------  -----  \n",
      " 0   id_persona                 30000 non-null  int64  \n",
      " 1   nombre                     30000 non-null  object \n",
      " 2   apellido                   30000 non-null  object \n",
      " 3   edad                       30000 non-null  Int64  \n",
      " 4   genero                     30000 non-null  object \n",
      " 5   ciudad_residencia          30000 non-null  object \n",
      " 6   estrato_socioeconomico     30000 non-null  object \n",
      " 7   frecuencia_visita          30000 non-null  int64  \n",
      " 8   promedio_gasto_comida      30000 non-null  float64\n",
      " 9   ocio                       30000 non-null  object \n",
      " 10  consume_licor              30000 non-null  object \n",
      " 11  preferencias_alimenticias  30000 non-null  object \n",
      " 12  membresia_premium          30000 non-null  object \n",
      " 13  tipo_de_pago_mas_usado     30000 non-null  object \n",
      " 14  ingresos_mensuales         30000 non-null  int64  \n",
      "dtypes: Int64(1), float64(1), int64(3), object(10)\n",
      "memory usage: 3.5+ MB\n"
     ]
    }
   ],
   "source": [
    "df_restaurants_USA.info()"
   ]
  },
  {
   "cell_type": "markdown",
   "id": "bd625bf4",
   "metadata": {},
   "source": [
    "Finalmente, se filtrara por la ciudad seleccionada, en este caso Chicago"
   ]
  },
  {
   "cell_type": "code",
   "execution_count": 24,
   "id": "8c112814",
   "metadata": {},
   "outputs": [],
   "source": [
    "df_clientes_chicago=df_restaurants_USA[df_restaurants_USA['ciudad_residencia'].str.lower()=='chicago'].copy()"
   ]
  },
  {
   "cell_type": "code",
   "execution_count": 29,
   "id": "f285ed34",
   "metadata": {},
   "outputs": [
    {
     "data": {
      "application/vnd.microsoft.datawrangler.viewer.v0+json": {
       "columns": [
        {
         "name": "index",
         "rawType": "object",
         "type": "string"
        },
        {
         "name": "id_persona",
         "rawType": "float64",
         "type": "float"
        },
        {
         "name": "edad",
         "rawType": "Float64",
         "type": "float"
        },
        {
         "name": "frecuencia_visita",
         "rawType": "float64",
         "type": "float"
        },
        {
         "name": "promedio_gasto_comida",
         "rawType": "float64",
         "type": "float"
        },
        {
         "name": "ingresos_mensuales",
         "rawType": "float64",
         "type": "float"
        }
       ],
       "ref": "535f74bf-cb2e-42e5-b4ab-34722a06b3ab",
       "rows": [
        [
         "count",
         "5384.0",
         "5384.0",
         "5384.0",
         "5384.0",
         "5384.0"
        ],
        [
         "mean",
         "5531421666.079494",
         "48.73346953937593",
         "4.142644873699852",
         "26.852953194650816",
         "5202.305349182764"
        ],
        [
         "std",
         "2604777874.969853",
         "18.050090935938627",
         "2.2018032878044735",
         "21.237763004106128",
         "4514.1551725836125"
        ],
        [
         "min",
         "1001518755.0",
         "18.0",
         "0.0",
         "5.01",
         "801.0"
        ],
        [
         "25%",
         "3290391243.75",
         "33.0",
         "3.0",
         "9.67",
         "1818.5"
        ],
        [
         "50%",
         "5572270382.5",
         "49.0",
         "4.0",
         "21.645",
         "3244.5"
        ],
        [
         "75%",
         "7815564725.5",
         "64.0",
         "5.0",
         "34.63",
         "7439.25"
        ],
        [
         "max",
         "9999392774.0",
         "80.0",
         "10.0",
         "104.92",
         "17999.0"
        ]
       ],
       "shape": {
        "columns": 5,
        "rows": 8
       }
      },
      "text/html": [
       "<div>\n",
       "<style scoped>\n",
       "    .dataframe tbody tr th:only-of-type {\n",
       "        vertical-align: middle;\n",
       "    }\n",
       "\n",
       "    .dataframe tbody tr th {\n",
       "        vertical-align: top;\n",
       "    }\n",
       "\n",
       "    .dataframe thead th {\n",
       "        text-align: right;\n",
       "    }\n",
       "</style>\n",
       "<table border=\"1\" class=\"dataframe\">\n",
       "  <thead>\n",
       "    <tr style=\"text-align: right;\">\n",
       "      <th></th>\n",
       "      <th>id_persona</th>\n",
       "      <th>edad</th>\n",
       "      <th>frecuencia_visita</th>\n",
       "      <th>promedio_gasto_comida</th>\n",
       "      <th>ingresos_mensuales</th>\n",
       "    </tr>\n",
       "  </thead>\n",
       "  <tbody>\n",
       "    <tr>\n",
       "      <th>count</th>\n",
       "      <td>5.384000e+03</td>\n",
       "      <td>5384.0</td>\n",
       "      <td>5384.000000</td>\n",
       "      <td>5384.000000</td>\n",
       "      <td>5384.000000</td>\n",
       "    </tr>\n",
       "    <tr>\n",
       "      <th>mean</th>\n",
       "      <td>5.531422e+09</td>\n",
       "      <td>48.73347</td>\n",
       "      <td>4.142645</td>\n",
       "      <td>26.852953</td>\n",
       "      <td>5202.305349</td>\n",
       "    </tr>\n",
       "    <tr>\n",
       "      <th>std</th>\n",
       "      <td>2.604778e+09</td>\n",
       "      <td>18.050091</td>\n",
       "      <td>2.201803</td>\n",
       "      <td>21.237763</td>\n",
       "      <td>4514.155173</td>\n",
       "    </tr>\n",
       "    <tr>\n",
       "      <th>min</th>\n",
       "      <td>1.001519e+09</td>\n",
       "      <td>18.0</td>\n",
       "      <td>0.000000</td>\n",
       "      <td>5.010000</td>\n",
       "      <td>801.000000</td>\n",
       "    </tr>\n",
       "    <tr>\n",
       "      <th>25%</th>\n",
       "      <td>3.290391e+09</td>\n",
       "      <td>33.0</td>\n",
       "      <td>3.000000</td>\n",
       "      <td>9.670000</td>\n",
       "      <td>1818.500000</td>\n",
       "    </tr>\n",
       "    <tr>\n",
       "      <th>50%</th>\n",
       "      <td>5.572270e+09</td>\n",
       "      <td>49.0</td>\n",
       "      <td>4.000000</td>\n",
       "      <td>21.645000</td>\n",
       "      <td>3244.500000</td>\n",
       "    </tr>\n",
       "    <tr>\n",
       "      <th>75%</th>\n",
       "      <td>7.815565e+09</td>\n",
       "      <td>64.0</td>\n",
       "      <td>5.000000</td>\n",
       "      <td>34.630000</td>\n",
       "      <td>7439.250000</td>\n",
       "    </tr>\n",
       "    <tr>\n",
       "      <th>max</th>\n",
       "      <td>9.999393e+09</td>\n",
       "      <td>80.0</td>\n",
       "      <td>10.000000</td>\n",
       "      <td>104.920000</td>\n",
       "      <td>17999.000000</td>\n",
       "    </tr>\n",
       "  </tbody>\n",
       "</table>\n",
       "</div>"
      ],
      "text/plain": [
       "         id_persona       edad  frecuencia_visita  promedio_gasto_comida  \\\n",
       "count  5.384000e+03     5384.0        5384.000000            5384.000000   \n",
       "mean   5.531422e+09   48.73347           4.142645              26.852953   \n",
       "std    2.604778e+09  18.050091           2.201803              21.237763   \n",
       "min    1.001519e+09       18.0           0.000000               5.010000   \n",
       "25%    3.290391e+09       33.0           3.000000               9.670000   \n",
       "50%    5.572270e+09       49.0           4.000000              21.645000   \n",
       "75%    7.815565e+09       64.0           5.000000              34.630000   \n",
       "max    9.999393e+09       80.0          10.000000             104.920000   \n",
       "\n",
       "       ingresos_mensuales  \n",
       "count         5384.000000  \n",
       "mean          5202.305349  \n",
       "std           4514.155173  \n",
       "min            801.000000  \n",
       "25%           1818.500000  \n",
       "50%           3244.500000  \n",
       "75%           7439.250000  \n",
       "max          17999.000000  "
      ]
     },
     "execution_count": 29,
     "metadata": {},
     "output_type": "execute_result"
    }
   ],
   "source": [
    "df_clientes_chicago.describe()\n"
   ]
  },
  {
   "cell_type": "markdown",
   "id": "3c855bec",
   "metadata": {},
   "source": [
    "Se observa adicionalmente, que frecuencia_visita tiene un valor minimo de -3, lo cual es probablemente un error de tipeo. Se reemplazara con el valor positivo todos los valores negativos que haya:"
   ]
  },
  {
   "cell_type": "code",
   "execution_count": 30,
   "id": "6ca576f8",
   "metadata": {},
   "outputs": [],
   "source": [
    "df_clientes_chicago[\"frecuencia_visita\"] = df_clientes_chicago[\"frecuencia_visita\"].where(df_clientes_chicago[\"frecuencia_visita\"] >= 0,-df_clientes_chicago[\"frecuencia_visita\"])  # aquí aplicamos el signo menos)\n"
   ]
  },
  {
   "cell_type": "code",
   "execution_count": 31,
   "id": "40c3fc0a",
   "metadata": {},
   "outputs": [
    {
     "data": {
      "application/vnd.microsoft.datawrangler.viewer.v0+json": {
       "columns": [
        {
         "name": "index",
         "rawType": "object",
         "type": "string"
        },
        {
         "name": "id_persona",
         "rawType": "float64",
         "type": "float"
        },
        {
         "name": "edad",
         "rawType": "Float64",
         "type": "float"
        },
        {
         "name": "frecuencia_visita",
         "rawType": "float64",
         "type": "float"
        },
        {
         "name": "promedio_gasto_comida",
         "rawType": "float64",
         "type": "float"
        },
        {
         "name": "ingresos_mensuales",
         "rawType": "float64",
         "type": "float"
        }
       ],
       "ref": "a77b6716-bf76-4d51-9aaa-7ac145e87692",
       "rows": [
        [
         "count",
         "5384.0",
         "5384.0",
         "5384.0",
         "5384.0",
         "5384.0"
        ],
        [
         "mean",
         "5531421666.079494",
         "48.73346953937593",
         "4.142644873699852",
         "26.852953194650816",
         "5202.305349182764"
        ],
        [
         "std",
         "2604777874.969853",
         "18.050090935938627",
         "2.2018032878044735",
         "21.237763004106128",
         "4514.1551725836125"
        ],
        [
         "min",
         "1001518755.0",
         "18.0",
         "0.0",
         "5.01",
         "801.0"
        ],
        [
         "25%",
         "3290391243.75",
         "33.0",
         "3.0",
         "9.67",
         "1818.5"
        ],
        [
         "50%",
         "5572270382.5",
         "49.0",
         "4.0",
         "21.645",
         "3244.5"
        ],
        [
         "75%",
         "7815564725.5",
         "64.0",
         "5.0",
         "34.63",
         "7439.25"
        ],
        [
         "max",
         "9999392774.0",
         "80.0",
         "10.0",
         "104.92",
         "17999.0"
        ]
       ],
       "shape": {
        "columns": 5,
        "rows": 8
       }
      },
      "text/html": [
       "<div>\n",
       "<style scoped>\n",
       "    .dataframe tbody tr th:only-of-type {\n",
       "        vertical-align: middle;\n",
       "    }\n",
       "\n",
       "    .dataframe tbody tr th {\n",
       "        vertical-align: top;\n",
       "    }\n",
       "\n",
       "    .dataframe thead th {\n",
       "        text-align: right;\n",
       "    }\n",
       "</style>\n",
       "<table border=\"1\" class=\"dataframe\">\n",
       "  <thead>\n",
       "    <tr style=\"text-align: right;\">\n",
       "      <th></th>\n",
       "      <th>id_persona</th>\n",
       "      <th>edad</th>\n",
       "      <th>frecuencia_visita</th>\n",
       "      <th>promedio_gasto_comida</th>\n",
       "      <th>ingresos_mensuales</th>\n",
       "    </tr>\n",
       "  </thead>\n",
       "  <tbody>\n",
       "    <tr>\n",
       "      <th>count</th>\n",
       "      <td>5.384000e+03</td>\n",
       "      <td>5384.0</td>\n",
       "      <td>5384.000000</td>\n",
       "      <td>5384.000000</td>\n",
       "      <td>5384.000000</td>\n",
       "    </tr>\n",
       "    <tr>\n",
       "      <th>mean</th>\n",
       "      <td>5.531422e+09</td>\n",
       "      <td>48.73347</td>\n",
       "      <td>4.142645</td>\n",
       "      <td>26.852953</td>\n",
       "      <td>5202.305349</td>\n",
       "    </tr>\n",
       "    <tr>\n",
       "      <th>std</th>\n",
       "      <td>2.604778e+09</td>\n",
       "      <td>18.050091</td>\n",
       "      <td>2.201803</td>\n",
       "      <td>21.237763</td>\n",
       "      <td>4514.155173</td>\n",
       "    </tr>\n",
       "    <tr>\n",
       "      <th>min</th>\n",
       "      <td>1.001519e+09</td>\n",
       "      <td>18.0</td>\n",
       "      <td>0.000000</td>\n",
       "      <td>5.010000</td>\n",
       "      <td>801.000000</td>\n",
       "    </tr>\n",
       "    <tr>\n",
       "      <th>25%</th>\n",
       "      <td>3.290391e+09</td>\n",
       "      <td>33.0</td>\n",
       "      <td>3.000000</td>\n",
       "      <td>9.670000</td>\n",
       "      <td>1818.500000</td>\n",
       "    </tr>\n",
       "    <tr>\n",
       "      <th>50%</th>\n",
       "      <td>5.572270e+09</td>\n",
       "      <td>49.0</td>\n",
       "      <td>4.000000</td>\n",
       "      <td>21.645000</td>\n",
       "      <td>3244.500000</td>\n",
       "    </tr>\n",
       "    <tr>\n",
       "      <th>75%</th>\n",
       "      <td>7.815565e+09</td>\n",
       "      <td>64.0</td>\n",
       "      <td>5.000000</td>\n",
       "      <td>34.630000</td>\n",
       "      <td>7439.250000</td>\n",
       "    </tr>\n",
       "    <tr>\n",
       "      <th>max</th>\n",
       "      <td>9.999393e+09</td>\n",
       "      <td>80.0</td>\n",
       "      <td>10.000000</td>\n",
       "      <td>104.920000</td>\n",
       "      <td>17999.000000</td>\n",
       "    </tr>\n",
       "  </tbody>\n",
       "</table>\n",
       "</div>"
      ],
      "text/plain": [
       "         id_persona       edad  frecuencia_visita  promedio_gasto_comida  \\\n",
       "count  5.384000e+03     5384.0        5384.000000            5384.000000   \n",
       "mean   5.531422e+09   48.73347           4.142645              26.852953   \n",
       "std    2.604778e+09  18.050091           2.201803              21.237763   \n",
       "min    1.001519e+09       18.0           0.000000               5.010000   \n",
       "25%    3.290391e+09       33.0           3.000000               9.670000   \n",
       "50%    5.572270e+09       49.0           4.000000              21.645000   \n",
       "75%    7.815565e+09       64.0           5.000000              34.630000   \n",
       "max    9.999393e+09       80.0          10.000000             104.920000   \n",
       "\n",
       "       ingresos_mensuales  \n",
       "count         5384.000000  \n",
       "mean          5202.305349  \n",
       "std           4514.155173  \n",
       "min            801.000000  \n",
       "25%           1818.500000  \n",
       "50%           3244.500000  \n",
       "75%           7439.250000  \n",
       "max          17999.000000  "
      ]
     },
     "execution_count": 31,
     "metadata": {},
     "output_type": "execute_result"
    }
   ],
   "source": [
    "df_clientes_chicago.describe()"
   ]
  },
  {
   "cell_type": "markdown",
   "id": "a9005081",
   "metadata": {},
   "source": [
    "Finalmente, comprobamos si hay valores duplicados en el ID de cada persona:"
   ]
  },
  {
   "cell_type": "code",
   "execution_count": 35,
   "id": "8c97b23b",
   "metadata": {},
   "outputs": [
    {
     "name": "stdout",
     "output_type": "stream",
     "text": [
      "valores duplicados:  []\n"
     ]
    }
   ],
   "source": [
    "print('valores duplicados: ',df_clientes_chicago[df_clientes_chicago['id_persona'].duplicated(keep=False)]['id_persona'].unique())\n"
   ]
  },
  {
   "cell_type": "markdown",
   "id": "acdd0a12",
   "metadata": {},
   "source": [
    "Una vez comprobado, se crea un dataset limpio para su analisis y posterior integracion con la base de datos de yelp, lo cual se realizara en el avance 3. A continuacion se exportara el dataset a csv:"
   ]
  },
  {
   "cell_type": "code",
   "execution_count": 36,
   "id": "4f7835ac",
   "metadata": {},
   "outputs": [],
   "source": [
    "df_clientes_chicago.to_csv('df_clientes_chicago.csv', index=False)"
   ]
  },
  {
   "cell_type": "markdown",
   "id": "dfc1c7ff",
   "metadata": {},
   "source": [
    "La continuacion del proyecto se encuentra en el avance 3"
   ]
  },
  {
   "cell_type": "markdown",
   "id": "dcc9f909",
   "metadata": {},
   "source": []
  }
 ],
 "metadata": {
  "kernelspec": {
   "display_name": "base",
   "language": "python",
   "name": "python3"
  },
  "language_info": {
   "codemirror_mode": {
    "name": "ipython",
    "version": 3
   },
   "file_extension": ".py",
   "mimetype": "text/x-python",
   "name": "python",
   "nbconvert_exporter": "python",
   "pygments_lexer": "ipython3",
   "version": "3.12.7"
  }
 },
 "nbformat": 4,
 "nbformat_minor": 5
}
